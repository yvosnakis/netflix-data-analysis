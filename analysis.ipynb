{
 "cells": [
  {
   "cell_type": "code",
   "execution_count": 2,
   "id": "9e148af5",
   "metadata": {},
   "outputs": [],
   "source": [
    "# Netflix Content Analysis\n",
    "# This notebook analyzes Netflix's content library to understand various patterns and trends"
   ]
  },
  {
   "cell_type": "markdown",
   "id": "19032a01",
   "metadata": {},
   "source": [
    "## 1. Import Required Libraries\n",
    "\n",
    "Used `pandas` for data manipulation, `plotly` for visualization, and a few other utility libraries.\n"
   ]
  },
  {
   "cell_type": "code",
   "execution_count": 3,
   "id": "baf9e830",
   "metadata": {},
   "outputs": [
    {
     "data": {
      "text/html": [
       "        <script type=\"text/javascript\">\n",
       "        window.PlotlyConfig = {MathJaxConfig: 'local'};\n",
       "        if (window.MathJax && window.MathJax.Hub && window.MathJax.Hub.Config) {window.MathJax.Hub.Config({SVG: {font: \"STIX-Web\"}});}\n",
       "        if (typeof require !== 'undefined') {\n",
       "        require.undef(\"plotly\");\n",
       "        requirejs.config({\n",
       "            paths: {\n",
       "                'plotly': ['https://cdn.plot.ly/plotly-2.35.2.min']\n",
       "            }\n",
       "        });\n",
       "        require(['plotly'], function(Plotly) {\n",
       "            window._Plotly = Plotly;\n",
       "        });\n",
       "        }\n",
       "        </script>\n",
       "        "
      ]
     },
     "metadata": {},
     "output_type": "display_data"
    }
   ],
   "source": [
    "import os\n",
    "import plotly.graph_objects as go\n",
    "import plotly.figure_factory as ff\n",
    "from plotly.offline import init_notebook_mode, iplot\n",
    "from plotly.subplots import make_subplots\n",
    "import pandas as pd\n",
    "from collections import Counter\n",
    "\n",
    "# Initialize notebook mode for plotly\n",
    "init_notebook_mode(connected=True)\n"
   ]
  },
  {
   "cell_type": "markdown",
   "id": "b3ff4fe6",
   "metadata": {},
   "source": [
    "## 2. Load Netflix Data\n",
    "\n",
    "Function to load the Netflix data CSV file and return it as a DataFrame.\n"
   ]
  },
  {
   "cell_type": "code",
   "execution_count": 4,
   "id": "97aaa059",
   "metadata": {},
   "outputs": [],
   "source": [
    "# Data Loading and Preprocessing\n",
    "def load_netflix_data():\n",
    "    try:\n",
    "        # Get the directory where this notebook is located\n",
    "        notebook_dir = os.path.dirname(os.path.abspath('__file__'))\n",
    "        # Construct path to the data file\n",
    "        data_path = os.path.join(notebook_dir, 'netflix_titles_nov_2019.csv')\n",
    "        # Load the dataset\n",
    "        streaming_data = pd.read_csv(data_path)\n",
    "        return streaming_data\n",
    "    except Exception as e:\n",
    "        print(f\"Error loading data: {e}\")\n",
    "        return None\n",
    "\n",
    "# Load the data\n",
    "streaming_data = load_netflix_data()"
   ]
  },
  {
   "cell_type": "markdown",
   "id": "9d9ab8d3",
   "metadata": {},
   "source": [
    "## 3. Feature Engineering\n",
    "\n",
    "Extracted:\n",
    "- Year and month Netflix content was added.\n",
    "- Duration (minutes for movies and season count for TV shows).\n"
   ]
  },
  {
   "cell_type": "code",
   "execution_count": 5,
   "id": "41429762",
   "metadata": {},
   "outputs": [],
   "source": [
    "# Feature Engineering\n",
    "def add_temporal_features(df):\n",
    "    \"\"\"Add time-based features to the dataset\"\"\"\n",
    "    df['date_added'] = pd.to_datetime(df['date_added'])\n",
    "    df['year_added'] = df['date_added'].dt.year\n",
    "    df['month_added'] = df['date_added'].dt.month\n",
    "    return df\n",
    "\n",
    "def extract_duration_features(df):\n",
    "    \"\"\"Separate duration into seasons for TV shows and minutes for movies\"\"\"\n",
    "    df['season_count'] = df.apply(lambda x: x['duration'].split(\" \")[0] if \"Season\" in x['duration'] else \"\", axis=1)\n",
    "    df['duration'] = df.apply(lambda x: x['duration'].split(\" \")[0] if \"Season\" not in x['duration'] else \"\", axis=1)\n",
    "    return df\n",
    "\n",
    "# Apply feature engineering\n",
    "streaming_data = add_temporal_features(streaming_data)\n",
    "streaming_data = extract_duration_features(streaming_data)"
   ]
  },
  {
   "cell_type": "markdown",
   "id": "978361a8",
   "metadata": {},
   "source": [
    "## 4. Separate Movies and TV Shows\n",
    "\n",
    "This separation allows easier analysis of specific types of content.\n"
   ]
  },
  {
   "cell_type": "code",
   "execution_count": 6,
   "id": "e92a3493",
   "metadata": {},
   "outputs": [],
   "source": [
    "# Split data by content type\n",
    "tv_shows = streaming_data[streaming_data[\"type\"] == \"TV Show\"]\n",
    "movies = streaming_data[streaming_data[\"type\"] == \"Movie\"]"
   ]
  },
  {
   "cell_type": "markdown",
   "id": "ea881e67",
   "metadata": {},
   "source": [
    "## 5. Content Type Distribution\n",
    "\n",
    "Visualize the proportion of Movies vs TV Shows on Netflix.\n"
   ]
  },
  {
   "cell_type": "code",
   "execution_count": 7,
   "id": "976f0f86",
   "metadata": {},
   "outputs": [],
   "source": [
    "# Content Type Distribution Analysis\n",
    "def plot_content_distribution(df):\n",
    "    grouped = df['type'].value_counts().reset_index()\n",
    "    grouped.columns = ['type', 'count']\n",
    "    \n",
    "    trace = go.Pie(\n",
    "        labels=grouped['type'],\n",
    "        values=grouped['count'],\n",
    "        pull=[0.05, 0],\n",
    "        marker=dict(colors=[\"#6ad49b\", \"#a678de\"])\n",
    "    )\n",
    "    layout = go.Layout(title=\"Content Type Distribution\", height=400, legend=dict(x=0.1, y=1.1))\n",
    "    fig = go.Figure(data=[trace], layout=layout)\n",
    "    fig.show()"
   ]
  },
  {
   "cell_type": "markdown",
   "id": "eb667881",
   "metadata": {},
   "source": [
    "## 6. Content Addition Trends Over the Years\n",
    "\n",
    "Explore how the volume of new content has changed annually for TV Shows and Movies.\n"
   ]
  },
  {
   "cell_type": "code",
   "execution_count": 8,
   "id": "8205a343",
   "metadata": {},
   "outputs": [],
   "source": [
    "# Content Addition Trend Analysis\n",
    "def plot_content_addition_trend(tv_data, movie_data):\n",
    "    def prepare_trend_data(data, col):\n",
    "        vc = data[col].value_counts().reset_index()\n",
    "        vc.columns = [col, 'count']\n",
    "        vc['percent'] = vc['count'].apply(lambda x: 100*x/sum(vc['count']))\n",
    "        return vc.sort_values(col)\n",
    "\n",
    "    tv_trend = prepare_trend_data(tv_data, 'year_added')\n",
    "    movie_trend = prepare_trend_data(movie_data, 'year_added')\n",
    "\n",
    "    trace1 = go.Scatter(x=tv_trend['year_added'], y=tv_trend['count'], name=\"TV Shows\", marker=dict(color=\"#a678de\"))\n",
    "    trace2 = go.Scatter(x=movie_trend['year_added'], y=movie_trend['count'], name=\"Movies\", marker=dict(color=\"#6ad49b\"))\n",
    "    \n",
    "    layout = go.Layout(title=\"Content Added Over Years\", legend=dict(x=0.1, y=1.1, orientation=\"h\"))\n",
    "    fig = go.Figure(data=[trace1, trace2], layout=layout)\n",
    "    fig.show()"
   ]
  },
  {
   "cell_type": "markdown",
   "id": "bf7c0668",
   "metadata": {},
   "source": [
    "## 7. Geographic Distribution\n",
    "\n",
    "Shows Netflix's content production footprint by country using a choropleth map.\n"
   ]
  },
  {
   "cell_type": "code",
   "execution_count": 9,
   "id": "ece40d6d",
   "metadata": {},
   "outputs": [],
   "source": [
    "# Geographic Distribution Analysis\n",
    "# Country codes mapping\n",
    "country_codes = {\n",
    "    'afghanistan': 'AFG', 'albania': 'ALB', 'algeria': 'DZA', 'american samoa': 'ASM',\n",
    "    'andorra': 'AND', 'angola': 'AGO', 'anguilla': 'AIA', 'antigua and barbuda': 'ATG',\n",
    "    'argentina': 'ARG', 'armenia': 'ARM', 'aruba': 'ABW', 'australia': 'AUS',\n",
    "    'austria': 'AUT', 'azerbaijan': 'AZE', 'bahamas': 'BHM', 'bahrain': 'BHR',\n",
    "    'bangladesh': 'BGD', 'barbados': 'BRB', 'belarus': 'BLR', 'belgium': 'BEL',\n",
    "    'belize': 'BLZ', 'benin': 'BEN', 'bermuda': 'BMU', 'bhutan': 'BTN',\n",
    "    'bolivia': 'BOL', 'bosnia and herzegovina': 'BIH', 'botswana': 'BWA',\n",
    "    'brazil': 'BRA', 'british virgin islands': 'VGB', 'brunei': 'BRN',\n",
    "    'bulgaria': 'BGR', 'burkina faso': 'BFA', 'burma': 'MMR', 'burundi': 'BDI',\n",
    "    'cabo verde': 'CPV', 'cambodia': 'KHM', 'cameroon': 'CMR', 'canada': 'CAN',\n",
    "    'cayman islands': 'CYM', 'central african republic': 'CAF', 'chad': 'TCD',\n",
    "    'chile': 'CHL', 'china': 'CHN', 'colombia': 'COL', 'comoros': 'COM',\n",
    "    'congo democratic': 'COD', 'congo republic': 'COG', 'cook islands': 'COK',\n",
    "    'costa rica': 'CRI', \"cote d'ivoire\": 'CIV', 'croatia': 'HRV', 'cuba': 'CUB',\n",
    "    'curacao': 'CUW', 'cyprus': 'CYP', 'czech republic': 'CZE', 'denmark': 'DNK',\n",
    "    'djibouti': 'DJI', 'dominica': 'DMA', 'dominican republic': 'DOM',\n",
    "    'ecuador': 'ECU', 'egypt': 'EGY', 'el salvador': 'SLV',\n",
    "    'equatorial guinea': 'GNQ', 'eritrea': 'ERI', 'estonia': 'EST',\n",
    "    'ethiopia': 'ETH', 'falkland islands': 'FLK', 'faroe islands': 'FRO',\n",
    "    'fiji': 'FJI', 'finland': 'FIN', 'france': 'FRA', 'french polynesia': 'PYF',\n",
    "    'gabon': 'GAB', 'gambia, the': 'GMB', 'georgia': 'GEO', 'germany': 'DEU',\n",
    "    'ghana': 'GHA', 'gibraltar': 'GIB', 'greece': 'GRC', 'greenland': 'GRL',\n",
    "    'grenada': 'GRD', 'guam': 'GUM', 'guatemala': 'GTM', 'guernsey': 'GGY',\n",
    "    'guinea-bissau': 'GNB', 'guinea': 'GIN', 'guyana': 'GUY', 'haiti': 'HTI',\n",
    "    'honduras': 'HND', 'hong kong': 'HKG', 'hungary': 'HUN', 'iceland': 'ISL',\n",
    "    'india': 'IND', 'indonesia': 'IDN', 'iran': 'IRN', 'iraq': 'IRQ',\n",
    "    'ireland': 'IRL', 'isle of man': 'IMN', 'israel': 'ISR', 'italy': 'ITA',\n",
    "    'jamaica': 'JAM', 'japan': 'JPN', 'jersey': 'JEY', 'jordan': 'JOR',\n",
    "    'kazakhstan': 'KAZ', 'kenya': 'KEN', 'kiribati': 'KIR', 'north korea': 'PRK',\n",
    "    'south korea': 'KOR', 'kosovo': 'KSV', 'kuwait': 'KWT', 'kyrgyzstan': 'KGZ',\n",
    "    'laos': 'LAO', 'latvia': 'LVA', 'lebanon': 'LBN', 'lesotho': 'LSO',\n",
    "    'liberia': 'LBR', 'libya': 'LBY', 'liechtenstein': 'LIE', 'lithuania': 'LTU',\n",
    "    'luxembourg': 'LUX', 'macau': 'MAC', 'macedonia': 'MKD', 'madagascar': 'MDG',\n",
    "    'malawi': 'MWI', 'malaysia': 'MYS', 'maldives': 'MDV', 'mali': 'MLI',\n",
    "    'malta': 'MLT', 'marshall islands': 'MHL', 'mauritania': 'MRT',\n",
    "    'mauritius': 'MUS', 'mexico': 'MEX', 'micronesia': 'FSM', 'moldova': 'MDA',\n",
    "    'monaco': 'MCO', 'mongolia': 'MNG', 'montenegro': 'MNE', 'morocco': 'MAR',\n",
    "    'mozambique': 'MOZ', 'namibia': 'NAM', 'nepal': 'NPL', 'netherlands': 'NLD',\n",
    "    'new caledonia': 'NCL', 'new zealand': 'NZL', 'nicaragua': 'NIC',\n",
    "    'nigeria': 'NGA', 'niger': 'NER', 'niue': 'NIU',\n",
    "    'northern mariana islands': 'MNP', 'norway': 'NOR', 'oman': 'OMN',\n",
    "    'pakistan': 'PAK', 'palau': 'PLW', 'panama': 'PAN',\n",
    "    'papua new guinea': 'PNG', 'paraguay': 'PRY', 'peru': 'PER',\n",
    "    'philippines': 'PHL', 'poland': 'POL', 'portugal': 'PRT',\n",
    "    'puerto rico': 'PRI', 'qatar': 'QAT', 'romania': 'ROU', 'russia': 'RUS',\n",
    "    'rwanda': 'RWA', 'saint kitts and nevis': 'KNA', 'saint lucia': 'LCA',\n",
    "    'saint martin': 'MAF', 'saint pierre and miquelon': 'SPM',\n",
    "    'saint vincent and the grenadines': 'VCT', 'samoa': 'WSM',\n",
    "    'san marino': 'SMR', 'sao tome and principe': 'STP', 'saudi arabia': 'SAU',\n",
    "    'senegal': 'SEN', 'serbia': 'SRB', 'seychelles': 'SYC',\n",
    "    'sierra leone': 'SLE', 'singapore': 'SGP', 'sint maarten': 'SXM',\n",
    "    'slovakia': 'SVK', 'slovenia': 'SVN', 'solomon islands': 'SLB',\n",
    "    'somalia': 'SOM', 'south africa': 'ZAF', 'south sudan': 'SSD',\n",
    "    'spain': 'ESP', 'sri lanka': 'LKA', 'sudan': 'SDN', 'suriname': 'SUR',\n",
    "    'swaziland': 'SWZ', 'sweden': 'SWE', 'switzerland': 'CHE', 'syria': 'SYR',\n",
    "    'taiwan': 'TWN', 'tajikistan': 'TJK', 'tanzania': 'TZA', 'thailand': 'THA',\n",
    "    'timor-leste': 'TLS', 'togo': 'TGO', 'tonga': 'TON',\n",
    "    'trinidad and tobago': 'TTO', 'tunisia': 'TUN', 'turkey': 'TUR',\n",
    "    'turkmenistan': 'TKM', 'tuvalu': 'TUV', 'uganda': 'UGA', 'ukraine': 'UKR',\n",
    "    'united arab emirates': 'ARE', 'united kingdom': 'GBR', 'united states': 'USA',\n",
    "    'uruguay': 'URY', 'uzbekistan': 'UZB', 'vanuatu': 'VUT', 'venezuela': 'VEN',\n",
    "    'vietnam': 'VNM', 'virgin islands': 'VGB', 'west bank': 'WBG',\n",
    "    'yemen': 'YEM', 'zambia': 'ZMB', 'zimbabwe': 'ZWE'\n",
    "}\n",
    "\n",
    "def create_geographic_visualization(df):\n",
    "    \"\"\"Create a choropleth map showing content distribution by country\"\"\"\n",
    "    country_with_code, country = {}, {}\n",
    "    shows_countries = \", \".join(df['country'].dropna()).split(\", \")\n",
    "    \n",
    "    for c, v in dict(Counter(shows_countries)).items():\n",
    "        code = country_codes.get(c.lower(), \"\")\n",
    "        if code:\n",
    "            country_with_code[code] = v\n",
    "            country[c] = v\n",
    "\n",
    "    data = [{\n",
    "        'type': 'choropleth',\n",
    "        'locations': list(country_with_code.keys()),\n",
    "        'z': list(country_with_code.values()),\n",
    "        'colorscale': [[0,\"rgb(5, 10, 172)\"],[0.65,\"rgb(40, 60, 190)\"],\n",
    "                      [0.75,\"rgb(70, 100, 245)\"],[0.80,\"rgb(90, 120, 245)\"],\n",
    "                      [0.9,\"rgb(106, 137, 247)\"],[1,\"rgb(220, 220, 220)\"]],\n",
    "        'autocolorscale': False,\n",
    "        'reversescale': True,\n",
    "        'marker': {'line': {'color': 'gray', 'width': 0.5}},\n",
    "        'colorbar': {'title': 'Content Count'}\n",
    "    }]\n",
    "\n",
    "    layout = {\n",
    "        'title': 'Netflix Content Distribution by Country',\n",
    "        'geo': {\n",
    "            'showframe': False,\n",
    "            'showcoastlines': True,\n",
    "            'projection': {'type': 'equirectangular'}\n",
    "        }\n",
    "    }\n",
    "\n",
    "    fig = go.Figure(data=data, layout=layout)\n",
    "    fig.show()\n",
    "    return country"
   ]
  },
  {
   "cell_type": "markdown",
   "id": "99949ce6",
   "metadata": {},
   "source": [
    "## 8. Duration Analysis\n",
    "\n",
    "- Distribution of movie durations.\n",
    "- Distribution of TV show season counts.\n"
   ]
  },
  {
   "cell_type": "code",
   "execution_count": 10,
   "id": "c1c788e6",
   "metadata": {},
   "outputs": [],
   "source": [
    "# Duration Analysis\n",
    "def analyze_movie_durations(movies_data):\n",
    "    \"\"\"Create a distribution plot of movie durations\"\"\"\n",
    "    durations = movies_data['duration'].fillna(0.0).astype(float)\n",
    "    fig = ff.create_distplot([durations], ['Movie Duration'], bin_size=0.7,\n",
    "                            curve_type='normal', colors=[\"#6ad49b\"])\n",
    "    fig.update_layout(title_text='Distribution of Movie Durations (minutes)')\n",
    "    fig.show()\n",
    "\n",
    "def analyze_tv_seasons(tv_data):\n",
    "    \"\"\"Create a bar plot of TV show season counts\"\"\"\n",
    "    season_counts = tv_data['season_count'].value_counts().reset_index()\n",
    "    season_counts.columns = ['seasons', 'count']\n",
    "    season_counts = season_counts.sort_values('seasons')\n",
    "\n",
    "    trace = go.Bar(x=season_counts['seasons'],\n",
    "                   y=season_counts['count'],\n",
    "                   name=\"TV Shows\",\n",
    "                   marker=dict(color=\"#a678de\"))\n",
    "    \n",
    "    layout = go.Layout(title=\"Distribution of TV Show Seasons\",\n",
    "                       xaxis_title=\"Number of Seasons\",\n",
    "                       yaxis_title=\"Number of Shows\",\n",
    "                       legend=dict(x=0.1, y=1.1, orientation=\"h\"))\n",
    "    \n",
    "    fig = go.Figure(data=[trace], layout=layout)\n",
    "    fig.show()"
   ]
  },
  {
   "cell_type": "markdown",
   "id": "436c905b",
   "metadata": {},
   "source": [
    "## 9. Rating Distribution\n",
    "\n",
    "Compares rating classifications (like TV-MA, PG) for TV Shows and Movies.\n"
   ]
  },
  {
   "cell_type": "code",
   "execution_count": 11,
   "id": "b7425537",
   "metadata": {},
   "outputs": [],
   "source": [
    "# Rating Analysis\n",
    "def analyze_content_ratings(tv_data, movie_data):\n",
    "    \"\"\"Create a bar plot comparing content ratings between TV shows and movies\"\"\"\n",
    "    def prepare_rating_data(data):\n",
    "        ratings = data['rating'].value_counts().reset_index()\n",
    "        ratings.columns = ['rating', 'count']\n",
    "        ratings['percent'] = ratings['count'].apply(lambda x: 100*x/sum(ratings['count']))\n",
    "        return ratings.sort_values('rating')\n",
    "\n",
    "    tv_ratings = prepare_rating_data(tv_data)\n",
    "    movie_ratings = prepare_rating_data(movie_data)\n",
    "\n",
    "    trace1 = go.Bar(x=tv_ratings['rating'],\n",
    "                    y=tv_ratings['count'],\n",
    "                    name=\"TV Shows\",\n",
    "                    marker=dict(color=\"#a678de\"))\n",
    "    \n",
    "    trace2 = go.Bar(x=movie_ratings['rating'],\n",
    "                    y=movie_ratings['count'],\n",
    "                    name=\"Movies\",\n",
    "                    marker=dict(color=\"#6ad49b\"))\n",
    "\n",
    "    layout = go.Layout(title=\"Content Ratings Distribution\",\n",
    "                       xaxis_title=\"Rating\",\n",
    "                       yaxis_title=\"Count\",\n",
    "                       legend=dict(x=0.1, y=1.1, orientation=\"h\"))\n",
    "\n",
    "    fig = go.Figure(data=[trace1, trace2], layout=layout)\n",
    "    fig.show()"
   ]
  },
  {
   "cell_type": "markdown",
   "id": "9d124237",
   "metadata": {},
   "source": [
    "## 10. Genre Distribution\n",
    "\n",
    "Displays the most common genres among Netflix movies.\n"
   ]
  },
  {
   "cell_type": "code",
   "execution_count": 12,
   "id": "960d3e0f",
   "metadata": {},
   "outputs": [],
   "source": [
    "# Genre Analysis\n",
    "def analyze_movie_genres(movie_data):\n",
    "    \"\"\"Create a horizontal bar chart of the most common movie genres\"\"\"\n",
    "    categories = \", \".join(movie_data['listed_in']).split(\", \")\n",
    "    genre_counts = Counter(categories).most_common(50)\n",
    "    \n",
    "    labels = [item[0] for item in genre_counts][::-1]\n",
    "    values = [item[1] for item in genre_counts][::-1]\n",
    "    \n",
    "    trace = go.Bar(y=labels,\n",
    "                   x=values,\n",
    "                   orientation=\"h\",\n",
    "                   marker=dict(color=\"#a678de\"))\n",
    "\n",
    "    layout = go.Layout(title=\"Top 50 Movie Genres\",\n",
    "                       xaxis_title=\"Number of Movies\",\n",
    "                       yaxis_title=\"Genre\")\n",
    "\n",
    "    fig = go.Figure(data=[trace], layout=layout)\n",
    "    fig.show()"
   ]
  },
  {
   "cell_type": "markdown",
   "id": "00f9fb10",
   "metadata": {},
   "source": [
    "## 11. Cast Analysis by Country\n",
    "\n",
    "Shows top actors for specific countries based on frequency of appearance.\n"
   ]
  },
  {
   "cell_type": "code",
   "execution_count": 13,
   "id": "f0d0f174",
   "metadata": {},
   "outputs": [],
   "source": [
    "# Regional Content Analysis\n",
    "def analyze_cast_by_country(df, country_name, content_type=\"movie\"):\n",
    "    \"\"\"Analyze the most common cast members for a specific country and content type\"\"\"\n",
    "    df['from_country'] = df['country'].fillna(\"\").apply(\n",
    "        lambda x: 1 if country_name.lower() in x.lower() else 0)\n",
    "    country_content = df[df[\"from_country\"] == 1]\n",
    "    \n",
    "    if content_type == \"movie\":\n",
    "        country_content = country_content[country_content[\"duration\"] != \"\"]\n",
    "    else:\n",
    "        country_content = country_content[country_content[\"season_count\"] != \"\"]\n",
    "\n",
    "    cast_list = \", \".join(country_content['cast'].fillna(\"\")).split(\", \")\n",
    "    cast_counts = Counter(cast_list).most_common(25)\n",
    "    cast_counts = [(name, count) for name, count in cast_counts if name != \"\"]\n",
    "\n",
    "    labels = [f\"{name}  \" for name, _ in cast_counts]\n",
    "    values = [count for _, count in cast_counts]\n",
    "\n",
    "    return go.Bar(y=labels[::-1],\n",
    "                  x=values[::-1],\n",
    "                  orientation=\"h\",\n",
    "                  marker=dict(color=\"#a678de\"))\n",
    "\n",
    "def plot_movie_cast_analysis():\n",
    "    \"\"\"Create subplots for movie cast analysis across different countries\"\"\"\n",
    "    countries = [\"United States\", \"India\", \"United Kingdom\",\n",
    "                \"Canada\", \"Spain\", \"Japan\"]\n",
    "    traces = [analyze_cast_by_country(streaming_data, country)\n",
    "              for country in countries]\n",
    "\n",
    "    fig = make_subplots(rows=2,\n",
    "                        cols=5,\n",
    "                        subplot_titles=[country if country in countries else \"\"\n",
    "                                      for country in [\"United States\", \"\", \"India\", \"\",\n",
    "                                                    \"United Kingdom\", \"Canada\", \"\",\n",
    "                                                    \"Spain\", \"\", \"Japan\"]])\n",
    "\n",
    "    # Add traces to subplots\n",
    "    fig.add_trace(traces[0], 1, 1)\n",
    "    fig.add_trace(traces[1], 1, 3)\n",
    "    fig.add_trace(traces[2], 1, 5)\n",
    "    fig.add_trace(traces[3], 2, 1)\n",
    "    fig.add_trace(traces[4], 2, 3)\n",
    "    fig.add_trace(traces[5], 2, 5)\n",
    "\n",
    "    fig.update_layout(height=1200,\n",
    "                      showlegend=False,\n",
    "                      title_text=\"Top Cast Members by Country (Movies)\")\n",
    "    fig.show()"
   ]
  },
  {
   "cell_type": "markdown",
   "id": "f604c7e8",
   "metadata": {},
   "source": [
    "## 12. Director Analysis\n",
    "\n",
    "Analyze most featured directors from key regions.\n"
   ]
  },
  {
   "cell_type": "code",
   "execution_count": 14,
   "id": "a9b4e518",
   "metadata": {},
   "outputs": [],
   "source": [
    "# Director Analysis\n",
    "def analyze_directors(df, country_name):\n",
    "    \"\"\"Analyze the top directors for a specific country\"\"\"\n",
    "    country_movies = df[(df[\"type\"] == \"Movie\") &\n",
    "                       (df[\"country\"] == country_name)]\n",
    "\n",
    "    directors = \", \".join(country_movies['director'].fillna(\"\")).split(\", \")\n",
    "    director_counts = Counter(directors).most_common(12)\n",
    "    director_counts = [(d, c) for d, c in director_counts if d != \"\"]\n",
    "\n",
    "    labels = [d for d, _ in director_counts][::-1]\n",
    "    values = [c for _, c in director_counts][::-1]\n",
    "\n",
    "    trace = go.Bar(y=labels,\n",
    "                   x=values,\n",
    "                   orientation=\"h\",\n",
    "                   marker=dict(color=\"orange\"))\n",
    "\n",
    "    layout = go.Layout(\n",
    "        title=f\"Top Movie Directors from {country_name}\",\n",
    "        xaxis_title=\"Number of Movies\",\n",
    "        yaxis_title=\"Director Name\",\n",
    "        legend=dict(x=0.1, y=1.1, orientation=\"h\")\n",
    "    )\n",
    "\n",
    "    fig = go.Figure(data=[trace], layout=layout)\n",
    "    fig.show()"
   ]
  },
  {
   "cell_type": "markdown",
   "id": "5b269fb2",
   "metadata": {},
   "source": [
    "# 13. Stand-up Comedy Analysis\n",
    "\n",
    "Analyze popular stand-up titles from key regions"
   ]
  },
  {
   "cell_type": "code",
   "execution_count": 15,
   "id": "bcc6828c",
   "metadata": {},
   "outputs": [],
   "source": [
    "# Stand-up Comedy Analysis\n",
    "def analyze_standup_comedy(df, country_name):\n",
    "    \"\"\"Analyze stand-up comedy content for a specific country\"\"\"\n",
    "    df['is_standup'] = df['listed_in'].fillna(\"\").apply(\n",
    "        lambda x: 1 if \"stand-up comedy\".lower() in x.lower() else 0)\n",
    "    standup = df[df[\"is_standup\"] == 1]\n",
    "    country_standup = standup[standup[\"country\"] == country_name]\n",
    "    \n",
    "    return country_standup[[\"title\", \"country\", \"release_year\"]].head(10)"
   ]
  },
  {
   "cell_type": "markdown",
   "id": "07483deb",
   "metadata": {},
   "source": [
    "## 14. Run Full Analysis\n",
    "\n",
    "Finally, execute all the visualizations and analysis.\n"
   ]
  },
  {
   "cell_type": "code",
   "execution_count": 16,
   "id": "a70f5dfc",
   "metadata": {},
   "outputs": [
    {
     "data": {
      "application/vnd.plotly.v1+json": {
       "config": {
        "plotlyServerURL": "https://plot.ly"
       },
       "data": [
        {
         "labels": [
          "Movie",
          "TV Show"
         ],
         "marker": {
          "colors": [
           "#6ad49b",
           "#a678de"
          ]
         },
         "pull": [
          0.05,
          0
         ],
         "type": "pie",
         "values": [
          3939,
          1898
         ]
        }
       ],
       "layout": {
        "height": 400,
        "legend": {
         "x": 0.1,
         "y": 1.1
        },
        "template": {
         "data": {
          "bar": [
           {
            "error_x": {
             "color": "#2a3f5f"
            },
            "error_y": {
             "color": "#2a3f5f"
            },
            "marker": {
             "line": {
              "color": "#E5ECF6",
              "width": 0.5
             },
             "pattern": {
              "fillmode": "overlay",
              "size": 10,
              "solidity": 0.2
             }
            },
            "type": "bar"
           }
          ],
          "barpolar": [
           {
            "marker": {
             "line": {
              "color": "#E5ECF6",
              "width": 0.5
             },
             "pattern": {
              "fillmode": "overlay",
              "size": 10,
              "solidity": 0.2
             }
            },
            "type": "barpolar"
           }
          ],
          "carpet": [
           {
            "aaxis": {
             "endlinecolor": "#2a3f5f",
             "gridcolor": "white",
             "linecolor": "white",
             "minorgridcolor": "white",
             "startlinecolor": "#2a3f5f"
            },
            "baxis": {
             "endlinecolor": "#2a3f5f",
             "gridcolor": "white",
             "linecolor": "white",
             "minorgridcolor": "white",
             "startlinecolor": "#2a3f5f"
            },
            "type": "carpet"
           }
          ],
          "choropleth": [
           {
            "colorbar": {
             "outlinewidth": 0,
             "ticks": ""
            },
            "type": "choropleth"
           }
          ],
          "contour": [
           {
            "colorbar": {
             "outlinewidth": 0,
             "ticks": ""
            },
            "colorscale": [
             [
              0,
              "#0d0887"
             ],
             [
              0.1111111111111111,
              "#46039f"
             ],
             [
              0.2222222222222222,
              "#7201a8"
             ],
             [
              0.3333333333333333,
              "#9c179e"
             ],
             [
              0.4444444444444444,
              "#bd3786"
             ],
             [
              0.5555555555555556,
              "#d8576b"
             ],
             [
              0.6666666666666666,
              "#ed7953"
             ],
             [
              0.7777777777777778,
              "#fb9f3a"
             ],
             [
              0.8888888888888888,
              "#fdca26"
             ],
             [
              1,
              "#f0f921"
             ]
            ],
            "type": "contour"
           }
          ],
          "contourcarpet": [
           {
            "colorbar": {
             "outlinewidth": 0,
             "ticks": ""
            },
            "type": "contourcarpet"
           }
          ],
          "heatmap": [
           {
            "colorbar": {
             "outlinewidth": 0,
             "ticks": ""
            },
            "colorscale": [
             [
              0,
              "#0d0887"
             ],
             [
              0.1111111111111111,
              "#46039f"
             ],
             [
              0.2222222222222222,
              "#7201a8"
             ],
             [
              0.3333333333333333,
              "#9c179e"
             ],
             [
              0.4444444444444444,
              "#bd3786"
             ],
             [
              0.5555555555555556,
              "#d8576b"
             ],
             [
              0.6666666666666666,
              "#ed7953"
             ],
             [
              0.7777777777777778,
              "#fb9f3a"
             ],
             [
              0.8888888888888888,
              "#fdca26"
             ],
             [
              1,
              "#f0f921"
             ]
            ],
            "type": "heatmap"
           }
          ],
          "heatmapgl": [
           {
            "colorbar": {
             "outlinewidth": 0,
             "ticks": ""
            },
            "colorscale": [
             [
              0,
              "#0d0887"
             ],
             [
              0.1111111111111111,
              "#46039f"
             ],
             [
              0.2222222222222222,
              "#7201a8"
             ],
             [
              0.3333333333333333,
              "#9c179e"
             ],
             [
              0.4444444444444444,
              "#bd3786"
             ],
             [
              0.5555555555555556,
              "#d8576b"
             ],
             [
              0.6666666666666666,
              "#ed7953"
             ],
             [
              0.7777777777777778,
              "#fb9f3a"
             ],
             [
              0.8888888888888888,
              "#fdca26"
             ],
             [
              1,
              "#f0f921"
             ]
            ],
            "type": "heatmapgl"
           }
          ],
          "histogram": [
           {
            "marker": {
             "pattern": {
              "fillmode": "overlay",
              "size": 10,
              "solidity": 0.2
             }
            },
            "type": "histogram"
           }
          ],
          "histogram2d": [
           {
            "colorbar": {
             "outlinewidth": 0,
             "ticks": ""
            },
            "colorscale": [
             [
              0,
              "#0d0887"
             ],
             [
              0.1111111111111111,
              "#46039f"
             ],
             [
              0.2222222222222222,
              "#7201a8"
             ],
             [
              0.3333333333333333,
              "#9c179e"
             ],
             [
              0.4444444444444444,
              "#bd3786"
             ],
             [
              0.5555555555555556,
              "#d8576b"
             ],
             [
              0.6666666666666666,
              "#ed7953"
             ],
             [
              0.7777777777777778,
              "#fb9f3a"
             ],
             [
              0.8888888888888888,
              "#fdca26"
             ],
             [
              1,
              "#f0f921"
             ]
            ],
            "type": "histogram2d"
           }
          ],
          "histogram2dcontour": [
           {
            "colorbar": {
             "outlinewidth": 0,
             "ticks": ""
            },
            "colorscale": [
             [
              0,
              "#0d0887"
             ],
             [
              0.1111111111111111,
              "#46039f"
             ],
             [
              0.2222222222222222,
              "#7201a8"
             ],
             [
              0.3333333333333333,
              "#9c179e"
             ],
             [
              0.4444444444444444,
              "#bd3786"
             ],
             [
              0.5555555555555556,
              "#d8576b"
             ],
             [
              0.6666666666666666,
              "#ed7953"
             ],
             [
              0.7777777777777778,
              "#fb9f3a"
             ],
             [
              0.8888888888888888,
              "#fdca26"
             ],
             [
              1,
              "#f0f921"
             ]
            ],
            "type": "histogram2dcontour"
           }
          ],
          "mesh3d": [
           {
            "colorbar": {
             "outlinewidth": 0,
             "ticks": ""
            },
            "type": "mesh3d"
           }
          ],
          "parcoords": [
           {
            "line": {
             "colorbar": {
              "outlinewidth": 0,
              "ticks": ""
             }
            },
            "type": "parcoords"
           }
          ],
          "pie": [
           {
            "automargin": true,
            "type": "pie"
           }
          ],
          "scatter": [
           {
            "fillpattern": {
             "fillmode": "overlay",
             "size": 10,
             "solidity": 0.2
            },
            "type": "scatter"
           }
          ],
          "scatter3d": [
           {
            "line": {
             "colorbar": {
              "outlinewidth": 0,
              "ticks": ""
             }
            },
            "marker": {
             "colorbar": {
              "outlinewidth": 0,
              "ticks": ""
             }
            },
            "type": "scatter3d"
           }
          ],
          "scattercarpet": [
           {
            "marker": {
             "colorbar": {
              "outlinewidth": 0,
              "ticks": ""
             }
            },
            "type": "scattercarpet"
           }
          ],
          "scattergeo": [
           {
            "marker": {
             "colorbar": {
              "outlinewidth": 0,
              "ticks": ""
             }
            },
            "type": "scattergeo"
           }
          ],
          "scattergl": [
           {
            "marker": {
             "colorbar": {
              "outlinewidth": 0,
              "ticks": ""
             }
            },
            "type": "scattergl"
           }
          ],
          "scattermapbox": [
           {
            "marker": {
             "colorbar": {
              "outlinewidth": 0,
              "ticks": ""
             }
            },
            "type": "scattermapbox"
           }
          ],
          "scatterpolar": [
           {
            "marker": {
             "colorbar": {
              "outlinewidth": 0,
              "ticks": ""
             }
            },
            "type": "scatterpolar"
           }
          ],
          "scatterpolargl": [
           {
            "marker": {
             "colorbar": {
              "outlinewidth": 0,
              "ticks": ""
             }
            },
            "type": "scatterpolargl"
           }
          ],
          "scatterternary": [
           {
            "marker": {
             "colorbar": {
              "outlinewidth": 0,
              "ticks": ""
             }
            },
            "type": "scatterternary"
           }
          ],
          "surface": [
           {
            "colorbar": {
             "outlinewidth": 0,
             "ticks": ""
            },
            "colorscale": [
             [
              0,
              "#0d0887"
             ],
             [
              0.1111111111111111,
              "#46039f"
             ],
             [
              0.2222222222222222,
              "#7201a8"
             ],
             [
              0.3333333333333333,
              "#9c179e"
             ],
             [
              0.4444444444444444,
              "#bd3786"
             ],
             [
              0.5555555555555556,
              "#d8576b"
             ],
             [
              0.6666666666666666,
              "#ed7953"
             ],
             [
              0.7777777777777778,
              "#fb9f3a"
             ],
             [
              0.8888888888888888,
              "#fdca26"
             ],
             [
              1,
              "#f0f921"
             ]
            ],
            "type": "surface"
           }
          ],
          "table": [
           {
            "cells": {
             "fill": {
              "color": "#EBF0F8"
             },
             "line": {
              "color": "white"
             }
            },
            "header": {
             "fill": {
              "color": "#C8D4E3"
             },
             "line": {
              "color": "white"
             }
            },
            "type": "table"
           }
          ]
         },
         "layout": {
          "annotationdefaults": {
           "arrowcolor": "#2a3f5f",
           "arrowhead": 0,
           "arrowwidth": 1
          },
          "autotypenumbers": "strict",
          "coloraxis": {
           "colorbar": {
            "outlinewidth": 0,
            "ticks": ""
           }
          },
          "colorscale": {
           "diverging": [
            [
             0,
             "#8e0152"
            ],
            [
             0.1,
             "#c51b7d"
            ],
            [
             0.2,
             "#de77ae"
            ],
            [
             0.3,
             "#f1b6da"
            ],
            [
             0.4,
             "#fde0ef"
            ],
            [
             0.5,
             "#f7f7f7"
            ],
            [
             0.6,
             "#e6f5d0"
            ],
            [
             0.7,
             "#b8e186"
            ],
            [
             0.8,
             "#7fbc41"
            ],
            [
             0.9,
             "#4d9221"
            ],
            [
             1,
             "#276419"
            ]
           ],
           "sequential": [
            [
             0,
             "#0d0887"
            ],
            [
             0.1111111111111111,
             "#46039f"
            ],
            [
             0.2222222222222222,
             "#7201a8"
            ],
            [
             0.3333333333333333,
             "#9c179e"
            ],
            [
             0.4444444444444444,
             "#bd3786"
            ],
            [
             0.5555555555555556,
             "#d8576b"
            ],
            [
             0.6666666666666666,
             "#ed7953"
            ],
            [
             0.7777777777777778,
             "#fb9f3a"
            ],
            [
             0.8888888888888888,
             "#fdca26"
            ],
            [
             1,
             "#f0f921"
            ]
           ],
           "sequentialminus": [
            [
             0,
             "#0d0887"
            ],
            [
             0.1111111111111111,
             "#46039f"
            ],
            [
             0.2222222222222222,
             "#7201a8"
            ],
            [
             0.3333333333333333,
             "#9c179e"
            ],
            [
             0.4444444444444444,
             "#bd3786"
            ],
            [
             0.5555555555555556,
             "#d8576b"
            ],
            [
             0.6666666666666666,
             "#ed7953"
            ],
            [
             0.7777777777777778,
             "#fb9f3a"
            ],
            [
             0.8888888888888888,
             "#fdca26"
            ],
            [
             1,
             "#f0f921"
            ]
           ]
          },
          "colorway": [
           "#636efa",
           "#EF553B",
           "#00cc96",
           "#ab63fa",
           "#FFA15A",
           "#19d3f3",
           "#FF6692",
           "#B6E880",
           "#FF97FF",
           "#FECB52"
          ],
          "font": {
           "color": "#2a3f5f"
          },
          "geo": {
           "bgcolor": "white",
           "lakecolor": "white",
           "landcolor": "#E5ECF6",
           "showlakes": true,
           "showland": true,
           "subunitcolor": "white"
          },
          "hoverlabel": {
           "align": "left"
          },
          "hovermode": "closest",
          "mapbox": {
           "style": "light"
          },
          "paper_bgcolor": "white",
          "plot_bgcolor": "#E5ECF6",
          "polar": {
           "angularaxis": {
            "gridcolor": "white",
            "linecolor": "white",
            "ticks": ""
           },
           "bgcolor": "#E5ECF6",
           "radialaxis": {
            "gridcolor": "white",
            "linecolor": "white",
            "ticks": ""
           }
          },
          "scene": {
           "xaxis": {
            "backgroundcolor": "#E5ECF6",
            "gridcolor": "white",
            "gridwidth": 2,
            "linecolor": "white",
            "showbackground": true,
            "ticks": "",
            "zerolinecolor": "white"
           },
           "yaxis": {
            "backgroundcolor": "#E5ECF6",
            "gridcolor": "white",
            "gridwidth": 2,
            "linecolor": "white",
            "showbackground": true,
            "ticks": "",
            "zerolinecolor": "white"
           },
           "zaxis": {
            "backgroundcolor": "#E5ECF6",
            "gridcolor": "white",
            "gridwidth": 2,
            "linecolor": "white",
            "showbackground": true,
            "ticks": "",
            "zerolinecolor": "white"
           }
          },
          "shapedefaults": {
           "line": {
            "color": "#2a3f5f"
           }
          },
          "ternary": {
           "aaxis": {
            "gridcolor": "white",
            "linecolor": "white",
            "ticks": ""
           },
           "baxis": {
            "gridcolor": "white",
            "linecolor": "white",
            "ticks": ""
           },
           "bgcolor": "#E5ECF6",
           "caxis": {
            "gridcolor": "white",
            "linecolor": "white",
            "ticks": ""
           }
          },
          "title": {
           "x": 0.05
          },
          "xaxis": {
           "automargin": true,
           "gridcolor": "white",
           "linecolor": "white",
           "ticks": "",
           "title": {
            "standoff": 15
           },
           "zerolinecolor": "white",
           "zerolinewidth": 2
          },
          "yaxis": {
           "automargin": true,
           "gridcolor": "white",
           "linecolor": "white",
           "ticks": "",
           "title": {
            "standoff": 15
           },
           "zerolinecolor": "white",
           "zerolinewidth": 2
          }
         }
        },
        "title": {
         "text": "Content Type Distribution"
        }
       }
      },
      "text/html": [
       "<div>                            <div id=\"bfd758fc-4d96-4d12-ab20-4077be96a06e\" class=\"plotly-graph-div\" style=\"height:400px; width:100%;\"></div>            <script type=\"text/javascript\">                require([\"plotly\"], function(Plotly) {                    window.PLOTLYENV=window.PLOTLYENV || {};                                    if (document.getElementById(\"bfd758fc-4d96-4d12-ab20-4077be96a06e\")) {                    Plotly.newPlot(                        \"bfd758fc-4d96-4d12-ab20-4077be96a06e\",                        [{\"labels\":[\"Movie\",\"TV Show\"],\"marker\":{\"colors\":[\"#6ad49b\",\"#a678de\"]},\"pull\":[0.05,0],\"values\":[3939,1898],\"type\":\"pie\"}],                        {\"height\":400,\"legend\":{\"x\":0.1,\"y\":1.1},\"title\":{\"text\":\"Content Type Distribution\"},\"template\":{\"data\":{\"histogram2dcontour\":[{\"type\":\"histogram2dcontour\",\"colorbar\":{\"outlinewidth\":0,\"ticks\":\"\"},\"colorscale\":[[0.0,\"#0d0887\"],[0.1111111111111111,\"#46039f\"],[0.2222222222222222,\"#7201a8\"],[0.3333333333333333,\"#9c179e\"],[0.4444444444444444,\"#bd3786\"],[0.5555555555555556,\"#d8576b\"],[0.6666666666666666,\"#ed7953\"],[0.7777777777777778,\"#fb9f3a\"],[0.8888888888888888,\"#fdca26\"],[1.0,\"#f0f921\"]]}],\"choropleth\":[{\"type\":\"choropleth\",\"colorbar\":{\"outlinewidth\":0,\"ticks\":\"\"}}],\"histogram2d\":[{\"type\":\"histogram2d\",\"colorbar\":{\"outlinewidth\":0,\"ticks\":\"\"},\"colorscale\":[[0.0,\"#0d0887\"],[0.1111111111111111,\"#46039f\"],[0.2222222222222222,\"#7201a8\"],[0.3333333333333333,\"#9c179e\"],[0.4444444444444444,\"#bd3786\"],[0.5555555555555556,\"#d8576b\"],[0.6666666666666666,\"#ed7953\"],[0.7777777777777778,\"#fb9f3a\"],[0.8888888888888888,\"#fdca26\"],[1.0,\"#f0f921\"]]}],\"heatmap\":[{\"type\":\"heatmap\",\"colorbar\":{\"outlinewidth\":0,\"ticks\":\"\"},\"colorscale\":[[0.0,\"#0d0887\"],[0.1111111111111111,\"#46039f\"],[0.2222222222222222,\"#7201a8\"],[0.3333333333333333,\"#9c179e\"],[0.4444444444444444,\"#bd3786\"],[0.5555555555555556,\"#d8576b\"],[0.6666666666666666,\"#ed7953\"],[0.7777777777777778,\"#fb9f3a\"],[0.8888888888888888,\"#fdca26\"],[1.0,\"#f0f921\"]]}],\"heatmapgl\":[{\"type\":\"heatmapgl\",\"colorbar\":{\"outlinewidth\":0,\"ticks\":\"\"},\"colorscale\":[[0.0,\"#0d0887\"],[0.1111111111111111,\"#46039f\"],[0.2222222222222222,\"#7201a8\"],[0.3333333333333333,\"#9c179e\"],[0.4444444444444444,\"#bd3786\"],[0.5555555555555556,\"#d8576b\"],[0.6666666666666666,\"#ed7953\"],[0.7777777777777778,\"#fb9f3a\"],[0.8888888888888888,\"#fdca26\"],[1.0,\"#f0f921\"]]}],\"contourcarpet\":[{\"type\":\"contourcarpet\",\"colorbar\":{\"outlinewidth\":0,\"ticks\":\"\"}}],\"contour\":[{\"type\":\"contour\",\"colorbar\":{\"outlinewidth\":0,\"ticks\":\"\"},\"colorscale\":[[0.0,\"#0d0887\"],[0.1111111111111111,\"#46039f\"],[0.2222222222222222,\"#7201a8\"],[0.3333333333333333,\"#9c179e\"],[0.4444444444444444,\"#bd3786\"],[0.5555555555555556,\"#d8576b\"],[0.6666666666666666,\"#ed7953\"],[0.7777777777777778,\"#fb9f3a\"],[0.8888888888888888,\"#fdca26\"],[1.0,\"#f0f921\"]]}],\"surface\":[{\"type\":\"surface\",\"colorbar\":{\"outlinewidth\":0,\"ticks\":\"\"},\"colorscale\":[[0.0,\"#0d0887\"],[0.1111111111111111,\"#46039f\"],[0.2222222222222222,\"#7201a8\"],[0.3333333333333333,\"#9c179e\"],[0.4444444444444444,\"#bd3786\"],[0.5555555555555556,\"#d8576b\"],[0.6666666666666666,\"#ed7953\"],[0.7777777777777778,\"#fb9f3a\"],[0.8888888888888888,\"#fdca26\"],[1.0,\"#f0f921\"]]}],\"mesh3d\":[{\"type\":\"mesh3d\",\"colorbar\":{\"outlinewidth\":0,\"ticks\":\"\"}}],\"scatter\":[{\"fillpattern\":{\"fillmode\":\"overlay\",\"size\":10,\"solidity\":0.2},\"type\":\"scatter\"}],\"parcoords\":[{\"type\":\"parcoords\",\"line\":{\"colorbar\":{\"outlinewidth\":0,\"ticks\":\"\"}}}],\"scatterpolargl\":[{\"type\":\"scatterpolargl\",\"marker\":{\"colorbar\":{\"outlinewidth\":0,\"ticks\":\"\"}}}],\"bar\":[{\"error_x\":{\"color\":\"#2a3f5f\"},\"error_y\":{\"color\":\"#2a3f5f\"},\"marker\":{\"line\":{\"color\":\"#E5ECF6\",\"width\":0.5},\"pattern\":{\"fillmode\":\"overlay\",\"size\":10,\"solidity\":0.2}},\"type\":\"bar\"}],\"scattergeo\":[{\"type\":\"scattergeo\",\"marker\":{\"colorbar\":{\"outlinewidth\":0,\"ticks\":\"\"}}}],\"scatterpolar\":[{\"type\":\"scatterpolar\",\"marker\":{\"colorbar\":{\"outlinewidth\":0,\"ticks\":\"\"}}}],\"histogram\":[{\"marker\":{\"pattern\":{\"fillmode\":\"overlay\",\"size\":10,\"solidity\":0.2}},\"type\":\"histogram\"}],\"scattergl\":[{\"type\":\"scattergl\",\"marker\":{\"colorbar\":{\"outlinewidth\":0,\"ticks\":\"\"}}}],\"scatter3d\":[{\"type\":\"scatter3d\",\"line\":{\"colorbar\":{\"outlinewidth\":0,\"ticks\":\"\"}},\"marker\":{\"colorbar\":{\"outlinewidth\":0,\"ticks\":\"\"}}}],\"scattermapbox\":[{\"type\":\"scattermapbox\",\"marker\":{\"colorbar\":{\"outlinewidth\":0,\"ticks\":\"\"}}}],\"scatterternary\":[{\"type\":\"scatterternary\",\"marker\":{\"colorbar\":{\"outlinewidth\":0,\"ticks\":\"\"}}}],\"scattercarpet\":[{\"type\":\"scattercarpet\",\"marker\":{\"colorbar\":{\"outlinewidth\":0,\"ticks\":\"\"}}}],\"carpet\":[{\"aaxis\":{\"endlinecolor\":\"#2a3f5f\",\"gridcolor\":\"white\",\"linecolor\":\"white\",\"minorgridcolor\":\"white\",\"startlinecolor\":\"#2a3f5f\"},\"baxis\":{\"endlinecolor\":\"#2a3f5f\",\"gridcolor\":\"white\",\"linecolor\":\"white\",\"minorgridcolor\":\"white\",\"startlinecolor\":\"#2a3f5f\"},\"type\":\"carpet\"}],\"table\":[{\"cells\":{\"fill\":{\"color\":\"#EBF0F8\"},\"line\":{\"color\":\"white\"}},\"header\":{\"fill\":{\"color\":\"#C8D4E3\"},\"line\":{\"color\":\"white\"}},\"type\":\"table\"}],\"barpolar\":[{\"marker\":{\"line\":{\"color\":\"#E5ECF6\",\"width\":0.5},\"pattern\":{\"fillmode\":\"overlay\",\"size\":10,\"solidity\":0.2}},\"type\":\"barpolar\"}],\"pie\":[{\"automargin\":true,\"type\":\"pie\"}]},\"layout\":{\"autotypenumbers\":\"strict\",\"colorway\":[\"#636efa\",\"#EF553B\",\"#00cc96\",\"#ab63fa\",\"#FFA15A\",\"#19d3f3\",\"#FF6692\",\"#B6E880\",\"#FF97FF\",\"#FECB52\"],\"font\":{\"color\":\"#2a3f5f\"},\"hovermode\":\"closest\",\"hoverlabel\":{\"align\":\"left\"},\"paper_bgcolor\":\"white\",\"plot_bgcolor\":\"#E5ECF6\",\"polar\":{\"bgcolor\":\"#E5ECF6\",\"angularaxis\":{\"gridcolor\":\"white\",\"linecolor\":\"white\",\"ticks\":\"\"},\"radialaxis\":{\"gridcolor\":\"white\",\"linecolor\":\"white\",\"ticks\":\"\"}},\"ternary\":{\"bgcolor\":\"#E5ECF6\",\"aaxis\":{\"gridcolor\":\"white\",\"linecolor\":\"white\",\"ticks\":\"\"},\"baxis\":{\"gridcolor\":\"white\",\"linecolor\":\"white\",\"ticks\":\"\"},\"caxis\":{\"gridcolor\":\"white\",\"linecolor\":\"white\",\"ticks\":\"\"}},\"coloraxis\":{\"colorbar\":{\"outlinewidth\":0,\"ticks\":\"\"}},\"colorscale\":{\"sequential\":[[0.0,\"#0d0887\"],[0.1111111111111111,\"#46039f\"],[0.2222222222222222,\"#7201a8\"],[0.3333333333333333,\"#9c179e\"],[0.4444444444444444,\"#bd3786\"],[0.5555555555555556,\"#d8576b\"],[0.6666666666666666,\"#ed7953\"],[0.7777777777777778,\"#fb9f3a\"],[0.8888888888888888,\"#fdca26\"],[1.0,\"#f0f921\"]],\"sequentialminus\":[[0.0,\"#0d0887\"],[0.1111111111111111,\"#46039f\"],[0.2222222222222222,\"#7201a8\"],[0.3333333333333333,\"#9c179e\"],[0.4444444444444444,\"#bd3786\"],[0.5555555555555556,\"#d8576b\"],[0.6666666666666666,\"#ed7953\"],[0.7777777777777778,\"#fb9f3a\"],[0.8888888888888888,\"#fdca26\"],[1.0,\"#f0f921\"]],\"diverging\":[[0,\"#8e0152\"],[0.1,\"#c51b7d\"],[0.2,\"#de77ae\"],[0.3,\"#f1b6da\"],[0.4,\"#fde0ef\"],[0.5,\"#f7f7f7\"],[0.6,\"#e6f5d0\"],[0.7,\"#b8e186\"],[0.8,\"#7fbc41\"],[0.9,\"#4d9221\"],[1,\"#276419\"]]},\"xaxis\":{\"gridcolor\":\"white\",\"linecolor\":\"white\",\"ticks\":\"\",\"title\":{\"standoff\":15},\"zerolinecolor\":\"white\",\"automargin\":true,\"zerolinewidth\":2},\"yaxis\":{\"gridcolor\":\"white\",\"linecolor\":\"white\",\"ticks\":\"\",\"title\":{\"standoff\":15},\"zerolinecolor\":\"white\",\"automargin\":true,\"zerolinewidth\":2},\"scene\":{\"xaxis\":{\"backgroundcolor\":\"#E5ECF6\",\"gridcolor\":\"white\",\"linecolor\":\"white\",\"showbackground\":true,\"ticks\":\"\",\"zerolinecolor\":\"white\",\"gridwidth\":2},\"yaxis\":{\"backgroundcolor\":\"#E5ECF6\",\"gridcolor\":\"white\",\"linecolor\":\"white\",\"showbackground\":true,\"ticks\":\"\",\"zerolinecolor\":\"white\",\"gridwidth\":2},\"zaxis\":{\"backgroundcolor\":\"#E5ECF6\",\"gridcolor\":\"white\",\"linecolor\":\"white\",\"showbackground\":true,\"ticks\":\"\",\"zerolinecolor\":\"white\",\"gridwidth\":2}},\"shapedefaults\":{\"line\":{\"color\":\"#2a3f5f\"}},\"annotationdefaults\":{\"arrowcolor\":\"#2a3f5f\",\"arrowhead\":0,\"arrowwidth\":1},\"geo\":{\"bgcolor\":\"white\",\"landcolor\":\"#E5ECF6\",\"subunitcolor\":\"white\",\"showland\":true,\"showlakes\":true,\"lakecolor\":\"white\"},\"title\":{\"x\":0.05},\"mapbox\":{\"style\":\"light\"}}}},                        {\"responsive\": true}                    ).then(function(){\n",
       "                            \n",
       "var gd = document.getElementById('bfd758fc-4d96-4d12-ab20-4077be96a06e');\n",
       "var x = new MutationObserver(function (mutations, observer) {{\n",
       "        var display = window.getComputedStyle(gd).display;\n",
       "        if (!display || display === 'none') {{\n",
       "            console.log([gd, 'removed!']);\n",
       "            Plotly.purge(gd);\n",
       "            observer.disconnect();\n",
       "        }}\n",
       "}});\n",
       "\n",
       "// Listen for the removal of the full notebook cells\n",
       "var notebookContainer = gd.closest('#notebook-container');\n",
       "if (notebookContainer) {{\n",
       "    x.observe(notebookContainer, {childList: true});\n",
       "}}\n",
       "\n",
       "// Listen for the clearing of the current output cell\n",
       "var outputEl = gd.closest('.output');\n",
       "if (outputEl) {{\n",
       "    x.observe(outputEl, {childList: true});\n",
       "}}\n",
       "\n",
       "                        })                };                });            </script>        </div>"
      ]
     },
     "metadata": {},
     "output_type": "display_data"
    },
    {
     "data": {
      "application/vnd.plotly.v1+json": {
       "config": {
        "plotlyServerURL": "https://plot.ly"
       },
       "data": [
        {
         "marker": {
          "color": "#a678de"
         },
         "name": "TV Shows",
         "type": "scatter",
         "x": [
          2008,
          2012,
          2013,
          2015,
          2016,
          2017,
          2018,
          2019
         ],
         "y": [
          1,
          3,
          3,
          16,
          148,
          271,
          339,
          476
         ]
        },
        {
         "marker": {
          "color": "#6ad49b"
         },
         "name": "Movies",
         "type": "scatter",
         "x": [
          2008,
          2009,
          2010,
          2011,
          2012,
          2013,
          2014,
          2015,
          2016,
          2017,
          2018,
          2019
         ],
         "y": [
          1,
          2,
          1,
          13,
          4,
          6,
          19,
          58,
          264,
          913,
          1290,
          1367
         ]
        }
       ],
       "layout": {
        "legend": {
         "orientation": "h",
         "x": 0.1,
         "y": 1.1
        },
        "template": {
         "data": {
          "bar": [
           {
            "error_x": {
             "color": "#2a3f5f"
            },
            "error_y": {
             "color": "#2a3f5f"
            },
            "marker": {
             "line": {
              "color": "#E5ECF6",
              "width": 0.5
             },
             "pattern": {
              "fillmode": "overlay",
              "size": 10,
              "solidity": 0.2
             }
            },
            "type": "bar"
           }
          ],
          "barpolar": [
           {
            "marker": {
             "line": {
              "color": "#E5ECF6",
              "width": 0.5
             },
             "pattern": {
              "fillmode": "overlay",
              "size": 10,
              "solidity": 0.2
             }
            },
            "type": "barpolar"
           }
          ],
          "carpet": [
           {
            "aaxis": {
             "endlinecolor": "#2a3f5f",
             "gridcolor": "white",
             "linecolor": "white",
             "minorgridcolor": "white",
             "startlinecolor": "#2a3f5f"
            },
            "baxis": {
             "endlinecolor": "#2a3f5f",
             "gridcolor": "white",
             "linecolor": "white",
             "minorgridcolor": "white",
             "startlinecolor": "#2a3f5f"
            },
            "type": "carpet"
           }
          ],
          "choropleth": [
           {
            "colorbar": {
             "outlinewidth": 0,
             "ticks": ""
            },
            "type": "choropleth"
           }
          ],
          "contour": [
           {
            "colorbar": {
             "outlinewidth": 0,
             "ticks": ""
            },
            "colorscale": [
             [
              0,
              "#0d0887"
             ],
             [
              0.1111111111111111,
              "#46039f"
             ],
             [
              0.2222222222222222,
              "#7201a8"
             ],
             [
              0.3333333333333333,
              "#9c179e"
             ],
             [
              0.4444444444444444,
              "#bd3786"
             ],
             [
              0.5555555555555556,
              "#d8576b"
             ],
             [
              0.6666666666666666,
              "#ed7953"
             ],
             [
              0.7777777777777778,
              "#fb9f3a"
             ],
             [
              0.8888888888888888,
              "#fdca26"
             ],
             [
              1,
              "#f0f921"
             ]
            ],
            "type": "contour"
           }
          ],
          "contourcarpet": [
           {
            "colorbar": {
             "outlinewidth": 0,
             "ticks": ""
            },
            "type": "contourcarpet"
           }
          ],
          "heatmap": [
           {
            "colorbar": {
             "outlinewidth": 0,
             "ticks": ""
            },
            "colorscale": [
             [
              0,
              "#0d0887"
             ],
             [
              0.1111111111111111,
              "#46039f"
             ],
             [
              0.2222222222222222,
              "#7201a8"
             ],
             [
              0.3333333333333333,
              "#9c179e"
             ],
             [
              0.4444444444444444,
              "#bd3786"
             ],
             [
              0.5555555555555556,
              "#d8576b"
             ],
             [
              0.6666666666666666,
              "#ed7953"
             ],
             [
              0.7777777777777778,
              "#fb9f3a"
             ],
             [
              0.8888888888888888,
              "#fdca26"
             ],
             [
              1,
              "#f0f921"
             ]
            ],
            "type": "heatmap"
           }
          ],
          "heatmapgl": [
           {
            "colorbar": {
             "outlinewidth": 0,
             "ticks": ""
            },
            "colorscale": [
             [
              0,
              "#0d0887"
             ],
             [
              0.1111111111111111,
              "#46039f"
             ],
             [
              0.2222222222222222,
              "#7201a8"
             ],
             [
              0.3333333333333333,
              "#9c179e"
             ],
             [
              0.4444444444444444,
              "#bd3786"
             ],
             [
              0.5555555555555556,
              "#d8576b"
             ],
             [
              0.6666666666666666,
              "#ed7953"
             ],
             [
              0.7777777777777778,
              "#fb9f3a"
             ],
             [
              0.8888888888888888,
              "#fdca26"
             ],
             [
              1,
              "#f0f921"
             ]
            ],
            "type": "heatmapgl"
           }
          ],
          "histogram": [
           {
            "marker": {
             "pattern": {
              "fillmode": "overlay",
              "size": 10,
              "solidity": 0.2
             }
            },
            "type": "histogram"
           }
          ],
          "histogram2d": [
           {
            "colorbar": {
             "outlinewidth": 0,
             "ticks": ""
            },
            "colorscale": [
             [
              0,
              "#0d0887"
             ],
             [
              0.1111111111111111,
              "#46039f"
             ],
             [
              0.2222222222222222,
              "#7201a8"
             ],
             [
              0.3333333333333333,
              "#9c179e"
             ],
             [
              0.4444444444444444,
              "#bd3786"
             ],
             [
              0.5555555555555556,
              "#d8576b"
             ],
             [
              0.6666666666666666,
              "#ed7953"
             ],
             [
              0.7777777777777778,
              "#fb9f3a"
             ],
             [
              0.8888888888888888,
              "#fdca26"
             ],
             [
              1,
              "#f0f921"
             ]
            ],
            "type": "histogram2d"
           }
          ],
          "histogram2dcontour": [
           {
            "colorbar": {
             "outlinewidth": 0,
             "ticks": ""
            },
            "colorscale": [
             [
              0,
              "#0d0887"
             ],
             [
              0.1111111111111111,
              "#46039f"
             ],
             [
              0.2222222222222222,
              "#7201a8"
             ],
             [
              0.3333333333333333,
              "#9c179e"
             ],
             [
              0.4444444444444444,
              "#bd3786"
             ],
             [
              0.5555555555555556,
              "#d8576b"
             ],
             [
              0.6666666666666666,
              "#ed7953"
             ],
             [
              0.7777777777777778,
              "#fb9f3a"
             ],
             [
              0.8888888888888888,
              "#fdca26"
             ],
             [
              1,
              "#f0f921"
             ]
            ],
            "type": "histogram2dcontour"
           }
          ],
          "mesh3d": [
           {
            "colorbar": {
             "outlinewidth": 0,
             "ticks": ""
            },
            "type": "mesh3d"
           }
          ],
          "parcoords": [
           {
            "line": {
             "colorbar": {
              "outlinewidth": 0,
              "ticks": ""
             }
            },
            "type": "parcoords"
           }
          ],
          "pie": [
           {
            "automargin": true,
            "type": "pie"
           }
          ],
          "scatter": [
           {
            "fillpattern": {
             "fillmode": "overlay",
             "size": 10,
             "solidity": 0.2
            },
            "type": "scatter"
           }
          ],
          "scatter3d": [
           {
            "line": {
             "colorbar": {
              "outlinewidth": 0,
              "ticks": ""
             }
            },
            "marker": {
             "colorbar": {
              "outlinewidth": 0,
              "ticks": ""
             }
            },
            "type": "scatter3d"
           }
          ],
          "scattercarpet": [
           {
            "marker": {
             "colorbar": {
              "outlinewidth": 0,
              "ticks": ""
             }
            },
            "type": "scattercarpet"
           }
          ],
          "scattergeo": [
           {
            "marker": {
             "colorbar": {
              "outlinewidth": 0,
              "ticks": ""
             }
            },
            "type": "scattergeo"
           }
          ],
          "scattergl": [
           {
            "marker": {
             "colorbar": {
              "outlinewidth": 0,
              "ticks": ""
             }
            },
            "type": "scattergl"
           }
          ],
          "scattermapbox": [
           {
            "marker": {
             "colorbar": {
              "outlinewidth": 0,
              "ticks": ""
             }
            },
            "type": "scattermapbox"
           }
          ],
          "scatterpolar": [
           {
            "marker": {
             "colorbar": {
              "outlinewidth": 0,
              "ticks": ""
             }
            },
            "type": "scatterpolar"
           }
          ],
          "scatterpolargl": [
           {
            "marker": {
             "colorbar": {
              "outlinewidth": 0,
              "ticks": ""
             }
            },
            "type": "scatterpolargl"
           }
          ],
          "scatterternary": [
           {
            "marker": {
             "colorbar": {
              "outlinewidth": 0,
              "ticks": ""
             }
            },
            "type": "scatterternary"
           }
          ],
          "surface": [
           {
            "colorbar": {
             "outlinewidth": 0,
             "ticks": ""
            },
            "colorscale": [
             [
              0,
              "#0d0887"
             ],
             [
              0.1111111111111111,
              "#46039f"
             ],
             [
              0.2222222222222222,
              "#7201a8"
             ],
             [
              0.3333333333333333,
              "#9c179e"
             ],
             [
              0.4444444444444444,
              "#bd3786"
             ],
             [
              0.5555555555555556,
              "#d8576b"
             ],
             [
              0.6666666666666666,
              "#ed7953"
             ],
             [
              0.7777777777777778,
              "#fb9f3a"
             ],
             [
              0.8888888888888888,
              "#fdca26"
             ],
             [
              1,
              "#f0f921"
             ]
            ],
            "type": "surface"
           }
          ],
          "table": [
           {
            "cells": {
             "fill": {
              "color": "#EBF0F8"
             },
             "line": {
              "color": "white"
             }
            },
            "header": {
             "fill": {
              "color": "#C8D4E3"
             },
             "line": {
              "color": "white"
             }
            },
            "type": "table"
           }
          ]
         },
         "layout": {
          "annotationdefaults": {
           "arrowcolor": "#2a3f5f",
           "arrowhead": 0,
           "arrowwidth": 1
          },
          "autotypenumbers": "strict",
          "coloraxis": {
           "colorbar": {
            "outlinewidth": 0,
            "ticks": ""
           }
          },
          "colorscale": {
           "diverging": [
            [
             0,
             "#8e0152"
            ],
            [
             0.1,
             "#c51b7d"
            ],
            [
             0.2,
             "#de77ae"
            ],
            [
             0.3,
             "#f1b6da"
            ],
            [
             0.4,
             "#fde0ef"
            ],
            [
             0.5,
             "#f7f7f7"
            ],
            [
             0.6,
             "#e6f5d0"
            ],
            [
             0.7,
             "#b8e186"
            ],
            [
             0.8,
             "#7fbc41"
            ],
            [
             0.9,
             "#4d9221"
            ],
            [
             1,
             "#276419"
            ]
           ],
           "sequential": [
            [
             0,
             "#0d0887"
            ],
            [
             0.1111111111111111,
             "#46039f"
            ],
            [
             0.2222222222222222,
             "#7201a8"
            ],
            [
             0.3333333333333333,
             "#9c179e"
            ],
            [
             0.4444444444444444,
             "#bd3786"
            ],
            [
             0.5555555555555556,
             "#d8576b"
            ],
            [
             0.6666666666666666,
             "#ed7953"
            ],
            [
             0.7777777777777778,
             "#fb9f3a"
            ],
            [
             0.8888888888888888,
             "#fdca26"
            ],
            [
             1,
             "#f0f921"
            ]
           ],
           "sequentialminus": [
            [
             0,
             "#0d0887"
            ],
            [
             0.1111111111111111,
             "#46039f"
            ],
            [
             0.2222222222222222,
             "#7201a8"
            ],
            [
             0.3333333333333333,
             "#9c179e"
            ],
            [
             0.4444444444444444,
             "#bd3786"
            ],
            [
             0.5555555555555556,
             "#d8576b"
            ],
            [
             0.6666666666666666,
             "#ed7953"
            ],
            [
             0.7777777777777778,
             "#fb9f3a"
            ],
            [
             0.8888888888888888,
             "#fdca26"
            ],
            [
             1,
             "#f0f921"
            ]
           ]
          },
          "colorway": [
           "#636efa",
           "#EF553B",
           "#00cc96",
           "#ab63fa",
           "#FFA15A",
           "#19d3f3",
           "#FF6692",
           "#B6E880",
           "#FF97FF",
           "#FECB52"
          ],
          "font": {
           "color": "#2a3f5f"
          },
          "geo": {
           "bgcolor": "white",
           "lakecolor": "white",
           "landcolor": "#E5ECF6",
           "showlakes": true,
           "showland": true,
           "subunitcolor": "white"
          },
          "hoverlabel": {
           "align": "left"
          },
          "hovermode": "closest",
          "mapbox": {
           "style": "light"
          },
          "paper_bgcolor": "white",
          "plot_bgcolor": "#E5ECF6",
          "polar": {
           "angularaxis": {
            "gridcolor": "white",
            "linecolor": "white",
            "ticks": ""
           },
           "bgcolor": "#E5ECF6",
           "radialaxis": {
            "gridcolor": "white",
            "linecolor": "white",
            "ticks": ""
           }
          },
          "scene": {
           "xaxis": {
            "backgroundcolor": "#E5ECF6",
            "gridcolor": "white",
            "gridwidth": 2,
            "linecolor": "white",
            "showbackground": true,
            "ticks": "",
            "zerolinecolor": "white"
           },
           "yaxis": {
            "backgroundcolor": "#E5ECF6",
            "gridcolor": "white",
            "gridwidth": 2,
            "linecolor": "white",
            "showbackground": true,
            "ticks": "",
            "zerolinecolor": "white"
           },
           "zaxis": {
            "backgroundcolor": "#E5ECF6",
            "gridcolor": "white",
            "gridwidth": 2,
            "linecolor": "white",
            "showbackground": true,
            "ticks": "",
            "zerolinecolor": "white"
           }
          },
          "shapedefaults": {
           "line": {
            "color": "#2a3f5f"
           }
          },
          "ternary": {
           "aaxis": {
            "gridcolor": "white",
            "linecolor": "white",
            "ticks": ""
           },
           "baxis": {
            "gridcolor": "white",
            "linecolor": "white",
            "ticks": ""
           },
           "bgcolor": "#E5ECF6",
           "caxis": {
            "gridcolor": "white",
            "linecolor": "white",
            "ticks": ""
           }
          },
          "title": {
           "x": 0.05
          },
          "xaxis": {
           "automargin": true,
           "gridcolor": "white",
           "linecolor": "white",
           "ticks": "",
           "title": {
            "standoff": 15
           },
           "zerolinecolor": "white",
           "zerolinewidth": 2
          },
          "yaxis": {
           "automargin": true,
           "gridcolor": "white",
           "linecolor": "white",
           "ticks": "",
           "title": {
            "standoff": 15
           },
           "zerolinecolor": "white",
           "zerolinewidth": 2
          }
         }
        },
        "title": {
         "text": "Content Added Over Years"
        }
       }
      },
      "text/html": [
       "<div>                            <div id=\"6da96c11-93cd-41ac-bd97-d919fb094476\" class=\"plotly-graph-div\" style=\"height:525px; width:100%;\"></div>            <script type=\"text/javascript\">                require([\"plotly\"], function(Plotly) {                    window.PLOTLYENV=window.PLOTLYENV || {};                                    if (document.getElementById(\"6da96c11-93cd-41ac-bd97-d919fb094476\")) {                    Plotly.newPlot(                        \"6da96c11-93cd-41ac-bd97-d919fb094476\",                        [{\"marker\":{\"color\":\"#a678de\"},\"name\":\"TV Shows\",\"x\":[2008.0,2012.0,2013.0,2015.0,2016.0,2017.0,2018.0,2019.0],\"y\":[1,3,3,16,148,271,339,476],\"type\":\"scatter\"},{\"marker\":{\"color\":\"#6ad49b\"},\"name\":\"Movies\",\"x\":[2008.0,2009.0,2010.0,2011.0,2012.0,2013.0,2014.0,2015.0,2016.0,2017.0,2018.0,2019.0],\"y\":[1,2,1,13,4,6,19,58,264,913,1290,1367],\"type\":\"scatter\"}],                        {\"legend\":{\"orientation\":\"h\",\"x\":0.1,\"y\":1.1},\"title\":{\"text\":\"Content Added Over Years\"},\"template\":{\"data\":{\"histogram2dcontour\":[{\"type\":\"histogram2dcontour\",\"colorbar\":{\"outlinewidth\":0,\"ticks\":\"\"},\"colorscale\":[[0.0,\"#0d0887\"],[0.1111111111111111,\"#46039f\"],[0.2222222222222222,\"#7201a8\"],[0.3333333333333333,\"#9c179e\"],[0.4444444444444444,\"#bd3786\"],[0.5555555555555556,\"#d8576b\"],[0.6666666666666666,\"#ed7953\"],[0.7777777777777778,\"#fb9f3a\"],[0.8888888888888888,\"#fdca26\"],[1.0,\"#f0f921\"]]}],\"choropleth\":[{\"type\":\"choropleth\",\"colorbar\":{\"outlinewidth\":0,\"ticks\":\"\"}}],\"histogram2d\":[{\"type\":\"histogram2d\",\"colorbar\":{\"outlinewidth\":0,\"ticks\":\"\"},\"colorscale\":[[0.0,\"#0d0887\"],[0.1111111111111111,\"#46039f\"],[0.2222222222222222,\"#7201a8\"],[0.3333333333333333,\"#9c179e\"],[0.4444444444444444,\"#bd3786\"],[0.5555555555555556,\"#d8576b\"],[0.6666666666666666,\"#ed7953\"],[0.7777777777777778,\"#fb9f3a\"],[0.8888888888888888,\"#fdca26\"],[1.0,\"#f0f921\"]]}],\"heatmap\":[{\"type\":\"heatmap\",\"colorbar\":{\"outlinewidth\":0,\"ticks\":\"\"},\"colorscale\":[[0.0,\"#0d0887\"],[0.1111111111111111,\"#46039f\"],[0.2222222222222222,\"#7201a8\"],[0.3333333333333333,\"#9c179e\"],[0.4444444444444444,\"#bd3786\"],[0.5555555555555556,\"#d8576b\"],[0.6666666666666666,\"#ed7953\"],[0.7777777777777778,\"#fb9f3a\"],[0.8888888888888888,\"#fdca26\"],[1.0,\"#f0f921\"]]}],\"heatmapgl\":[{\"type\":\"heatmapgl\",\"colorbar\":{\"outlinewidth\":0,\"ticks\":\"\"},\"colorscale\":[[0.0,\"#0d0887\"],[0.1111111111111111,\"#46039f\"],[0.2222222222222222,\"#7201a8\"],[0.3333333333333333,\"#9c179e\"],[0.4444444444444444,\"#bd3786\"],[0.5555555555555556,\"#d8576b\"],[0.6666666666666666,\"#ed7953\"],[0.7777777777777778,\"#fb9f3a\"],[0.8888888888888888,\"#fdca26\"],[1.0,\"#f0f921\"]]}],\"contourcarpet\":[{\"type\":\"contourcarpet\",\"colorbar\":{\"outlinewidth\":0,\"ticks\":\"\"}}],\"contour\":[{\"type\":\"contour\",\"colorbar\":{\"outlinewidth\":0,\"ticks\":\"\"},\"colorscale\":[[0.0,\"#0d0887\"],[0.1111111111111111,\"#46039f\"],[0.2222222222222222,\"#7201a8\"],[0.3333333333333333,\"#9c179e\"],[0.4444444444444444,\"#bd3786\"],[0.5555555555555556,\"#d8576b\"],[0.6666666666666666,\"#ed7953\"],[0.7777777777777778,\"#fb9f3a\"],[0.8888888888888888,\"#fdca26\"],[1.0,\"#f0f921\"]]}],\"surface\":[{\"type\":\"surface\",\"colorbar\":{\"outlinewidth\":0,\"ticks\":\"\"},\"colorscale\":[[0.0,\"#0d0887\"],[0.1111111111111111,\"#46039f\"],[0.2222222222222222,\"#7201a8\"],[0.3333333333333333,\"#9c179e\"],[0.4444444444444444,\"#bd3786\"],[0.5555555555555556,\"#d8576b\"],[0.6666666666666666,\"#ed7953\"],[0.7777777777777778,\"#fb9f3a\"],[0.8888888888888888,\"#fdca26\"],[1.0,\"#f0f921\"]]}],\"mesh3d\":[{\"type\":\"mesh3d\",\"colorbar\":{\"outlinewidth\":0,\"ticks\":\"\"}}],\"scatter\":[{\"fillpattern\":{\"fillmode\":\"overlay\",\"size\":10,\"solidity\":0.2},\"type\":\"scatter\"}],\"parcoords\":[{\"type\":\"parcoords\",\"line\":{\"colorbar\":{\"outlinewidth\":0,\"ticks\":\"\"}}}],\"scatterpolargl\":[{\"type\":\"scatterpolargl\",\"marker\":{\"colorbar\":{\"outlinewidth\":0,\"ticks\":\"\"}}}],\"bar\":[{\"error_x\":{\"color\":\"#2a3f5f\"},\"error_y\":{\"color\":\"#2a3f5f\"},\"marker\":{\"line\":{\"color\":\"#E5ECF6\",\"width\":0.5},\"pattern\":{\"fillmode\":\"overlay\",\"size\":10,\"solidity\":0.2}},\"type\":\"bar\"}],\"scattergeo\":[{\"type\":\"scattergeo\",\"marker\":{\"colorbar\":{\"outlinewidth\":0,\"ticks\":\"\"}}}],\"scatterpolar\":[{\"type\":\"scatterpolar\",\"marker\":{\"colorbar\":{\"outlinewidth\":0,\"ticks\":\"\"}}}],\"histogram\":[{\"marker\":{\"pattern\":{\"fillmode\":\"overlay\",\"size\":10,\"solidity\":0.2}},\"type\":\"histogram\"}],\"scattergl\":[{\"type\":\"scattergl\",\"marker\":{\"colorbar\":{\"outlinewidth\":0,\"ticks\":\"\"}}}],\"scatter3d\":[{\"type\":\"scatter3d\",\"line\":{\"colorbar\":{\"outlinewidth\":0,\"ticks\":\"\"}},\"marker\":{\"colorbar\":{\"outlinewidth\":0,\"ticks\":\"\"}}}],\"scattermapbox\":[{\"type\":\"scattermapbox\",\"marker\":{\"colorbar\":{\"outlinewidth\":0,\"ticks\":\"\"}}}],\"scatterternary\":[{\"type\":\"scatterternary\",\"marker\":{\"colorbar\":{\"outlinewidth\":0,\"ticks\":\"\"}}}],\"scattercarpet\":[{\"type\":\"scattercarpet\",\"marker\":{\"colorbar\":{\"outlinewidth\":0,\"ticks\":\"\"}}}],\"carpet\":[{\"aaxis\":{\"endlinecolor\":\"#2a3f5f\",\"gridcolor\":\"white\",\"linecolor\":\"white\",\"minorgridcolor\":\"white\",\"startlinecolor\":\"#2a3f5f\"},\"baxis\":{\"endlinecolor\":\"#2a3f5f\",\"gridcolor\":\"white\",\"linecolor\":\"white\",\"minorgridcolor\":\"white\",\"startlinecolor\":\"#2a3f5f\"},\"type\":\"carpet\"}],\"table\":[{\"cells\":{\"fill\":{\"color\":\"#EBF0F8\"},\"line\":{\"color\":\"white\"}},\"header\":{\"fill\":{\"color\":\"#C8D4E3\"},\"line\":{\"color\":\"white\"}},\"type\":\"table\"}],\"barpolar\":[{\"marker\":{\"line\":{\"color\":\"#E5ECF6\",\"width\":0.5},\"pattern\":{\"fillmode\":\"overlay\",\"size\":10,\"solidity\":0.2}},\"type\":\"barpolar\"}],\"pie\":[{\"automargin\":true,\"type\":\"pie\"}]},\"layout\":{\"autotypenumbers\":\"strict\",\"colorway\":[\"#636efa\",\"#EF553B\",\"#00cc96\",\"#ab63fa\",\"#FFA15A\",\"#19d3f3\",\"#FF6692\",\"#B6E880\",\"#FF97FF\",\"#FECB52\"],\"font\":{\"color\":\"#2a3f5f\"},\"hovermode\":\"closest\",\"hoverlabel\":{\"align\":\"left\"},\"paper_bgcolor\":\"white\",\"plot_bgcolor\":\"#E5ECF6\",\"polar\":{\"bgcolor\":\"#E5ECF6\",\"angularaxis\":{\"gridcolor\":\"white\",\"linecolor\":\"white\",\"ticks\":\"\"},\"radialaxis\":{\"gridcolor\":\"white\",\"linecolor\":\"white\",\"ticks\":\"\"}},\"ternary\":{\"bgcolor\":\"#E5ECF6\",\"aaxis\":{\"gridcolor\":\"white\",\"linecolor\":\"white\",\"ticks\":\"\"},\"baxis\":{\"gridcolor\":\"white\",\"linecolor\":\"white\",\"ticks\":\"\"},\"caxis\":{\"gridcolor\":\"white\",\"linecolor\":\"white\",\"ticks\":\"\"}},\"coloraxis\":{\"colorbar\":{\"outlinewidth\":0,\"ticks\":\"\"}},\"colorscale\":{\"sequential\":[[0.0,\"#0d0887\"],[0.1111111111111111,\"#46039f\"],[0.2222222222222222,\"#7201a8\"],[0.3333333333333333,\"#9c179e\"],[0.4444444444444444,\"#bd3786\"],[0.5555555555555556,\"#d8576b\"],[0.6666666666666666,\"#ed7953\"],[0.7777777777777778,\"#fb9f3a\"],[0.8888888888888888,\"#fdca26\"],[1.0,\"#f0f921\"]],\"sequentialminus\":[[0.0,\"#0d0887\"],[0.1111111111111111,\"#46039f\"],[0.2222222222222222,\"#7201a8\"],[0.3333333333333333,\"#9c179e\"],[0.4444444444444444,\"#bd3786\"],[0.5555555555555556,\"#d8576b\"],[0.6666666666666666,\"#ed7953\"],[0.7777777777777778,\"#fb9f3a\"],[0.8888888888888888,\"#fdca26\"],[1.0,\"#f0f921\"]],\"diverging\":[[0,\"#8e0152\"],[0.1,\"#c51b7d\"],[0.2,\"#de77ae\"],[0.3,\"#f1b6da\"],[0.4,\"#fde0ef\"],[0.5,\"#f7f7f7\"],[0.6,\"#e6f5d0\"],[0.7,\"#b8e186\"],[0.8,\"#7fbc41\"],[0.9,\"#4d9221\"],[1,\"#276419\"]]},\"xaxis\":{\"gridcolor\":\"white\",\"linecolor\":\"white\",\"ticks\":\"\",\"title\":{\"standoff\":15},\"zerolinecolor\":\"white\",\"automargin\":true,\"zerolinewidth\":2},\"yaxis\":{\"gridcolor\":\"white\",\"linecolor\":\"white\",\"ticks\":\"\",\"title\":{\"standoff\":15},\"zerolinecolor\":\"white\",\"automargin\":true,\"zerolinewidth\":2},\"scene\":{\"xaxis\":{\"backgroundcolor\":\"#E5ECF6\",\"gridcolor\":\"white\",\"linecolor\":\"white\",\"showbackground\":true,\"ticks\":\"\",\"zerolinecolor\":\"white\",\"gridwidth\":2},\"yaxis\":{\"backgroundcolor\":\"#E5ECF6\",\"gridcolor\":\"white\",\"linecolor\":\"white\",\"showbackground\":true,\"ticks\":\"\",\"zerolinecolor\":\"white\",\"gridwidth\":2},\"zaxis\":{\"backgroundcolor\":\"#E5ECF6\",\"gridcolor\":\"white\",\"linecolor\":\"white\",\"showbackground\":true,\"ticks\":\"\",\"zerolinecolor\":\"white\",\"gridwidth\":2}},\"shapedefaults\":{\"line\":{\"color\":\"#2a3f5f\"}},\"annotationdefaults\":{\"arrowcolor\":\"#2a3f5f\",\"arrowhead\":0,\"arrowwidth\":1},\"geo\":{\"bgcolor\":\"white\",\"landcolor\":\"#E5ECF6\",\"subunitcolor\":\"white\",\"showland\":true,\"showlakes\":true,\"lakecolor\":\"white\"},\"title\":{\"x\":0.05},\"mapbox\":{\"style\":\"light\"}}}},                        {\"responsive\": true}                    ).then(function(){\n",
       "                            \n",
       "var gd = document.getElementById('6da96c11-93cd-41ac-bd97-d919fb094476');\n",
       "var x = new MutationObserver(function (mutations, observer) {{\n",
       "        var display = window.getComputedStyle(gd).display;\n",
       "        if (!display || display === 'none') {{\n",
       "            console.log([gd, 'removed!']);\n",
       "            Plotly.purge(gd);\n",
       "            observer.disconnect();\n",
       "        }}\n",
       "}});\n",
       "\n",
       "// Listen for the removal of the full notebook cells\n",
       "var notebookContainer = gd.closest('#notebook-container');\n",
       "if (notebookContainer) {{\n",
       "    x.observe(notebookContainer, {childList: true});\n",
       "}}\n",
       "\n",
       "// Listen for the clearing of the current output cell\n",
       "var outputEl = gd.closest('.output');\n",
       "if (outputEl) {{\n",
       "    x.observe(outputEl, {childList: true});\n",
       "}}\n",
       "\n",
       "                        })                };                });            </script>        </div>"
      ]
     },
     "metadata": {},
     "output_type": "display_data"
    },
    {
     "data": {
      "application/vnd.plotly.v1+json": {
       "config": {
        "plotlyServerURL": "https://plot.ly"
       },
       "data": [
        {
         "autocolorscale": false,
         "colorbar": {
          "title": {
           "text": "Content Count"
          }
         },
         "colorscale": [
          [
           0,
           "rgb(5, 10, 172)"
          ],
          [
           0.65,
           "rgb(40, 60, 190)"
          ],
          [
           0.75,
           "rgb(70, 100, 245)"
          ],
          [
           0.8,
           "rgb(90, 120, 245)"
          ],
          [
           0.9,
           "rgb(106, 137, 247)"
          ],
          [
           1,
           "rgb(220, 220, 220)"
          ]
         ],
         "locations": [
          "KOR",
          "IND",
          "FRA",
          "SEN",
          "BEL",
          "CAN",
          "GBR",
          "NGA",
          "ZAF",
          "USA",
          "ESP",
          "COL",
          "MEX",
          "JPN",
          "BRA",
          "DEU",
          "NOR",
          "POL",
          "CHN",
          "ARE",
          "SGP",
          "AUS",
          "ITA",
          "NZL",
          "ARG",
          "TWN",
          "FIN",
          "CHL",
          "PER",
          "IRL",
          "THA",
          "TUR",
          "HKG",
          "LIE",
          "ISR",
          "CHE",
          "RUS",
          "MYS",
          "LUX",
          "EGY",
          "AUT",
          "NLD",
          "IDN",
          "CZE",
          "DNK",
          "MLT",
          "VNM",
          "PAK",
          "PRT",
          "SWE",
          "PHL",
          "LBN",
          "BGR",
          "DOM",
          "JOR",
          "URY",
          "ROU",
          "CYP",
          "MAR",
          "GHA",
          "IRN",
          "KHM",
          "IRQ",
          "MWI",
          "PRY",
          "BGD",
          "NPL",
          "ISL",
          "HRV",
          "GRC",
          "SRB",
          "CYM",
          "UGA",
          "UKR",
          "ALB",
          "SAU",
          "SYR",
          "KWT",
          "QAT",
          "VEN",
          "HUN",
          "GTM",
          "SOM",
          "KEN",
          "SDN",
          "SVN",
          "NAM",
          "ZWE",
          "GEO",
          "NIC",
          "ARM",
          "MNG",
          "PAN",
          "LVA",
          "SVK",
          "WSM",
          "BWA",
          "LKA",
          "AFG",
          "AZE",
          "CUB",
          "KAZ",
          "MNE",
          "BMU",
          "ECU"
         ],
         "marker": {
          "line": {
           "color": "gray",
           "width": 0.5
          }
         },
         "reversescale": true,
         "type": "choropleth",
         "z": [
          155,
          753,
          255,
          2,
          63,
          300,
          558,
          26,
          26,
          2420,
          173,
          36,
          122,
          216,
          63,
          135,
          20,
          24,
          117,
          21,
          29,
          121,
          63,
          21,
          66,
          73,
          8,
          23,
          9,
          33,
          56,
          86,
          96,
          1,
          25,
          15,
          21,
          20,
          7,
          53,
          9,
          36,
          50,
          15,
          37,
          2,
          4,
          23,
          4,
          32,
          46,
          9,
          7,
          2,
          6,
          8,
          5,
          1,
          6,
          1,
          4,
          3,
          2,
          1,
          1,
          2,
          2,
          6,
          4,
          8,
          4,
          1,
          1,
          3,
          1,
          2,
          1,
          1,
          6,
          3,
          4,
          1,
          1,
          1,
          1,
          3,
          1,
          2,
          2,
          1,
          1,
          1,
          1,
          1,
          1,
          1,
          1,
          1,
          1,
          1,
          1,
          1,
          1,
          1,
          1
         ]
        }
       ],
       "layout": {
        "geo": {
         "projection": {
          "type": "equirectangular"
         },
         "showcoastlines": true,
         "showframe": false
        },
        "template": {
         "data": {
          "bar": [
           {
            "error_x": {
             "color": "#2a3f5f"
            },
            "error_y": {
             "color": "#2a3f5f"
            },
            "marker": {
             "line": {
              "color": "#E5ECF6",
              "width": 0.5
             },
             "pattern": {
              "fillmode": "overlay",
              "size": 10,
              "solidity": 0.2
             }
            },
            "type": "bar"
           }
          ],
          "barpolar": [
           {
            "marker": {
             "line": {
              "color": "#E5ECF6",
              "width": 0.5
             },
             "pattern": {
              "fillmode": "overlay",
              "size": 10,
              "solidity": 0.2
             }
            },
            "type": "barpolar"
           }
          ],
          "carpet": [
           {
            "aaxis": {
             "endlinecolor": "#2a3f5f",
             "gridcolor": "white",
             "linecolor": "white",
             "minorgridcolor": "white",
             "startlinecolor": "#2a3f5f"
            },
            "baxis": {
             "endlinecolor": "#2a3f5f",
             "gridcolor": "white",
             "linecolor": "white",
             "minorgridcolor": "white",
             "startlinecolor": "#2a3f5f"
            },
            "type": "carpet"
           }
          ],
          "choropleth": [
           {
            "colorbar": {
             "outlinewidth": 0,
             "ticks": ""
            },
            "type": "choropleth"
           }
          ],
          "contour": [
           {
            "colorbar": {
             "outlinewidth": 0,
             "ticks": ""
            },
            "colorscale": [
             [
              0,
              "#0d0887"
             ],
             [
              0.1111111111111111,
              "#46039f"
             ],
             [
              0.2222222222222222,
              "#7201a8"
             ],
             [
              0.3333333333333333,
              "#9c179e"
             ],
             [
              0.4444444444444444,
              "#bd3786"
             ],
             [
              0.5555555555555556,
              "#d8576b"
             ],
             [
              0.6666666666666666,
              "#ed7953"
             ],
             [
              0.7777777777777778,
              "#fb9f3a"
             ],
             [
              0.8888888888888888,
              "#fdca26"
             ],
             [
              1,
              "#f0f921"
             ]
            ],
            "type": "contour"
           }
          ],
          "contourcarpet": [
           {
            "colorbar": {
             "outlinewidth": 0,
             "ticks": ""
            },
            "type": "contourcarpet"
           }
          ],
          "heatmap": [
           {
            "colorbar": {
             "outlinewidth": 0,
             "ticks": ""
            },
            "colorscale": [
             [
              0,
              "#0d0887"
             ],
             [
              0.1111111111111111,
              "#46039f"
             ],
             [
              0.2222222222222222,
              "#7201a8"
             ],
             [
              0.3333333333333333,
              "#9c179e"
             ],
             [
              0.4444444444444444,
              "#bd3786"
             ],
             [
              0.5555555555555556,
              "#d8576b"
             ],
             [
              0.6666666666666666,
              "#ed7953"
             ],
             [
              0.7777777777777778,
              "#fb9f3a"
             ],
             [
              0.8888888888888888,
              "#fdca26"
             ],
             [
              1,
              "#f0f921"
             ]
            ],
            "type": "heatmap"
           }
          ],
          "heatmapgl": [
           {
            "colorbar": {
             "outlinewidth": 0,
             "ticks": ""
            },
            "colorscale": [
             [
              0,
              "#0d0887"
             ],
             [
              0.1111111111111111,
              "#46039f"
             ],
             [
              0.2222222222222222,
              "#7201a8"
             ],
             [
              0.3333333333333333,
              "#9c179e"
             ],
             [
              0.4444444444444444,
              "#bd3786"
             ],
             [
              0.5555555555555556,
              "#d8576b"
             ],
             [
              0.6666666666666666,
              "#ed7953"
             ],
             [
              0.7777777777777778,
              "#fb9f3a"
             ],
             [
              0.8888888888888888,
              "#fdca26"
             ],
             [
              1,
              "#f0f921"
             ]
            ],
            "type": "heatmapgl"
           }
          ],
          "histogram": [
           {
            "marker": {
             "pattern": {
              "fillmode": "overlay",
              "size": 10,
              "solidity": 0.2
             }
            },
            "type": "histogram"
           }
          ],
          "histogram2d": [
           {
            "colorbar": {
             "outlinewidth": 0,
             "ticks": ""
            },
            "colorscale": [
             [
              0,
              "#0d0887"
             ],
             [
              0.1111111111111111,
              "#46039f"
             ],
             [
              0.2222222222222222,
              "#7201a8"
             ],
             [
              0.3333333333333333,
              "#9c179e"
             ],
             [
              0.4444444444444444,
              "#bd3786"
             ],
             [
              0.5555555555555556,
              "#d8576b"
             ],
             [
              0.6666666666666666,
              "#ed7953"
             ],
             [
              0.7777777777777778,
              "#fb9f3a"
             ],
             [
              0.8888888888888888,
              "#fdca26"
             ],
             [
              1,
              "#f0f921"
             ]
            ],
            "type": "histogram2d"
           }
          ],
          "histogram2dcontour": [
           {
            "colorbar": {
             "outlinewidth": 0,
             "ticks": ""
            },
            "colorscale": [
             [
              0,
              "#0d0887"
             ],
             [
              0.1111111111111111,
              "#46039f"
             ],
             [
              0.2222222222222222,
              "#7201a8"
             ],
             [
              0.3333333333333333,
              "#9c179e"
             ],
             [
              0.4444444444444444,
              "#bd3786"
             ],
             [
              0.5555555555555556,
              "#d8576b"
             ],
             [
              0.6666666666666666,
              "#ed7953"
             ],
             [
              0.7777777777777778,
              "#fb9f3a"
             ],
             [
              0.8888888888888888,
              "#fdca26"
             ],
             [
              1,
              "#f0f921"
             ]
            ],
            "type": "histogram2dcontour"
           }
          ],
          "mesh3d": [
           {
            "colorbar": {
             "outlinewidth": 0,
             "ticks": ""
            },
            "type": "mesh3d"
           }
          ],
          "parcoords": [
           {
            "line": {
             "colorbar": {
              "outlinewidth": 0,
              "ticks": ""
             }
            },
            "type": "parcoords"
           }
          ],
          "pie": [
           {
            "automargin": true,
            "type": "pie"
           }
          ],
          "scatter": [
           {
            "fillpattern": {
             "fillmode": "overlay",
             "size": 10,
             "solidity": 0.2
            },
            "type": "scatter"
           }
          ],
          "scatter3d": [
           {
            "line": {
             "colorbar": {
              "outlinewidth": 0,
              "ticks": ""
             }
            },
            "marker": {
             "colorbar": {
              "outlinewidth": 0,
              "ticks": ""
             }
            },
            "type": "scatter3d"
           }
          ],
          "scattercarpet": [
           {
            "marker": {
             "colorbar": {
              "outlinewidth": 0,
              "ticks": ""
             }
            },
            "type": "scattercarpet"
           }
          ],
          "scattergeo": [
           {
            "marker": {
             "colorbar": {
              "outlinewidth": 0,
              "ticks": ""
             }
            },
            "type": "scattergeo"
           }
          ],
          "scattergl": [
           {
            "marker": {
             "colorbar": {
              "outlinewidth": 0,
              "ticks": ""
             }
            },
            "type": "scattergl"
           }
          ],
          "scattermapbox": [
           {
            "marker": {
             "colorbar": {
              "outlinewidth": 0,
              "ticks": ""
             }
            },
            "type": "scattermapbox"
           }
          ],
          "scatterpolar": [
           {
            "marker": {
             "colorbar": {
              "outlinewidth": 0,
              "ticks": ""
             }
            },
            "type": "scatterpolar"
           }
          ],
          "scatterpolargl": [
           {
            "marker": {
             "colorbar": {
              "outlinewidth": 0,
              "ticks": ""
             }
            },
            "type": "scatterpolargl"
           }
          ],
          "scatterternary": [
           {
            "marker": {
             "colorbar": {
              "outlinewidth": 0,
              "ticks": ""
             }
            },
            "type": "scatterternary"
           }
          ],
          "surface": [
           {
            "colorbar": {
             "outlinewidth": 0,
             "ticks": ""
            },
            "colorscale": [
             [
              0,
              "#0d0887"
             ],
             [
              0.1111111111111111,
              "#46039f"
             ],
             [
              0.2222222222222222,
              "#7201a8"
             ],
             [
              0.3333333333333333,
              "#9c179e"
             ],
             [
              0.4444444444444444,
              "#bd3786"
             ],
             [
              0.5555555555555556,
              "#d8576b"
             ],
             [
              0.6666666666666666,
              "#ed7953"
             ],
             [
              0.7777777777777778,
              "#fb9f3a"
             ],
             [
              0.8888888888888888,
              "#fdca26"
             ],
             [
              1,
              "#f0f921"
             ]
            ],
            "type": "surface"
           }
          ],
          "table": [
           {
            "cells": {
             "fill": {
              "color": "#EBF0F8"
             },
             "line": {
              "color": "white"
             }
            },
            "header": {
             "fill": {
              "color": "#C8D4E3"
             },
             "line": {
              "color": "white"
             }
            },
            "type": "table"
           }
          ]
         },
         "layout": {
          "annotationdefaults": {
           "arrowcolor": "#2a3f5f",
           "arrowhead": 0,
           "arrowwidth": 1
          },
          "autotypenumbers": "strict",
          "coloraxis": {
           "colorbar": {
            "outlinewidth": 0,
            "ticks": ""
           }
          },
          "colorscale": {
           "diverging": [
            [
             0,
             "#8e0152"
            ],
            [
             0.1,
             "#c51b7d"
            ],
            [
             0.2,
             "#de77ae"
            ],
            [
             0.3,
             "#f1b6da"
            ],
            [
             0.4,
             "#fde0ef"
            ],
            [
             0.5,
             "#f7f7f7"
            ],
            [
             0.6,
             "#e6f5d0"
            ],
            [
             0.7,
             "#b8e186"
            ],
            [
             0.8,
             "#7fbc41"
            ],
            [
             0.9,
             "#4d9221"
            ],
            [
             1,
             "#276419"
            ]
           ],
           "sequential": [
            [
             0,
             "#0d0887"
            ],
            [
             0.1111111111111111,
             "#46039f"
            ],
            [
             0.2222222222222222,
             "#7201a8"
            ],
            [
             0.3333333333333333,
             "#9c179e"
            ],
            [
             0.4444444444444444,
             "#bd3786"
            ],
            [
             0.5555555555555556,
             "#d8576b"
            ],
            [
             0.6666666666666666,
             "#ed7953"
            ],
            [
             0.7777777777777778,
             "#fb9f3a"
            ],
            [
             0.8888888888888888,
             "#fdca26"
            ],
            [
             1,
             "#f0f921"
            ]
           ],
           "sequentialminus": [
            [
             0,
             "#0d0887"
            ],
            [
             0.1111111111111111,
             "#46039f"
            ],
            [
             0.2222222222222222,
             "#7201a8"
            ],
            [
             0.3333333333333333,
             "#9c179e"
            ],
            [
             0.4444444444444444,
             "#bd3786"
            ],
            [
             0.5555555555555556,
             "#d8576b"
            ],
            [
             0.6666666666666666,
             "#ed7953"
            ],
            [
             0.7777777777777778,
             "#fb9f3a"
            ],
            [
             0.8888888888888888,
             "#fdca26"
            ],
            [
             1,
             "#f0f921"
            ]
           ]
          },
          "colorway": [
           "#636efa",
           "#EF553B",
           "#00cc96",
           "#ab63fa",
           "#FFA15A",
           "#19d3f3",
           "#FF6692",
           "#B6E880",
           "#FF97FF",
           "#FECB52"
          ],
          "font": {
           "color": "#2a3f5f"
          },
          "geo": {
           "bgcolor": "white",
           "lakecolor": "white",
           "landcolor": "#E5ECF6",
           "showlakes": true,
           "showland": true,
           "subunitcolor": "white"
          },
          "hoverlabel": {
           "align": "left"
          },
          "hovermode": "closest",
          "mapbox": {
           "style": "light"
          },
          "paper_bgcolor": "white",
          "plot_bgcolor": "#E5ECF6",
          "polar": {
           "angularaxis": {
            "gridcolor": "white",
            "linecolor": "white",
            "ticks": ""
           },
           "bgcolor": "#E5ECF6",
           "radialaxis": {
            "gridcolor": "white",
            "linecolor": "white",
            "ticks": ""
           }
          },
          "scene": {
           "xaxis": {
            "backgroundcolor": "#E5ECF6",
            "gridcolor": "white",
            "gridwidth": 2,
            "linecolor": "white",
            "showbackground": true,
            "ticks": "",
            "zerolinecolor": "white"
           },
           "yaxis": {
            "backgroundcolor": "#E5ECF6",
            "gridcolor": "white",
            "gridwidth": 2,
            "linecolor": "white",
            "showbackground": true,
            "ticks": "",
            "zerolinecolor": "white"
           },
           "zaxis": {
            "backgroundcolor": "#E5ECF6",
            "gridcolor": "white",
            "gridwidth": 2,
            "linecolor": "white",
            "showbackground": true,
            "ticks": "",
            "zerolinecolor": "white"
           }
          },
          "shapedefaults": {
           "line": {
            "color": "#2a3f5f"
           }
          },
          "ternary": {
           "aaxis": {
            "gridcolor": "white",
            "linecolor": "white",
            "ticks": ""
           },
           "baxis": {
            "gridcolor": "white",
            "linecolor": "white",
            "ticks": ""
           },
           "bgcolor": "#E5ECF6",
           "caxis": {
            "gridcolor": "white",
            "linecolor": "white",
            "ticks": ""
           }
          },
          "title": {
           "x": 0.05
          },
          "xaxis": {
           "automargin": true,
           "gridcolor": "white",
           "linecolor": "white",
           "ticks": "",
           "title": {
            "standoff": 15
           },
           "zerolinecolor": "white",
           "zerolinewidth": 2
          },
          "yaxis": {
           "automargin": true,
           "gridcolor": "white",
           "linecolor": "white",
           "ticks": "",
           "title": {
            "standoff": 15
           },
           "zerolinecolor": "white",
           "zerolinewidth": 2
          }
         }
        },
        "title": {
         "text": "Netflix Content Distribution by Country"
        }
       }
      },
      "text/html": [
       "<div>                            <div id=\"50f8c874-3a48-4680-b112-5f28715fec5f\" class=\"plotly-graph-div\" style=\"height:525px; width:100%;\"></div>            <script type=\"text/javascript\">                require([\"plotly\"], function(Plotly) {                    window.PLOTLYENV=window.PLOTLYENV || {};                                    if (document.getElementById(\"50f8c874-3a48-4680-b112-5f28715fec5f\")) {                    Plotly.newPlot(                        \"50f8c874-3a48-4680-b112-5f28715fec5f\",                        [{\"autocolorscale\":false,\"colorbar\":{\"title\":{\"text\":\"Content Count\"}},\"colorscale\":[[0,\"rgb(5, 10, 172)\"],[0.65,\"rgb(40, 60, 190)\"],[0.75,\"rgb(70, 100, 245)\"],[0.8,\"rgb(90, 120, 245)\"],[0.9,\"rgb(106, 137, 247)\"],[1,\"rgb(220, 220, 220)\"]],\"locations\":[\"KOR\",\"IND\",\"FRA\",\"SEN\",\"BEL\",\"CAN\",\"GBR\",\"NGA\",\"ZAF\",\"USA\",\"ESP\",\"COL\",\"MEX\",\"JPN\",\"BRA\",\"DEU\",\"NOR\",\"POL\",\"CHN\",\"ARE\",\"SGP\",\"AUS\",\"ITA\",\"NZL\",\"ARG\",\"TWN\",\"FIN\",\"CHL\",\"PER\",\"IRL\",\"THA\",\"TUR\",\"HKG\",\"LIE\",\"ISR\",\"CHE\",\"RUS\",\"MYS\",\"LUX\",\"EGY\",\"AUT\",\"NLD\",\"IDN\",\"CZE\",\"DNK\",\"MLT\",\"VNM\",\"PAK\",\"PRT\",\"SWE\",\"PHL\",\"LBN\",\"BGR\",\"DOM\",\"JOR\",\"URY\",\"ROU\",\"CYP\",\"MAR\",\"GHA\",\"IRN\",\"KHM\",\"IRQ\",\"MWI\",\"PRY\",\"BGD\",\"NPL\",\"ISL\",\"HRV\",\"GRC\",\"SRB\",\"CYM\",\"UGA\",\"UKR\",\"ALB\",\"SAU\",\"SYR\",\"KWT\",\"QAT\",\"VEN\",\"HUN\",\"GTM\",\"SOM\",\"KEN\",\"SDN\",\"SVN\",\"NAM\",\"ZWE\",\"GEO\",\"NIC\",\"ARM\",\"MNG\",\"PAN\",\"LVA\",\"SVK\",\"WSM\",\"BWA\",\"LKA\",\"AFG\",\"AZE\",\"CUB\",\"KAZ\",\"MNE\",\"BMU\",\"ECU\"],\"marker\":{\"line\":{\"color\":\"gray\",\"width\":0.5}},\"reversescale\":true,\"z\":[155,753,255,2,63,300,558,26,26,2420,173,36,122,216,63,135,20,24,117,21,29,121,63,21,66,73,8,23,9,33,56,86,96,1,25,15,21,20,7,53,9,36,50,15,37,2,4,23,4,32,46,9,7,2,6,8,5,1,6,1,4,3,2,1,1,2,2,6,4,8,4,1,1,3,1,2,1,1,6,3,4,1,1,1,1,3,1,2,2,1,1,1,1,1,1,1,1,1,1,1,1,1,1,1,1],\"type\":\"choropleth\"}],                        {\"geo\":{\"projection\":{\"type\":\"equirectangular\"},\"showcoastlines\":true,\"showframe\":false},\"title\":{\"text\":\"Netflix Content Distribution by Country\"},\"template\":{\"data\":{\"histogram2dcontour\":[{\"type\":\"histogram2dcontour\",\"colorbar\":{\"outlinewidth\":0,\"ticks\":\"\"},\"colorscale\":[[0.0,\"#0d0887\"],[0.1111111111111111,\"#46039f\"],[0.2222222222222222,\"#7201a8\"],[0.3333333333333333,\"#9c179e\"],[0.4444444444444444,\"#bd3786\"],[0.5555555555555556,\"#d8576b\"],[0.6666666666666666,\"#ed7953\"],[0.7777777777777778,\"#fb9f3a\"],[0.8888888888888888,\"#fdca26\"],[1.0,\"#f0f921\"]]}],\"choropleth\":[{\"type\":\"choropleth\",\"colorbar\":{\"outlinewidth\":0,\"ticks\":\"\"}}],\"histogram2d\":[{\"type\":\"histogram2d\",\"colorbar\":{\"outlinewidth\":0,\"ticks\":\"\"},\"colorscale\":[[0.0,\"#0d0887\"],[0.1111111111111111,\"#46039f\"],[0.2222222222222222,\"#7201a8\"],[0.3333333333333333,\"#9c179e\"],[0.4444444444444444,\"#bd3786\"],[0.5555555555555556,\"#d8576b\"],[0.6666666666666666,\"#ed7953\"],[0.7777777777777778,\"#fb9f3a\"],[0.8888888888888888,\"#fdca26\"],[1.0,\"#f0f921\"]]}],\"heatmap\":[{\"type\":\"heatmap\",\"colorbar\":{\"outlinewidth\":0,\"ticks\":\"\"},\"colorscale\":[[0.0,\"#0d0887\"],[0.1111111111111111,\"#46039f\"],[0.2222222222222222,\"#7201a8\"],[0.3333333333333333,\"#9c179e\"],[0.4444444444444444,\"#bd3786\"],[0.5555555555555556,\"#d8576b\"],[0.6666666666666666,\"#ed7953\"],[0.7777777777777778,\"#fb9f3a\"],[0.8888888888888888,\"#fdca26\"],[1.0,\"#f0f921\"]]}],\"heatmapgl\":[{\"type\":\"heatmapgl\",\"colorbar\":{\"outlinewidth\":0,\"ticks\":\"\"},\"colorscale\":[[0.0,\"#0d0887\"],[0.1111111111111111,\"#46039f\"],[0.2222222222222222,\"#7201a8\"],[0.3333333333333333,\"#9c179e\"],[0.4444444444444444,\"#bd3786\"],[0.5555555555555556,\"#d8576b\"],[0.6666666666666666,\"#ed7953\"],[0.7777777777777778,\"#fb9f3a\"],[0.8888888888888888,\"#fdca26\"],[1.0,\"#f0f921\"]]}],\"contourcarpet\":[{\"type\":\"contourcarpet\",\"colorbar\":{\"outlinewidth\":0,\"ticks\":\"\"}}],\"contour\":[{\"type\":\"contour\",\"colorbar\":{\"outlinewidth\":0,\"ticks\":\"\"},\"colorscale\":[[0.0,\"#0d0887\"],[0.1111111111111111,\"#46039f\"],[0.2222222222222222,\"#7201a8\"],[0.3333333333333333,\"#9c179e\"],[0.4444444444444444,\"#bd3786\"],[0.5555555555555556,\"#d8576b\"],[0.6666666666666666,\"#ed7953\"],[0.7777777777777778,\"#fb9f3a\"],[0.8888888888888888,\"#fdca26\"],[1.0,\"#f0f921\"]]}],\"surface\":[{\"type\":\"surface\",\"colorbar\":{\"outlinewidth\":0,\"ticks\":\"\"},\"colorscale\":[[0.0,\"#0d0887\"],[0.1111111111111111,\"#46039f\"],[0.2222222222222222,\"#7201a8\"],[0.3333333333333333,\"#9c179e\"],[0.4444444444444444,\"#bd3786\"],[0.5555555555555556,\"#d8576b\"],[0.6666666666666666,\"#ed7953\"],[0.7777777777777778,\"#fb9f3a\"],[0.8888888888888888,\"#fdca26\"],[1.0,\"#f0f921\"]]}],\"mesh3d\":[{\"type\":\"mesh3d\",\"colorbar\":{\"outlinewidth\":0,\"ticks\":\"\"}}],\"scatter\":[{\"fillpattern\":{\"fillmode\":\"overlay\",\"size\":10,\"solidity\":0.2},\"type\":\"scatter\"}],\"parcoords\":[{\"type\":\"parcoords\",\"line\":{\"colorbar\":{\"outlinewidth\":0,\"ticks\":\"\"}}}],\"scatterpolargl\":[{\"type\":\"scatterpolargl\",\"marker\":{\"colorbar\":{\"outlinewidth\":0,\"ticks\":\"\"}}}],\"bar\":[{\"error_x\":{\"color\":\"#2a3f5f\"},\"error_y\":{\"color\":\"#2a3f5f\"},\"marker\":{\"line\":{\"color\":\"#E5ECF6\",\"width\":0.5},\"pattern\":{\"fillmode\":\"overlay\",\"size\":10,\"solidity\":0.2}},\"type\":\"bar\"}],\"scattergeo\":[{\"type\":\"scattergeo\",\"marker\":{\"colorbar\":{\"outlinewidth\":0,\"ticks\":\"\"}}}],\"scatterpolar\":[{\"type\":\"scatterpolar\",\"marker\":{\"colorbar\":{\"outlinewidth\":0,\"ticks\":\"\"}}}],\"histogram\":[{\"marker\":{\"pattern\":{\"fillmode\":\"overlay\",\"size\":10,\"solidity\":0.2}},\"type\":\"histogram\"}],\"scattergl\":[{\"type\":\"scattergl\",\"marker\":{\"colorbar\":{\"outlinewidth\":0,\"ticks\":\"\"}}}],\"scatter3d\":[{\"type\":\"scatter3d\",\"line\":{\"colorbar\":{\"outlinewidth\":0,\"ticks\":\"\"}},\"marker\":{\"colorbar\":{\"outlinewidth\":0,\"ticks\":\"\"}}}],\"scattermapbox\":[{\"type\":\"scattermapbox\",\"marker\":{\"colorbar\":{\"outlinewidth\":0,\"ticks\":\"\"}}}],\"scatterternary\":[{\"type\":\"scatterternary\",\"marker\":{\"colorbar\":{\"outlinewidth\":0,\"ticks\":\"\"}}}],\"scattercarpet\":[{\"type\":\"scattercarpet\",\"marker\":{\"colorbar\":{\"outlinewidth\":0,\"ticks\":\"\"}}}],\"carpet\":[{\"aaxis\":{\"endlinecolor\":\"#2a3f5f\",\"gridcolor\":\"white\",\"linecolor\":\"white\",\"minorgridcolor\":\"white\",\"startlinecolor\":\"#2a3f5f\"},\"baxis\":{\"endlinecolor\":\"#2a3f5f\",\"gridcolor\":\"white\",\"linecolor\":\"white\",\"minorgridcolor\":\"white\",\"startlinecolor\":\"#2a3f5f\"},\"type\":\"carpet\"}],\"table\":[{\"cells\":{\"fill\":{\"color\":\"#EBF0F8\"},\"line\":{\"color\":\"white\"}},\"header\":{\"fill\":{\"color\":\"#C8D4E3\"},\"line\":{\"color\":\"white\"}},\"type\":\"table\"}],\"barpolar\":[{\"marker\":{\"line\":{\"color\":\"#E5ECF6\",\"width\":0.5},\"pattern\":{\"fillmode\":\"overlay\",\"size\":10,\"solidity\":0.2}},\"type\":\"barpolar\"}],\"pie\":[{\"automargin\":true,\"type\":\"pie\"}]},\"layout\":{\"autotypenumbers\":\"strict\",\"colorway\":[\"#636efa\",\"#EF553B\",\"#00cc96\",\"#ab63fa\",\"#FFA15A\",\"#19d3f3\",\"#FF6692\",\"#B6E880\",\"#FF97FF\",\"#FECB52\"],\"font\":{\"color\":\"#2a3f5f\"},\"hovermode\":\"closest\",\"hoverlabel\":{\"align\":\"left\"},\"paper_bgcolor\":\"white\",\"plot_bgcolor\":\"#E5ECF6\",\"polar\":{\"bgcolor\":\"#E5ECF6\",\"angularaxis\":{\"gridcolor\":\"white\",\"linecolor\":\"white\",\"ticks\":\"\"},\"radialaxis\":{\"gridcolor\":\"white\",\"linecolor\":\"white\",\"ticks\":\"\"}},\"ternary\":{\"bgcolor\":\"#E5ECF6\",\"aaxis\":{\"gridcolor\":\"white\",\"linecolor\":\"white\",\"ticks\":\"\"},\"baxis\":{\"gridcolor\":\"white\",\"linecolor\":\"white\",\"ticks\":\"\"},\"caxis\":{\"gridcolor\":\"white\",\"linecolor\":\"white\",\"ticks\":\"\"}},\"coloraxis\":{\"colorbar\":{\"outlinewidth\":0,\"ticks\":\"\"}},\"colorscale\":{\"sequential\":[[0.0,\"#0d0887\"],[0.1111111111111111,\"#46039f\"],[0.2222222222222222,\"#7201a8\"],[0.3333333333333333,\"#9c179e\"],[0.4444444444444444,\"#bd3786\"],[0.5555555555555556,\"#d8576b\"],[0.6666666666666666,\"#ed7953\"],[0.7777777777777778,\"#fb9f3a\"],[0.8888888888888888,\"#fdca26\"],[1.0,\"#f0f921\"]],\"sequentialminus\":[[0.0,\"#0d0887\"],[0.1111111111111111,\"#46039f\"],[0.2222222222222222,\"#7201a8\"],[0.3333333333333333,\"#9c179e\"],[0.4444444444444444,\"#bd3786\"],[0.5555555555555556,\"#d8576b\"],[0.6666666666666666,\"#ed7953\"],[0.7777777777777778,\"#fb9f3a\"],[0.8888888888888888,\"#fdca26\"],[1.0,\"#f0f921\"]],\"diverging\":[[0,\"#8e0152\"],[0.1,\"#c51b7d\"],[0.2,\"#de77ae\"],[0.3,\"#f1b6da\"],[0.4,\"#fde0ef\"],[0.5,\"#f7f7f7\"],[0.6,\"#e6f5d0\"],[0.7,\"#b8e186\"],[0.8,\"#7fbc41\"],[0.9,\"#4d9221\"],[1,\"#276419\"]]},\"xaxis\":{\"gridcolor\":\"white\",\"linecolor\":\"white\",\"ticks\":\"\",\"title\":{\"standoff\":15},\"zerolinecolor\":\"white\",\"automargin\":true,\"zerolinewidth\":2},\"yaxis\":{\"gridcolor\":\"white\",\"linecolor\":\"white\",\"ticks\":\"\",\"title\":{\"standoff\":15},\"zerolinecolor\":\"white\",\"automargin\":true,\"zerolinewidth\":2},\"scene\":{\"xaxis\":{\"backgroundcolor\":\"#E5ECF6\",\"gridcolor\":\"white\",\"linecolor\":\"white\",\"showbackground\":true,\"ticks\":\"\",\"zerolinecolor\":\"white\",\"gridwidth\":2},\"yaxis\":{\"backgroundcolor\":\"#E5ECF6\",\"gridcolor\":\"white\",\"linecolor\":\"white\",\"showbackground\":true,\"ticks\":\"\",\"zerolinecolor\":\"white\",\"gridwidth\":2},\"zaxis\":{\"backgroundcolor\":\"#E5ECF6\",\"gridcolor\":\"white\",\"linecolor\":\"white\",\"showbackground\":true,\"ticks\":\"\",\"zerolinecolor\":\"white\",\"gridwidth\":2}},\"shapedefaults\":{\"line\":{\"color\":\"#2a3f5f\"}},\"annotationdefaults\":{\"arrowcolor\":\"#2a3f5f\",\"arrowhead\":0,\"arrowwidth\":1},\"geo\":{\"bgcolor\":\"white\",\"landcolor\":\"#E5ECF6\",\"subunitcolor\":\"white\",\"showland\":true,\"showlakes\":true,\"lakecolor\":\"white\"},\"title\":{\"x\":0.05},\"mapbox\":{\"style\":\"light\"}}}},                        {\"responsive\": true}                    ).then(function(){\n",
       "                            \n",
       "var gd = document.getElementById('50f8c874-3a48-4680-b112-5f28715fec5f');\n",
       "var x = new MutationObserver(function (mutations, observer) {{\n",
       "        var display = window.getComputedStyle(gd).display;\n",
       "        if (!display || display === 'none') {{\n",
       "            console.log([gd, 'removed!']);\n",
       "            Plotly.purge(gd);\n",
       "            observer.disconnect();\n",
       "        }}\n",
       "}});\n",
       "\n",
       "// Listen for the removal of the full notebook cells\n",
       "var notebookContainer = gd.closest('#notebook-container');\n",
       "if (notebookContainer) {{\n",
       "    x.observe(notebookContainer, {childList: true});\n",
       "}}\n",
       "\n",
       "// Listen for the clearing of the current output cell\n",
       "var outputEl = gd.closest('.output');\n",
       "if (outputEl) {{\n",
       "    x.observe(outputEl, {childList: true});\n",
       "}}\n",
       "\n",
       "                        })                };                });            </script>        </div>"
      ]
     },
     "metadata": {},
     "output_type": "display_data"
    },
    {
     "data": {
      "application/vnd.plotly.v1+json": {
       "config": {
        "plotlyServerURL": "https://plot.ly"
       },
       "data": [
        {
         "autobinx": false,
         "histnorm": "probability density",
         "legendgroup": "Movie Duration",
         "marker": {
          "color": "#6ad49b"
         },
         "name": "Movie Duration",
         "opacity": 0.7,
         "type": "histogram",
         "x": [
          67,
          135,
          106,
          107,
          81,
          107,
          118,
          110,
          104,
          93,
          94,
          124,
          137,
          134,
          69,
          106,
          209,
          86,
          24,
          46,
          117,
          87,
          92,
          114,
          121,
          94,
          109,
          110,
          96,
          97,
          121,
          56,
          119,
          138,
          93,
          111,
          88,
          81,
          73,
          86,
          116,
          85,
          134,
          109,
          102,
          101,
          88,
          101,
          28,
          103,
          131,
          166,
          105,
          82,
          107,
          84,
          103,
          112,
          89,
          121,
          87,
          136,
          118,
          129,
          94,
          88,
          158,
          78,
          100,
          93,
          84,
          107,
          101,
          107,
          74,
          60,
          143,
          105,
          110,
          98,
          100,
          74,
          100,
          46,
          88,
          54,
          59,
          100,
          95,
          88,
          100,
          93,
          94,
          121,
          78,
          116,
          87,
          61,
          98,
          123,
          85,
          92,
          87,
          92,
          112,
          97,
          78,
          103,
          107,
          44,
          68,
          68,
          99,
          69,
          81,
          69,
          68,
          68,
          91,
          86,
          40,
          102,
          119,
          94,
          119,
          90,
          105,
          89,
          108,
          108,
          87,
          112,
          101,
          89,
          91,
          200,
          119,
          90,
          103,
          110,
          133,
          124,
          118,
          40,
          98,
          85,
          115,
          137,
          98,
          110,
          55,
          86,
          92,
          116,
          94,
          134,
          102,
          98,
          100,
          105,
          116,
          118,
          153,
          109,
          99,
          96,
          91,
          185,
          92,
          82,
          127,
          98,
          111,
          120,
          137,
          121,
          89,
          91,
          135,
          98,
          139,
          95,
          98,
          91,
          122,
          100,
          103,
          129,
          133,
          36,
          141,
          105,
          107,
          136,
          138,
          129,
          97,
          141,
          99,
          89,
          24,
          90,
          98,
          89,
          88,
          65,
          126,
          63,
          14,
          28,
          20,
          88,
          98,
          94,
          106,
          118,
          127,
          61,
          86,
          94,
          82,
          92,
          95,
          52,
          108,
          91,
          96,
          67,
          83,
          94,
          97,
          91,
          66,
          98,
          92,
          118,
          87,
          121,
          98,
          99,
          95,
          107,
          100,
          101,
          86,
          96,
          99,
          112,
          127,
          140,
          22,
          78,
          63,
          97,
          86,
          93,
          73,
          62,
          96,
          104,
          123,
          100,
          99,
          151,
          102,
          154,
          106,
          87,
          70,
          46,
          111,
          101,
          109,
          100,
          110,
          102,
          102,
          24,
          96,
          98,
          76,
          93,
          77,
          103,
          45,
          119,
          147,
          123,
          99,
          98,
          106,
          112,
          85,
          91,
          88,
          101,
          90,
          96,
          99,
          101,
          111,
          96,
          86,
          97,
          121,
          59,
          58,
          90,
          88,
          64,
          104,
          122,
          125,
          92,
          129,
          79,
          121,
          106,
          124,
          87,
          125,
          154,
          86,
          111,
          97,
          66,
          121,
          91,
          91,
          82,
          117,
          81,
          84,
          81,
          107,
          94,
          163,
          90,
          96,
          91,
          93,
          64,
          45,
          89,
          90,
          102,
          116,
          42,
          133,
          108,
          38,
          97,
          89,
          146,
          146,
          130,
          106,
          58,
          152,
          87,
          121,
          182,
          106,
          102,
          98,
          83,
          82,
          111,
          24,
          171,
          84,
          112,
          80,
          88,
          124,
          104,
          76,
          91,
          64,
          94,
          86,
          157,
          83,
          95,
          106,
          87,
          90,
          65,
          105,
          107,
          103,
          88,
          96,
          67,
          140,
          96,
          93,
          90,
          125,
          142,
          133,
          100,
          10,
          128,
          88,
          108,
          93,
          96,
          102,
          108,
          81,
          102,
          93,
          87,
          94,
          100,
          88,
          109,
          138,
          149,
          82,
          86,
          112,
          98,
          113,
          47,
          106,
          113,
          119,
          109,
          98,
          88,
          116,
          106,
          95,
          95,
          113,
          84,
          91,
          102,
          100,
          81,
          98,
          110,
          106,
          85,
          66,
          92,
          92,
          91,
          133,
          135,
          120,
          118,
          123,
          110,
          98,
          98,
          98,
          104,
          167,
          63,
          52,
          95,
          72,
          117,
          100,
          24,
          86,
          112,
          69,
          119,
          123,
          93,
          109,
          97,
          66,
          107,
          46,
          96,
          91,
          80,
          103,
          117,
          76,
          67,
          114,
          67,
          77,
          84,
          105,
          63,
          94,
          99,
          59,
          102,
          81,
          145,
          84,
          102,
          101,
          116,
          164,
          87,
          90,
          106,
          116,
          134,
          133,
          118,
          120,
          154,
          128,
          115,
          177,
          105,
          112,
          120,
          119,
          100,
          92,
          104,
          97,
          88,
          128,
          130,
          108,
          98,
          89,
          90,
          130,
          83,
          99,
          59,
          107,
          99,
          94,
          111,
          100,
          77,
          57,
          107,
          93,
          114,
          103,
          153,
          94,
          149,
          111,
          58,
          56,
          110,
          98,
          106,
          102,
          93,
          81,
          77,
          98,
          97,
          136,
          161,
          32,
          86,
          107,
          98,
          83,
          77,
          133,
          105,
          79,
          106,
          90,
          87,
          95,
          91,
          67,
          106,
          65,
          131,
          105,
          119,
          105,
          40,
          107,
          112,
          97,
          106,
          66,
          106,
          110,
          102,
          105,
          112,
          96,
          97,
          53,
          113,
          53,
          54,
          53,
          54,
          113,
          53,
          53,
          53,
          54,
          54,
          52,
          54,
          54,
          53,
          53,
          53,
          113,
          53,
          91,
          126,
          99,
          134,
          26,
          117,
          89,
          94,
          101,
          94,
          99,
          114,
          48,
          78,
          118,
          119,
          104,
          98,
          93,
          61,
          90,
          122,
          113,
          141,
          81,
          176,
          119,
          73,
          87,
          88,
          15,
          55,
          141,
          122,
          117,
          95,
          109,
          63,
          73,
          107,
          87,
          99,
          96,
          113,
          69,
          99,
          87,
          85,
          112,
          116,
          99,
          101,
          110,
          116,
          96,
          83,
          110,
          86,
          110,
          122,
          99,
          59,
          65,
          126,
          97,
          68,
          65,
          63,
          89,
          88,
          91,
          53,
          40,
          113,
          117,
          90,
          95,
          98,
          97,
          102,
          61,
          93,
          117,
          108,
          126,
          93,
          60,
          142,
          113,
          90,
          120,
          107,
          74,
          119,
          114,
          125,
          71,
          110,
          127,
          118,
          90,
          94,
          90,
          98,
          98,
          99,
          133,
          94,
          116,
          93,
          103,
          84,
          90,
          107,
          89,
          90,
          96,
          130,
          90,
          86,
          79,
          93,
          12,
          62,
          3,
          94,
          93,
          114,
          110,
          125,
          119,
          109,
          100,
          98,
          98,
          128,
          83,
          105,
          109,
          83,
          101,
          78,
          110,
          116,
          141,
          120,
          97,
          109,
          105,
          102,
          127,
          101,
          135,
          124,
          103,
          105,
          98,
          93,
          113,
          106,
          99,
          123,
          91,
          84,
          99,
          93,
          122,
          38,
          101,
          99,
          91,
          30,
          30,
          137,
          111,
          66,
          159,
          125,
          95,
          95,
          70,
          87,
          88,
          96,
          90,
          84,
          53,
          87,
          90,
          96,
          150,
          105,
          112,
          119,
          142,
          94,
          97,
          137,
          100,
          125,
          128,
          108,
          136,
          165,
          124,
          133,
          116,
          102,
          87,
          61,
          94,
          70,
          92,
          88,
          100,
          111,
          128,
          63,
          63,
          62,
          62,
          98,
          104,
          110,
          87,
          126,
          103,
          111,
          100,
          112,
          96,
          71,
          86,
          99,
          125,
          147,
          88,
          40,
          79,
          110,
          101,
          128,
          110,
          79,
          87,
          133,
          116,
          119,
          53,
          82,
          99,
          87,
          90,
          124,
          53,
          88,
          54,
          104,
          92,
          126,
          140,
          87,
          93,
          80,
          92,
          64,
          72,
          148,
          110,
          119,
          163,
          125,
          87,
          96,
          91,
          122,
          125,
          49,
          95,
          99,
          98,
          98,
          90,
          97,
          97,
          86,
          114,
          96,
          99,
          88,
          66,
          70,
          168,
          98,
          89,
          100,
          90,
          77,
          100,
          102,
          98,
          92,
          116,
          111,
          91,
          99,
          99,
          99,
          98,
          73,
          113,
          153,
          81,
          54,
          138,
          93,
          123,
          96,
          101,
          59,
          53,
          102,
          141,
          95,
          111,
          131,
          116,
          119,
          146,
          101,
          82,
          90,
          87,
          95,
          94,
          129,
          94,
          103,
          133,
          135,
          61,
          85,
          91,
          105,
          59,
          91,
          94,
          89,
          131,
          136,
          170,
          91,
          128,
          88,
          97,
          110,
          170,
          92,
          94,
          92,
          113,
          59,
          126,
          86,
          120,
          76,
          60,
          118,
          88,
          55,
          110,
          113,
          110,
          94,
          54,
          53,
          103,
          126,
          89,
          124,
          128,
          88,
          83,
          96,
          118,
          91,
          91,
          53,
          103,
          108,
          88,
          81,
          124,
          102,
          98,
          132,
          87,
          89,
          109,
          75,
          126,
          61,
          126,
          108,
          89,
          100,
          129,
          71,
          108,
          101,
          60,
          105,
          115,
          118,
          130,
          101,
          115,
          99,
          69,
          97,
          61,
          87,
          97,
          101,
          92,
          123,
          108,
          104,
          98,
          65,
          88,
          106,
          69,
          97,
          80,
          85,
          99,
          98,
          115,
          138,
          90,
          86,
          90,
          117,
          132,
          127,
          125,
          128,
          126,
          58,
          87,
          98,
          116,
          90,
          111,
          100,
          123,
          106,
          100,
          104,
          99,
          105,
          128,
          91,
          127,
          100,
          131,
          104,
          94,
          124,
          106,
          108,
          104,
          103,
          100,
          79,
          92,
          116,
          83,
          118,
          162,
          162,
          126,
          109,
          109,
          89,
          111,
          89,
          97,
          108,
          103,
          88,
          120,
          90,
          99,
          83,
          107,
          109,
          105,
          87,
          93,
          90,
          89,
          131,
          114,
          92,
          75,
          107,
          97,
          90,
          98,
          100,
          103,
          66,
          106,
          125,
          77,
          130,
          119,
          110,
          120,
          102,
          125,
          103,
          127,
          121,
          101,
          113,
          118,
          132,
          106,
          116,
          117,
          90,
          61,
          90,
          107,
          80,
          58,
          58,
          56,
          110,
          70,
          117,
          89,
          84,
          131,
          91,
          103,
          100,
          139,
          103,
          42,
          79,
          90,
          88,
          96,
          114,
          99,
          89,
          103,
          127,
          113,
          111,
          112,
          96,
          103,
          104,
          102,
          86,
          97,
          111,
          132,
          89,
          102,
          120,
          137,
          82,
          85,
          115,
          107,
          130,
          57,
          62,
          112,
          26,
          102,
          93,
          111,
          93,
          91,
          118,
          63,
          74,
          136,
          90,
          132,
          101,
          59,
          84,
          91,
          93,
          91,
          84,
          101,
          110,
          82,
          100,
          52,
          51,
          127,
          86,
          107,
          22,
          22,
          22,
          44,
          91,
          99,
          105,
          105,
          88,
          128,
          24,
          113,
          52,
          50,
          49,
          92,
          110,
          106,
          120,
          83,
          123,
          56,
          141,
          97,
          118,
          95,
          127,
          118,
          74,
          91,
          137,
          86,
          106,
          125,
          114,
          143,
          121,
          119,
          108,
          150,
          88,
          105,
          119,
          97,
          96,
          91,
          49,
          95,
          98,
          96,
          83,
          96,
          90,
          97,
          99,
          94,
          90,
          88,
          105,
          118,
          86,
          127,
          88,
          125,
          116,
          102,
          65,
          88,
          106,
          117,
          91,
          93,
          136,
          116,
          121,
          89,
          104,
          65,
          91,
          99,
          91,
          117,
          135,
          135,
          91,
          95,
          75,
          95,
          82,
          124,
          106,
          86,
          115,
          99,
          101,
          142,
          102,
          122,
          95,
          120,
          96,
          92,
          110,
          133,
          143,
          111,
          144,
          121,
          99,
          93,
          100,
          102,
          123,
          127,
          116,
          119,
          105,
          134,
          90,
          93,
          93,
          108,
          115,
          119,
          61,
          109,
          97,
          154,
          120,
          148,
          121,
          95,
          102,
          87,
          114,
          48,
          124,
          101,
          28,
          34,
          61,
          56,
          81,
          68,
          58,
          100,
          50,
          49,
          71,
          29,
          108,
          125,
          72,
          100,
          30,
          30,
          146,
          127,
          46,
          57,
          87,
          90,
          86,
          122,
          97,
          312,
          109,
          122,
          116,
          73,
          96,
          91,
          110,
          115,
          150,
          90,
          89,
          93,
          105,
          105,
          124,
          105,
          44,
          91,
          95,
          78,
          22,
          95,
          82,
          89,
          90,
          94,
          85,
          29,
          96,
          101,
          137,
          27,
          112,
          112,
          107,
          153,
          123,
          90,
          84,
          78,
          79,
          73,
          83,
          83,
          87,
          145,
          135,
          109,
          35,
          86,
          68,
          107,
          110,
          86,
          85,
          75,
          90,
          105,
          124,
          110,
          96,
          110,
          58,
          105,
          59,
          28,
          98,
          111,
          116,
          106,
          63,
          109,
          88,
          155,
          119,
          122,
          87,
          73,
          98,
          130,
          99,
          105,
          110,
          81,
          115,
          113,
          146,
          118,
          122,
          109,
          68,
          117,
          23,
          95,
          124,
          90,
          96,
          96,
          123,
          85,
          93,
          30,
          82,
          95,
          127,
          120,
          114,
          119,
          101,
          96,
          120,
          139,
          95,
          44,
          104,
          110,
          91,
          91,
          114,
          91,
          64,
          89,
          95,
          86,
          94,
          133,
          102,
          122,
          86,
          111,
          132,
          111,
          136,
          121,
          76,
          92,
          119,
          45,
          75,
          71,
          81,
          115,
          128,
          92,
          95,
          114,
          99,
          132,
          106,
          122,
          79,
          78,
          111,
          112,
          107,
          102,
          81,
          129,
          90,
          86,
          116,
          59,
          95,
          122,
          98,
          103,
          117,
          95,
          146,
          136,
          91,
          123,
          144,
          103,
          11,
          22,
          126,
          121,
          91,
          158,
          157,
          124,
          106,
          92,
          80,
          94,
          126,
          129,
          133,
          109,
          143,
          140,
          150,
          128,
          120,
          154,
          45,
          132,
          126,
          95,
          91,
          135,
          139,
          131,
          118,
          129,
          131,
          146,
          123,
          141,
          93,
          91,
          58,
          91,
          112,
          119,
          106,
          131,
          95,
          104,
          126,
          118,
          116,
          122,
          105,
          90,
          87,
          102,
          89,
          94,
          100,
          126,
          89,
          90,
          87,
          97,
          115,
          93,
          138,
          74,
          102,
          103,
          119,
          104,
          161,
          51,
          50,
          86,
          140,
          122,
          23,
          95,
          205,
          123,
          190,
          121,
          131,
          80,
          63,
          150,
          159,
          131,
          130,
          99,
          86,
          106,
          57,
          97,
          118,
          98,
          144,
          110,
          96,
          57,
          98,
          119,
          92,
          94,
          151,
          74,
          89,
          124,
          25,
          84,
          121,
          85,
          25,
          121,
          88,
          111,
          81,
          64,
          55,
          137,
          56,
          58,
          80,
          94,
          94,
          72,
          60,
          140,
          91,
          97,
          146,
          118,
          133,
          106,
          128,
          137,
          145,
          141,
          106,
          61,
          135,
          137,
          129,
          99,
          155,
          142,
          214,
          137,
          128,
          89,
          67,
          151,
          121,
          101,
          145,
          147,
          90,
          129,
          129,
          136,
          117,
          74,
          150,
          134,
          100,
          44,
          44,
          111,
          147,
          115,
          121,
          103,
          73,
          129,
          102,
          122,
          155,
          139,
          131,
          127,
          156,
          91,
          132,
          130,
          137,
          132,
          156,
          132,
          119,
          140,
          101,
          126,
          107,
          112,
          111,
          126,
          130,
          126,
          24,
          127,
          108,
          163,
          117,
          95,
          103,
          110,
          111,
          91,
          101,
          124,
          63,
          102,
          103,
          112,
          103,
          92,
          93,
          112,
          113,
          92,
          153,
          111,
          141,
          128,
          52,
          117,
          100,
          112,
          110,
          98,
          107,
          109,
          100,
          114,
          98,
          100,
          100,
          123,
          86,
          77,
          112,
          106,
          106,
          102,
          86,
          146,
          122,
          126,
          116,
          135,
          125,
          96,
          130,
          135,
          88,
          96,
          100,
          122,
          110,
          104,
          96,
          109,
          95,
          110,
          110,
          79,
          101,
          112,
          94,
          94,
          86,
          84,
          95,
          93,
          113,
          111,
          68,
          135,
          95,
          93,
          101,
          98,
          90,
          112,
          141,
          120,
          140,
          87,
          99,
          86,
          104,
          100,
          50,
          124,
          57,
          31,
          90,
          96,
          196,
          93,
          110,
          162,
          139,
          130,
          145,
          88,
          91,
          91,
          102,
          95,
          33,
          119,
          114,
          100,
          54,
          150,
          108,
          90,
          101,
          104,
          88,
          93,
          79,
          92,
          90,
          86,
          90,
          103,
          86,
          108,
          97,
          92,
          101,
          83,
          85,
          85,
          106,
          86,
          131,
          105,
          134,
          85,
          203,
          120,
          91,
          124,
          95,
          12,
          104,
          92,
          143,
          127,
          100,
          74,
          104,
          148,
          127,
          96,
          82,
          158,
          124,
          163,
          74,
          121,
          154,
          127,
          128,
          98,
          124,
          109,
          168,
          89,
          162,
          159,
          137,
          133,
          125,
          127,
          131,
          90,
          89,
          88,
          125,
          88,
          94,
          83,
          89,
          118,
          109,
          87,
          105,
          79,
          133,
          147,
          92,
          103,
          119,
          80,
          110,
          128,
          88,
          86,
          70,
          66,
          72,
          122,
          117,
          98,
          126,
          115,
          86,
          108,
          94,
          151,
          88,
          97,
          92,
          102,
          93,
          126,
          82,
          86,
          105,
          101,
          100,
          57,
          95,
          101,
          128,
          99,
          113,
          108,
          105,
          109,
          93,
          82,
          95,
          84,
          106,
          122,
          108,
          94,
          103,
          106,
          124,
          92,
          88,
          68,
          72,
          93,
          102,
          69,
          125,
          99,
          89,
          95,
          92,
          95,
          133,
          112,
          85,
          85,
          84,
          118,
          99,
          109,
          103,
          94,
          105,
          101,
          103,
          86,
          91,
          95,
          99,
          90,
          88,
          85,
          98,
          94,
          71,
          95,
          124,
          108,
          87,
          95,
          108,
          110,
          113,
          71,
          75,
          75,
          97,
          83,
          93,
          66,
          83,
          110,
          88,
          112,
          77,
          91,
          58,
          69,
          61,
          100,
          88,
          128,
          122,
          60,
          126,
          166,
          113,
          88,
          151,
          107,
          42,
          94,
          130,
          87,
          116,
          77,
          117,
          84,
          92,
          130,
          103,
          89,
          109,
          104,
          114,
          133,
          101,
          137,
          88,
          88,
          115,
          120,
          104,
          114,
          128,
          125,
          38,
          102,
          96,
          94,
          69,
          92,
          90,
          101,
          77,
          89,
          90,
          98,
          88,
          49,
          152,
          66,
          103,
          95,
          79,
          89,
          75,
          78,
          89,
          74,
          119,
          70,
          104,
          48,
          121,
          106,
          74,
          106,
          113,
          119,
          82,
          76,
          95,
          100,
          110,
          66,
          99,
          131,
          86,
          118,
          126,
          130,
          99,
          89,
          136,
          131,
          165,
          110,
          85,
          92,
          89,
          117,
          114,
          63,
          94,
          74,
          103,
          58,
          94,
          92,
          104,
          117,
          89,
          87,
          129,
          160,
          66,
          150,
          158,
          118,
          100,
          90,
          64,
          92,
          63,
          105,
          76,
          67,
          99,
          69,
          91,
          92,
          87,
          100,
          113,
          40,
          105,
          94,
          109,
          116,
          99,
          89,
          92,
          82,
          70,
          131,
          105,
          130,
          69,
          98,
          90,
          105,
          106,
          126,
          84,
          65,
          121,
          163,
          92,
          124,
          107,
          19,
          25,
          22,
          40,
          22,
          24,
          103,
          45,
          101,
          60,
          90,
          96,
          98,
          94,
          74,
          112,
          115,
          92,
          93,
          95,
          105,
          117,
          66,
          110,
          97,
          78,
          102,
          62,
          90,
          97,
          105,
          79,
          90,
          129,
          92,
          109,
          77,
          107,
          69,
          87,
          91,
          99,
          105,
          99,
          108,
          66,
          94,
          93,
          75,
          96,
          95,
          32,
          70,
          94,
          117,
          78,
          100,
          91,
          115,
          122,
          107,
          109,
          104,
          95,
          110,
          100,
          93,
          104,
          134,
          75,
          100,
          105,
          104,
          101,
          96,
          80,
          75,
          75,
          79,
          78,
          75,
          78,
          166,
          90,
          132,
          91,
          117,
          103,
          100,
          176,
          91,
          49,
          97,
          116,
          90,
          60,
          149,
          86,
          171,
          103,
          116,
          169,
          134,
          159,
          130,
          103,
          173,
          195,
          111,
          99,
          110,
          32,
          94,
          87,
          103,
          78,
          108,
          62,
          97,
          102,
          95,
          106,
          115,
          76,
          80,
          102,
          99,
          82,
          74,
          100,
          150,
          90,
          75,
          103,
          87,
          88,
          63,
          127,
          129,
          120,
          138,
          129,
          137,
          91,
          103,
          145,
          23,
          25,
          92,
          83,
          81,
          115,
          150,
          106,
          115,
          140,
          79,
          104,
          52,
          90,
          83,
          97,
          85,
          69,
          94,
          121,
          40,
          89,
          94,
          90,
          86,
          100,
          84,
          58,
          95,
          92,
          78,
          51,
          69,
          104,
          101,
          59,
          91,
          153,
          61,
          149,
          94,
          79,
          137,
          53,
          166,
          162,
          92,
          93,
          155,
          158,
          138,
          151,
          96,
          106,
          141,
          127,
          130,
          140,
          145,
          132,
          41,
          110,
          170,
          157,
          165,
          114,
          143,
          106,
          73,
          71,
          161,
          187,
          127,
          165,
          117,
          134,
          116,
          94,
          168,
          109,
          148,
          135,
          127,
          115,
          150,
          87,
          127,
          185,
          75,
          177,
          81,
          137,
          118,
          124,
          123,
          90,
          91,
          87,
          89,
          81,
          47,
          46,
          173,
          108,
          125,
          124,
          137,
          171,
          160,
          87,
          110,
          69,
          67,
          92,
          96,
          92,
          85,
          105,
          127,
          109,
          150,
          100,
          73,
          93,
          91,
          87,
          134,
          118,
          85,
          60,
          96,
          133,
          118,
          150,
          132,
          121,
          127,
          152,
          126,
          104,
          162,
          120,
          65,
          133,
          110,
          96,
          95,
          24,
          97,
          94,
          65,
          84,
          91,
          97,
          102,
          93,
          105,
          53,
          116,
          102,
          81,
          93,
          97,
          94,
          90,
          110,
          88,
          80,
          86,
          143,
          84,
          42,
          117,
          96,
          78,
          96,
          69,
          74,
          108,
          91,
          68,
          92,
          102,
          61,
          57,
          85,
          49,
          87,
          85,
          59,
          97,
          104,
          77,
          63,
          69,
          86,
          62,
          108,
          95,
          99,
          62,
          106,
          117,
          60,
          94,
          147,
          94,
          89,
          89,
          89,
          111,
          118,
          153,
          87,
          122,
          97,
          121,
          124,
          68,
          94,
          100,
          71,
          76,
          60,
          89,
          92,
          63,
          135,
          112,
          88,
          97,
          83,
          89,
          86,
          52,
          126,
          133,
          90,
          91,
          104,
          105,
          123,
          89,
          87,
          91,
          102,
          106,
          102,
          91,
          87,
          103,
          193,
          176,
          124,
          135,
          106,
          133,
          107,
          78,
          192,
          55,
          132,
          148,
          46,
          46,
          46,
          74,
          46,
          50,
          114,
          117,
          108,
          97,
          122,
          115,
          104,
          140,
          101,
          99,
          102,
          94,
          92,
          125,
          82,
          151,
          85,
          86,
          93,
          49,
          82,
          100,
          55,
          53,
          87,
          102,
          112,
          105,
          106,
          89,
          91,
          61,
          94,
          93,
          80,
          118,
          141,
          94,
          84,
          103,
          85,
          69,
          100,
          85,
          97,
          129,
          143,
          90,
          92,
          81,
          105,
          91,
          111,
          103,
          118,
          148,
          88,
          75,
          89,
          128,
          86,
          83,
          109,
          111,
          40,
          70,
          108,
          106,
          106,
          81,
          94,
          102,
          102,
          89,
          162,
          147,
          224,
          137,
          109,
          163,
          162,
          104,
          91,
          27,
          67,
          142,
          78,
          26,
          123,
          113,
          92,
          46,
          124,
          81,
          97,
          81,
          119,
          149,
          106,
          140,
          121,
          87,
          99,
          96,
          128,
          76,
          94,
          114,
          101,
          93,
          109,
          51,
          61,
          73,
          113,
          125,
          92,
          94,
          65,
          135,
          86,
          80,
          142,
          131,
          66,
          88,
          99,
          96,
          126,
          65,
          54,
          76,
          100,
          81,
          123,
          144,
          153,
          105,
          103,
          141,
          115,
          120,
          104,
          22,
          97,
          54,
          120,
          132,
          135,
          87,
          82,
          158,
          107,
          122,
          62,
          95,
          98,
          113,
          94,
          120,
          92,
          132,
          84,
          76,
          75,
          93,
          98,
          91,
          48,
          168,
          68,
          97,
          115,
          148,
          149,
          113,
          137,
          140,
          144,
          103,
          90,
          95,
          82,
          94,
          79,
          66,
          135,
          96,
          144,
          108,
          127,
          127,
          90,
          126,
          121,
          119,
          109,
          132,
          118,
          84,
          93,
          96,
          145,
          158,
          132,
          111,
          133,
          143,
          117,
          84,
          107,
          83,
          102,
          52,
          110,
          85,
          113,
          88,
          89,
          59,
          80,
          107,
          106,
          90,
          66,
          92,
          101,
          135,
          107,
          74,
          74,
          74,
          83,
          79,
          72,
          80,
          75,
          75,
          72,
          80,
          93,
          79,
          86,
          107,
          47,
          107,
          119,
          108,
          85,
          90,
          72,
          23,
          68,
          85,
          84,
          118,
          116,
          89,
          81,
          73,
          140,
          130,
          103,
          40,
          103,
          85,
          106,
          104,
          82,
          94,
          81,
          91,
          112,
          102,
          101,
          119,
          62,
          64,
          137,
          108,
          132,
          87,
          92,
          108,
          78,
          40,
          71,
          89,
          99,
          110,
          60,
          90,
          78,
          95,
          58,
          62,
          65,
          61,
          65,
          58,
          60,
          135,
          98,
          96,
          79,
          113,
          90,
          114,
          79,
          98,
          70,
          116,
          139,
          101,
          148,
          54,
          92,
          107,
          90,
          135,
          52,
          151,
          90,
          88,
          99,
          99,
          132,
          95,
          155,
          162,
          163,
          102,
          96,
          85,
          97,
          95,
          83,
          89,
          28,
          103,
          84,
          160,
          113,
          99,
          86,
          83,
          113,
          86,
          78,
          96,
          95,
          57,
          92,
          81,
          98,
          95,
          105,
          116,
          100,
          95,
          70,
          51,
          94,
          83,
          92,
          88,
          104,
          104,
          104,
          124,
          113,
          124,
          96,
          101,
          63,
          56,
          92,
          91,
          94,
          94,
          82,
          100,
          90,
          71,
          97,
          89,
          83,
          98,
          92,
          88,
          62,
          165,
          166,
          166,
          159,
          160,
          159,
          93,
          95,
          22,
          22,
          105,
          101,
          124,
          100,
          54,
          121,
          103,
          129,
          89,
          92,
          111,
          92,
          91,
          172,
          45,
          95,
          80,
          67,
          84,
          97,
          86,
          59,
          58,
          47,
          114,
          103,
          93,
          84,
          67,
          91,
          110,
          110,
          84,
          63,
          94,
          116,
          104,
          143,
          116,
          14,
          89,
          108,
          59,
          99,
          74,
          103,
          105,
          84,
          109,
          96,
          78,
          83,
          89,
          97,
          95,
          106,
          116,
          91,
          90,
          86,
          97,
          170,
          153,
          104,
          162,
          163,
          106,
          108,
          130,
          133,
          148,
          105,
          90,
          79,
          121,
          66,
          102,
          108,
          139,
          91,
          90,
          81,
          96,
          72,
          89,
          92,
          81,
          161,
          92,
          24,
          66,
          100,
          122,
          91,
          81,
          92,
          77,
          104,
          73,
          102,
          82,
          47,
          98,
          102,
          112,
          85,
          108,
          87,
          84,
          107,
          117,
          89,
          119,
          88,
          126,
          130,
          102,
          154,
          44,
          104,
          76,
          96,
          63,
          108,
          105,
          47,
          44,
          109,
          89,
          92,
          122,
          19,
          154,
          152,
          161,
          123,
          44,
          106,
          80,
          71,
          87,
          153,
          98,
          79,
          143,
          123,
          97,
          80,
          73,
          90,
          106,
          101,
          119,
          140,
          59,
          164,
          92,
          151,
          84,
          51,
          142,
          66,
          110,
          99,
          86,
          101,
          88,
          86,
          151,
          116,
          128,
          128,
          86,
          88,
          80,
          61,
          92,
          82,
          81,
          72,
          98,
          64,
          95,
          96,
          111,
          127,
          117,
          123,
          139,
          95,
          148,
          121,
          79,
          127,
          92,
          162,
          163,
          83,
          112,
          117,
          90,
          95,
          99,
          125,
          44,
          93,
          89,
          92,
          120,
          114,
          109,
          83,
          107,
          129,
          135,
          149,
          136,
          138,
          177,
          61,
          126,
          137,
          114,
          104,
          96,
          147,
          107,
          91,
          81,
          53,
          95,
          95,
          149,
          106,
          108,
          66,
          54,
          55,
          55,
          55,
          55,
          113,
          83,
          53,
          102,
          95,
          50,
          97,
          92,
          97,
          105,
          107,
          99,
          101,
          81,
          92,
          131,
          111,
          104,
          99,
          101,
          71,
          96,
          85,
          106,
          119,
          84,
          85,
          110,
          89,
          76,
          74,
          103,
          101,
          98,
          74,
          156,
          88,
          70,
          88,
          93,
          143,
          83,
          90,
          107,
          93,
          99,
          134,
          77,
          78,
          101,
          53,
          81,
          106,
          84,
          51,
          90,
          77,
          95,
          63,
          58,
          59,
          52,
          32,
          18,
          102,
          40,
          40,
          42,
          76,
          61,
          82,
          45,
          92,
          118,
          91,
          63,
          110,
          91,
          93,
          93,
          108,
          72,
          114,
          91,
          97,
          118,
          92,
          91,
          137,
          97,
          101,
          143,
          97,
          107,
          168,
          117,
          103,
          80,
          87,
          160,
          88,
          85,
          104,
          62,
          109,
          103,
          99,
          102,
          97,
          99,
          101,
          102,
          102,
          107,
          99,
          106,
          103,
          123,
          98,
          118,
          100,
          101,
          103,
          101,
          104,
          104,
          100,
          136,
          102,
          105,
          24,
          110,
          105,
          105,
          102,
          98,
          118,
          106,
          106,
          92,
          92,
          91,
          83,
          123,
          90,
          57,
          103,
          92,
          52,
          52,
          87,
          56,
          115,
          53,
          94,
          118,
          92,
          98,
          125,
          113,
          110,
          71,
          108,
          123,
          97,
          99,
          97,
          100,
          98,
          75,
          54,
          54,
          55,
          54,
          55,
          67,
          129,
          105,
          78,
          99,
          96,
          95,
          87,
          134,
          119,
          128,
          128,
          91,
          109,
          79,
          88,
          107,
          92,
          88,
          71,
          64,
          83,
          124,
          123,
          97,
          96,
          150,
          91,
          79,
          93,
          54,
          73,
          88,
          109,
          93,
          78,
          86,
          94,
          116,
          154,
          90,
          179,
          93,
          97,
          80,
          88,
          99,
          104,
          94,
          77,
          111,
          108,
          92,
          78,
          87,
          99,
          91,
          37,
          102,
          67,
          57,
          78,
          130,
          80,
          90,
          93,
          66,
          93,
          119,
          90,
          105,
          83,
          96,
          84,
          98,
          91,
          89,
          90,
          89,
          123,
          117,
          100,
          91,
          87,
          146,
          82,
          104,
          85,
          109,
          74,
          94,
          84,
          98,
          82,
          22,
          141,
          95,
          117,
          100,
          75,
          69,
          80,
          97,
          92,
          92,
          85,
          83,
          118,
          84,
          52,
          84,
          146,
          93,
          97,
          90,
          75,
          93,
          62,
          98,
          92,
          22,
          115,
          88,
          87,
          86,
          94,
          105,
          88,
          88,
          86,
          93,
          98,
          29,
          88,
          93,
          81,
          83,
          31,
          83,
          73,
          38,
          108,
          90,
          97,
          81,
          70,
          62,
          104,
          97,
          99,
          96,
          84,
          112,
          90,
          88,
          56,
          89,
          24,
          100,
          116,
          101,
          92,
          79,
          67,
          72,
          96,
          103,
          92,
          61,
          88,
          88,
          113,
          67,
          65,
          62,
          107,
          85,
          69,
          60,
          77,
          98,
          71,
          101,
          64,
          112,
          125,
          125,
          59,
          91,
          44,
          107,
          101,
          93,
          82,
          86,
          81,
          92,
          89,
          107,
          94,
          110,
          81,
          77,
          64,
          111,
          97,
          77,
          94,
          94,
          91,
          93,
          95,
          80,
          95,
          90,
          101,
          73,
          108,
          25,
          86,
          105,
          100,
          96,
          97,
          73,
          44,
          132,
          96,
          92,
          99,
          92,
          99,
          78,
          87,
          65,
          65,
          69,
          64,
          63,
          63,
          89,
          60,
          84,
          93,
          41,
          91,
          83,
          25,
          94,
          102,
          111,
          88,
          93,
          29,
          88,
          103,
          107,
          52,
          91,
          180,
          75,
          92,
          90,
          114,
          80,
          99,
          79,
          66,
          46,
          90,
          72,
          71,
          77,
          70,
          73,
          107,
          81,
          86,
          63,
          44,
          128,
          51,
          45,
          46,
          112,
          87,
          87,
          106,
          100,
          101,
          117,
          114,
          94,
          100,
          96,
          58,
          87,
          81,
          96,
          52,
          114,
          105,
          157,
          84,
          91,
          80,
          97,
          105,
          96,
          60,
          79,
          93,
          95,
          99,
          109,
          96,
          102,
          107,
          60,
          86,
          29,
          163,
          98,
          101,
          91,
          99,
          74,
          66,
          76,
          95,
          127,
          86,
          116,
          82,
          70,
          102,
          88,
          109,
          75,
          23,
          83,
          97,
          62,
          84,
          90,
          82,
          96,
          65,
          92,
          90,
          93,
          91,
          100,
          101,
          103,
          74,
          44,
          43,
          95,
          94,
          68,
          72,
          47,
          52,
          92,
          107,
          108,
          74,
          110,
          24,
          46,
          24,
          55,
          24,
          23,
          24,
          24,
          101,
          29,
          60,
          60,
          78,
          73,
          72,
          60,
          47,
          70,
          77,
          120,
          74,
          57,
          72,
          78,
          91,
          62,
          85,
          85,
          90,
          105,
          59,
          137,
          86,
          135,
          99,
          64,
          72,
          83,
          82,
          90,
          80,
          130,
          62,
          90,
          92,
          155,
          78,
          92,
          60,
          69,
          103,
          92,
          143,
          83,
          78,
          84,
          78,
          93,
          84,
          77,
          58,
          82,
          83,
          100,
          29,
          72,
          26,
          48,
          73,
          103,
          81,
          75,
          100,
          90,
          68,
          71,
          71,
          100,
          94,
          80,
          78,
          35,
          72,
          93,
          105,
          130,
          100,
          44,
          80,
          72,
          75,
          26,
          84,
          120,
          76,
          95,
          96,
          94,
          94,
          93,
          96,
          94,
          94,
          93,
          95,
          93,
          75,
          103,
          84,
          29,
          104,
          81
         ],
         "xaxis": "x",
         "xbins": {
          "end": 312,
          "size": 0.7,
          "start": 3
         },
         "yaxis": "y"
        },
        {
         "legendgroup": "Movie Duration",
         "marker": {
          "color": "#6ad49b"
         },
         "mode": "lines",
         "name": "Movie Duration",
         "showlegend": false,
         "type": "scatter",
         "x": [
          3,
          3.618,
          4.236,
          4.854,
          5.4719999999999995,
          6.09,
          6.708,
          7.326,
          7.944,
          8.562000000000001,
          9.18,
          9.798,
          10.416,
          11.034,
          11.652,
          12.27,
          12.888,
          13.506,
          14.124,
          14.742,
          15.36,
          15.978,
          16.596,
          17.214,
          17.832,
          18.45,
          19.068,
          19.686,
          20.304,
          20.922,
          21.54,
          22.158,
          22.776,
          23.394,
          24.012,
          24.63,
          25.248,
          25.866,
          26.484,
          27.102,
          27.72,
          28.338,
          28.956,
          29.574,
          30.192,
          30.81,
          31.428,
          32.046,
          32.664,
          33.282,
          33.9,
          34.518,
          35.136,
          35.754,
          36.372,
          36.99,
          37.608,
          38.226,
          38.844,
          39.462,
          40.08,
          40.698,
          41.316,
          41.934,
          42.552,
          43.17,
          43.788,
          44.406,
          45.024,
          45.642,
          46.26,
          46.878,
          47.496,
          48.114,
          48.732,
          49.35,
          49.968,
          50.586,
          51.204,
          51.822,
          52.44,
          53.058,
          53.676,
          54.294,
          54.912,
          55.53,
          56.148,
          56.766,
          57.384,
          58.002,
          58.62,
          59.238,
          59.856,
          60.474,
          61.092,
          61.71,
          62.328,
          62.946,
          63.564,
          64.182,
          64.8,
          65.418,
          66.036,
          66.654,
          67.272,
          67.89,
          68.508,
          69.126,
          69.744,
          70.362,
          70.98,
          71.598,
          72.216,
          72.834,
          73.452,
          74.07,
          74.688,
          75.306,
          75.924,
          76.542,
          77.16,
          77.778,
          78.396,
          79.014,
          79.632,
          80.25,
          80.868,
          81.486,
          82.104,
          82.722,
          83.34,
          83.958,
          84.576,
          85.194,
          85.812,
          86.43,
          87.048,
          87.666,
          88.284,
          88.902,
          89.52,
          90.138,
          90.756,
          91.374,
          91.992,
          92.61,
          93.228,
          93.846,
          94.464,
          95.082,
          95.7,
          96.318,
          96.936,
          97.554,
          98.172,
          98.79,
          99.408,
          100.026,
          100.644,
          101.262,
          101.88,
          102.498,
          103.116,
          103.734,
          104.352,
          104.97,
          105.588,
          106.206,
          106.824,
          107.442,
          108.06,
          108.678,
          109.296,
          109.914,
          110.532,
          111.15,
          111.768,
          112.386,
          113.004,
          113.622,
          114.24,
          114.858,
          115.476,
          116.094,
          116.712,
          117.33,
          117.948,
          118.566,
          119.184,
          119.802,
          120.42,
          121.038,
          121.656,
          122.274,
          122.892,
          123.51,
          124.128,
          124.746,
          125.364,
          125.982,
          126.6,
          127.218,
          127.836,
          128.454,
          129.072,
          129.69,
          130.308,
          130.926,
          131.544,
          132.162,
          132.78,
          133.398,
          134.016,
          134.634,
          135.252,
          135.87,
          136.488,
          137.106,
          137.724,
          138.342,
          138.96,
          139.578,
          140.196,
          140.814,
          141.432,
          142.05,
          142.668,
          143.286,
          143.904,
          144.522,
          145.14,
          145.758,
          146.376,
          146.994,
          147.612,
          148.23,
          148.848,
          149.466,
          150.084,
          150.702,
          151.32,
          151.938,
          152.556,
          153.174,
          153.792,
          154.41,
          155.028,
          155.646,
          156.264,
          156.882,
          157.5,
          158.118,
          158.736,
          159.354,
          159.972,
          160.59,
          161.208,
          161.826,
          162.444,
          163.062,
          163.68,
          164.298,
          164.916,
          165.534,
          166.152,
          166.77,
          167.388,
          168.006,
          168.624,
          169.242,
          169.86,
          170.478,
          171.096,
          171.714,
          172.332,
          172.95,
          173.568,
          174.186,
          174.804,
          175.422,
          176.04,
          176.658,
          177.276,
          177.894,
          178.512,
          179.13,
          179.748,
          180.366,
          180.984,
          181.602,
          182.22,
          182.838,
          183.456,
          184.074,
          184.692,
          185.31,
          185.928,
          186.546,
          187.164,
          187.782,
          188.4,
          189.018,
          189.636,
          190.254,
          190.872,
          191.49,
          192.108,
          192.726,
          193.344,
          193.962,
          194.58,
          195.198,
          195.816,
          196.434,
          197.052,
          197.67,
          198.288,
          198.906,
          199.524,
          200.142,
          200.76,
          201.378,
          201.996,
          202.614,
          203.232,
          203.85,
          204.468,
          205.086,
          205.704,
          206.322,
          206.94,
          207.558,
          208.176,
          208.794,
          209.412,
          210.03,
          210.648,
          211.266,
          211.884,
          212.502,
          213.12,
          213.738,
          214.356,
          214.974,
          215.592,
          216.21,
          216.828,
          217.446,
          218.064,
          218.682,
          219.3,
          219.918,
          220.536,
          221.154,
          221.772,
          222.39,
          223.008,
          223.626,
          224.244,
          224.862,
          225.48,
          226.098,
          226.716,
          227.334,
          227.952,
          228.57,
          229.188,
          229.806,
          230.424,
          231.042,
          231.66,
          232.278,
          232.896,
          233.514,
          234.132,
          234.75,
          235.368,
          235.986,
          236.604,
          237.222,
          237.84,
          238.458,
          239.076,
          239.694,
          240.312,
          240.93,
          241.548,
          242.166,
          242.784,
          243.402,
          244.02,
          244.638,
          245.256,
          245.874,
          246.492,
          247.11,
          247.728,
          248.346,
          248.964,
          249.582,
          250.2,
          250.818,
          251.436,
          252.054,
          252.672,
          253.29,
          253.908,
          254.526,
          255.144,
          255.762,
          256.38,
          256.998,
          257.616,
          258.23400000000004,
          258.852,
          259.47,
          260.088,
          260.706,
          261.324,
          261.942,
          262.56,
          263.178,
          263.796,
          264.414,
          265.032,
          265.65,
          266.268,
          266.886,
          267.504,
          268.122,
          268.74,
          269.358,
          269.976,
          270.594,
          271.212,
          271.83,
          272.448,
          273.066,
          273.684,
          274.302,
          274.92,
          275.538,
          276.156,
          276.774,
          277.392,
          278.01,
          278.628,
          279.246,
          279.864,
          280.482,
          281.1,
          281.718,
          282.336,
          282.954,
          283.572,
          284.19,
          284.808,
          285.426,
          286.044,
          286.662,
          287.28,
          287.898,
          288.516,
          289.134,
          289.752,
          290.37,
          290.988,
          291.606,
          292.224,
          292.842,
          293.46,
          294.078,
          294.696,
          295.314,
          295.932,
          296.55,
          297.168,
          297.786,
          298.404,
          299.022,
          299.64,
          300.258,
          300.876,
          301.494,
          302.112,
          302.73,
          303.348,
          303.966,
          304.584,
          305.202,
          305.82,
          306.438,
          307.056,
          307.674,
          308.292,
          308.91,
          309.528,
          310.146,
          310.764,
          311.382
         ],
         "xaxis": "x",
         "y": [
          0.000040305475711968035,
          0.00004349701367271254,
          0.000046917936229516444,
          0.00005058274922103075,
          0.00005450671754371737,
          0.000058705892914967024,
          0.00006319714176665398,
          0.00006799817319289222,
          0.00007312756686966954,
          0.00007860480085781936,
          0.00008445027919446469,
          0.00009068535917165,
          0.00009733237819439561,
          0.00010441468010388786,
          0.00011195664084497408,
          0.00011998369335061853,
          0.00012852235150949103,
          0.00013760023307646724,
          0.00014724608137954543,
          0.00015748978567054335,
          0.0001683623999610169,
          0.00017989616017913398,
          0.00019212449947780968,
          0.0002050820615193021,
          0.00021880471155673878,
          0.00023332954512869753,
          0.00024869489417912,
          0.0002649403304114675,
          0.00028210666568324265,
          0.0003002359492448061,
          0.0003193714616249138,
          0.0003395577049645576,
          0.0003608403896006754,
          0.0003832664167020304,
          0.0004068838567611909,
          0.00043174192374906143,
          0.00045789094474190636,
          0.0004853823248352445,
          0.0005142685071645451,
          0.0005446029278591958,
          0.0005764399657639247,
          0.0006098348867706842,
          0.0006448437826139954,
          0.0006815235039939457,
          0.0007199315879034211,
          0.0007601261790497889,
          0.0008021659452760753,
          0.0008461099869027945,
          0.0008920177399288503,
          0.0009399488730485255,
          0.000989963178461226,
          0.001042120456471617,
          0.00109648039389979,
          0.0011531024363442834,
          0.0012120456543649627,
          0.0012733686036779776,
          0.0013371291794812008,
          0.0014033844650554897,
          0.0014721905748150195,
          0.0015436024920083323,
          0.0016176739013009434,
          0.0016944570164999125,
          0.0017740024037107907,
          0.0018563588002476405,
          0.0019415729296472669,
          0.0020296893131691697,
          0.00212075007819313,
          0.0022147947639563205,
          0.0023118601251014654,
          0.0024119799335366975,
          0.002515184779135968,
          0.0026215018698364217,
          0.002730954831715419,
          0.002843563509655113,
          0.0029593437692262046,
          0.0030783073004447005,
          0.003200461424076002,
          0.003325808901179186,
          0.003454347746600932,
          0.0035860710471427777,
          0.003720966785137424,
          0.003859017668179201,
          0.00400020096576059,
          0.004144488353570697,
          0.004291845766212699,
          0.004442233259095258,
          0.0045956048802479315,
          0.004751908552802278,
          0.004911085968868768,
          0.00507307249552469,
          0.005237797093609947,
          0.005405182250005771,
          0.0055751439240462105,
          0.00574759150868352,
          0.005922427806996484,
          0.006099549024595085,
          0.006278844778436122,
          0.006460198122522178,
          0.0066434855909109575,
          0.0068285772584135785,
          0.007015336819309086,
          0.0072036216843481314,
          0.007393283096262021,
          0.007584166263934129,
          0.007776110515328864,
          0.007968949469210139,
          0.008162511225615711,
          0.008356618574986863,
          0.00855108922578471,
          0.00874573605035526,
          0.00894036734873524,
          0.009134787130020423,
          0.009328795410847815,
          0.00952218853047249,
          0.00971475948185034,
          0.009906298258069034,
          0.010096592213401612,
          0.01028542643819106,
          0.010472584146709811,
          0.010657847077075708,
          0.010840995902246532,
          0.01102181065105798,
          0.011200071138216345,
          0.011375557402106742,
          0.01154805014923089,
          0.011717331204045906,
          0.011883183962937022,
          0.012045393851023026,
          0.012203748780464053,
          0.012358039608916824,
          0.012508060596763156,
          0.012653609861723335,
          0.012794489829457405,
          0.012930507678753918,
          0.013061475779908184,
          0.013187212124899884,
          0.013307540747993424,
          0.013422292135403743,
          0.013531303622694935,
          0.013634419778609548,
          0.013731492774062265,
          0.013822382735072799,
          0.013906958078459366,
          0.013985095829165621,
          0.014056681918150161,
          0.014121611459828877,
          0.014179789008125727,
          0.014231128790257072,
          0.014275554917448105,
          0.014313001571856774,
          0.014343413169060813,
          0.014366744495546284,
          0.014382960820721675,
          0.014392037983069109,
          0.014393962450133488,
          0.0143887313521411,
          0.014376352489130823,
          0.014356844311573053,
          0.01433023587454382,
          0.014296566765613384,
          0.014255887006699839,
          0.014208256930228326,
          0.014153747030025022,
          0.01409243778746169,
          0.014024419473451004,
          0.013949791926974453,
          0.01386866431090341,
          0.013781154845949167,
          0.013687390523649482,
          0.013587506799366725,
          0.013481647266336223,
          0.01336996331186224,
          0.013252613756813136,
          0.013129764479616522,
          0.013001588025999187,
          0.01286826320575536,
          0.01272997467786027,
          0.012586912525273615,
          0.012439271820800013,
          0.012287252185389869,
          0.012131057340275185,
          0.011970894654340123,
          0.011806974688125818,
          0.011639510735863098,
          0.011468718366915664,
          0.01129481496799959,
          0.011118019287523321,
          0.010938550983365719,
          0.0107566301753781,
          0.010572477003860095,
          0.01038631119521876,
          0.010198351635975688,
          0.010008815956238502,
          0.009817920123701052,
          0.00962587804918134,
          0.009432901204648014,
          0.009239198254625231,
          0.009044974701802504,
          0.008850432547610868,
          0.00865576996845968,
          0.008461181008260038,
          0.008266855287791553,
          0.00807297773139904,
          0.007879728311435283,
          0.007687281810795674,
          0.00749580760382015,
          0.00730546945576828,
          0.007116425341004604,
          0.006928827279963545,
          0.0067428211948971665,
          0.006558546784344177,
          0.006376137416196342,
          0.00619572003917752,
          0.006017415112492663,
          0.0058413365533483246,
          0.005667591701993431,
          0.005496281303878824,
          0.005327499508487349,
          0.005161333884342097,
          0.004997865449659831,
          0.0048371687180794164,
          0.004679311758860753,
          0.0045243562709196454,
          0.00437235767003646,
          0.004223365188553143,
          0.004077421986852752,
          0.003934565275899072,
          0.0037948264501003076,
          0.003658231229751053,
          0.003524799812299701,
          0.0033945470316850456,
          0.0032674825249851603,
          0.0031436109056242134,
          0.0030229319423880265,
          0.0029054407435073824,
          0.0027911279450785736,
          0.002679979903103786,
          0.002571978888449323,
          0.0024671032840370244,
          0.0023653277836039473,
          0.002266623591386404,
          0.0021709586221076035,
          0.0020782977006724205,
          0.001988602760998679,
          0.0019018330434410512,
          0.0018179452902917577,
          0.001736893938870741,
          0.001658631311747416,
          0.0015831078036659541,
          0.0015102720647761883,
          0.0014400711798026504,
          0.0013724508428147185,
          0.001307355527291168,
          0.0012447286512026244,
          0.0011845127368652608,
          0.0011266495653483983,
          0.0010710803252476473,
          0.0010177457556632733,
          0.0009665862832510172,
          0.0009175421532391826,
          0.0008705535543315519,
          0.0008255607374403932,
          0.000782504128217635,
          0.0007413244333748443,
          0.0007019627408042159,
          0.0006643606135331332,
          0.0006284601775640407,
          0.0005942042036693084,
          0.000561536183227572,
          0.000530400398203477,
          0.0005007419853870806,
          0.00047250699502220984,
          0.0004456424439648826,
          0.0004200963635235904,
          0.0003958178421426321,
          0.00037275706309803096,
          0.00035086533738271834,
          0.0003300951319637599,
          0.0003104000935994059,
          0.00029173506840777386,
          0.00027405611738198825,
          0.0002573205280487065,
          0.0002414868224681766,
          0.00022651476177435527,
          0.00021236534745319247,
          0.00019900081955606227,
          0.00018638465204346894,
          0.00017448154545168733,
          0.00016325741707194579,
          0.0001526793888281458,
          0.00014271577303504973,
          0.0001333360562143266,
          0.00012451088114093548,
          0.00011621202728707411,
          0.00010841238982535233,
          0.00010108595734703365,
          0.00009420778844517026,
          0.00008775398730624193,
          0.0000817016784475747,
          0.00007602898073138302,
          0.00007071498077977128,
          0.00006573970590849914,
          0.00006108409669078437,
          0.0000567299792559037,
          0.000052660037420900174,
          0.00004885778474732827,
          0.00004530753660868666,
          0.00004199438234803436,
          0.00003890415759925826,
          0.00003602341683959537,
          0.00003333940623531092,
          0.000030840036836910776,
          0.000028513858174937427,
          0.000026350032302266846,
          0.00002433830832389759,
          0.00002246899745051153,
          0.00002073294860758975,
          0.00001912152462759056,
          0.000017626579048640424,
          0.00001624043353935766,
          0.00001495585596581392,
          0.000013766039113247382,
          0.00001266458007196543,
          0.000011645460293912899,
          0.00001070302632362843,
          0.000009831971204765615,
          0.00000902731656100497,
          0.000008284395348028988,
          0.000007598835271264412,
          0.000006966542862307004,
          0.000006383688205331333,
          0.000005846690303337911,
          0.000005352203072800928,
          0.000004897101954140102,
          0.000004478471124444581,
          0.00000409359129801538,
          0.0000037399280995608734,
          0.0000034151209942660135,
          0.000003116972758455669,
          0.0000028434394741766847,
          0.0000025926210307254585,
          0.0000023627521159391403,
          0.0000021521936799454065,
          0.0000019594248540167924,
          0.0000017830353071989197,
          0.0000016217180234673868,
          0.0000014742624823123562,
          0.0000013395482258458951,
          0.000001216538795769113,
          0.0000011042760238203052,
          0.0000010018746596448822,
          9.085173203798386e-7,
          8.234497466240567e-7,
          7.459763498679977e-7,
          6.754560368774627e-7,
          6.112982969630111e-7,
          5.529595385160665e-7,
          4.999396616511773e-7,
          4.517788542590278e-7,
          4.0805459924374576e-7,
          3.683788811883388e-7,
          3.323955811620355e-7,
          2.997780488503634e-7,
          2.7022684165178405e-7,
          2.434676208416739e-7,
          2.1924919535425348e-7,
          1.9734170417439551e-7,
          1.7753492876313689e-7,
          1.5963672736218793e-7,
          1.4347158343306153e-7,
          1.288792608850876e-7,
          1.1571355913277745e-7,
          1.0384116139668312e-7,
          9.314057002246125e-8,
          8.350112294028942e-8,
          7.482208572084067e-8,
          6.701181400474451e-8,
          5.998698138976973e-8,
          5.367186815403388e-8,
          4.799770647442619e-8,
          4.290207806733879e-8,
          3.832836043398713e-8,
          3.4225218135254744e-8,
          3.054613575147307e-8,
          2.7248989401138645e-8,
          2.4295653899601473e-8,
          2.1651642834619957e-8,
          1.9285779020707395e-8,
          1.7169892968807304e-8,
          1.527854717238866e-8,
          1.3588784165972492e-8,
          1.2079896457763708e-8,
          1.0733216574869527e-8,
          9.531925587949507e-9,
          8.460878602421296e-9,
          7.50644581596257e-9,
          6.65636784735562e-9,
          5.899624140100807e-9,
          5.226313336039157e-9,
          4.6275445998195e-9,
          4.095338954771858e-9,
          3.6225397649273937e-9,
          3.2027315668835217e-9,
          2.8301665192496162e-9,
          2.4996977968267462e-9,
          2.206719311749093e-9,
          1.947111194820442e-9,
          1.7171905174722735e-9,
          1.5136667783962696e-9,
          1.333601719196978e-9,
          1.174373070593077e-9,
          1.033641864976551e-9,
          9.093229827190292e-10,
          7.995586286800718e-10,
          7.026944621019594e-10,
          6.172581276355617e-10,
          5.419399577907751e-10,
          4.755756377886396e-10,
          4.1713064275129194e-10,
          3.656862745285579e-10,
          3.2042714134839004e-10,
          2.806299380063258e-10,
          2.456533975820399e-10,
          2.149292977881206e-10,
          1.8795441610940745e-10,
          1.6428333796584905e-10,
          1.4352203130783056e-10,
          1.2532210940358094e-10,
          1.0937571117246351e-10,
          9.541093531852076e-11,
          8.31877707846702e-11,
          7.249447173309501e-11,
          6.31443304119348e-11,
          5.4972805938285666e-11,
          4.783497125523375e-11,
          4.160324434522806e-11,
          3.616537323950321e-11,
          3.142264748640802e-11,
          2.728831156071922e-11,
          2.368615823902126e-11,
          2.05492822584607e-11,
          1.7818976640896446e-11,
          1.5443755922894938e-11,
          1.3378492203643716e-11,
          1.1583651425345164e-11,
          1.0024618650212511e-11,
          8.671102309515741e-12,
          7.496608486636557e-12,
          6.477977269969424e-12,
          5.5949740838220346e-12,
          4.829929686288141e-12,
          4.167423221494154e-12,
          3.5940033379417283e-12,
          3.0979429423521043e-12,
          2.6690236562497017e-12,
          2.298346486622402e-12,
          1.978165617896729e-12,
          1.7017425851651584e-12,
          1.46321840260194e-12,
          1.257501500365909e-12,
          1.0801695716680834e-12,
          9.273836523692623e-13,
          7.958129514270144e-13,
          6.8256912438848e-13,
          5.851488363138157e-13,
          5.013835971526114e-13,
          4.293959736027973e-13,
          3.675613885762179e-13,
          3.144748141151415e-13,
          2.689217473257554e-13,
          2.29852932847016e-13,
          1.9636236065453404e-13,
          1.676681255889014e-13,
          1.4309578576998515e-13,
          1.2206390179162917e-13,
          1.0407147797826368e-13,
          8.868706164291079e-14,
          7.55392867635656e-14,
          6.430867527914957e-14,
          5.472053273000836e-14,
          4.653879561504354e-14,
          3.9560705948533916e-14,
          3.3612204376011354e-14,
          2.854394711731257e-14,
          2.422786418230676e-14,
          2.0554186959739305e-14,
          1.7428882596669344e-14,
          1.477144072803155e-14,
          1.2512965226756286e-14,
          1.0594529851331199e-14,
          8.965762081434901e-15,
          7.583624151627966e-15,
          6.4113644046049354e-15,
          5.417615665285396e-15,
          4.5756204519084524e-15,
          3.862565549023605e-15,
          3.259010821354924e-15,
          2.748399192151215e-15,
          2.3166364844181638e-15,
          1.9517313630383645e-15
         ],
         "yaxis": "y"
        },
        {
         "legendgroup": "Movie Duration",
         "marker": {
          "color": "#6ad49b",
          "symbol": "line-ns-open"
         },
         "mode": "markers",
         "name": "Movie Duration",
         "showlegend": false,
         "type": "scatter",
         "x": [
          67,
          135,
          106,
          107,
          81,
          107,
          118,
          110,
          104,
          93,
          94,
          124,
          137,
          134,
          69,
          106,
          209,
          86,
          24,
          46,
          117,
          87,
          92,
          114,
          121,
          94,
          109,
          110,
          96,
          97,
          121,
          56,
          119,
          138,
          93,
          111,
          88,
          81,
          73,
          86,
          116,
          85,
          134,
          109,
          102,
          101,
          88,
          101,
          28,
          103,
          131,
          166,
          105,
          82,
          107,
          84,
          103,
          112,
          89,
          121,
          87,
          136,
          118,
          129,
          94,
          88,
          158,
          78,
          100,
          93,
          84,
          107,
          101,
          107,
          74,
          60,
          143,
          105,
          110,
          98,
          100,
          74,
          100,
          46,
          88,
          54,
          59,
          100,
          95,
          88,
          100,
          93,
          94,
          121,
          78,
          116,
          87,
          61,
          98,
          123,
          85,
          92,
          87,
          92,
          112,
          97,
          78,
          103,
          107,
          44,
          68,
          68,
          99,
          69,
          81,
          69,
          68,
          68,
          91,
          86,
          40,
          102,
          119,
          94,
          119,
          90,
          105,
          89,
          108,
          108,
          87,
          112,
          101,
          89,
          91,
          200,
          119,
          90,
          103,
          110,
          133,
          124,
          118,
          40,
          98,
          85,
          115,
          137,
          98,
          110,
          55,
          86,
          92,
          116,
          94,
          134,
          102,
          98,
          100,
          105,
          116,
          118,
          153,
          109,
          99,
          96,
          91,
          185,
          92,
          82,
          127,
          98,
          111,
          120,
          137,
          121,
          89,
          91,
          135,
          98,
          139,
          95,
          98,
          91,
          122,
          100,
          103,
          129,
          133,
          36,
          141,
          105,
          107,
          136,
          138,
          129,
          97,
          141,
          99,
          89,
          24,
          90,
          98,
          89,
          88,
          65,
          126,
          63,
          14,
          28,
          20,
          88,
          98,
          94,
          106,
          118,
          127,
          61,
          86,
          94,
          82,
          92,
          95,
          52,
          108,
          91,
          96,
          67,
          83,
          94,
          97,
          91,
          66,
          98,
          92,
          118,
          87,
          121,
          98,
          99,
          95,
          107,
          100,
          101,
          86,
          96,
          99,
          112,
          127,
          140,
          22,
          78,
          63,
          97,
          86,
          93,
          73,
          62,
          96,
          104,
          123,
          100,
          99,
          151,
          102,
          154,
          106,
          87,
          70,
          46,
          111,
          101,
          109,
          100,
          110,
          102,
          102,
          24,
          96,
          98,
          76,
          93,
          77,
          103,
          45,
          119,
          147,
          123,
          99,
          98,
          106,
          112,
          85,
          91,
          88,
          101,
          90,
          96,
          99,
          101,
          111,
          96,
          86,
          97,
          121,
          59,
          58,
          90,
          88,
          64,
          104,
          122,
          125,
          92,
          129,
          79,
          121,
          106,
          124,
          87,
          125,
          154,
          86,
          111,
          97,
          66,
          121,
          91,
          91,
          82,
          117,
          81,
          84,
          81,
          107,
          94,
          163,
          90,
          96,
          91,
          93,
          64,
          45,
          89,
          90,
          102,
          116,
          42,
          133,
          108,
          38,
          97,
          89,
          146,
          146,
          130,
          106,
          58,
          152,
          87,
          121,
          182,
          106,
          102,
          98,
          83,
          82,
          111,
          24,
          171,
          84,
          112,
          80,
          88,
          124,
          104,
          76,
          91,
          64,
          94,
          86,
          157,
          83,
          95,
          106,
          87,
          90,
          65,
          105,
          107,
          103,
          88,
          96,
          67,
          140,
          96,
          93,
          90,
          125,
          142,
          133,
          100,
          10,
          128,
          88,
          108,
          93,
          96,
          102,
          108,
          81,
          102,
          93,
          87,
          94,
          100,
          88,
          109,
          138,
          149,
          82,
          86,
          112,
          98,
          113,
          47,
          106,
          113,
          119,
          109,
          98,
          88,
          116,
          106,
          95,
          95,
          113,
          84,
          91,
          102,
          100,
          81,
          98,
          110,
          106,
          85,
          66,
          92,
          92,
          91,
          133,
          135,
          120,
          118,
          123,
          110,
          98,
          98,
          98,
          104,
          167,
          63,
          52,
          95,
          72,
          117,
          100,
          24,
          86,
          112,
          69,
          119,
          123,
          93,
          109,
          97,
          66,
          107,
          46,
          96,
          91,
          80,
          103,
          117,
          76,
          67,
          114,
          67,
          77,
          84,
          105,
          63,
          94,
          99,
          59,
          102,
          81,
          145,
          84,
          102,
          101,
          116,
          164,
          87,
          90,
          106,
          116,
          134,
          133,
          118,
          120,
          154,
          128,
          115,
          177,
          105,
          112,
          120,
          119,
          100,
          92,
          104,
          97,
          88,
          128,
          130,
          108,
          98,
          89,
          90,
          130,
          83,
          99,
          59,
          107,
          99,
          94,
          111,
          100,
          77,
          57,
          107,
          93,
          114,
          103,
          153,
          94,
          149,
          111,
          58,
          56,
          110,
          98,
          106,
          102,
          93,
          81,
          77,
          98,
          97,
          136,
          161,
          32,
          86,
          107,
          98,
          83,
          77,
          133,
          105,
          79,
          106,
          90,
          87,
          95,
          91,
          67,
          106,
          65,
          131,
          105,
          119,
          105,
          40,
          107,
          112,
          97,
          106,
          66,
          106,
          110,
          102,
          105,
          112,
          96,
          97,
          53,
          113,
          53,
          54,
          53,
          54,
          113,
          53,
          53,
          53,
          54,
          54,
          52,
          54,
          54,
          53,
          53,
          53,
          113,
          53,
          91,
          126,
          99,
          134,
          26,
          117,
          89,
          94,
          101,
          94,
          99,
          114,
          48,
          78,
          118,
          119,
          104,
          98,
          93,
          61,
          90,
          122,
          113,
          141,
          81,
          176,
          119,
          73,
          87,
          88,
          15,
          55,
          141,
          122,
          117,
          95,
          109,
          63,
          73,
          107,
          87,
          99,
          96,
          113,
          69,
          99,
          87,
          85,
          112,
          116,
          99,
          101,
          110,
          116,
          96,
          83,
          110,
          86,
          110,
          122,
          99,
          59,
          65,
          126,
          97,
          68,
          65,
          63,
          89,
          88,
          91,
          53,
          40,
          113,
          117,
          90,
          95,
          98,
          97,
          102,
          61,
          93,
          117,
          108,
          126,
          93,
          60,
          142,
          113,
          90,
          120,
          107,
          74,
          119,
          114,
          125,
          71,
          110,
          127,
          118,
          90,
          94,
          90,
          98,
          98,
          99,
          133,
          94,
          116,
          93,
          103,
          84,
          90,
          107,
          89,
          90,
          96,
          130,
          90,
          86,
          79,
          93,
          12,
          62,
          3,
          94,
          93,
          114,
          110,
          125,
          119,
          109,
          100,
          98,
          98,
          128,
          83,
          105,
          109,
          83,
          101,
          78,
          110,
          116,
          141,
          120,
          97,
          109,
          105,
          102,
          127,
          101,
          135,
          124,
          103,
          105,
          98,
          93,
          113,
          106,
          99,
          123,
          91,
          84,
          99,
          93,
          122,
          38,
          101,
          99,
          91,
          30,
          30,
          137,
          111,
          66,
          159,
          125,
          95,
          95,
          70,
          87,
          88,
          96,
          90,
          84,
          53,
          87,
          90,
          96,
          150,
          105,
          112,
          119,
          142,
          94,
          97,
          137,
          100,
          125,
          128,
          108,
          136,
          165,
          124,
          133,
          116,
          102,
          87,
          61,
          94,
          70,
          92,
          88,
          100,
          111,
          128,
          63,
          63,
          62,
          62,
          98,
          104,
          110,
          87,
          126,
          103,
          111,
          100,
          112,
          96,
          71,
          86,
          99,
          125,
          147,
          88,
          40,
          79,
          110,
          101,
          128,
          110,
          79,
          87,
          133,
          116,
          119,
          53,
          82,
          99,
          87,
          90,
          124,
          53,
          88,
          54,
          104,
          92,
          126,
          140,
          87,
          93,
          80,
          92,
          64,
          72,
          148,
          110,
          119,
          163,
          125,
          87,
          96,
          91,
          122,
          125,
          49,
          95,
          99,
          98,
          98,
          90,
          97,
          97,
          86,
          114,
          96,
          99,
          88,
          66,
          70,
          168,
          98,
          89,
          100,
          90,
          77,
          100,
          102,
          98,
          92,
          116,
          111,
          91,
          99,
          99,
          99,
          98,
          73,
          113,
          153,
          81,
          54,
          138,
          93,
          123,
          96,
          101,
          59,
          53,
          102,
          141,
          95,
          111,
          131,
          116,
          119,
          146,
          101,
          82,
          90,
          87,
          95,
          94,
          129,
          94,
          103,
          133,
          135,
          61,
          85,
          91,
          105,
          59,
          91,
          94,
          89,
          131,
          136,
          170,
          91,
          128,
          88,
          97,
          110,
          170,
          92,
          94,
          92,
          113,
          59,
          126,
          86,
          120,
          76,
          60,
          118,
          88,
          55,
          110,
          113,
          110,
          94,
          54,
          53,
          103,
          126,
          89,
          124,
          128,
          88,
          83,
          96,
          118,
          91,
          91,
          53,
          103,
          108,
          88,
          81,
          124,
          102,
          98,
          132,
          87,
          89,
          109,
          75,
          126,
          61,
          126,
          108,
          89,
          100,
          129,
          71,
          108,
          101,
          60,
          105,
          115,
          118,
          130,
          101,
          115,
          99,
          69,
          97,
          61,
          87,
          97,
          101,
          92,
          123,
          108,
          104,
          98,
          65,
          88,
          106,
          69,
          97,
          80,
          85,
          99,
          98,
          115,
          138,
          90,
          86,
          90,
          117,
          132,
          127,
          125,
          128,
          126,
          58,
          87,
          98,
          116,
          90,
          111,
          100,
          123,
          106,
          100,
          104,
          99,
          105,
          128,
          91,
          127,
          100,
          131,
          104,
          94,
          124,
          106,
          108,
          104,
          103,
          100,
          79,
          92,
          116,
          83,
          118,
          162,
          162,
          126,
          109,
          109,
          89,
          111,
          89,
          97,
          108,
          103,
          88,
          120,
          90,
          99,
          83,
          107,
          109,
          105,
          87,
          93,
          90,
          89,
          131,
          114,
          92,
          75,
          107,
          97,
          90,
          98,
          100,
          103,
          66,
          106,
          125,
          77,
          130,
          119,
          110,
          120,
          102,
          125,
          103,
          127,
          121,
          101,
          113,
          118,
          132,
          106,
          116,
          117,
          90,
          61,
          90,
          107,
          80,
          58,
          58,
          56,
          110,
          70,
          117,
          89,
          84,
          131,
          91,
          103,
          100,
          139,
          103,
          42,
          79,
          90,
          88,
          96,
          114,
          99,
          89,
          103,
          127,
          113,
          111,
          112,
          96,
          103,
          104,
          102,
          86,
          97,
          111,
          132,
          89,
          102,
          120,
          137,
          82,
          85,
          115,
          107,
          130,
          57,
          62,
          112,
          26,
          102,
          93,
          111,
          93,
          91,
          118,
          63,
          74,
          136,
          90,
          132,
          101,
          59,
          84,
          91,
          93,
          91,
          84,
          101,
          110,
          82,
          100,
          52,
          51,
          127,
          86,
          107,
          22,
          22,
          22,
          44,
          91,
          99,
          105,
          105,
          88,
          128,
          24,
          113,
          52,
          50,
          49,
          92,
          110,
          106,
          120,
          83,
          123,
          56,
          141,
          97,
          118,
          95,
          127,
          118,
          74,
          91,
          137,
          86,
          106,
          125,
          114,
          143,
          121,
          119,
          108,
          150,
          88,
          105,
          119,
          97,
          96,
          91,
          49,
          95,
          98,
          96,
          83,
          96,
          90,
          97,
          99,
          94,
          90,
          88,
          105,
          118,
          86,
          127,
          88,
          125,
          116,
          102,
          65,
          88,
          106,
          117,
          91,
          93,
          136,
          116,
          121,
          89,
          104,
          65,
          91,
          99,
          91,
          117,
          135,
          135,
          91,
          95,
          75,
          95,
          82,
          124,
          106,
          86,
          115,
          99,
          101,
          142,
          102,
          122,
          95,
          120,
          96,
          92,
          110,
          133,
          143,
          111,
          144,
          121,
          99,
          93,
          100,
          102,
          123,
          127,
          116,
          119,
          105,
          134,
          90,
          93,
          93,
          108,
          115,
          119,
          61,
          109,
          97,
          154,
          120,
          148,
          121,
          95,
          102,
          87,
          114,
          48,
          124,
          101,
          28,
          34,
          61,
          56,
          81,
          68,
          58,
          100,
          50,
          49,
          71,
          29,
          108,
          125,
          72,
          100,
          30,
          30,
          146,
          127,
          46,
          57,
          87,
          90,
          86,
          122,
          97,
          312,
          109,
          122,
          116,
          73,
          96,
          91,
          110,
          115,
          150,
          90,
          89,
          93,
          105,
          105,
          124,
          105,
          44,
          91,
          95,
          78,
          22,
          95,
          82,
          89,
          90,
          94,
          85,
          29,
          96,
          101,
          137,
          27,
          112,
          112,
          107,
          153,
          123,
          90,
          84,
          78,
          79,
          73,
          83,
          83,
          87,
          145,
          135,
          109,
          35,
          86,
          68,
          107,
          110,
          86,
          85,
          75,
          90,
          105,
          124,
          110,
          96,
          110,
          58,
          105,
          59,
          28,
          98,
          111,
          116,
          106,
          63,
          109,
          88,
          155,
          119,
          122,
          87,
          73,
          98,
          130,
          99,
          105,
          110,
          81,
          115,
          113,
          146,
          118,
          122,
          109,
          68,
          117,
          23,
          95,
          124,
          90,
          96,
          96,
          123,
          85,
          93,
          30,
          82,
          95,
          127,
          120,
          114,
          119,
          101,
          96,
          120,
          139,
          95,
          44,
          104,
          110,
          91,
          91,
          114,
          91,
          64,
          89,
          95,
          86,
          94,
          133,
          102,
          122,
          86,
          111,
          132,
          111,
          136,
          121,
          76,
          92,
          119,
          45,
          75,
          71,
          81,
          115,
          128,
          92,
          95,
          114,
          99,
          132,
          106,
          122,
          79,
          78,
          111,
          112,
          107,
          102,
          81,
          129,
          90,
          86,
          116,
          59,
          95,
          122,
          98,
          103,
          117,
          95,
          146,
          136,
          91,
          123,
          144,
          103,
          11,
          22,
          126,
          121,
          91,
          158,
          157,
          124,
          106,
          92,
          80,
          94,
          126,
          129,
          133,
          109,
          143,
          140,
          150,
          128,
          120,
          154,
          45,
          132,
          126,
          95,
          91,
          135,
          139,
          131,
          118,
          129,
          131,
          146,
          123,
          141,
          93,
          91,
          58,
          91,
          112,
          119,
          106,
          131,
          95,
          104,
          126,
          118,
          116,
          122,
          105,
          90,
          87,
          102,
          89,
          94,
          100,
          126,
          89,
          90,
          87,
          97,
          115,
          93,
          138,
          74,
          102,
          103,
          119,
          104,
          161,
          51,
          50,
          86,
          140,
          122,
          23,
          95,
          205,
          123,
          190,
          121,
          131,
          80,
          63,
          150,
          159,
          131,
          130,
          99,
          86,
          106,
          57,
          97,
          118,
          98,
          144,
          110,
          96,
          57,
          98,
          119,
          92,
          94,
          151,
          74,
          89,
          124,
          25,
          84,
          121,
          85,
          25,
          121,
          88,
          111,
          81,
          64,
          55,
          137,
          56,
          58,
          80,
          94,
          94,
          72,
          60,
          140,
          91,
          97,
          146,
          118,
          133,
          106,
          128,
          137,
          145,
          141,
          106,
          61,
          135,
          137,
          129,
          99,
          155,
          142,
          214,
          137,
          128,
          89,
          67,
          151,
          121,
          101,
          145,
          147,
          90,
          129,
          129,
          136,
          117,
          74,
          150,
          134,
          100,
          44,
          44,
          111,
          147,
          115,
          121,
          103,
          73,
          129,
          102,
          122,
          155,
          139,
          131,
          127,
          156,
          91,
          132,
          130,
          137,
          132,
          156,
          132,
          119,
          140,
          101,
          126,
          107,
          112,
          111,
          126,
          130,
          126,
          24,
          127,
          108,
          163,
          117,
          95,
          103,
          110,
          111,
          91,
          101,
          124,
          63,
          102,
          103,
          112,
          103,
          92,
          93,
          112,
          113,
          92,
          153,
          111,
          141,
          128,
          52,
          117,
          100,
          112,
          110,
          98,
          107,
          109,
          100,
          114,
          98,
          100,
          100,
          123,
          86,
          77,
          112,
          106,
          106,
          102,
          86,
          146,
          122,
          126,
          116,
          135,
          125,
          96,
          130,
          135,
          88,
          96,
          100,
          122,
          110,
          104,
          96,
          109,
          95,
          110,
          110,
          79,
          101,
          112,
          94,
          94,
          86,
          84,
          95,
          93,
          113,
          111,
          68,
          135,
          95,
          93,
          101,
          98,
          90,
          112,
          141,
          120,
          140,
          87,
          99,
          86,
          104,
          100,
          50,
          124,
          57,
          31,
          90,
          96,
          196,
          93,
          110,
          162,
          139,
          130,
          145,
          88,
          91,
          91,
          102,
          95,
          33,
          119,
          114,
          100,
          54,
          150,
          108,
          90,
          101,
          104,
          88,
          93,
          79,
          92,
          90,
          86,
          90,
          103,
          86,
          108,
          97,
          92,
          101,
          83,
          85,
          85,
          106,
          86,
          131,
          105,
          134,
          85,
          203,
          120,
          91,
          124,
          95,
          12,
          104,
          92,
          143,
          127,
          100,
          74,
          104,
          148,
          127,
          96,
          82,
          158,
          124,
          163,
          74,
          121,
          154,
          127,
          128,
          98,
          124,
          109,
          168,
          89,
          162,
          159,
          137,
          133,
          125,
          127,
          131,
          90,
          89,
          88,
          125,
          88,
          94,
          83,
          89,
          118,
          109,
          87,
          105,
          79,
          133,
          147,
          92,
          103,
          119,
          80,
          110,
          128,
          88,
          86,
          70,
          66,
          72,
          122,
          117,
          98,
          126,
          115,
          86,
          108,
          94,
          151,
          88,
          97,
          92,
          102,
          93,
          126,
          82,
          86,
          105,
          101,
          100,
          57,
          95,
          101,
          128,
          99,
          113,
          108,
          105,
          109,
          93,
          82,
          95,
          84,
          106,
          122,
          108,
          94,
          103,
          106,
          124,
          92,
          88,
          68,
          72,
          93,
          102,
          69,
          125,
          99,
          89,
          95,
          92,
          95,
          133,
          112,
          85,
          85,
          84,
          118,
          99,
          109,
          103,
          94,
          105,
          101,
          103,
          86,
          91,
          95,
          99,
          90,
          88,
          85,
          98,
          94,
          71,
          95,
          124,
          108,
          87,
          95,
          108,
          110,
          113,
          71,
          75,
          75,
          97,
          83,
          93,
          66,
          83,
          110,
          88,
          112,
          77,
          91,
          58,
          69,
          61,
          100,
          88,
          128,
          122,
          60,
          126,
          166,
          113,
          88,
          151,
          107,
          42,
          94,
          130,
          87,
          116,
          77,
          117,
          84,
          92,
          130,
          103,
          89,
          109,
          104,
          114,
          133,
          101,
          137,
          88,
          88,
          115,
          120,
          104,
          114,
          128,
          125,
          38,
          102,
          96,
          94,
          69,
          92,
          90,
          101,
          77,
          89,
          90,
          98,
          88,
          49,
          152,
          66,
          103,
          95,
          79,
          89,
          75,
          78,
          89,
          74,
          119,
          70,
          104,
          48,
          121,
          106,
          74,
          106,
          113,
          119,
          82,
          76,
          95,
          100,
          110,
          66,
          99,
          131,
          86,
          118,
          126,
          130,
          99,
          89,
          136,
          131,
          165,
          110,
          85,
          92,
          89,
          117,
          114,
          63,
          94,
          74,
          103,
          58,
          94,
          92,
          104,
          117,
          89,
          87,
          129,
          160,
          66,
          150,
          158,
          118,
          100,
          90,
          64,
          92,
          63,
          105,
          76,
          67,
          99,
          69,
          91,
          92,
          87,
          100,
          113,
          40,
          105,
          94,
          109,
          116,
          99,
          89,
          92,
          82,
          70,
          131,
          105,
          130,
          69,
          98,
          90,
          105,
          106,
          126,
          84,
          65,
          121,
          163,
          92,
          124,
          107,
          19,
          25,
          22,
          40,
          22,
          24,
          103,
          45,
          101,
          60,
          90,
          96,
          98,
          94,
          74,
          112,
          115,
          92,
          93,
          95,
          105,
          117,
          66,
          110,
          97,
          78,
          102,
          62,
          90,
          97,
          105,
          79,
          90,
          129,
          92,
          109,
          77,
          107,
          69,
          87,
          91,
          99,
          105,
          99,
          108,
          66,
          94,
          93,
          75,
          96,
          95,
          32,
          70,
          94,
          117,
          78,
          100,
          91,
          115,
          122,
          107,
          109,
          104,
          95,
          110,
          100,
          93,
          104,
          134,
          75,
          100,
          105,
          104,
          101,
          96,
          80,
          75,
          75,
          79,
          78,
          75,
          78,
          166,
          90,
          132,
          91,
          117,
          103,
          100,
          176,
          91,
          49,
          97,
          116,
          90,
          60,
          149,
          86,
          171,
          103,
          116,
          169,
          134,
          159,
          130,
          103,
          173,
          195,
          111,
          99,
          110,
          32,
          94,
          87,
          103,
          78,
          108,
          62,
          97,
          102,
          95,
          106,
          115,
          76,
          80,
          102,
          99,
          82,
          74,
          100,
          150,
          90,
          75,
          103,
          87,
          88,
          63,
          127,
          129,
          120,
          138,
          129,
          137,
          91,
          103,
          145,
          23,
          25,
          92,
          83,
          81,
          115,
          150,
          106,
          115,
          140,
          79,
          104,
          52,
          90,
          83,
          97,
          85,
          69,
          94,
          121,
          40,
          89,
          94,
          90,
          86,
          100,
          84,
          58,
          95,
          92,
          78,
          51,
          69,
          104,
          101,
          59,
          91,
          153,
          61,
          149,
          94,
          79,
          137,
          53,
          166,
          162,
          92,
          93,
          155,
          158,
          138,
          151,
          96,
          106,
          141,
          127,
          130,
          140,
          145,
          132,
          41,
          110,
          170,
          157,
          165,
          114,
          143,
          106,
          73,
          71,
          161,
          187,
          127,
          165,
          117,
          134,
          116,
          94,
          168,
          109,
          148,
          135,
          127,
          115,
          150,
          87,
          127,
          185,
          75,
          177,
          81,
          137,
          118,
          124,
          123,
          90,
          91,
          87,
          89,
          81,
          47,
          46,
          173,
          108,
          125,
          124,
          137,
          171,
          160,
          87,
          110,
          69,
          67,
          92,
          96,
          92,
          85,
          105,
          127,
          109,
          150,
          100,
          73,
          93,
          91,
          87,
          134,
          118,
          85,
          60,
          96,
          133,
          118,
          150,
          132,
          121,
          127,
          152,
          126,
          104,
          162,
          120,
          65,
          133,
          110,
          96,
          95,
          24,
          97,
          94,
          65,
          84,
          91,
          97,
          102,
          93,
          105,
          53,
          116,
          102,
          81,
          93,
          97,
          94,
          90,
          110,
          88,
          80,
          86,
          143,
          84,
          42,
          117,
          96,
          78,
          96,
          69,
          74,
          108,
          91,
          68,
          92,
          102,
          61,
          57,
          85,
          49,
          87,
          85,
          59,
          97,
          104,
          77,
          63,
          69,
          86,
          62,
          108,
          95,
          99,
          62,
          106,
          117,
          60,
          94,
          147,
          94,
          89,
          89,
          89,
          111,
          118,
          153,
          87,
          122,
          97,
          121,
          124,
          68,
          94,
          100,
          71,
          76,
          60,
          89,
          92,
          63,
          135,
          112,
          88,
          97,
          83,
          89,
          86,
          52,
          126,
          133,
          90,
          91,
          104,
          105,
          123,
          89,
          87,
          91,
          102,
          106,
          102,
          91,
          87,
          103,
          193,
          176,
          124,
          135,
          106,
          133,
          107,
          78,
          192,
          55,
          132,
          148,
          46,
          46,
          46,
          74,
          46,
          50,
          114,
          117,
          108,
          97,
          122,
          115,
          104,
          140,
          101,
          99,
          102,
          94,
          92,
          125,
          82,
          151,
          85,
          86,
          93,
          49,
          82,
          100,
          55,
          53,
          87,
          102,
          112,
          105,
          106,
          89,
          91,
          61,
          94,
          93,
          80,
          118,
          141,
          94,
          84,
          103,
          85,
          69,
          100,
          85,
          97,
          129,
          143,
          90,
          92,
          81,
          105,
          91,
          111,
          103,
          118,
          148,
          88,
          75,
          89,
          128,
          86,
          83,
          109,
          111,
          40,
          70,
          108,
          106,
          106,
          81,
          94,
          102,
          102,
          89,
          162,
          147,
          224,
          137,
          109,
          163,
          162,
          104,
          91,
          27,
          67,
          142,
          78,
          26,
          123,
          113,
          92,
          46,
          124,
          81,
          97,
          81,
          119,
          149,
          106,
          140,
          121,
          87,
          99,
          96,
          128,
          76,
          94,
          114,
          101,
          93,
          109,
          51,
          61,
          73,
          113,
          125,
          92,
          94,
          65,
          135,
          86,
          80,
          142,
          131,
          66,
          88,
          99,
          96,
          126,
          65,
          54,
          76,
          100,
          81,
          123,
          144,
          153,
          105,
          103,
          141,
          115,
          120,
          104,
          22,
          97,
          54,
          120,
          132,
          135,
          87,
          82,
          158,
          107,
          122,
          62,
          95,
          98,
          113,
          94,
          120,
          92,
          132,
          84,
          76,
          75,
          93,
          98,
          91,
          48,
          168,
          68,
          97,
          115,
          148,
          149,
          113,
          137,
          140,
          144,
          103,
          90,
          95,
          82,
          94,
          79,
          66,
          135,
          96,
          144,
          108,
          127,
          127,
          90,
          126,
          121,
          119,
          109,
          132,
          118,
          84,
          93,
          96,
          145,
          158,
          132,
          111,
          133,
          143,
          117,
          84,
          107,
          83,
          102,
          52,
          110,
          85,
          113,
          88,
          89,
          59,
          80,
          107,
          106,
          90,
          66,
          92,
          101,
          135,
          107,
          74,
          74,
          74,
          83,
          79,
          72,
          80,
          75,
          75,
          72,
          80,
          93,
          79,
          86,
          107,
          47,
          107,
          119,
          108,
          85,
          90,
          72,
          23,
          68,
          85,
          84,
          118,
          116,
          89,
          81,
          73,
          140,
          130,
          103,
          40,
          103,
          85,
          106,
          104,
          82,
          94,
          81,
          91,
          112,
          102,
          101,
          119,
          62,
          64,
          137,
          108,
          132,
          87,
          92,
          108,
          78,
          40,
          71,
          89,
          99,
          110,
          60,
          90,
          78,
          95,
          58,
          62,
          65,
          61,
          65,
          58,
          60,
          135,
          98,
          96,
          79,
          113,
          90,
          114,
          79,
          98,
          70,
          116,
          139,
          101,
          148,
          54,
          92,
          107,
          90,
          135,
          52,
          151,
          90,
          88,
          99,
          99,
          132,
          95,
          155,
          162,
          163,
          102,
          96,
          85,
          97,
          95,
          83,
          89,
          28,
          103,
          84,
          160,
          113,
          99,
          86,
          83,
          113,
          86,
          78,
          96,
          95,
          57,
          92,
          81,
          98,
          95,
          105,
          116,
          100,
          95,
          70,
          51,
          94,
          83,
          92,
          88,
          104,
          104,
          104,
          124,
          113,
          124,
          96,
          101,
          63,
          56,
          92,
          91,
          94,
          94,
          82,
          100,
          90,
          71,
          97,
          89,
          83,
          98,
          92,
          88,
          62,
          165,
          166,
          166,
          159,
          160,
          159,
          93,
          95,
          22,
          22,
          105,
          101,
          124,
          100,
          54,
          121,
          103,
          129,
          89,
          92,
          111,
          92,
          91,
          172,
          45,
          95,
          80,
          67,
          84,
          97,
          86,
          59,
          58,
          47,
          114,
          103,
          93,
          84,
          67,
          91,
          110,
          110,
          84,
          63,
          94,
          116,
          104,
          143,
          116,
          14,
          89,
          108,
          59,
          99,
          74,
          103,
          105,
          84,
          109,
          96,
          78,
          83,
          89,
          97,
          95,
          106,
          116,
          91,
          90,
          86,
          97,
          170,
          153,
          104,
          162,
          163,
          106,
          108,
          130,
          133,
          148,
          105,
          90,
          79,
          121,
          66,
          102,
          108,
          139,
          91,
          90,
          81,
          96,
          72,
          89,
          92,
          81,
          161,
          92,
          24,
          66,
          100,
          122,
          91,
          81,
          92,
          77,
          104,
          73,
          102,
          82,
          47,
          98,
          102,
          112,
          85,
          108,
          87,
          84,
          107,
          117,
          89,
          119,
          88,
          126,
          130,
          102,
          154,
          44,
          104,
          76,
          96,
          63,
          108,
          105,
          47,
          44,
          109,
          89,
          92,
          122,
          19,
          154,
          152,
          161,
          123,
          44,
          106,
          80,
          71,
          87,
          153,
          98,
          79,
          143,
          123,
          97,
          80,
          73,
          90,
          106,
          101,
          119,
          140,
          59,
          164,
          92,
          151,
          84,
          51,
          142,
          66,
          110,
          99,
          86,
          101,
          88,
          86,
          151,
          116,
          128,
          128,
          86,
          88,
          80,
          61,
          92,
          82,
          81,
          72,
          98,
          64,
          95,
          96,
          111,
          127,
          117,
          123,
          139,
          95,
          148,
          121,
          79,
          127,
          92,
          162,
          163,
          83,
          112,
          117,
          90,
          95,
          99,
          125,
          44,
          93,
          89,
          92,
          120,
          114,
          109,
          83,
          107,
          129,
          135,
          149,
          136,
          138,
          177,
          61,
          126,
          137,
          114,
          104,
          96,
          147,
          107,
          91,
          81,
          53,
          95,
          95,
          149,
          106,
          108,
          66,
          54,
          55,
          55,
          55,
          55,
          113,
          83,
          53,
          102,
          95,
          50,
          97,
          92,
          97,
          105,
          107,
          99,
          101,
          81,
          92,
          131,
          111,
          104,
          99,
          101,
          71,
          96,
          85,
          106,
          119,
          84,
          85,
          110,
          89,
          76,
          74,
          103,
          101,
          98,
          74,
          156,
          88,
          70,
          88,
          93,
          143,
          83,
          90,
          107,
          93,
          99,
          134,
          77,
          78,
          101,
          53,
          81,
          106,
          84,
          51,
          90,
          77,
          95,
          63,
          58,
          59,
          52,
          32,
          18,
          102,
          40,
          40,
          42,
          76,
          61,
          82,
          45,
          92,
          118,
          91,
          63,
          110,
          91,
          93,
          93,
          108,
          72,
          114,
          91,
          97,
          118,
          92,
          91,
          137,
          97,
          101,
          143,
          97,
          107,
          168,
          117,
          103,
          80,
          87,
          160,
          88,
          85,
          104,
          62,
          109,
          103,
          99,
          102,
          97,
          99,
          101,
          102,
          102,
          107,
          99,
          106,
          103,
          123,
          98,
          118,
          100,
          101,
          103,
          101,
          104,
          104,
          100,
          136,
          102,
          105,
          24,
          110,
          105,
          105,
          102,
          98,
          118,
          106,
          106,
          92,
          92,
          91,
          83,
          123,
          90,
          57,
          103,
          92,
          52,
          52,
          87,
          56,
          115,
          53,
          94,
          118,
          92,
          98,
          125,
          113,
          110,
          71,
          108,
          123,
          97,
          99,
          97,
          100,
          98,
          75,
          54,
          54,
          55,
          54,
          55,
          67,
          129,
          105,
          78,
          99,
          96,
          95,
          87,
          134,
          119,
          128,
          128,
          91,
          109,
          79,
          88,
          107,
          92,
          88,
          71,
          64,
          83,
          124,
          123,
          97,
          96,
          150,
          91,
          79,
          93,
          54,
          73,
          88,
          109,
          93,
          78,
          86,
          94,
          116,
          154,
          90,
          179,
          93,
          97,
          80,
          88,
          99,
          104,
          94,
          77,
          111,
          108,
          92,
          78,
          87,
          99,
          91,
          37,
          102,
          67,
          57,
          78,
          130,
          80,
          90,
          93,
          66,
          93,
          119,
          90,
          105,
          83,
          96,
          84,
          98,
          91,
          89,
          90,
          89,
          123,
          117,
          100,
          91,
          87,
          146,
          82,
          104,
          85,
          109,
          74,
          94,
          84,
          98,
          82,
          22,
          141,
          95,
          117,
          100,
          75,
          69,
          80,
          97,
          92,
          92,
          85,
          83,
          118,
          84,
          52,
          84,
          146,
          93,
          97,
          90,
          75,
          93,
          62,
          98,
          92,
          22,
          115,
          88,
          87,
          86,
          94,
          105,
          88,
          88,
          86,
          93,
          98,
          29,
          88,
          93,
          81,
          83,
          31,
          83,
          73,
          38,
          108,
          90,
          97,
          81,
          70,
          62,
          104,
          97,
          99,
          96,
          84,
          112,
          90,
          88,
          56,
          89,
          24,
          100,
          116,
          101,
          92,
          79,
          67,
          72,
          96,
          103,
          92,
          61,
          88,
          88,
          113,
          67,
          65,
          62,
          107,
          85,
          69,
          60,
          77,
          98,
          71,
          101,
          64,
          112,
          125,
          125,
          59,
          91,
          44,
          107,
          101,
          93,
          82,
          86,
          81,
          92,
          89,
          107,
          94,
          110,
          81,
          77,
          64,
          111,
          97,
          77,
          94,
          94,
          91,
          93,
          95,
          80,
          95,
          90,
          101,
          73,
          108,
          25,
          86,
          105,
          100,
          96,
          97,
          73,
          44,
          132,
          96,
          92,
          99,
          92,
          99,
          78,
          87,
          65,
          65,
          69,
          64,
          63,
          63,
          89,
          60,
          84,
          93,
          41,
          91,
          83,
          25,
          94,
          102,
          111,
          88,
          93,
          29,
          88,
          103,
          107,
          52,
          91,
          180,
          75,
          92,
          90,
          114,
          80,
          99,
          79,
          66,
          46,
          90,
          72,
          71,
          77,
          70,
          73,
          107,
          81,
          86,
          63,
          44,
          128,
          51,
          45,
          46,
          112,
          87,
          87,
          106,
          100,
          101,
          117,
          114,
          94,
          100,
          96,
          58,
          87,
          81,
          96,
          52,
          114,
          105,
          157,
          84,
          91,
          80,
          97,
          105,
          96,
          60,
          79,
          93,
          95,
          99,
          109,
          96,
          102,
          107,
          60,
          86,
          29,
          163,
          98,
          101,
          91,
          99,
          74,
          66,
          76,
          95,
          127,
          86,
          116,
          82,
          70,
          102,
          88,
          109,
          75,
          23,
          83,
          97,
          62,
          84,
          90,
          82,
          96,
          65,
          92,
          90,
          93,
          91,
          100,
          101,
          103,
          74,
          44,
          43,
          95,
          94,
          68,
          72,
          47,
          52,
          92,
          107,
          108,
          74,
          110,
          24,
          46,
          24,
          55,
          24,
          23,
          24,
          24,
          101,
          29,
          60,
          60,
          78,
          73,
          72,
          60,
          47,
          70,
          77,
          120,
          74,
          57,
          72,
          78,
          91,
          62,
          85,
          85,
          90,
          105,
          59,
          137,
          86,
          135,
          99,
          64,
          72,
          83,
          82,
          90,
          80,
          130,
          62,
          90,
          92,
          155,
          78,
          92,
          60,
          69,
          103,
          92,
          143,
          83,
          78,
          84,
          78,
          93,
          84,
          77,
          58,
          82,
          83,
          100,
          29,
          72,
          26,
          48,
          73,
          103,
          81,
          75,
          100,
          90,
          68,
          71,
          71,
          100,
          94,
          80,
          78,
          35,
          72,
          93,
          105,
          130,
          100,
          44,
          80,
          72,
          75,
          26,
          84,
          120,
          76,
          95,
          96,
          94,
          94,
          93,
          96,
          94,
          94,
          93,
          95,
          93,
          75,
          103,
          84,
          29,
          104,
          81
         ],
         "xaxis": "x",
         "y": [
          "Movie Duration",
          "Movie Duration",
          "Movie Duration",
          "Movie Duration",
          "Movie Duration",
          "Movie Duration",
          "Movie Duration",
          "Movie Duration",
          "Movie Duration",
          "Movie Duration",
          "Movie Duration",
          "Movie Duration",
          "Movie Duration",
          "Movie Duration",
          "Movie Duration",
          "Movie Duration",
          "Movie Duration",
          "Movie Duration",
          "Movie Duration",
          "Movie Duration",
          "Movie Duration",
          "Movie Duration",
          "Movie Duration",
          "Movie Duration",
          "Movie Duration",
          "Movie Duration",
          "Movie Duration",
          "Movie Duration",
          "Movie Duration",
          "Movie Duration",
          "Movie Duration",
          "Movie Duration",
          "Movie Duration",
          "Movie Duration",
          "Movie Duration",
          "Movie Duration",
          "Movie Duration",
          "Movie Duration",
          "Movie Duration",
          "Movie Duration",
          "Movie Duration",
          "Movie Duration",
          "Movie Duration",
          "Movie Duration",
          "Movie Duration",
          "Movie Duration",
          "Movie Duration",
          "Movie Duration",
          "Movie Duration",
          "Movie Duration",
          "Movie Duration",
          "Movie Duration",
          "Movie Duration",
          "Movie Duration",
          "Movie Duration",
          "Movie Duration",
          "Movie Duration",
          "Movie Duration",
          "Movie Duration",
          "Movie Duration",
          "Movie Duration",
          "Movie Duration",
          "Movie Duration",
          "Movie Duration",
          "Movie Duration",
          "Movie Duration",
          "Movie Duration",
          "Movie Duration",
          "Movie Duration",
          "Movie Duration",
          "Movie Duration",
          "Movie Duration",
          "Movie Duration",
          "Movie Duration",
          "Movie Duration",
          "Movie Duration",
          "Movie Duration",
          "Movie Duration",
          "Movie Duration",
          "Movie Duration",
          "Movie Duration",
          "Movie Duration",
          "Movie Duration",
          "Movie Duration",
          "Movie Duration",
          "Movie Duration",
          "Movie Duration",
          "Movie Duration",
          "Movie Duration",
          "Movie Duration",
          "Movie Duration",
          "Movie Duration",
          "Movie Duration",
          "Movie Duration",
          "Movie Duration",
          "Movie Duration",
          "Movie Duration",
          "Movie Duration",
          "Movie Duration",
          "Movie Duration",
          "Movie Duration",
          "Movie Duration",
          "Movie Duration",
          "Movie Duration",
          "Movie Duration",
          "Movie Duration",
          "Movie Duration",
          "Movie Duration",
          "Movie Duration",
          "Movie Duration",
          "Movie Duration",
          "Movie Duration",
          "Movie Duration",
          "Movie Duration",
          "Movie Duration",
          "Movie Duration",
          "Movie Duration",
          "Movie Duration",
          "Movie Duration",
          "Movie Duration",
          "Movie Duration",
          "Movie Duration",
          "Movie Duration",
          "Movie Duration",
          "Movie Duration",
          "Movie Duration",
          "Movie Duration",
          "Movie Duration",
          "Movie Duration",
          "Movie Duration",
          "Movie Duration",
          "Movie Duration",
          "Movie Duration",
          "Movie Duration",
          "Movie Duration",
          "Movie Duration",
          "Movie Duration",
          "Movie Duration",
          "Movie Duration",
          "Movie Duration",
          "Movie Duration",
          "Movie Duration",
          "Movie Duration",
          "Movie Duration",
          "Movie Duration",
          "Movie Duration",
          "Movie Duration",
          "Movie Duration",
          "Movie Duration",
          "Movie Duration",
          "Movie Duration",
          "Movie Duration",
          "Movie Duration",
          "Movie Duration",
          "Movie Duration",
          "Movie Duration",
          "Movie Duration",
          "Movie Duration",
          "Movie Duration",
          "Movie Duration",
          "Movie Duration",
          "Movie Duration",
          "Movie Duration",
          "Movie Duration",
          "Movie Duration",
          "Movie Duration",
          "Movie Duration",
          "Movie Duration",
          "Movie Duration",
          "Movie Duration",
          "Movie Duration",
          "Movie Duration",
          "Movie Duration",
          "Movie Duration",
          "Movie Duration",
          "Movie Duration",
          "Movie Duration",
          "Movie Duration",
          "Movie Duration",
          "Movie Duration",
          "Movie Duration",
          "Movie Duration",
          "Movie Duration",
          "Movie Duration",
          "Movie Duration",
          "Movie Duration",
          "Movie Duration",
          "Movie Duration",
          "Movie Duration",
          "Movie Duration",
          "Movie Duration",
          "Movie Duration",
          "Movie Duration",
          "Movie Duration",
          "Movie Duration",
          "Movie Duration",
          "Movie Duration",
          "Movie Duration",
          "Movie Duration",
          "Movie Duration",
          "Movie Duration",
          "Movie Duration",
          "Movie Duration",
          "Movie Duration",
          "Movie Duration",
          "Movie Duration",
          "Movie Duration",
          "Movie Duration",
          "Movie Duration",
          "Movie Duration",
          "Movie Duration",
          "Movie Duration",
          "Movie Duration",
          "Movie Duration",
          "Movie Duration",
          "Movie Duration",
          "Movie Duration",
          "Movie Duration",
          "Movie Duration",
          "Movie Duration",
          "Movie Duration",
          "Movie Duration",
          "Movie Duration",
          "Movie Duration",
          "Movie Duration",
          "Movie Duration",
          "Movie Duration",
          "Movie Duration",
          "Movie Duration",
          "Movie Duration",
          "Movie Duration",
          "Movie Duration",
          "Movie Duration",
          "Movie Duration",
          "Movie Duration",
          "Movie Duration",
          "Movie Duration",
          "Movie Duration",
          "Movie Duration",
          "Movie Duration",
          "Movie Duration",
          "Movie Duration",
          "Movie Duration",
          "Movie Duration",
          "Movie Duration",
          "Movie Duration",
          "Movie Duration",
          "Movie Duration",
          "Movie Duration",
          "Movie Duration",
          "Movie Duration",
          "Movie Duration",
          "Movie Duration",
          "Movie Duration",
          "Movie Duration",
          "Movie Duration",
          "Movie Duration",
          "Movie Duration",
          "Movie Duration",
          "Movie Duration",
          "Movie Duration",
          "Movie Duration",
          "Movie Duration",
          "Movie Duration",
          "Movie Duration",
          "Movie Duration",
          "Movie Duration",
          "Movie Duration",
          "Movie Duration",
          "Movie Duration",
          "Movie Duration",
          "Movie Duration",
          "Movie Duration",
          "Movie Duration",
          "Movie Duration",
          "Movie Duration",
          "Movie Duration",
          "Movie Duration",
          "Movie Duration",
          "Movie Duration",
          "Movie Duration",
          "Movie Duration",
          "Movie Duration",
          "Movie Duration",
          "Movie Duration",
          "Movie Duration",
          "Movie Duration",
          "Movie Duration",
          "Movie Duration",
          "Movie Duration",
          "Movie Duration",
          "Movie Duration",
          "Movie Duration",
          "Movie Duration",
          "Movie Duration",
          "Movie Duration",
          "Movie Duration",
          "Movie Duration",
          "Movie Duration",
          "Movie Duration",
          "Movie Duration",
          "Movie Duration",
          "Movie Duration",
          "Movie Duration",
          "Movie Duration",
          "Movie Duration",
          "Movie Duration",
          "Movie Duration",
          "Movie Duration",
          "Movie Duration",
          "Movie Duration",
          "Movie Duration",
          "Movie Duration",
          "Movie Duration",
          "Movie Duration",
          "Movie Duration",
          "Movie Duration",
          "Movie Duration",
          "Movie Duration",
          "Movie Duration",
          "Movie Duration",
          "Movie Duration",
          "Movie Duration",
          "Movie Duration",
          "Movie Duration",
          "Movie Duration",
          "Movie Duration",
          "Movie Duration",
          "Movie Duration",
          "Movie Duration",
          "Movie Duration",
          "Movie Duration",
          "Movie Duration",
          "Movie Duration",
          "Movie Duration",
          "Movie Duration",
          "Movie Duration",
          "Movie Duration",
          "Movie Duration",
          "Movie Duration",
          "Movie Duration",
          "Movie Duration",
          "Movie Duration",
          "Movie Duration",
          "Movie Duration",
          "Movie Duration",
          "Movie Duration",
          "Movie Duration",
          "Movie Duration",
          "Movie Duration",
          "Movie Duration",
          "Movie Duration",
          "Movie Duration",
          "Movie Duration",
          "Movie Duration",
          "Movie Duration",
          "Movie Duration",
          "Movie Duration",
          "Movie Duration",
          "Movie Duration",
          "Movie Duration",
          "Movie Duration",
          "Movie Duration",
          "Movie Duration",
          "Movie Duration",
          "Movie Duration",
          "Movie Duration",
          "Movie Duration",
          "Movie Duration",
          "Movie Duration",
          "Movie Duration",
          "Movie Duration",
          "Movie Duration",
          "Movie Duration",
          "Movie Duration",
          "Movie Duration",
          "Movie Duration",
          "Movie Duration",
          "Movie Duration",
          "Movie Duration",
          "Movie Duration",
          "Movie Duration",
          "Movie Duration",
          "Movie Duration",
          "Movie Duration",
          "Movie Duration",
          "Movie Duration",
          "Movie Duration",
          "Movie Duration",
          "Movie Duration",
          "Movie Duration",
          "Movie Duration",
          "Movie Duration",
          "Movie Duration",
          "Movie Duration",
          "Movie Duration",
          "Movie Duration",
          "Movie Duration",
          "Movie Duration",
          "Movie Duration",
          "Movie Duration",
          "Movie Duration",
          "Movie Duration",
          "Movie Duration",
          "Movie Duration",
          "Movie Duration",
          "Movie Duration",
          "Movie Duration",
          "Movie Duration",
          "Movie Duration",
          "Movie Duration",
          "Movie Duration",
          "Movie Duration",
          "Movie Duration",
          "Movie Duration",
          "Movie Duration",
          "Movie Duration",
          "Movie Duration",
          "Movie Duration",
          "Movie Duration",
          "Movie Duration",
          "Movie Duration",
          "Movie Duration",
          "Movie Duration",
          "Movie Duration",
          "Movie Duration",
          "Movie Duration",
          "Movie Duration",
          "Movie Duration",
          "Movie Duration",
          "Movie Duration",
          "Movie Duration",
          "Movie Duration",
          "Movie Duration",
          "Movie Duration",
          "Movie Duration",
          "Movie Duration",
          "Movie Duration",
          "Movie Duration",
          "Movie Duration",
          "Movie Duration",
          "Movie Duration",
          "Movie Duration",
          "Movie Duration",
          "Movie Duration",
          "Movie Duration",
          "Movie Duration",
          "Movie Duration",
          "Movie Duration",
          "Movie Duration",
          "Movie Duration",
          "Movie Duration",
          "Movie Duration",
          "Movie Duration",
          "Movie Duration",
          "Movie Duration",
          "Movie Duration",
          "Movie Duration",
          "Movie Duration",
          "Movie Duration",
          "Movie Duration",
          "Movie Duration",
          "Movie Duration",
          "Movie Duration",
          "Movie Duration",
          "Movie Duration",
          "Movie Duration",
          "Movie Duration",
          "Movie Duration",
          "Movie Duration",
          "Movie Duration",
          "Movie Duration",
          "Movie Duration",
          "Movie Duration",
          "Movie Duration",
          "Movie Duration",
          "Movie Duration",
          "Movie Duration",
          "Movie Duration",
          "Movie Duration",
          "Movie Duration",
          "Movie Duration",
          "Movie Duration",
          "Movie Duration",
          "Movie Duration",
          "Movie Duration",
          "Movie Duration",
          "Movie Duration",
          "Movie Duration",
          "Movie Duration",
          "Movie Duration",
          "Movie Duration",
          "Movie Duration",
          "Movie Duration",
          "Movie Duration",
          "Movie Duration",
          "Movie Duration",
          "Movie Duration",
          "Movie Duration",
          "Movie Duration",
          "Movie Duration",
          "Movie Duration",
          "Movie Duration",
          "Movie Duration",
          "Movie Duration",
          "Movie Duration",
          "Movie Duration",
          "Movie Duration",
          "Movie Duration",
          "Movie Duration",
          "Movie Duration",
          "Movie Duration",
          "Movie Duration",
          "Movie Duration",
          "Movie Duration",
          "Movie Duration",
          "Movie Duration",
          "Movie Duration",
          "Movie Duration",
          "Movie Duration",
          "Movie Duration",
          "Movie Duration",
          "Movie Duration",
          "Movie Duration",
          "Movie Duration",
          "Movie Duration",
          "Movie Duration",
          "Movie Duration",
          "Movie Duration",
          "Movie Duration",
          "Movie Duration",
          "Movie Duration",
          "Movie Duration",
          "Movie Duration",
          "Movie Duration",
          "Movie Duration",
          "Movie Duration",
          "Movie Duration",
          "Movie Duration",
          "Movie Duration",
          "Movie Duration",
          "Movie Duration",
          "Movie Duration",
          "Movie Duration",
          "Movie Duration",
          "Movie Duration",
          "Movie Duration",
          "Movie Duration",
          "Movie Duration",
          "Movie Duration",
          "Movie Duration",
          "Movie Duration",
          "Movie Duration",
          "Movie Duration",
          "Movie Duration",
          "Movie Duration",
          "Movie Duration",
          "Movie Duration",
          "Movie Duration",
          "Movie Duration",
          "Movie Duration",
          "Movie Duration",
          "Movie Duration",
          "Movie Duration",
          "Movie Duration",
          "Movie Duration",
          "Movie Duration",
          "Movie Duration",
          "Movie Duration",
          "Movie Duration",
          "Movie Duration",
          "Movie Duration",
          "Movie Duration",
          "Movie Duration",
          "Movie Duration",
          "Movie Duration",
          "Movie Duration",
          "Movie Duration",
          "Movie Duration",
          "Movie Duration",
          "Movie Duration",
          "Movie Duration",
          "Movie Duration",
          "Movie Duration",
          "Movie Duration",
          "Movie Duration",
          "Movie Duration",
          "Movie Duration",
          "Movie Duration",
          "Movie Duration",
          "Movie Duration",
          "Movie Duration",
          "Movie Duration",
          "Movie Duration",
          "Movie Duration",
          "Movie Duration",
          "Movie Duration",
          "Movie Duration",
          "Movie Duration",
          "Movie Duration",
          "Movie Duration",
          "Movie Duration",
          "Movie Duration",
          "Movie Duration",
          "Movie Duration",
          "Movie Duration",
          "Movie Duration",
          "Movie Duration",
          "Movie Duration",
          "Movie Duration",
          "Movie Duration",
          "Movie Duration",
          "Movie Duration",
          "Movie Duration",
          "Movie Duration",
          "Movie Duration",
          "Movie Duration",
          "Movie Duration",
          "Movie Duration",
          "Movie Duration",
          "Movie Duration",
          "Movie Duration",
          "Movie Duration",
          "Movie Duration",
          "Movie Duration",
          "Movie Duration",
          "Movie Duration",
          "Movie Duration",
          "Movie Duration",
          "Movie Duration",
          "Movie Duration",
          "Movie Duration",
          "Movie Duration",
          "Movie Duration",
          "Movie Duration",
          "Movie Duration",
          "Movie Duration",
          "Movie Duration",
          "Movie Duration",
          "Movie Duration",
          "Movie Duration",
          "Movie Duration",
          "Movie Duration",
          "Movie Duration",
          "Movie Duration",
          "Movie Duration",
          "Movie Duration",
          "Movie Duration",
          "Movie Duration",
          "Movie Duration",
          "Movie Duration",
          "Movie Duration",
          "Movie Duration",
          "Movie Duration",
          "Movie Duration",
          "Movie Duration",
          "Movie Duration",
          "Movie Duration",
          "Movie Duration",
          "Movie Duration",
          "Movie Duration",
          "Movie Duration",
          "Movie Duration",
          "Movie Duration",
          "Movie Duration",
          "Movie Duration",
          "Movie Duration",
          "Movie Duration",
          "Movie Duration",
          "Movie Duration",
          "Movie Duration",
          "Movie Duration",
          "Movie Duration",
          "Movie Duration",
          "Movie Duration",
          "Movie Duration",
          "Movie Duration",
          "Movie Duration",
          "Movie Duration",
          "Movie Duration",
          "Movie Duration",
          "Movie Duration",
          "Movie Duration",
          "Movie Duration",
          "Movie Duration",
          "Movie Duration",
          "Movie Duration",
          "Movie Duration",
          "Movie Duration",
          "Movie Duration",
          "Movie Duration",
          "Movie Duration",
          "Movie Duration",
          "Movie Duration",
          "Movie Duration",
          "Movie Duration",
          "Movie Duration",
          "Movie Duration",
          "Movie Duration",
          "Movie Duration",
          "Movie Duration",
          "Movie Duration",
          "Movie Duration",
          "Movie Duration",
          "Movie Duration",
          "Movie Duration",
          "Movie Duration",
          "Movie Duration",
          "Movie Duration",
          "Movie Duration",
          "Movie Duration",
          "Movie Duration",
          "Movie Duration",
          "Movie Duration",
          "Movie Duration",
          "Movie Duration",
          "Movie Duration",
          "Movie Duration",
          "Movie Duration",
          "Movie Duration",
          "Movie Duration",
          "Movie Duration",
          "Movie Duration",
          "Movie Duration",
          "Movie Duration",
          "Movie Duration",
          "Movie Duration",
          "Movie Duration",
          "Movie Duration",
          "Movie Duration",
          "Movie Duration",
          "Movie Duration",
          "Movie Duration",
          "Movie Duration",
          "Movie Duration",
          "Movie Duration",
          "Movie Duration",
          "Movie Duration",
          "Movie Duration",
          "Movie Duration",
          "Movie Duration",
          "Movie Duration",
          "Movie Duration",
          "Movie Duration",
          "Movie Duration",
          "Movie Duration",
          "Movie Duration",
          "Movie Duration",
          "Movie Duration",
          "Movie Duration",
          "Movie Duration",
          "Movie Duration",
          "Movie Duration",
          "Movie Duration",
          "Movie Duration",
          "Movie Duration",
          "Movie Duration",
          "Movie Duration",
          "Movie Duration",
          "Movie Duration",
          "Movie Duration",
          "Movie Duration",
          "Movie Duration",
          "Movie Duration",
          "Movie Duration",
          "Movie Duration",
          "Movie Duration",
          "Movie Duration",
          "Movie Duration",
          "Movie Duration",
          "Movie Duration",
          "Movie Duration",
          "Movie Duration",
          "Movie Duration",
          "Movie Duration",
          "Movie Duration",
          "Movie Duration",
          "Movie Duration",
          "Movie Duration",
          "Movie Duration",
          "Movie Duration",
          "Movie Duration",
          "Movie Duration",
          "Movie Duration",
          "Movie Duration",
          "Movie Duration",
          "Movie Duration",
          "Movie Duration",
          "Movie Duration",
          "Movie Duration",
          "Movie Duration",
          "Movie Duration",
          "Movie Duration",
          "Movie Duration",
          "Movie Duration",
          "Movie Duration",
          "Movie Duration",
          "Movie Duration",
          "Movie Duration",
          "Movie Duration",
          "Movie Duration",
          "Movie Duration",
          "Movie Duration",
          "Movie Duration",
          "Movie Duration",
          "Movie Duration",
          "Movie Duration",
          "Movie Duration",
          "Movie Duration",
          "Movie Duration",
          "Movie Duration",
          "Movie Duration",
          "Movie Duration",
          "Movie Duration",
          "Movie Duration",
          "Movie Duration",
          "Movie Duration",
          "Movie Duration",
          "Movie Duration",
          "Movie Duration",
          "Movie Duration",
          "Movie Duration",
          "Movie Duration",
          "Movie Duration",
          "Movie Duration",
          "Movie Duration",
          "Movie Duration",
          "Movie Duration",
          "Movie Duration",
          "Movie Duration",
          "Movie Duration",
          "Movie Duration",
          "Movie Duration",
          "Movie Duration",
          "Movie Duration",
          "Movie Duration",
          "Movie Duration",
          "Movie Duration",
          "Movie Duration",
          "Movie Duration",
          "Movie Duration",
          "Movie Duration",
          "Movie Duration",
          "Movie Duration",
          "Movie Duration",
          "Movie Duration",
          "Movie Duration",
          "Movie Duration",
          "Movie Duration",
          "Movie Duration",
          "Movie Duration",
          "Movie Duration",
          "Movie Duration",
          "Movie Duration",
          "Movie Duration",
          "Movie Duration",
          "Movie Duration",
          "Movie Duration",
          "Movie Duration",
          "Movie Duration",
          "Movie Duration",
          "Movie Duration",
          "Movie Duration",
          "Movie Duration",
          "Movie Duration",
          "Movie Duration",
          "Movie Duration",
          "Movie Duration",
          "Movie Duration",
          "Movie Duration",
          "Movie Duration",
          "Movie Duration",
          "Movie Duration",
          "Movie Duration",
          "Movie Duration",
          "Movie Duration",
          "Movie Duration",
          "Movie Duration",
          "Movie Duration",
          "Movie Duration",
          "Movie Duration",
          "Movie Duration",
          "Movie Duration",
          "Movie Duration",
          "Movie Duration",
          "Movie Duration",
          "Movie Duration",
          "Movie Duration",
          "Movie Duration",
          "Movie Duration",
          "Movie Duration",
          "Movie Duration",
          "Movie Duration",
          "Movie Duration",
          "Movie Duration",
          "Movie Duration",
          "Movie Duration",
          "Movie Duration",
          "Movie Duration",
          "Movie Duration",
          "Movie Duration",
          "Movie Duration",
          "Movie Duration",
          "Movie Duration",
          "Movie Duration",
          "Movie Duration",
          "Movie Duration",
          "Movie Duration",
          "Movie Duration",
          "Movie Duration",
          "Movie Duration",
          "Movie Duration",
          "Movie Duration",
          "Movie Duration",
          "Movie Duration",
          "Movie Duration",
          "Movie Duration",
          "Movie Duration",
          "Movie Duration",
          "Movie Duration",
          "Movie Duration",
          "Movie Duration",
          "Movie Duration",
          "Movie Duration",
          "Movie Duration",
          "Movie Duration",
          "Movie Duration",
          "Movie Duration",
          "Movie Duration",
          "Movie Duration",
          "Movie Duration",
          "Movie Duration",
          "Movie Duration",
          "Movie Duration",
          "Movie Duration",
          "Movie Duration",
          "Movie Duration",
          "Movie Duration",
          "Movie Duration",
          "Movie Duration",
          "Movie Duration",
          "Movie Duration",
          "Movie Duration",
          "Movie Duration",
          "Movie Duration",
          "Movie Duration",
          "Movie Duration",
          "Movie Duration",
          "Movie Duration",
          "Movie Duration",
          "Movie Duration",
          "Movie Duration",
          "Movie Duration",
          "Movie Duration",
          "Movie Duration",
          "Movie Duration",
          "Movie Duration",
          "Movie Duration",
          "Movie Duration",
          "Movie Duration",
          "Movie Duration",
          "Movie Duration",
          "Movie Duration",
          "Movie Duration",
          "Movie Duration",
          "Movie Duration",
          "Movie Duration",
          "Movie Duration",
          "Movie Duration",
          "Movie Duration",
          "Movie Duration",
          "Movie Duration",
          "Movie Duration",
          "Movie Duration",
          "Movie Duration",
          "Movie Duration",
          "Movie Duration",
          "Movie Duration",
          "Movie Duration",
          "Movie Duration",
          "Movie Duration",
          "Movie Duration",
          "Movie Duration",
          "Movie Duration",
          "Movie Duration",
          "Movie Duration",
          "Movie Duration",
          "Movie Duration",
          "Movie Duration",
          "Movie Duration",
          "Movie Duration",
          "Movie Duration",
          "Movie Duration",
          "Movie Duration",
          "Movie Duration",
          "Movie Duration",
          "Movie Duration",
          "Movie Duration",
          "Movie Duration",
          "Movie Duration",
          "Movie Duration",
          "Movie Duration",
          "Movie Duration",
          "Movie Duration",
          "Movie Duration",
          "Movie Duration",
          "Movie Duration",
          "Movie Duration",
          "Movie Duration",
          "Movie Duration",
          "Movie Duration",
          "Movie Duration",
          "Movie Duration",
          "Movie Duration",
          "Movie Duration",
          "Movie Duration",
          "Movie Duration",
          "Movie Duration",
          "Movie Duration",
          "Movie Duration",
          "Movie Duration",
          "Movie Duration",
          "Movie Duration",
          "Movie Duration",
          "Movie Duration",
          "Movie Duration",
          "Movie Duration",
          "Movie Duration",
          "Movie Duration",
          "Movie Duration",
          "Movie Duration",
          "Movie Duration",
          "Movie Duration",
          "Movie Duration",
          "Movie Duration",
          "Movie Duration",
          "Movie Duration",
          "Movie Duration",
          "Movie Duration",
          "Movie Duration",
          "Movie Duration",
          "Movie Duration",
          "Movie Duration",
          "Movie Duration",
          "Movie Duration",
          "Movie Duration",
          "Movie Duration",
          "Movie Duration",
          "Movie Duration",
          "Movie Duration",
          "Movie Duration",
          "Movie Duration",
          "Movie Duration",
          "Movie Duration",
          "Movie Duration",
          "Movie Duration",
          "Movie Duration",
          "Movie Duration",
          "Movie Duration",
          "Movie Duration",
          "Movie Duration",
          "Movie Duration",
          "Movie Duration",
          "Movie Duration",
          "Movie Duration",
          "Movie Duration",
          "Movie Duration",
          "Movie Duration",
          "Movie Duration",
          "Movie Duration",
          "Movie Duration",
          "Movie Duration",
          "Movie Duration",
          "Movie Duration",
          "Movie Duration",
          "Movie Duration",
          "Movie Duration",
          "Movie Duration",
          "Movie Duration",
          "Movie Duration",
          "Movie Duration",
          "Movie Duration",
          "Movie Duration",
          "Movie Duration",
          "Movie Duration",
          "Movie Duration",
          "Movie Duration",
          "Movie Duration",
          "Movie Duration",
          "Movie Duration",
          "Movie Duration",
          "Movie Duration",
          "Movie Duration",
          "Movie Duration",
          "Movie Duration",
          "Movie Duration",
          "Movie Duration",
          "Movie Duration",
          "Movie Duration",
          "Movie Duration",
          "Movie Duration",
          "Movie Duration",
          "Movie Duration",
          "Movie Duration",
          "Movie Duration",
          "Movie Duration",
          "Movie Duration",
          "Movie Duration",
          "Movie Duration",
          "Movie Duration",
          "Movie Duration",
          "Movie Duration",
          "Movie Duration",
          "Movie Duration",
          "Movie Duration",
          "Movie Duration",
          "Movie Duration",
          "Movie Duration",
          "Movie Duration",
          "Movie Duration",
          "Movie Duration",
          "Movie Duration",
          "Movie Duration",
          "Movie Duration",
          "Movie Duration",
          "Movie Duration",
          "Movie Duration",
          "Movie Duration",
          "Movie Duration",
          "Movie Duration",
          "Movie Duration",
          "Movie Duration",
          "Movie Duration",
          "Movie Duration",
          "Movie Duration",
          "Movie Duration",
          "Movie Duration",
          "Movie Duration",
          "Movie Duration",
          "Movie Duration",
          "Movie Duration",
          "Movie Duration",
          "Movie Duration",
          "Movie Duration",
          "Movie Duration",
          "Movie Duration",
          "Movie Duration",
          "Movie Duration",
          "Movie Duration",
          "Movie Duration",
          "Movie Duration",
          "Movie Duration",
          "Movie Duration",
          "Movie Duration",
          "Movie Duration",
          "Movie Duration",
          "Movie Duration",
          "Movie Duration",
          "Movie Duration",
          "Movie Duration",
          "Movie Duration",
          "Movie Duration",
          "Movie Duration",
          "Movie Duration",
          "Movie Duration",
          "Movie Duration",
          "Movie Duration",
          "Movie Duration",
          "Movie Duration",
          "Movie Duration",
          "Movie Duration",
          "Movie Duration",
          "Movie Duration",
          "Movie Duration",
          "Movie Duration",
          "Movie Duration",
          "Movie Duration",
          "Movie Duration",
          "Movie Duration",
          "Movie Duration",
          "Movie Duration",
          "Movie Duration",
          "Movie Duration",
          "Movie Duration",
          "Movie Duration",
          "Movie Duration",
          "Movie Duration",
          "Movie Duration",
          "Movie Duration",
          "Movie Duration",
          "Movie Duration",
          "Movie Duration",
          "Movie Duration",
          "Movie Duration",
          "Movie Duration",
          "Movie Duration",
          "Movie Duration",
          "Movie Duration",
          "Movie Duration",
          "Movie Duration",
          "Movie Duration",
          "Movie Duration",
          "Movie Duration",
          "Movie Duration",
          "Movie Duration",
          "Movie Duration",
          "Movie Duration",
          "Movie Duration",
          "Movie Duration",
          "Movie Duration",
          "Movie Duration",
          "Movie Duration",
          "Movie Duration",
          "Movie Duration",
          "Movie Duration",
          "Movie Duration",
          "Movie Duration",
          "Movie Duration",
          "Movie Duration",
          "Movie Duration",
          "Movie Duration",
          "Movie Duration",
          "Movie Duration",
          "Movie Duration",
          "Movie Duration",
          "Movie Duration",
          "Movie Duration",
          "Movie Duration",
          "Movie Duration",
          "Movie Duration",
          "Movie Duration",
          "Movie Duration",
          "Movie Duration",
          "Movie Duration",
          "Movie Duration",
          "Movie Duration",
          "Movie Duration",
          "Movie Duration",
          "Movie Duration",
          "Movie Duration",
          "Movie Duration",
          "Movie Duration",
          "Movie Duration",
          "Movie Duration",
          "Movie Duration",
          "Movie Duration",
          "Movie Duration",
          "Movie Duration",
          "Movie Duration",
          "Movie Duration",
          "Movie Duration",
          "Movie Duration",
          "Movie Duration",
          "Movie Duration",
          "Movie Duration",
          "Movie Duration",
          "Movie Duration",
          "Movie Duration",
          "Movie Duration",
          "Movie Duration",
          "Movie Duration",
          "Movie Duration",
          "Movie Duration",
          "Movie Duration",
          "Movie Duration",
          "Movie Duration",
          "Movie Duration",
          "Movie Duration",
          "Movie Duration",
          "Movie Duration",
          "Movie Duration",
          "Movie Duration",
          "Movie Duration",
          "Movie Duration",
          "Movie Duration",
          "Movie Duration",
          "Movie Duration",
          "Movie Duration",
          "Movie Duration",
          "Movie Duration",
          "Movie Duration",
          "Movie Duration",
          "Movie Duration",
          "Movie Duration",
          "Movie Duration",
          "Movie Duration",
          "Movie Duration",
          "Movie Duration",
          "Movie Duration",
          "Movie Duration",
          "Movie Duration",
          "Movie Duration",
          "Movie Duration",
          "Movie Duration",
          "Movie Duration",
          "Movie Duration",
          "Movie Duration",
          "Movie Duration",
          "Movie Duration",
          "Movie Duration",
          "Movie Duration",
          "Movie Duration",
          "Movie Duration",
          "Movie Duration",
          "Movie Duration",
          "Movie Duration",
          "Movie Duration",
          "Movie Duration",
          "Movie Duration",
          "Movie Duration",
          "Movie Duration",
          "Movie Duration",
          "Movie Duration",
          "Movie Duration",
          "Movie Duration",
          "Movie Duration",
          "Movie Duration",
          "Movie Duration",
          "Movie Duration",
          "Movie Duration",
          "Movie Duration",
          "Movie Duration",
          "Movie Duration",
          "Movie Duration",
          "Movie Duration",
          "Movie Duration",
          "Movie Duration",
          "Movie Duration",
          "Movie Duration",
          "Movie Duration",
          "Movie Duration",
          "Movie Duration",
          "Movie Duration",
          "Movie Duration",
          "Movie Duration",
          "Movie Duration",
          "Movie Duration",
          "Movie Duration",
          "Movie Duration",
          "Movie Duration",
          "Movie Duration",
          "Movie Duration",
          "Movie Duration",
          "Movie Duration",
          "Movie Duration",
          "Movie Duration",
          "Movie Duration",
          "Movie Duration",
          "Movie Duration",
          "Movie Duration",
          "Movie Duration",
          "Movie Duration",
          "Movie Duration",
          "Movie Duration",
          "Movie Duration",
          "Movie Duration",
          "Movie Duration",
          "Movie Duration",
          "Movie Duration",
          "Movie Duration",
          "Movie Duration",
          "Movie Duration",
          "Movie Duration",
          "Movie Duration",
          "Movie Duration",
          "Movie Duration",
          "Movie Duration",
          "Movie Duration",
          "Movie Duration",
          "Movie Duration",
          "Movie Duration",
          "Movie Duration",
          "Movie Duration",
          "Movie Duration",
          "Movie Duration",
          "Movie Duration",
          "Movie Duration",
          "Movie Duration",
          "Movie Duration",
          "Movie Duration",
          "Movie Duration",
          "Movie Duration",
          "Movie Duration",
          "Movie Duration",
          "Movie Duration",
          "Movie Duration",
          "Movie Duration",
          "Movie Duration",
          "Movie Duration",
          "Movie Duration",
          "Movie Duration",
          "Movie Duration",
          "Movie Duration",
          "Movie Duration",
          "Movie Duration",
          "Movie Duration",
          "Movie Duration",
          "Movie Duration",
          "Movie Duration",
          "Movie Duration",
          "Movie Duration",
          "Movie Duration",
          "Movie Duration",
          "Movie Duration",
          "Movie Duration",
          "Movie Duration",
          "Movie Duration",
          "Movie Duration",
          "Movie Duration",
          "Movie Duration",
          "Movie Duration",
          "Movie Duration",
          "Movie Duration",
          "Movie Duration",
          "Movie Duration",
          "Movie Duration",
          "Movie Duration",
          "Movie Duration",
          "Movie Duration",
          "Movie Duration",
          "Movie Duration",
          "Movie Duration",
          "Movie Duration",
          "Movie Duration",
          "Movie Duration",
          "Movie Duration",
          "Movie Duration",
          "Movie Duration",
          "Movie Duration",
          "Movie Duration",
          "Movie Duration",
          "Movie Duration",
          "Movie Duration",
          "Movie Duration",
          "Movie Duration",
          "Movie Duration",
          "Movie Duration",
          "Movie Duration",
          "Movie Duration",
          "Movie Duration",
          "Movie Duration",
          "Movie Duration",
          "Movie Duration",
          "Movie Duration",
          "Movie Duration",
          "Movie Duration",
          "Movie Duration",
          "Movie Duration",
          "Movie Duration",
          "Movie Duration",
          "Movie Duration",
          "Movie Duration",
          "Movie Duration",
          "Movie Duration",
          "Movie Duration",
          "Movie Duration",
          "Movie Duration",
          "Movie Duration",
          "Movie Duration",
          "Movie Duration",
          "Movie Duration",
          "Movie Duration",
          "Movie Duration",
          "Movie Duration",
          "Movie Duration",
          "Movie Duration",
          "Movie Duration",
          "Movie Duration",
          "Movie Duration",
          "Movie Duration",
          "Movie Duration",
          "Movie Duration",
          "Movie Duration",
          "Movie Duration",
          "Movie Duration",
          "Movie Duration",
          "Movie Duration",
          "Movie Duration",
          "Movie Duration",
          "Movie Duration",
          "Movie Duration",
          "Movie Duration",
          "Movie Duration",
          "Movie Duration",
          "Movie Duration",
          "Movie Duration",
          "Movie Duration",
          "Movie Duration",
          "Movie Duration",
          "Movie Duration",
          "Movie Duration",
          "Movie Duration",
          "Movie Duration",
          "Movie Duration",
          "Movie Duration",
          "Movie Duration",
          "Movie Duration",
          "Movie Duration",
          "Movie Duration",
          "Movie Duration",
          "Movie Duration",
          "Movie Duration",
          "Movie Duration",
          "Movie Duration",
          "Movie Duration",
          "Movie Duration",
          "Movie Duration",
          "Movie Duration",
          "Movie Duration",
          "Movie Duration",
          "Movie Duration",
          "Movie Duration",
          "Movie Duration",
          "Movie Duration",
          "Movie Duration",
          "Movie Duration",
          "Movie Duration",
          "Movie Duration",
          "Movie Duration",
          "Movie Duration",
          "Movie Duration",
          "Movie Duration",
          "Movie Duration",
          "Movie Duration",
          "Movie Duration",
          "Movie Duration",
          "Movie Duration",
          "Movie Duration",
          "Movie Duration",
          "Movie Duration",
          "Movie Duration",
          "Movie Duration",
          "Movie Duration",
          "Movie Duration",
          "Movie Duration",
          "Movie Duration",
          "Movie Duration",
          "Movie Duration",
          "Movie Duration",
          "Movie Duration",
          "Movie Duration",
          "Movie Duration",
          "Movie Duration",
          "Movie Duration",
          "Movie Duration",
          "Movie Duration",
          "Movie Duration",
          "Movie Duration",
          "Movie Duration",
          "Movie Duration",
          "Movie Duration",
          "Movie Duration",
          "Movie Duration",
          "Movie Duration",
          "Movie Duration",
          "Movie Duration",
          "Movie Duration",
          "Movie Duration",
          "Movie Duration",
          "Movie Duration",
          "Movie Duration",
          "Movie Duration",
          "Movie Duration",
          "Movie Duration",
          "Movie Duration",
          "Movie Duration",
          "Movie Duration",
          "Movie Duration",
          "Movie Duration",
          "Movie Duration",
          "Movie Duration",
          "Movie Duration",
          "Movie Duration",
          "Movie Duration",
          "Movie Duration",
          "Movie Duration",
          "Movie Duration",
          "Movie Duration",
          "Movie Duration",
          "Movie Duration",
          "Movie Duration",
          "Movie Duration",
          "Movie Duration",
          "Movie Duration",
          "Movie Duration",
          "Movie Duration",
          "Movie Duration",
          "Movie Duration",
          "Movie Duration",
          "Movie Duration",
          "Movie Duration",
          "Movie Duration",
          "Movie Duration",
          "Movie Duration",
          "Movie Duration",
          "Movie Duration",
          "Movie Duration",
          "Movie Duration",
          "Movie Duration",
          "Movie Duration",
          "Movie Duration",
          "Movie Duration",
          "Movie Duration",
          "Movie Duration",
          "Movie Duration",
          "Movie Duration",
          "Movie Duration",
          "Movie Duration",
          "Movie Duration",
          "Movie Duration",
          "Movie Duration",
          "Movie Duration",
          "Movie Duration",
          "Movie Duration",
          "Movie Duration",
          "Movie Duration",
          "Movie Duration",
          "Movie Duration",
          "Movie Duration",
          "Movie Duration",
          "Movie Duration",
          "Movie Duration",
          "Movie Duration",
          "Movie Duration",
          "Movie Duration",
          "Movie Duration",
          "Movie Duration",
          "Movie Duration",
          "Movie Duration",
          "Movie Duration",
          "Movie Duration",
          "Movie Duration",
          "Movie Duration",
          "Movie Duration",
          "Movie Duration",
          "Movie Duration",
          "Movie Duration",
          "Movie Duration",
          "Movie Duration",
          "Movie Duration",
          "Movie Duration",
          "Movie Duration",
          "Movie Duration",
          "Movie Duration",
          "Movie Duration",
          "Movie Duration",
          "Movie Duration",
          "Movie Duration",
          "Movie Duration",
          "Movie Duration",
          "Movie Duration",
          "Movie Duration",
          "Movie Duration",
          "Movie Duration",
          "Movie Duration",
          "Movie Duration",
          "Movie Duration",
          "Movie Duration",
          "Movie Duration",
          "Movie Duration",
          "Movie Duration",
          "Movie Duration",
          "Movie Duration",
          "Movie Duration",
          "Movie Duration",
          "Movie Duration",
          "Movie Duration",
          "Movie Duration",
          "Movie Duration",
          "Movie Duration",
          "Movie Duration",
          "Movie Duration",
          "Movie Duration",
          "Movie Duration",
          "Movie Duration",
          "Movie Duration",
          "Movie Duration",
          "Movie Duration",
          "Movie Duration",
          "Movie Duration",
          "Movie Duration",
          "Movie Duration",
          "Movie Duration",
          "Movie Duration",
          "Movie Duration",
          "Movie Duration",
          "Movie Duration",
          "Movie Duration",
          "Movie Duration",
          "Movie Duration",
          "Movie Duration",
          "Movie Duration",
          "Movie Duration",
          "Movie Duration",
          "Movie Duration",
          "Movie Duration",
          "Movie Duration",
          "Movie Duration",
          "Movie Duration",
          "Movie Duration",
          "Movie Duration",
          "Movie Duration",
          "Movie Duration",
          "Movie Duration",
          "Movie Duration",
          "Movie Duration",
          "Movie Duration",
          "Movie Duration",
          "Movie Duration",
          "Movie Duration",
          "Movie Duration",
          "Movie Duration",
          "Movie Duration",
          "Movie Duration",
          "Movie Duration",
          "Movie Duration",
          "Movie Duration",
          "Movie Duration",
          "Movie Duration",
          "Movie Duration",
          "Movie Duration",
          "Movie Duration",
          "Movie Duration",
          "Movie Duration",
          "Movie Duration",
          "Movie Duration",
          "Movie Duration",
          "Movie Duration",
          "Movie Duration",
          "Movie Duration",
          "Movie Duration",
          "Movie Duration",
          "Movie Duration",
          "Movie Duration",
          "Movie Duration",
          "Movie Duration",
          "Movie Duration",
          "Movie Duration",
          "Movie Duration",
          "Movie Duration",
          "Movie Duration",
          "Movie Duration",
          "Movie Duration",
          "Movie Duration",
          "Movie Duration",
          "Movie Duration",
          "Movie Duration",
          "Movie Duration",
          "Movie Duration",
          "Movie Duration",
          "Movie Duration",
          "Movie Duration",
          "Movie Duration",
          "Movie Duration",
          "Movie Duration",
          "Movie Duration",
          "Movie Duration",
          "Movie Duration",
          "Movie Duration",
          "Movie Duration",
          "Movie Duration",
          "Movie Duration",
          "Movie Duration",
          "Movie Duration",
          "Movie Duration",
          "Movie Duration",
          "Movie Duration",
          "Movie Duration",
          "Movie Duration",
          "Movie Duration",
          "Movie Duration",
          "Movie Duration",
          "Movie Duration",
          "Movie Duration",
          "Movie Duration",
          "Movie Duration",
          "Movie Duration",
          "Movie Duration",
          "Movie Duration",
          "Movie Duration",
          "Movie Duration",
          "Movie Duration",
          "Movie Duration",
          "Movie Duration",
          "Movie Duration",
          "Movie Duration",
          "Movie Duration",
          "Movie Duration",
          "Movie Duration",
          "Movie Duration",
          "Movie Duration",
          "Movie Duration",
          "Movie Duration",
          "Movie Duration",
          "Movie Duration",
          "Movie Duration",
          "Movie Duration",
          "Movie Duration",
          "Movie Duration",
          "Movie Duration",
          "Movie Duration",
          "Movie Duration",
          "Movie Duration",
          "Movie Duration",
          "Movie Duration",
          "Movie Duration",
          "Movie Duration",
          "Movie Duration",
          "Movie Duration",
          "Movie Duration",
          "Movie Duration",
          "Movie Duration",
          "Movie Duration",
          "Movie Duration",
          "Movie Duration",
          "Movie Duration",
          "Movie Duration",
          "Movie Duration",
          "Movie Duration",
          "Movie Duration",
          "Movie Duration",
          "Movie Duration",
          "Movie Duration",
          "Movie Duration",
          "Movie Duration",
          "Movie Duration",
          "Movie Duration",
          "Movie Duration",
          "Movie Duration",
          "Movie Duration",
          "Movie Duration",
          "Movie Duration",
          "Movie Duration",
          "Movie Duration",
          "Movie Duration",
          "Movie Duration",
          "Movie Duration",
          "Movie Duration",
          "Movie Duration",
          "Movie Duration",
          "Movie Duration",
          "Movie Duration",
          "Movie Duration",
          "Movie Duration",
          "Movie Duration",
          "Movie Duration",
          "Movie Duration",
          "Movie Duration",
          "Movie Duration",
          "Movie Duration",
          "Movie Duration",
          "Movie Duration",
          "Movie Duration",
          "Movie Duration",
          "Movie Duration",
          "Movie Duration",
          "Movie Duration",
          "Movie Duration",
          "Movie Duration",
          "Movie Duration",
          "Movie Duration",
          "Movie Duration",
          "Movie Duration",
          "Movie Duration",
          "Movie Duration",
          "Movie Duration",
          "Movie Duration",
          "Movie Duration",
          "Movie Duration",
          "Movie Duration",
          "Movie Duration",
          "Movie Duration",
          "Movie Duration",
          "Movie Duration",
          "Movie Duration",
          "Movie Duration",
          "Movie Duration",
          "Movie Duration",
          "Movie Duration",
          "Movie Duration",
          "Movie Duration",
          "Movie Duration",
          "Movie Duration",
          "Movie Duration",
          "Movie Duration",
          "Movie Duration",
          "Movie Duration",
          "Movie Duration",
          "Movie Duration",
          "Movie Duration",
          "Movie Duration",
          "Movie Duration",
          "Movie Duration",
          "Movie Duration",
          "Movie Duration",
          "Movie Duration",
          "Movie Duration",
          "Movie Duration",
          "Movie Duration",
          "Movie Duration",
          "Movie Duration",
          "Movie Duration",
          "Movie Duration",
          "Movie Duration",
          "Movie Duration",
          "Movie Duration",
          "Movie Duration",
          "Movie Duration",
          "Movie Duration",
          "Movie Duration",
          "Movie Duration",
          "Movie Duration",
          "Movie Duration",
          "Movie Duration",
          "Movie Duration",
          "Movie Duration",
          "Movie Duration",
          "Movie Duration",
          "Movie Duration",
          "Movie Duration",
          "Movie Duration",
          "Movie Duration",
          "Movie Duration",
          "Movie Duration",
          "Movie Duration",
          "Movie Duration",
          "Movie Duration",
          "Movie Duration",
          "Movie Duration",
          "Movie Duration",
          "Movie Duration",
          "Movie Duration",
          "Movie Duration",
          "Movie Duration",
          "Movie Duration",
          "Movie Duration",
          "Movie Duration",
          "Movie Duration",
          "Movie Duration",
          "Movie Duration",
          "Movie Duration",
          "Movie Duration",
          "Movie Duration",
          "Movie Duration",
          "Movie Duration",
          "Movie Duration",
          "Movie Duration",
          "Movie Duration",
          "Movie Duration",
          "Movie Duration",
          "Movie Duration",
          "Movie Duration",
          "Movie Duration",
          "Movie Duration",
          "Movie Duration",
          "Movie Duration",
          "Movie Duration",
          "Movie Duration",
          "Movie Duration",
          "Movie Duration",
          "Movie Duration",
          "Movie Duration",
          "Movie Duration",
          "Movie Duration",
          "Movie Duration",
          "Movie Duration",
          "Movie Duration",
          "Movie Duration",
          "Movie Duration",
          "Movie Duration",
          "Movie Duration",
          "Movie Duration",
          "Movie Duration",
          "Movie Duration",
          "Movie Duration",
          "Movie Duration",
          "Movie Duration",
          "Movie Duration",
          "Movie Duration",
          "Movie Duration",
          "Movie Duration",
          "Movie Duration",
          "Movie Duration",
          "Movie Duration",
          "Movie Duration",
          "Movie Duration",
          "Movie Duration",
          "Movie Duration",
          "Movie Duration",
          "Movie Duration",
          "Movie Duration",
          "Movie Duration",
          "Movie Duration",
          "Movie Duration",
          "Movie Duration",
          "Movie Duration",
          "Movie Duration",
          "Movie Duration",
          "Movie Duration",
          "Movie Duration",
          "Movie Duration",
          "Movie Duration",
          "Movie Duration",
          "Movie Duration",
          "Movie Duration",
          "Movie Duration",
          "Movie Duration",
          "Movie Duration",
          "Movie Duration",
          "Movie Duration",
          "Movie Duration",
          "Movie Duration",
          "Movie Duration",
          "Movie Duration",
          "Movie Duration",
          "Movie Duration",
          "Movie Duration",
          "Movie Duration",
          "Movie Duration",
          "Movie Duration",
          "Movie Duration",
          "Movie Duration",
          "Movie Duration",
          "Movie Duration",
          "Movie Duration",
          "Movie Duration",
          "Movie Duration",
          "Movie Duration",
          "Movie Duration",
          "Movie Duration",
          "Movie Duration",
          "Movie Duration",
          "Movie Duration",
          "Movie Duration",
          "Movie Duration",
          "Movie Duration",
          "Movie Duration",
          "Movie Duration",
          "Movie Duration",
          "Movie Duration",
          "Movie Duration",
          "Movie Duration",
          "Movie Duration",
          "Movie Duration",
          "Movie Duration",
          "Movie Duration",
          "Movie Duration",
          "Movie Duration",
          "Movie Duration",
          "Movie Duration",
          "Movie Duration",
          "Movie Duration",
          "Movie Duration",
          "Movie Duration",
          "Movie Duration",
          "Movie Duration",
          "Movie Duration",
          "Movie Duration",
          "Movie Duration",
          "Movie Duration",
          "Movie Duration",
          "Movie Duration",
          "Movie Duration",
          "Movie Duration",
          "Movie Duration",
          "Movie Duration",
          "Movie Duration",
          "Movie Duration",
          "Movie Duration",
          "Movie Duration",
          "Movie Duration",
          "Movie Duration",
          "Movie Duration",
          "Movie Duration",
          "Movie Duration",
          "Movie Duration",
          "Movie Duration",
          "Movie Duration",
          "Movie Duration",
          "Movie Duration",
          "Movie Duration",
          "Movie Duration",
          "Movie Duration",
          "Movie Duration",
          "Movie Duration",
          "Movie Duration",
          "Movie Duration",
          "Movie Duration",
          "Movie Duration",
          "Movie Duration",
          "Movie Duration",
          "Movie Duration",
          "Movie Duration",
          "Movie Duration",
          "Movie Duration",
          "Movie Duration",
          "Movie Duration",
          "Movie Duration",
          "Movie Duration",
          "Movie Duration",
          "Movie Duration",
          "Movie Duration",
          "Movie Duration",
          "Movie Duration",
          "Movie Duration",
          "Movie Duration",
          "Movie Duration",
          "Movie Duration",
          "Movie Duration",
          "Movie Duration",
          "Movie Duration",
          "Movie Duration",
          "Movie Duration",
          "Movie Duration",
          "Movie Duration",
          "Movie Duration",
          "Movie Duration",
          "Movie Duration",
          "Movie Duration",
          "Movie Duration",
          "Movie Duration",
          "Movie Duration",
          "Movie Duration",
          "Movie Duration",
          "Movie Duration",
          "Movie Duration",
          "Movie Duration",
          "Movie Duration",
          "Movie Duration",
          "Movie Duration",
          "Movie Duration",
          "Movie Duration",
          "Movie Duration",
          "Movie Duration",
          "Movie Duration",
          "Movie Duration",
          "Movie Duration",
          "Movie Duration",
          "Movie Duration",
          "Movie Duration",
          "Movie Duration",
          "Movie Duration",
          "Movie Duration",
          "Movie Duration",
          "Movie Duration",
          "Movie Duration",
          "Movie Duration",
          "Movie Duration",
          "Movie Duration",
          "Movie Duration",
          "Movie Duration",
          "Movie Duration",
          "Movie Duration",
          "Movie Duration",
          "Movie Duration",
          "Movie Duration",
          "Movie Duration",
          "Movie Duration",
          "Movie Duration",
          "Movie Duration",
          "Movie Duration",
          "Movie Duration",
          "Movie Duration",
          "Movie Duration",
          "Movie Duration",
          "Movie Duration",
          "Movie Duration",
          "Movie Duration",
          "Movie Duration",
          "Movie Duration",
          "Movie Duration",
          "Movie Duration",
          "Movie Duration",
          "Movie Duration",
          "Movie Duration",
          "Movie Duration",
          "Movie Duration",
          "Movie Duration",
          "Movie Duration",
          "Movie Duration",
          "Movie Duration",
          "Movie Duration",
          "Movie Duration",
          "Movie Duration",
          "Movie Duration",
          "Movie Duration",
          "Movie Duration",
          "Movie Duration",
          "Movie Duration",
          "Movie Duration",
          "Movie Duration",
          "Movie Duration",
          "Movie Duration",
          "Movie Duration",
          "Movie Duration",
          "Movie Duration",
          "Movie Duration",
          "Movie Duration",
          "Movie Duration",
          "Movie Duration",
          "Movie Duration",
          "Movie Duration",
          "Movie Duration",
          "Movie Duration",
          "Movie Duration",
          "Movie Duration",
          "Movie Duration",
          "Movie Duration",
          "Movie Duration",
          "Movie Duration",
          "Movie Duration",
          "Movie Duration",
          "Movie Duration",
          "Movie Duration",
          "Movie Duration",
          "Movie Duration",
          "Movie Duration",
          "Movie Duration",
          "Movie Duration",
          "Movie Duration",
          "Movie Duration",
          "Movie Duration",
          "Movie Duration",
          "Movie Duration",
          "Movie Duration",
          "Movie Duration",
          "Movie Duration",
          "Movie Duration",
          "Movie Duration",
          "Movie Duration",
          "Movie Duration",
          "Movie Duration",
          "Movie Duration",
          "Movie Duration",
          "Movie Duration",
          "Movie Duration",
          "Movie Duration",
          "Movie Duration",
          "Movie Duration",
          "Movie Duration",
          "Movie Duration",
          "Movie Duration",
          "Movie Duration",
          "Movie Duration",
          "Movie Duration",
          "Movie Duration",
          "Movie Duration",
          "Movie Duration",
          "Movie Duration",
          "Movie Duration",
          "Movie Duration",
          "Movie Duration",
          "Movie Duration",
          "Movie Duration",
          "Movie Duration",
          "Movie Duration",
          "Movie Duration",
          "Movie Duration",
          "Movie Duration",
          "Movie Duration",
          "Movie Duration",
          "Movie Duration",
          "Movie Duration",
          "Movie Duration",
          "Movie Duration",
          "Movie Duration",
          "Movie Duration",
          "Movie Duration",
          "Movie Duration",
          "Movie Duration",
          "Movie Duration",
          "Movie Duration",
          "Movie Duration",
          "Movie Duration",
          "Movie Duration",
          "Movie Duration",
          "Movie Duration",
          "Movie Duration",
          "Movie Duration",
          "Movie Duration",
          "Movie Duration",
          "Movie Duration",
          "Movie Duration",
          "Movie Duration",
          "Movie Duration",
          "Movie Duration",
          "Movie Duration",
          "Movie Duration",
          "Movie Duration",
          "Movie Duration",
          "Movie Duration",
          "Movie Duration",
          "Movie Duration",
          "Movie Duration",
          "Movie Duration",
          "Movie Duration",
          "Movie Duration",
          "Movie Duration",
          "Movie Duration",
          "Movie Duration",
          "Movie Duration",
          "Movie Duration",
          "Movie Duration",
          "Movie Duration",
          "Movie Duration",
          "Movie Duration",
          "Movie Duration",
          "Movie Duration",
          "Movie Duration",
          "Movie Duration",
          "Movie Duration",
          "Movie Duration",
          "Movie Duration",
          "Movie Duration",
          "Movie Duration",
          "Movie Duration",
          "Movie Duration",
          "Movie Duration",
          "Movie Duration",
          "Movie Duration",
          "Movie Duration",
          "Movie Duration",
          "Movie Duration",
          "Movie Duration",
          "Movie Duration",
          "Movie Duration",
          "Movie Duration",
          "Movie Duration",
          "Movie Duration",
          "Movie Duration",
          "Movie Duration",
          "Movie Duration",
          "Movie Duration",
          "Movie Duration",
          "Movie Duration",
          "Movie Duration",
          "Movie Duration",
          "Movie Duration",
          "Movie Duration",
          "Movie Duration",
          "Movie Duration",
          "Movie Duration",
          "Movie Duration",
          "Movie Duration",
          "Movie Duration",
          "Movie Duration",
          "Movie Duration",
          "Movie Duration",
          "Movie Duration",
          "Movie Duration",
          "Movie Duration",
          "Movie Duration",
          "Movie Duration",
          "Movie Duration",
          "Movie Duration",
          "Movie Duration",
          "Movie Duration",
          "Movie Duration",
          "Movie Duration",
          "Movie Duration",
          "Movie Duration",
          "Movie Duration",
          "Movie Duration",
          "Movie Duration",
          "Movie Duration",
          "Movie Duration",
          "Movie Duration",
          "Movie Duration",
          "Movie Duration",
          "Movie Duration",
          "Movie Duration",
          "Movie Duration",
          "Movie Duration",
          "Movie Duration",
          "Movie Duration",
          "Movie Duration",
          "Movie Duration",
          "Movie Duration",
          "Movie Duration",
          "Movie Duration",
          "Movie Duration",
          "Movie Duration",
          "Movie Duration",
          "Movie Duration",
          "Movie Duration",
          "Movie Duration",
          "Movie Duration",
          "Movie Duration",
          "Movie Duration",
          "Movie Duration",
          "Movie Duration",
          "Movie Duration",
          "Movie Duration",
          "Movie Duration",
          "Movie Duration",
          "Movie Duration",
          "Movie Duration",
          "Movie Duration",
          "Movie Duration",
          "Movie Duration",
          "Movie Duration",
          "Movie Duration",
          "Movie Duration",
          "Movie Duration",
          "Movie Duration",
          "Movie Duration",
          "Movie Duration",
          "Movie Duration",
          "Movie Duration",
          "Movie Duration",
          "Movie Duration",
          "Movie Duration",
          "Movie Duration",
          "Movie Duration",
          "Movie Duration",
          "Movie Duration",
          "Movie Duration",
          "Movie Duration",
          "Movie Duration",
          "Movie Duration",
          "Movie Duration",
          "Movie Duration",
          "Movie Duration",
          "Movie Duration",
          "Movie Duration",
          "Movie Duration",
          "Movie Duration",
          "Movie Duration",
          "Movie Duration",
          "Movie Duration",
          "Movie Duration",
          "Movie Duration",
          "Movie Duration",
          "Movie Duration",
          "Movie Duration",
          "Movie Duration",
          "Movie Duration",
          "Movie Duration",
          "Movie Duration",
          "Movie Duration",
          "Movie Duration",
          "Movie Duration",
          "Movie Duration",
          "Movie Duration",
          "Movie Duration",
          "Movie Duration",
          "Movie Duration",
          "Movie Duration",
          "Movie Duration",
          "Movie Duration",
          "Movie Duration",
          "Movie Duration",
          "Movie Duration",
          "Movie Duration",
          "Movie Duration",
          "Movie Duration",
          "Movie Duration",
          "Movie Duration",
          "Movie Duration",
          "Movie Duration",
          "Movie Duration",
          "Movie Duration",
          "Movie Duration",
          "Movie Duration",
          "Movie Duration",
          "Movie Duration",
          "Movie Duration",
          "Movie Duration",
          "Movie Duration",
          "Movie Duration",
          "Movie Duration",
          "Movie Duration",
          "Movie Duration",
          "Movie Duration",
          "Movie Duration",
          "Movie Duration",
          "Movie Duration",
          "Movie Duration",
          "Movie Duration",
          "Movie Duration",
          "Movie Duration",
          "Movie Duration",
          "Movie Duration",
          "Movie Duration",
          "Movie Duration",
          "Movie Duration",
          "Movie Duration",
          "Movie Duration",
          "Movie Duration",
          "Movie Duration",
          "Movie Duration",
          "Movie Duration",
          "Movie Duration",
          "Movie Duration",
          "Movie Duration",
          "Movie Duration",
          "Movie Duration",
          "Movie Duration",
          "Movie Duration",
          "Movie Duration",
          "Movie Duration",
          "Movie Duration",
          "Movie Duration",
          "Movie Duration",
          "Movie Duration",
          "Movie Duration",
          "Movie Duration",
          "Movie Duration",
          "Movie Duration",
          "Movie Duration",
          "Movie Duration",
          "Movie Duration",
          "Movie Duration",
          "Movie Duration",
          "Movie Duration",
          "Movie Duration",
          "Movie Duration",
          "Movie Duration",
          "Movie Duration",
          "Movie Duration",
          "Movie Duration",
          "Movie Duration",
          "Movie Duration",
          "Movie Duration",
          "Movie Duration",
          "Movie Duration",
          "Movie Duration",
          "Movie Duration",
          "Movie Duration",
          "Movie Duration",
          "Movie Duration",
          "Movie Duration",
          "Movie Duration",
          "Movie Duration",
          "Movie Duration",
          "Movie Duration",
          "Movie Duration",
          "Movie Duration",
          "Movie Duration",
          "Movie Duration",
          "Movie Duration",
          "Movie Duration",
          "Movie Duration",
          "Movie Duration",
          "Movie Duration",
          "Movie Duration",
          "Movie Duration",
          "Movie Duration",
          "Movie Duration",
          "Movie Duration",
          "Movie Duration",
          "Movie Duration",
          "Movie Duration",
          "Movie Duration",
          "Movie Duration",
          "Movie Duration",
          "Movie Duration",
          "Movie Duration",
          "Movie Duration",
          "Movie Duration",
          "Movie Duration",
          "Movie Duration",
          "Movie Duration",
          "Movie Duration",
          "Movie Duration",
          "Movie Duration",
          "Movie Duration",
          "Movie Duration",
          "Movie Duration",
          "Movie Duration",
          "Movie Duration",
          "Movie Duration",
          "Movie Duration",
          "Movie Duration",
          "Movie Duration",
          "Movie Duration",
          "Movie Duration",
          "Movie Duration",
          "Movie Duration",
          "Movie Duration",
          "Movie Duration",
          "Movie Duration",
          "Movie Duration",
          "Movie Duration",
          "Movie Duration",
          "Movie Duration",
          "Movie Duration",
          "Movie Duration",
          "Movie Duration",
          "Movie Duration",
          "Movie Duration",
          "Movie Duration",
          "Movie Duration",
          "Movie Duration",
          "Movie Duration",
          "Movie Duration",
          "Movie Duration",
          "Movie Duration",
          "Movie Duration",
          "Movie Duration",
          "Movie Duration",
          "Movie Duration",
          "Movie Duration",
          "Movie Duration",
          "Movie Duration",
          "Movie Duration",
          "Movie Duration",
          "Movie Duration",
          "Movie Duration",
          "Movie Duration",
          "Movie Duration",
          "Movie Duration",
          "Movie Duration",
          "Movie Duration",
          "Movie Duration",
          "Movie Duration",
          "Movie Duration",
          "Movie Duration",
          "Movie Duration",
          "Movie Duration",
          "Movie Duration",
          "Movie Duration",
          "Movie Duration",
          "Movie Duration",
          "Movie Duration",
          "Movie Duration",
          "Movie Duration",
          "Movie Duration",
          "Movie Duration",
          "Movie Duration",
          "Movie Duration",
          "Movie Duration",
          "Movie Duration",
          "Movie Duration",
          "Movie Duration",
          "Movie Duration",
          "Movie Duration",
          "Movie Duration",
          "Movie Duration",
          "Movie Duration",
          "Movie Duration",
          "Movie Duration",
          "Movie Duration",
          "Movie Duration",
          "Movie Duration",
          "Movie Duration",
          "Movie Duration",
          "Movie Duration",
          "Movie Duration",
          "Movie Duration",
          "Movie Duration",
          "Movie Duration",
          "Movie Duration",
          "Movie Duration",
          "Movie Duration",
          "Movie Duration",
          "Movie Duration",
          "Movie Duration",
          "Movie Duration",
          "Movie Duration",
          "Movie Duration",
          "Movie Duration",
          "Movie Duration",
          "Movie Duration",
          "Movie Duration",
          "Movie Duration",
          "Movie Duration",
          "Movie Duration",
          "Movie Duration",
          "Movie Duration",
          "Movie Duration",
          "Movie Duration",
          "Movie Duration",
          "Movie Duration",
          "Movie Duration",
          "Movie Duration",
          "Movie Duration",
          "Movie Duration",
          "Movie Duration",
          "Movie Duration",
          "Movie Duration",
          "Movie Duration",
          "Movie Duration",
          "Movie Duration",
          "Movie Duration",
          "Movie Duration",
          "Movie Duration",
          "Movie Duration",
          "Movie Duration",
          "Movie Duration",
          "Movie Duration",
          "Movie Duration",
          "Movie Duration",
          "Movie Duration",
          "Movie Duration",
          "Movie Duration",
          "Movie Duration",
          "Movie Duration",
          "Movie Duration",
          "Movie Duration",
          "Movie Duration",
          "Movie Duration",
          "Movie Duration",
          "Movie Duration",
          "Movie Duration",
          "Movie Duration",
          "Movie Duration",
          "Movie Duration",
          "Movie Duration",
          "Movie Duration",
          "Movie Duration",
          "Movie Duration",
          "Movie Duration",
          "Movie Duration",
          "Movie Duration",
          "Movie Duration",
          "Movie Duration",
          "Movie Duration",
          "Movie Duration",
          "Movie Duration",
          "Movie Duration",
          "Movie Duration",
          "Movie Duration",
          "Movie Duration",
          "Movie Duration",
          "Movie Duration",
          "Movie Duration",
          "Movie Duration",
          "Movie Duration",
          "Movie Duration",
          "Movie Duration",
          "Movie Duration",
          "Movie Duration",
          "Movie Duration",
          "Movie Duration",
          "Movie Duration",
          "Movie Duration",
          "Movie Duration",
          "Movie Duration",
          "Movie Duration",
          "Movie Duration",
          "Movie Duration",
          "Movie Duration",
          "Movie Duration",
          "Movie Duration",
          "Movie Duration",
          "Movie Duration",
          "Movie Duration",
          "Movie Duration",
          "Movie Duration",
          "Movie Duration",
          "Movie Duration",
          "Movie Duration",
          "Movie Duration",
          "Movie Duration",
          "Movie Duration",
          "Movie Duration",
          "Movie Duration",
          "Movie Duration",
          "Movie Duration",
          "Movie Duration",
          "Movie Duration",
          "Movie Duration",
          "Movie Duration",
          "Movie Duration",
          "Movie Duration",
          "Movie Duration",
          "Movie Duration",
          "Movie Duration",
          "Movie Duration",
          "Movie Duration",
          "Movie Duration",
          "Movie Duration",
          "Movie Duration",
          "Movie Duration",
          "Movie Duration",
          "Movie Duration",
          "Movie Duration",
          "Movie Duration",
          "Movie Duration",
          "Movie Duration",
          "Movie Duration",
          "Movie Duration",
          "Movie Duration",
          "Movie Duration",
          "Movie Duration",
          "Movie Duration",
          "Movie Duration",
          "Movie Duration",
          "Movie Duration",
          "Movie Duration",
          "Movie Duration",
          "Movie Duration",
          "Movie Duration",
          "Movie Duration",
          "Movie Duration",
          "Movie Duration",
          "Movie Duration",
          "Movie Duration",
          "Movie Duration",
          "Movie Duration",
          "Movie Duration",
          "Movie Duration",
          "Movie Duration",
          "Movie Duration",
          "Movie Duration",
          "Movie Duration",
          "Movie Duration",
          "Movie Duration",
          "Movie Duration",
          "Movie Duration",
          "Movie Duration",
          "Movie Duration",
          "Movie Duration",
          "Movie Duration",
          "Movie Duration",
          "Movie Duration",
          "Movie Duration",
          "Movie Duration",
          "Movie Duration",
          "Movie Duration",
          "Movie Duration",
          "Movie Duration",
          "Movie Duration",
          "Movie Duration",
          "Movie Duration",
          "Movie Duration",
          "Movie Duration",
          "Movie Duration",
          "Movie Duration",
          "Movie Duration",
          "Movie Duration",
          "Movie Duration",
          "Movie Duration",
          "Movie Duration",
          "Movie Duration",
          "Movie Duration",
          "Movie Duration",
          "Movie Duration",
          "Movie Duration",
          "Movie Duration",
          "Movie Duration",
          "Movie Duration",
          "Movie Duration",
          "Movie Duration",
          "Movie Duration",
          "Movie Duration",
          "Movie Duration",
          "Movie Duration",
          "Movie Duration",
          "Movie Duration",
          "Movie Duration",
          "Movie Duration",
          "Movie Duration",
          "Movie Duration",
          "Movie Duration",
          "Movie Duration",
          "Movie Duration",
          "Movie Duration",
          "Movie Duration",
          "Movie Duration",
          "Movie Duration",
          "Movie Duration",
          "Movie Duration",
          "Movie Duration",
          "Movie Duration",
          "Movie Duration",
          "Movie Duration",
          "Movie Duration",
          "Movie Duration",
          "Movie Duration",
          "Movie Duration",
          "Movie Duration",
          "Movie Duration",
          "Movie Duration",
          "Movie Duration",
          "Movie Duration",
          "Movie Duration",
          "Movie Duration",
          "Movie Duration",
          "Movie Duration",
          "Movie Duration",
          "Movie Duration",
          "Movie Duration",
          "Movie Duration",
          "Movie Duration",
          "Movie Duration",
          "Movie Duration",
          "Movie Duration",
          "Movie Duration",
          "Movie Duration",
          "Movie Duration",
          "Movie Duration",
          "Movie Duration",
          "Movie Duration",
          "Movie Duration",
          "Movie Duration",
          "Movie Duration",
          "Movie Duration",
          "Movie Duration",
          "Movie Duration",
          "Movie Duration",
          "Movie Duration",
          "Movie Duration",
          "Movie Duration",
          "Movie Duration",
          "Movie Duration",
          "Movie Duration",
          "Movie Duration",
          "Movie Duration",
          "Movie Duration",
          "Movie Duration",
          "Movie Duration",
          "Movie Duration",
          "Movie Duration",
          "Movie Duration",
          "Movie Duration",
          "Movie Duration",
          "Movie Duration",
          "Movie Duration",
          "Movie Duration",
          "Movie Duration",
          "Movie Duration",
          "Movie Duration",
          "Movie Duration",
          "Movie Duration",
          "Movie Duration",
          "Movie Duration",
          "Movie Duration",
          "Movie Duration",
          "Movie Duration",
          "Movie Duration",
          "Movie Duration",
          "Movie Duration",
          "Movie Duration",
          "Movie Duration",
          "Movie Duration",
          "Movie Duration",
          "Movie Duration",
          "Movie Duration",
          "Movie Duration",
          "Movie Duration",
          "Movie Duration",
          "Movie Duration",
          "Movie Duration",
          "Movie Duration",
          "Movie Duration",
          "Movie Duration",
          "Movie Duration",
          "Movie Duration",
          "Movie Duration",
          "Movie Duration",
          "Movie Duration",
          "Movie Duration",
          "Movie Duration",
          "Movie Duration",
          "Movie Duration",
          "Movie Duration",
          "Movie Duration",
          "Movie Duration",
          "Movie Duration",
          "Movie Duration",
          "Movie Duration",
          "Movie Duration",
          "Movie Duration",
          "Movie Duration",
          "Movie Duration",
          "Movie Duration",
          "Movie Duration",
          "Movie Duration",
          "Movie Duration",
          "Movie Duration",
          "Movie Duration",
          "Movie Duration",
          "Movie Duration",
          "Movie Duration",
          "Movie Duration",
          "Movie Duration",
          "Movie Duration",
          "Movie Duration",
          "Movie Duration",
          "Movie Duration",
          "Movie Duration",
          "Movie Duration",
          "Movie Duration",
          "Movie Duration",
          "Movie Duration",
          "Movie Duration",
          "Movie Duration",
          "Movie Duration",
          "Movie Duration",
          "Movie Duration",
          "Movie Duration",
          "Movie Duration",
          "Movie Duration",
          "Movie Duration",
          "Movie Duration",
          "Movie Duration",
          "Movie Duration",
          "Movie Duration",
          "Movie Duration",
          "Movie Duration",
          "Movie Duration",
          "Movie Duration",
          "Movie Duration",
          "Movie Duration",
          "Movie Duration",
          "Movie Duration",
          "Movie Duration",
          "Movie Duration",
          "Movie Duration",
          "Movie Duration",
          "Movie Duration",
          "Movie Duration",
          "Movie Duration",
          "Movie Duration",
          "Movie Duration",
          "Movie Duration",
          "Movie Duration",
          "Movie Duration",
          "Movie Duration",
          "Movie Duration",
          "Movie Duration",
          "Movie Duration",
          "Movie Duration",
          "Movie Duration",
          "Movie Duration",
          "Movie Duration",
          "Movie Duration",
          "Movie Duration",
          "Movie Duration",
          "Movie Duration",
          "Movie Duration",
          "Movie Duration",
          "Movie Duration",
          "Movie Duration",
          "Movie Duration",
          "Movie Duration",
          "Movie Duration",
          "Movie Duration",
          "Movie Duration",
          "Movie Duration",
          "Movie Duration",
          "Movie Duration",
          "Movie Duration",
          "Movie Duration",
          "Movie Duration",
          "Movie Duration",
          "Movie Duration",
          "Movie Duration",
          "Movie Duration",
          "Movie Duration",
          "Movie Duration",
          "Movie Duration",
          "Movie Duration",
          "Movie Duration",
          "Movie Duration",
          "Movie Duration",
          "Movie Duration",
          "Movie Duration",
          "Movie Duration",
          "Movie Duration",
          "Movie Duration",
          "Movie Duration",
          "Movie Duration",
          "Movie Duration",
          "Movie Duration",
          "Movie Duration",
          "Movie Duration",
          "Movie Duration",
          "Movie Duration",
          "Movie Duration",
          "Movie Duration",
          "Movie Duration",
          "Movie Duration",
          "Movie Duration",
          "Movie Duration",
          "Movie Duration",
          "Movie Duration",
          "Movie Duration",
          "Movie Duration",
          "Movie Duration",
          "Movie Duration",
          "Movie Duration",
          "Movie Duration",
          "Movie Duration",
          "Movie Duration",
          "Movie Duration",
          "Movie Duration",
          "Movie Duration",
          "Movie Duration",
          "Movie Duration",
          "Movie Duration",
          "Movie Duration",
          "Movie Duration",
          "Movie Duration",
          "Movie Duration",
          "Movie Duration",
          "Movie Duration",
          "Movie Duration",
          "Movie Duration",
          "Movie Duration",
          "Movie Duration",
          "Movie Duration",
          "Movie Duration",
          "Movie Duration",
          "Movie Duration",
          "Movie Duration",
          "Movie Duration",
          "Movie Duration",
          "Movie Duration",
          "Movie Duration",
          "Movie Duration",
          "Movie Duration",
          "Movie Duration",
          "Movie Duration",
          "Movie Duration",
          "Movie Duration",
          "Movie Duration",
          "Movie Duration",
          "Movie Duration",
          "Movie Duration",
          "Movie Duration",
          "Movie Duration",
          "Movie Duration",
          "Movie Duration",
          "Movie Duration",
          "Movie Duration",
          "Movie Duration",
          "Movie Duration",
          "Movie Duration",
          "Movie Duration",
          "Movie Duration",
          "Movie Duration",
          "Movie Duration",
          "Movie Duration",
          "Movie Duration",
          "Movie Duration",
          "Movie Duration",
          "Movie Duration",
          "Movie Duration",
          "Movie Duration",
          "Movie Duration",
          "Movie Duration",
          "Movie Duration",
          "Movie Duration",
          "Movie Duration",
          "Movie Duration",
          "Movie Duration",
          "Movie Duration",
          "Movie Duration",
          "Movie Duration",
          "Movie Duration",
          "Movie Duration",
          "Movie Duration",
          "Movie Duration",
          "Movie Duration",
          "Movie Duration",
          "Movie Duration",
          "Movie Duration",
          "Movie Duration",
          "Movie Duration",
          "Movie Duration",
          "Movie Duration",
          "Movie Duration",
          "Movie Duration",
          "Movie Duration",
          "Movie Duration",
          "Movie Duration",
          "Movie Duration",
          "Movie Duration",
          "Movie Duration",
          "Movie Duration",
          "Movie Duration",
          "Movie Duration",
          "Movie Duration",
          "Movie Duration",
          "Movie Duration",
          "Movie Duration",
          "Movie Duration",
          "Movie Duration",
          "Movie Duration",
          "Movie Duration",
          "Movie Duration",
          "Movie Duration",
          "Movie Duration",
          "Movie Duration",
          "Movie Duration",
          "Movie Duration",
          "Movie Duration",
          "Movie Duration",
          "Movie Duration",
          "Movie Duration",
          "Movie Duration",
          "Movie Duration",
          "Movie Duration",
          "Movie Duration",
          "Movie Duration",
          "Movie Duration",
          "Movie Duration",
          "Movie Duration",
          "Movie Duration",
          "Movie Duration",
          "Movie Duration",
          "Movie Duration",
          "Movie Duration",
          "Movie Duration",
          "Movie Duration",
          "Movie Duration",
          "Movie Duration",
          "Movie Duration",
          "Movie Duration",
          "Movie Duration",
          "Movie Duration",
          "Movie Duration",
          "Movie Duration",
          "Movie Duration",
          "Movie Duration",
          "Movie Duration",
          "Movie Duration",
          "Movie Duration",
          "Movie Duration",
          "Movie Duration",
          "Movie Duration",
          "Movie Duration",
          "Movie Duration",
          "Movie Duration",
          "Movie Duration",
          "Movie Duration",
          "Movie Duration",
          "Movie Duration",
          "Movie Duration",
          "Movie Duration",
          "Movie Duration",
          "Movie Duration",
          "Movie Duration",
          "Movie Duration",
          "Movie Duration",
          "Movie Duration",
          "Movie Duration",
          "Movie Duration",
          "Movie Duration",
          "Movie Duration",
          "Movie Duration",
          "Movie Duration",
          "Movie Duration",
          "Movie Duration",
          "Movie Duration",
          "Movie Duration",
          "Movie Duration",
          "Movie Duration",
          "Movie Duration",
          "Movie Duration",
          "Movie Duration",
          "Movie Duration",
          "Movie Duration",
          "Movie Duration",
          "Movie Duration",
          "Movie Duration",
          "Movie Duration",
          "Movie Duration",
          "Movie Duration",
          "Movie Duration",
          "Movie Duration",
          "Movie Duration",
          "Movie Duration",
          "Movie Duration",
          "Movie Duration",
          "Movie Duration",
          "Movie Duration",
          "Movie Duration",
          "Movie Duration",
          "Movie Duration",
          "Movie Duration",
          "Movie Duration",
          "Movie Duration",
          "Movie Duration",
          "Movie Duration",
          "Movie Duration",
          "Movie Duration",
          "Movie Duration",
          "Movie Duration",
          "Movie Duration",
          "Movie Duration",
          "Movie Duration",
          "Movie Duration",
          "Movie Duration",
          "Movie Duration",
          "Movie Duration",
          "Movie Duration",
          "Movie Duration",
          "Movie Duration",
          "Movie Duration",
          "Movie Duration",
          "Movie Duration",
          "Movie Duration",
          "Movie Duration",
          "Movie Duration",
          "Movie Duration",
          "Movie Duration",
          "Movie Duration",
          "Movie Duration",
          "Movie Duration",
          "Movie Duration",
          "Movie Duration",
          "Movie Duration",
          "Movie Duration",
          "Movie Duration",
          "Movie Duration",
          "Movie Duration",
          "Movie Duration",
          "Movie Duration",
          "Movie Duration",
          "Movie Duration",
          "Movie Duration",
          "Movie Duration",
          "Movie Duration",
          "Movie Duration",
          "Movie Duration",
          "Movie Duration",
          "Movie Duration",
          "Movie Duration",
          "Movie Duration",
          "Movie Duration",
          "Movie Duration",
          "Movie Duration",
          "Movie Duration",
          "Movie Duration",
          "Movie Duration",
          "Movie Duration",
          "Movie Duration",
          "Movie Duration",
          "Movie Duration",
          "Movie Duration",
          "Movie Duration",
          "Movie Duration",
          "Movie Duration",
          "Movie Duration",
          "Movie Duration",
          "Movie Duration",
          "Movie Duration",
          "Movie Duration",
          "Movie Duration",
          "Movie Duration",
          "Movie Duration",
          "Movie Duration",
          "Movie Duration",
          "Movie Duration",
          "Movie Duration",
          "Movie Duration",
          "Movie Duration",
          "Movie Duration",
          "Movie Duration",
          "Movie Duration",
          "Movie Duration",
          "Movie Duration",
          "Movie Duration",
          "Movie Duration",
          "Movie Duration",
          "Movie Duration",
          "Movie Duration",
          "Movie Duration",
          "Movie Duration",
          "Movie Duration",
          "Movie Duration",
          "Movie Duration",
          "Movie Duration",
          "Movie Duration",
          "Movie Duration",
          "Movie Duration",
          "Movie Duration",
          "Movie Duration",
          "Movie Duration",
          "Movie Duration",
          "Movie Duration",
          "Movie Duration",
          "Movie Duration",
          "Movie Duration",
          "Movie Duration",
          "Movie Duration",
          "Movie Duration",
          "Movie Duration",
          "Movie Duration",
          "Movie Duration",
          "Movie Duration",
          "Movie Duration",
          "Movie Duration",
          "Movie Duration",
          "Movie Duration",
          "Movie Duration",
          "Movie Duration",
          "Movie Duration",
          "Movie Duration",
          "Movie Duration",
          "Movie Duration",
          "Movie Duration",
          "Movie Duration",
          "Movie Duration",
          "Movie Duration",
          "Movie Duration",
          "Movie Duration",
          "Movie Duration",
          "Movie Duration",
          "Movie Duration",
          "Movie Duration",
          "Movie Duration",
          "Movie Duration",
          "Movie Duration",
          "Movie Duration",
          "Movie Duration",
          "Movie Duration",
          "Movie Duration",
          "Movie Duration",
          "Movie Duration",
          "Movie Duration",
          "Movie Duration",
          "Movie Duration",
          "Movie Duration",
          "Movie Duration",
          "Movie Duration",
          "Movie Duration",
          "Movie Duration",
          "Movie Duration",
          "Movie Duration",
          "Movie Duration",
          "Movie Duration",
          "Movie Duration",
          "Movie Duration",
          "Movie Duration",
          "Movie Duration",
          "Movie Duration",
          "Movie Duration",
          "Movie Duration",
          "Movie Duration",
          "Movie Duration",
          "Movie Duration",
          "Movie Duration",
          "Movie Duration",
          "Movie Duration",
          "Movie Duration",
          "Movie Duration",
          "Movie Duration",
          "Movie Duration",
          "Movie Duration",
          "Movie Duration",
          "Movie Duration",
          "Movie Duration",
          "Movie Duration",
          "Movie Duration",
          "Movie Duration",
          "Movie Duration",
          "Movie Duration",
          "Movie Duration",
          "Movie Duration",
          "Movie Duration",
          "Movie Duration",
          "Movie Duration",
          "Movie Duration",
          "Movie Duration",
          "Movie Duration",
          "Movie Duration",
          "Movie Duration",
          "Movie Duration",
          "Movie Duration",
          "Movie Duration",
          "Movie Duration",
          "Movie Duration",
          "Movie Duration",
          "Movie Duration",
          "Movie Duration",
          "Movie Duration",
          "Movie Duration",
          "Movie Duration",
          "Movie Duration",
          "Movie Duration",
          "Movie Duration",
          "Movie Duration",
          "Movie Duration",
          "Movie Duration",
          "Movie Duration",
          "Movie Duration",
          "Movie Duration",
          "Movie Duration",
          "Movie Duration",
          "Movie Duration",
          "Movie Duration",
          "Movie Duration",
          "Movie Duration",
          "Movie Duration",
          "Movie Duration",
          "Movie Duration",
          "Movie Duration",
          "Movie Duration",
          "Movie Duration",
          "Movie Duration",
          "Movie Duration",
          "Movie Duration",
          "Movie Duration",
          "Movie Duration",
          "Movie Duration",
          "Movie Duration",
          "Movie Duration",
          "Movie Duration",
          "Movie Duration",
          "Movie Duration",
          "Movie Duration",
          "Movie Duration",
          "Movie Duration",
          "Movie Duration",
          "Movie Duration",
          "Movie Duration",
          "Movie Duration",
          "Movie Duration",
          "Movie Duration",
          "Movie Duration",
          "Movie Duration",
          "Movie Duration",
          "Movie Duration",
          "Movie Duration",
          "Movie Duration",
          "Movie Duration",
          "Movie Duration",
          "Movie Duration",
          "Movie Duration",
          "Movie Duration",
          "Movie Duration",
          "Movie Duration",
          "Movie Duration",
          "Movie Duration",
          "Movie Duration",
          "Movie Duration",
          "Movie Duration",
          "Movie Duration",
          "Movie Duration",
          "Movie Duration",
          "Movie Duration",
          "Movie Duration",
          "Movie Duration",
          "Movie Duration",
          "Movie Duration",
          "Movie Duration",
          "Movie Duration",
          "Movie Duration",
          "Movie Duration",
          "Movie Duration",
          "Movie Duration",
          "Movie Duration",
          "Movie Duration",
          "Movie Duration",
          "Movie Duration",
          "Movie Duration",
          "Movie Duration",
          "Movie Duration",
          "Movie Duration",
          "Movie Duration",
          "Movie Duration",
          "Movie Duration",
          "Movie Duration",
          "Movie Duration",
          "Movie Duration",
          "Movie Duration",
          "Movie Duration",
          "Movie Duration",
          "Movie Duration",
          "Movie Duration",
          "Movie Duration",
          "Movie Duration",
          "Movie Duration",
          "Movie Duration",
          "Movie Duration",
          "Movie Duration",
          "Movie Duration",
          "Movie Duration",
          "Movie Duration",
          "Movie Duration",
          "Movie Duration",
          "Movie Duration",
          "Movie Duration",
          "Movie Duration",
          "Movie Duration",
          "Movie Duration",
          "Movie Duration",
          "Movie Duration",
          "Movie Duration",
          "Movie Duration",
          "Movie Duration",
          "Movie Duration",
          "Movie Duration",
          "Movie Duration",
          "Movie Duration",
          "Movie Duration",
          "Movie Duration",
          "Movie Duration",
          "Movie Duration",
          "Movie Duration",
          "Movie Duration",
          "Movie Duration",
          "Movie Duration",
          "Movie Duration",
          "Movie Duration",
          "Movie Duration",
          "Movie Duration",
          "Movie Duration",
          "Movie Duration",
          "Movie Duration",
          "Movie Duration",
          "Movie Duration",
          "Movie Duration",
          "Movie Duration",
          "Movie Duration",
          "Movie Duration",
          "Movie Duration",
          "Movie Duration",
          "Movie Duration",
          "Movie Duration",
          "Movie Duration",
          "Movie Duration",
          "Movie Duration",
          "Movie Duration",
          "Movie Duration",
          "Movie Duration",
          "Movie Duration",
          "Movie Duration",
          "Movie Duration",
          "Movie Duration",
          "Movie Duration",
          "Movie Duration",
          "Movie Duration",
          "Movie Duration",
          "Movie Duration",
          "Movie Duration",
          "Movie Duration",
          "Movie Duration",
          "Movie Duration",
          "Movie Duration",
          "Movie Duration",
          "Movie Duration",
          "Movie Duration",
          "Movie Duration",
          "Movie Duration",
          "Movie Duration",
          "Movie Duration",
          "Movie Duration",
          "Movie Duration",
          "Movie Duration",
          "Movie Duration",
          "Movie Duration",
          "Movie Duration",
          "Movie Duration",
          "Movie Duration",
          "Movie Duration",
          "Movie Duration",
          "Movie Duration",
          "Movie Duration",
          "Movie Duration",
          "Movie Duration",
          "Movie Duration",
          "Movie Duration",
          "Movie Duration",
          "Movie Duration",
          "Movie Duration",
          "Movie Duration",
          "Movie Duration",
          "Movie Duration",
          "Movie Duration",
          "Movie Duration",
          "Movie Duration",
          "Movie Duration",
          "Movie Duration",
          "Movie Duration",
          "Movie Duration",
          "Movie Duration",
          "Movie Duration",
          "Movie Duration",
          "Movie Duration",
          "Movie Duration",
          "Movie Duration",
          "Movie Duration",
          "Movie Duration",
          "Movie Duration",
          "Movie Duration",
          "Movie Duration",
          "Movie Duration",
          "Movie Duration",
          "Movie Duration",
          "Movie Duration",
          "Movie Duration",
          "Movie Duration",
          "Movie Duration",
          "Movie Duration",
          "Movie Duration",
          "Movie Duration",
          "Movie Duration",
          "Movie Duration",
          "Movie Duration",
          "Movie Duration",
          "Movie Duration",
          "Movie Duration",
          "Movie Duration",
          "Movie Duration",
          "Movie Duration",
          "Movie Duration",
          "Movie Duration",
          "Movie Duration",
          "Movie Duration",
          "Movie Duration",
          "Movie Duration",
          "Movie Duration",
          "Movie Duration",
          "Movie Duration",
          "Movie Duration",
          "Movie Duration",
          "Movie Duration",
          "Movie Duration",
          "Movie Duration",
          "Movie Duration",
          "Movie Duration",
          "Movie Duration",
          "Movie Duration",
          "Movie Duration",
          "Movie Duration",
          "Movie Duration",
          "Movie Duration",
          "Movie Duration",
          "Movie Duration",
          "Movie Duration",
          "Movie Duration",
          "Movie Duration",
          "Movie Duration",
          "Movie Duration",
          "Movie Duration",
          "Movie Duration",
          "Movie Duration",
          "Movie Duration",
          "Movie Duration",
          "Movie Duration",
          "Movie Duration",
          "Movie Duration",
          "Movie Duration",
          "Movie Duration",
          "Movie Duration",
          "Movie Duration",
          "Movie Duration",
          "Movie Duration",
          "Movie Duration",
          "Movie Duration",
          "Movie Duration",
          "Movie Duration",
          "Movie Duration",
          "Movie Duration",
          "Movie Duration",
          "Movie Duration",
          "Movie Duration",
          "Movie Duration",
          "Movie Duration",
          "Movie Duration",
          "Movie Duration",
          "Movie Duration",
          "Movie Duration",
          "Movie Duration",
          "Movie Duration",
          "Movie Duration",
          "Movie Duration",
          "Movie Duration",
          "Movie Duration",
          "Movie Duration",
          "Movie Duration",
          "Movie Duration",
          "Movie Duration",
          "Movie Duration",
          "Movie Duration",
          "Movie Duration",
          "Movie Duration",
          "Movie Duration",
          "Movie Duration",
          "Movie Duration",
          "Movie Duration",
          "Movie Duration",
          "Movie Duration",
          "Movie Duration",
          "Movie Duration",
          "Movie Duration",
          "Movie Duration",
          "Movie Duration",
          "Movie Duration",
          "Movie Duration",
          "Movie Duration",
          "Movie Duration",
          "Movie Duration",
          "Movie Duration",
          "Movie Duration",
          "Movie Duration",
          "Movie Duration",
          "Movie Duration",
          "Movie Duration",
          "Movie Duration",
          "Movie Duration",
          "Movie Duration",
          "Movie Duration",
          "Movie Duration",
          "Movie Duration",
          "Movie Duration",
          "Movie Duration",
          "Movie Duration",
          "Movie Duration",
          "Movie Duration",
          "Movie Duration",
          "Movie Duration",
          "Movie Duration",
          "Movie Duration",
          "Movie Duration",
          "Movie Duration",
          "Movie Duration",
          "Movie Duration",
          "Movie Duration",
          "Movie Duration",
          "Movie Duration",
          "Movie Duration",
          "Movie Duration",
          "Movie Duration",
          "Movie Duration",
          "Movie Duration",
          "Movie Duration",
          "Movie Duration",
          "Movie Duration",
          "Movie Duration",
          "Movie Duration",
          "Movie Duration",
          "Movie Duration",
          "Movie Duration",
          "Movie Duration",
          "Movie Duration",
          "Movie Duration",
          "Movie Duration",
          "Movie Duration",
          "Movie Duration",
          "Movie Duration",
          "Movie Duration",
          "Movie Duration",
          "Movie Duration",
          "Movie Duration",
          "Movie Duration",
          "Movie Duration",
          "Movie Duration",
          "Movie Duration",
          "Movie Duration",
          "Movie Duration",
          "Movie Duration",
          "Movie Duration",
          "Movie Duration",
          "Movie Duration",
          "Movie Duration",
          "Movie Duration",
          "Movie Duration",
          "Movie Duration",
          "Movie Duration",
          "Movie Duration",
          "Movie Duration",
          "Movie Duration",
          "Movie Duration",
          "Movie Duration",
          "Movie Duration",
          "Movie Duration",
          "Movie Duration",
          "Movie Duration",
          "Movie Duration",
          "Movie Duration",
          "Movie Duration",
          "Movie Duration",
          "Movie Duration",
          "Movie Duration",
          "Movie Duration",
          "Movie Duration",
          "Movie Duration",
          "Movie Duration",
          "Movie Duration",
          "Movie Duration",
          "Movie Duration",
          "Movie Duration",
          "Movie Duration",
          "Movie Duration",
          "Movie Duration",
          "Movie Duration",
          "Movie Duration",
          "Movie Duration",
          "Movie Duration",
          "Movie Duration",
          "Movie Duration",
          "Movie Duration",
          "Movie Duration",
          "Movie Duration",
          "Movie Duration",
          "Movie Duration",
          "Movie Duration",
          "Movie Duration",
          "Movie Duration",
          "Movie Duration",
          "Movie Duration",
          "Movie Duration",
          "Movie Duration",
          "Movie Duration",
          "Movie Duration",
          "Movie Duration",
          "Movie Duration",
          "Movie Duration",
          "Movie Duration",
          "Movie Duration",
          "Movie Duration",
          "Movie Duration",
          "Movie Duration",
          "Movie Duration",
          "Movie Duration",
          "Movie Duration",
          "Movie Duration",
          "Movie Duration",
          "Movie Duration",
          "Movie Duration",
          "Movie Duration",
          "Movie Duration",
          "Movie Duration",
          "Movie Duration",
          "Movie Duration",
          "Movie Duration",
          "Movie Duration",
          "Movie Duration",
          "Movie Duration",
          "Movie Duration",
          "Movie Duration",
          "Movie Duration",
          "Movie Duration",
          "Movie Duration",
          "Movie Duration",
          "Movie Duration",
          "Movie Duration",
          "Movie Duration",
          "Movie Duration",
          "Movie Duration",
          "Movie Duration",
          "Movie Duration"
         ],
         "yaxis": "y2"
        }
       ],
       "layout": {
        "barmode": "overlay",
        "hovermode": "closest",
        "legend": {
         "traceorder": "reversed"
        },
        "template": {
         "data": {
          "bar": [
           {
            "error_x": {
             "color": "#2a3f5f"
            },
            "error_y": {
             "color": "#2a3f5f"
            },
            "marker": {
             "line": {
              "color": "#E5ECF6",
              "width": 0.5
             },
             "pattern": {
              "fillmode": "overlay",
              "size": 10,
              "solidity": 0.2
             }
            },
            "type": "bar"
           }
          ],
          "barpolar": [
           {
            "marker": {
             "line": {
              "color": "#E5ECF6",
              "width": 0.5
             },
             "pattern": {
              "fillmode": "overlay",
              "size": 10,
              "solidity": 0.2
             }
            },
            "type": "barpolar"
           }
          ],
          "carpet": [
           {
            "aaxis": {
             "endlinecolor": "#2a3f5f",
             "gridcolor": "white",
             "linecolor": "white",
             "minorgridcolor": "white",
             "startlinecolor": "#2a3f5f"
            },
            "baxis": {
             "endlinecolor": "#2a3f5f",
             "gridcolor": "white",
             "linecolor": "white",
             "minorgridcolor": "white",
             "startlinecolor": "#2a3f5f"
            },
            "type": "carpet"
           }
          ],
          "choropleth": [
           {
            "colorbar": {
             "outlinewidth": 0,
             "ticks": ""
            },
            "type": "choropleth"
           }
          ],
          "contour": [
           {
            "colorbar": {
             "outlinewidth": 0,
             "ticks": ""
            },
            "colorscale": [
             [
              0,
              "#0d0887"
             ],
             [
              0.1111111111111111,
              "#46039f"
             ],
             [
              0.2222222222222222,
              "#7201a8"
             ],
             [
              0.3333333333333333,
              "#9c179e"
             ],
             [
              0.4444444444444444,
              "#bd3786"
             ],
             [
              0.5555555555555556,
              "#d8576b"
             ],
             [
              0.6666666666666666,
              "#ed7953"
             ],
             [
              0.7777777777777778,
              "#fb9f3a"
             ],
             [
              0.8888888888888888,
              "#fdca26"
             ],
             [
              1,
              "#f0f921"
             ]
            ],
            "type": "contour"
           }
          ],
          "contourcarpet": [
           {
            "colorbar": {
             "outlinewidth": 0,
             "ticks": ""
            },
            "type": "contourcarpet"
           }
          ],
          "heatmap": [
           {
            "colorbar": {
             "outlinewidth": 0,
             "ticks": ""
            },
            "colorscale": [
             [
              0,
              "#0d0887"
             ],
             [
              0.1111111111111111,
              "#46039f"
             ],
             [
              0.2222222222222222,
              "#7201a8"
             ],
             [
              0.3333333333333333,
              "#9c179e"
             ],
             [
              0.4444444444444444,
              "#bd3786"
             ],
             [
              0.5555555555555556,
              "#d8576b"
             ],
             [
              0.6666666666666666,
              "#ed7953"
             ],
             [
              0.7777777777777778,
              "#fb9f3a"
             ],
             [
              0.8888888888888888,
              "#fdca26"
             ],
             [
              1,
              "#f0f921"
             ]
            ],
            "type": "heatmap"
           }
          ],
          "heatmapgl": [
           {
            "colorbar": {
             "outlinewidth": 0,
             "ticks": ""
            },
            "colorscale": [
             [
              0,
              "#0d0887"
             ],
             [
              0.1111111111111111,
              "#46039f"
             ],
             [
              0.2222222222222222,
              "#7201a8"
             ],
             [
              0.3333333333333333,
              "#9c179e"
             ],
             [
              0.4444444444444444,
              "#bd3786"
             ],
             [
              0.5555555555555556,
              "#d8576b"
             ],
             [
              0.6666666666666666,
              "#ed7953"
             ],
             [
              0.7777777777777778,
              "#fb9f3a"
             ],
             [
              0.8888888888888888,
              "#fdca26"
             ],
             [
              1,
              "#f0f921"
             ]
            ],
            "type": "heatmapgl"
           }
          ],
          "histogram": [
           {
            "marker": {
             "pattern": {
              "fillmode": "overlay",
              "size": 10,
              "solidity": 0.2
             }
            },
            "type": "histogram"
           }
          ],
          "histogram2d": [
           {
            "colorbar": {
             "outlinewidth": 0,
             "ticks": ""
            },
            "colorscale": [
             [
              0,
              "#0d0887"
             ],
             [
              0.1111111111111111,
              "#46039f"
             ],
             [
              0.2222222222222222,
              "#7201a8"
             ],
             [
              0.3333333333333333,
              "#9c179e"
             ],
             [
              0.4444444444444444,
              "#bd3786"
             ],
             [
              0.5555555555555556,
              "#d8576b"
             ],
             [
              0.6666666666666666,
              "#ed7953"
             ],
             [
              0.7777777777777778,
              "#fb9f3a"
             ],
             [
              0.8888888888888888,
              "#fdca26"
             ],
             [
              1,
              "#f0f921"
             ]
            ],
            "type": "histogram2d"
           }
          ],
          "histogram2dcontour": [
           {
            "colorbar": {
             "outlinewidth": 0,
             "ticks": ""
            },
            "colorscale": [
             [
              0,
              "#0d0887"
             ],
             [
              0.1111111111111111,
              "#46039f"
             ],
             [
              0.2222222222222222,
              "#7201a8"
             ],
             [
              0.3333333333333333,
              "#9c179e"
             ],
             [
              0.4444444444444444,
              "#bd3786"
             ],
             [
              0.5555555555555556,
              "#d8576b"
             ],
             [
              0.6666666666666666,
              "#ed7953"
             ],
             [
              0.7777777777777778,
              "#fb9f3a"
             ],
             [
              0.8888888888888888,
              "#fdca26"
             ],
             [
              1,
              "#f0f921"
             ]
            ],
            "type": "histogram2dcontour"
           }
          ],
          "mesh3d": [
           {
            "colorbar": {
             "outlinewidth": 0,
             "ticks": ""
            },
            "type": "mesh3d"
           }
          ],
          "parcoords": [
           {
            "line": {
             "colorbar": {
              "outlinewidth": 0,
              "ticks": ""
             }
            },
            "type": "parcoords"
           }
          ],
          "pie": [
           {
            "automargin": true,
            "type": "pie"
           }
          ],
          "scatter": [
           {
            "fillpattern": {
             "fillmode": "overlay",
             "size": 10,
             "solidity": 0.2
            },
            "type": "scatter"
           }
          ],
          "scatter3d": [
           {
            "line": {
             "colorbar": {
              "outlinewidth": 0,
              "ticks": ""
             }
            },
            "marker": {
             "colorbar": {
              "outlinewidth": 0,
              "ticks": ""
             }
            },
            "type": "scatter3d"
           }
          ],
          "scattercarpet": [
           {
            "marker": {
             "colorbar": {
              "outlinewidth": 0,
              "ticks": ""
             }
            },
            "type": "scattercarpet"
           }
          ],
          "scattergeo": [
           {
            "marker": {
             "colorbar": {
              "outlinewidth": 0,
              "ticks": ""
             }
            },
            "type": "scattergeo"
           }
          ],
          "scattergl": [
           {
            "marker": {
             "colorbar": {
              "outlinewidth": 0,
              "ticks": ""
             }
            },
            "type": "scattergl"
           }
          ],
          "scattermapbox": [
           {
            "marker": {
             "colorbar": {
              "outlinewidth": 0,
              "ticks": ""
             }
            },
            "type": "scattermapbox"
           }
          ],
          "scatterpolar": [
           {
            "marker": {
             "colorbar": {
              "outlinewidth": 0,
              "ticks": ""
             }
            },
            "type": "scatterpolar"
           }
          ],
          "scatterpolargl": [
           {
            "marker": {
             "colorbar": {
              "outlinewidth": 0,
              "ticks": ""
             }
            },
            "type": "scatterpolargl"
           }
          ],
          "scatterternary": [
           {
            "marker": {
             "colorbar": {
              "outlinewidth": 0,
              "ticks": ""
             }
            },
            "type": "scatterternary"
           }
          ],
          "surface": [
           {
            "colorbar": {
             "outlinewidth": 0,
             "ticks": ""
            },
            "colorscale": [
             [
              0,
              "#0d0887"
             ],
             [
              0.1111111111111111,
              "#46039f"
             ],
             [
              0.2222222222222222,
              "#7201a8"
             ],
             [
              0.3333333333333333,
              "#9c179e"
             ],
             [
              0.4444444444444444,
              "#bd3786"
             ],
             [
              0.5555555555555556,
              "#d8576b"
             ],
             [
              0.6666666666666666,
              "#ed7953"
             ],
             [
              0.7777777777777778,
              "#fb9f3a"
             ],
             [
              0.8888888888888888,
              "#fdca26"
             ],
             [
              1,
              "#f0f921"
             ]
            ],
            "type": "surface"
           }
          ],
          "table": [
           {
            "cells": {
             "fill": {
              "color": "#EBF0F8"
             },
             "line": {
              "color": "white"
             }
            },
            "header": {
             "fill": {
              "color": "#C8D4E3"
             },
             "line": {
              "color": "white"
             }
            },
            "type": "table"
           }
          ]
         },
         "layout": {
          "annotationdefaults": {
           "arrowcolor": "#2a3f5f",
           "arrowhead": 0,
           "arrowwidth": 1
          },
          "autotypenumbers": "strict",
          "coloraxis": {
           "colorbar": {
            "outlinewidth": 0,
            "ticks": ""
           }
          },
          "colorscale": {
           "diverging": [
            [
             0,
             "#8e0152"
            ],
            [
             0.1,
             "#c51b7d"
            ],
            [
             0.2,
             "#de77ae"
            ],
            [
             0.3,
             "#f1b6da"
            ],
            [
             0.4,
             "#fde0ef"
            ],
            [
             0.5,
             "#f7f7f7"
            ],
            [
             0.6,
             "#e6f5d0"
            ],
            [
             0.7,
             "#b8e186"
            ],
            [
             0.8,
             "#7fbc41"
            ],
            [
             0.9,
             "#4d9221"
            ],
            [
             1,
             "#276419"
            ]
           ],
           "sequential": [
            [
             0,
             "#0d0887"
            ],
            [
             0.1111111111111111,
             "#46039f"
            ],
            [
             0.2222222222222222,
             "#7201a8"
            ],
            [
             0.3333333333333333,
             "#9c179e"
            ],
            [
             0.4444444444444444,
             "#bd3786"
            ],
            [
             0.5555555555555556,
             "#d8576b"
            ],
            [
             0.6666666666666666,
             "#ed7953"
            ],
            [
             0.7777777777777778,
             "#fb9f3a"
            ],
            [
             0.8888888888888888,
             "#fdca26"
            ],
            [
             1,
             "#f0f921"
            ]
           ],
           "sequentialminus": [
            [
             0,
             "#0d0887"
            ],
            [
             0.1111111111111111,
             "#46039f"
            ],
            [
             0.2222222222222222,
             "#7201a8"
            ],
            [
             0.3333333333333333,
             "#9c179e"
            ],
            [
             0.4444444444444444,
             "#bd3786"
            ],
            [
             0.5555555555555556,
             "#d8576b"
            ],
            [
             0.6666666666666666,
             "#ed7953"
            ],
            [
             0.7777777777777778,
             "#fb9f3a"
            ],
            [
             0.8888888888888888,
             "#fdca26"
            ],
            [
             1,
             "#f0f921"
            ]
           ]
          },
          "colorway": [
           "#636efa",
           "#EF553B",
           "#00cc96",
           "#ab63fa",
           "#FFA15A",
           "#19d3f3",
           "#FF6692",
           "#B6E880",
           "#FF97FF",
           "#FECB52"
          ],
          "font": {
           "color": "#2a3f5f"
          },
          "geo": {
           "bgcolor": "white",
           "lakecolor": "white",
           "landcolor": "#E5ECF6",
           "showlakes": true,
           "showland": true,
           "subunitcolor": "white"
          },
          "hoverlabel": {
           "align": "left"
          },
          "hovermode": "closest",
          "mapbox": {
           "style": "light"
          },
          "paper_bgcolor": "white",
          "plot_bgcolor": "#E5ECF6",
          "polar": {
           "angularaxis": {
            "gridcolor": "white",
            "linecolor": "white",
            "ticks": ""
           },
           "bgcolor": "#E5ECF6",
           "radialaxis": {
            "gridcolor": "white",
            "linecolor": "white",
            "ticks": ""
           }
          },
          "scene": {
           "xaxis": {
            "backgroundcolor": "#E5ECF6",
            "gridcolor": "white",
            "gridwidth": 2,
            "linecolor": "white",
            "showbackground": true,
            "ticks": "",
            "zerolinecolor": "white"
           },
           "yaxis": {
            "backgroundcolor": "#E5ECF6",
            "gridcolor": "white",
            "gridwidth": 2,
            "linecolor": "white",
            "showbackground": true,
            "ticks": "",
            "zerolinecolor": "white"
           },
           "zaxis": {
            "backgroundcolor": "#E5ECF6",
            "gridcolor": "white",
            "gridwidth": 2,
            "linecolor": "white",
            "showbackground": true,
            "ticks": "",
            "zerolinecolor": "white"
           }
          },
          "shapedefaults": {
           "line": {
            "color": "#2a3f5f"
           }
          },
          "ternary": {
           "aaxis": {
            "gridcolor": "white",
            "linecolor": "white",
            "ticks": ""
           },
           "baxis": {
            "gridcolor": "white",
            "linecolor": "white",
            "ticks": ""
           },
           "bgcolor": "#E5ECF6",
           "caxis": {
            "gridcolor": "white",
            "linecolor": "white",
            "ticks": ""
           }
          },
          "title": {
           "x": 0.05
          },
          "xaxis": {
           "automargin": true,
           "gridcolor": "white",
           "linecolor": "white",
           "ticks": "",
           "title": {
            "standoff": 15
           },
           "zerolinecolor": "white",
           "zerolinewidth": 2
          },
          "yaxis": {
           "automargin": true,
           "gridcolor": "white",
           "linecolor": "white",
           "ticks": "",
           "title": {
            "standoff": 15
           },
           "zerolinecolor": "white",
           "zerolinewidth": 2
          }
         }
        },
        "title": {
         "text": "Distribution of Movie Durations (minutes)"
        },
        "xaxis": {
         "anchor": "y2",
         "domain": [
          0,
          1
         ],
         "zeroline": false
        },
        "yaxis": {
         "anchor": "free",
         "domain": [
          0.35,
          1
         ],
         "position": 0
        },
        "yaxis2": {
         "anchor": "x",
         "domain": [
          0,
          0.25
         ],
         "dtick": 1,
         "showticklabels": false
        }
       }
      },
      "text/html": [
       "<div>                            <div id=\"26cf4151-f61c-436d-8cc9-7e2f51f25b27\" class=\"plotly-graph-div\" style=\"height:525px; width:100%;\"></div>            <script type=\"text/javascript\">                require([\"plotly\"], function(Plotly) {                    window.PLOTLYENV=window.PLOTLYENV || {};                                    if (document.getElementById(\"26cf4151-f61c-436d-8cc9-7e2f51f25b27\")) {                    Plotly.newPlot(                        \"26cf4151-f61c-436d-8cc9-7e2f51f25b27\",                        [{\"autobinx\":false,\"histnorm\":\"probability density\",\"legendgroup\":\"Movie Duration\",\"marker\":{\"color\":\"#6ad49b\"},\"name\":\"Movie Duration\",\"opacity\":0.7,\"x\":[67.0,135.0,106.0,107.0,81.0,107.0,118.0,110.0,104.0,93.0,94.0,124.0,137.0,134.0,69.0,106.0,209.0,86.0,24.0,46.0,117.0,87.0,92.0,114.0,121.0,94.0,109.0,110.0,96.0,97.0,121.0,56.0,119.0,138.0,93.0,111.0,88.0,81.0,73.0,86.0,116.0,85.0,134.0,109.0,102.0,101.0,88.0,101.0,28.0,103.0,131.0,166.0,105.0,82.0,107.0,84.0,103.0,112.0,89.0,121.0,87.0,136.0,118.0,129.0,94.0,88.0,158.0,78.0,100.0,93.0,84.0,107.0,101.0,107.0,74.0,60.0,143.0,105.0,110.0,98.0,100.0,74.0,100.0,46.0,88.0,54.0,59.0,100.0,95.0,88.0,100.0,93.0,94.0,121.0,78.0,116.0,87.0,61.0,98.0,123.0,85.0,92.0,87.0,92.0,112.0,97.0,78.0,103.0,107.0,44.0,68.0,68.0,99.0,69.0,81.0,69.0,68.0,68.0,91.0,86.0,40.0,102.0,119.0,94.0,119.0,90.0,105.0,89.0,108.0,108.0,87.0,112.0,101.0,89.0,91.0,200.0,119.0,90.0,103.0,110.0,133.0,124.0,118.0,40.0,98.0,85.0,115.0,137.0,98.0,110.0,55.0,86.0,92.0,116.0,94.0,134.0,102.0,98.0,100.0,105.0,116.0,118.0,153.0,109.0,99.0,96.0,91.0,185.0,92.0,82.0,127.0,98.0,111.0,120.0,137.0,121.0,89.0,91.0,135.0,98.0,139.0,95.0,98.0,91.0,122.0,100.0,103.0,129.0,133.0,36.0,141.0,105.0,107.0,136.0,138.0,129.0,97.0,141.0,99.0,89.0,24.0,90.0,98.0,89.0,88.0,65.0,126.0,63.0,14.0,28.0,20.0,88.0,98.0,94.0,106.0,118.0,127.0,61.0,86.0,94.0,82.0,92.0,95.0,52.0,108.0,91.0,96.0,67.0,83.0,94.0,97.0,91.0,66.0,98.0,92.0,118.0,87.0,121.0,98.0,99.0,95.0,107.0,100.0,101.0,86.0,96.0,99.0,112.0,127.0,140.0,22.0,78.0,63.0,97.0,86.0,93.0,73.0,62.0,96.0,104.0,123.0,100.0,99.0,151.0,102.0,154.0,106.0,87.0,70.0,46.0,111.0,101.0,109.0,100.0,110.0,102.0,102.0,24.0,96.0,98.0,76.0,93.0,77.0,103.0,45.0,119.0,147.0,123.0,99.0,98.0,106.0,112.0,85.0,91.0,88.0,101.0,90.0,96.0,99.0,101.0,111.0,96.0,86.0,97.0,121.0,59.0,58.0,90.0,88.0,64.0,104.0,122.0,125.0,92.0,129.0,79.0,121.0,106.0,124.0,87.0,125.0,154.0,86.0,111.0,97.0,66.0,121.0,91.0,91.0,82.0,117.0,81.0,84.0,81.0,107.0,94.0,163.0,90.0,96.0,91.0,93.0,64.0,45.0,89.0,90.0,102.0,116.0,42.0,133.0,108.0,38.0,97.0,89.0,146.0,146.0,130.0,106.0,58.0,152.0,87.0,121.0,182.0,106.0,102.0,98.0,83.0,82.0,111.0,24.0,171.0,84.0,112.0,80.0,88.0,124.0,104.0,76.0,91.0,64.0,94.0,86.0,157.0,83.0,95.0,106.0,87.0,90.0,65.0,105.0,107.0,103.0,88.0,96.0,67.0,140.0,96.0,93.0,90.0,125.0,142.0,133.0,100.0,10.0,128.0,88.0,108.0,93.0,96.0,102.0,108.0,81.0,102.0,93.0,87.0,94.0,100.0,88.0,109.0,138.0,149.0,82.0,86.0,112.0,98.0,113.0,47.0,106.0,113.0,119.0,109.0,98.0,88.0,116.0,106.0,95.0,95.0,113.0,84.0,91.0,102.0,100.0,81.0,98.0,110.0,106.0,85.0,66.0,92.0,92.0,91.0,133.0,135.0,120.0,118.0,123.0,110.0,98.0,98.0,98.0,104.0,167.0,63.0,52.0,95.0,72.0,117.0,100.0,24.0,86.0,112.0,69.0,119.0,123.0,93.0,109.0,97.0,66.0,107.0,46.0,96.0,91.0,80.0,103.0,117.0,76.0,67.0,114.0,67.0,77.0,84.0,105.0,63.0,94.0,99.0,59.0,102.0,81.0,145.0,84.0,102.0,101.0,116.0,164.0,87.0,90.0,106.0,116.0,134.0,133.0,118.0,120.0,154.0,128.0,115.0,177.0,105.0,112.0,120.0,119.0,100.0,92.0,104.0,97.0,88.0,128.0,130.0,108.0,98.0,89.0,90.0,130.0,83.0,99.0,59.0,107.0,99.0,94.0,111.0,100.0,77.0,57.0,107.0,93.0,114.0,103.0,153.0,94.0,149.0,111.0,58.0,56.0,110.0,98.0,106.0,102.0,93.0,81.0,77.0,98.0,97.0,136.0,161.0,32.0,86.0,107.0,98.0,83.0,77.0,133.0,105.0,79.0,106.0,90.0,87.0,95.0,91.0,67.0,106.0,65.0,131.0,105.0,119.0,105.0,40.0,107.0,112.0,97.0,106.0,66.0,106.0,110.0,102.0,105.0,112.0,96.0,97.0,53.0,113.0,53.0,54.0,53.0,54.0,113.0,53.0,53.0,53.0,54.0,54.0,52.0,54.0,54.0,53.0,53.0,53.0,113.0,53.0,91.0,126.0,99.0,134.0,26.0,117.0,89.0,94.0,101.0,94.0,99.0,114.0,48.0,78.0,118.0,119.0,104.0,98.0,93.0,61.0,90.0,122.0,113.0,141.0,81.0,176.0,119.0,73.0,87.0,88.0,15.0,55.0,141.0,122.0,117.0,95.0,109.0,63.0,73.0,107.0,87.0,99.0,96.0,113.0,69.0,99.0,87.0,85.0,112.0,116.0,99.0,101.0,110.0,116.0,96.0,83.0,110.0,86.0,110.0,122.0,99.0,59.0,65.0,126.0,97.0,68.0,65.0,63.0,89.0,88.0,91.0,53.0,40.0,113.0,117.0,90.0,95.0,98.0,97.0,102.0,61.0,93.0,117.0,108.0,126.0,93.0,60.0,142.0,113.0,90.0,120.0,107.0,74.0,119.0,114.0,125.0,71.0,110.0,127.0,118.0,90.0,94.0,90.0,98.0,98.0,99.0,133.0,94.0,116.0,93.0,103.0,84.0,90.0,107.0,89.0,90.0,96.0,130.0,90.0,86.0,79.0,93.0,12.0,62.0,3.0,94.0,93.0,114.0,110.0,125.0,119.0,109.0,100.0,98.0,98.0,128.0,83.0,105.0,109.0,83.0,101.0,78.0,110.0,116.0,141.0,120.0,97.0,109.0,105.0,102.0,127.0,101.0,135.0,124.0,103.0,105.0,98.0,93.0,113.0,106.0,99.0,123.0,91.0,84.0,99.0,93.0,122.0,38.0,101.0,99.0,91.0,30.0,30.0,137.0,111.0,66.0,159.0,125.0,95.0,95.0,70.0,87.0,88.0,96.0,90.0,84.0,53.0,87.0,90.0,96.0,150.0,105.0,112.0,119.0,142.0,94.0,97.0,137.0,100.0,125.0,128.0,108.0,136.0,165.0,124.0,133.0,116.0,102.0,87.0,61.0,94.0,70.0,92.0,88.0,100.0,111.0,128.0,63.0,63.0,62.0,62.0,98.0,104.0,110.0,87.0,126.0,103.0,111.0,100.0,112.0,96.0,71.0,86.0,99.0,125.0,147.0,88.0,40.0,79.0,110.0,101.0,128.0,110.0,79.0,87.0,133.0,116.0,119.0,53.0,82.0,99.0,87.0,90.0,124.0,53.0,88.0,54.0,104.0,92.0,126.0,140.0,87.0,93.0,80.0,92.0,64.0,72.0,148.0,110.0,119.0,163.0,125.0,87.0,96.0,91.0,122.0,125.0,49.0,95.0,99.0,98.0,98.0,90.0,97.0,97.0,86.0,114.0,96.0,99.0,88.0,66.0,70.0,168.0,98.0,89.0,100.0,90.0,77.0,100.0,102.0,98.0,92.0,116.0,111.0,91.0,99.0,99.0,99.0,98.0,73.0,113.0,153.0,81.0,54.0,138.0,93.0,123.0,96.0,101.0,59.0,53.0,102.0,141.0,95.0,111.0,131.0,116.0,119.0,146.0,101.0,82.0,90.0,87.0,95.0,94.0,129.0,94.0,103.0,133.0,135.0,61.0,85.0,91.0,105.0,59.0,91.0,94.0,89.0,131.0,136.0,170.0,91.0,128.0,88.0,97.0,110.0,170.0,92.0,94.0,92.0,113.0,59.0,126.0,86.0,120.0,76.0,60.0,118.0,88.0,55.0,110.0,113.0,110.0,94.0,54.0,53.0,103.0,126.0,89.0,124.0,128.0,88.0,83.0,96.0,118.0,91.0,91.0,53.0,103.0,108.0,88.0,81.0,124.0,102.0,98.0,132.0,87.0,89.0,109.0,75.0,126.0,61.0,126.0,108.0,89.0,100.0,129.0,71.0,108.0,101.0,60.0,105.0,115.0,118.0,130.0,101.0,115.0,99.0,69.0,97.0,61.0,87.0,97.0,101.0,92.0,123.0,108.0,104.0,98.0,65.0,88.0,106.0,69.0,97.0,80.0,85.0,99.0,98.0,115.0,138.0,90.0,86.0,90.0,117.0,132.0,127.0,125.0,128.0,126.0,58.0,87.0,98.0,116.0,90.0,111.0,100.0,123.0,106.0,100.0,104.0,99.0,105.0,128.0,91.0,127.0,100.0,131.0,104.0,94.0,124.0,106.0,108.0,104.0,103.0,100.0,79.0,92.0,116.0,83.0,118.0,162.0,162.0,126.0,109.0,109.0,89.0,111.0,89.0,97.0,108.0,103.0,88.0,120.0,90.0,99.0,83.0,107.0,109.0,105.0,87.0,93.0,90.0,89.0,131.0,114.0,92.0,75.0,107.0,97.0,90.0,98.0,100.0,103.0,66.0,106.0,125.0,77.0,130.0,119.0,110.0,120.0,102.0,125.0,103.0,127.0,121.0,101.0,113.0,118.0,132.0,106.0,116.0,117.0,90.0,61.0,90.0,107.0,80.0,58.0,58.0,56.0,110.0,70.0,117.0,89.0,84.0,131.0,91.0,103.0,100.0,139.0,103.0,42.0,79.0,90.0,88.0,96.0,114.0,99.0,89.0,103.0,127.0,113.0,111.0,112.0,96.0,103.0,104.0,102.0,86.0,97.0,111.0,132.0,89.0,102.0,120.0,137.0,82.0,85.0,115.0,107.0,130.0,57.0,62.0,112.0,26.0,102.0,93.0,111.0,93.0,91.0,118.0,63.0,74.0,136.0,90.0,132.0,101.0,59.0,84.0,91.0,93.0,91.0,84.0,101.0,110.0,82.0,100.0,52.0,51.0,127.0,86.0,107.0,22.0,22.0,22.0,44.0,91.0,99.0,105.0,105.0,88.0,128.0,24.0,113.0,52.0,50.0,49.0,92.0,110.0,106.0,120.0,83.0,123.0,56.0,141.0,97.0,118.0,95.0,127.0,118.0,74.0,91.0,137.0,86.0,106.0,125.0,114.0,143.0,121.0,119.0,108.0,150.0,88.0,105.0,119.0,97.0,96.0,91.0,49.0,95.0,98.0,96.0,83.0,96.0,90.0,97.0,99.0,94.0,90.0,88.0,105.0,118.0,86.0,127.0,88.0,125.0,116.0,102.0,65.0,88.0,106.0,117.0,91.0,93.0,136.0,116.0,121.0,89.0,104.0,65.0,91.0,99.0,91.0,117.0,135.0,135.0,91.0,95.0,75.0,95.0,82.0,124.0,106.0,86.0,115.0,99.0,101.0,142.0,102.0,122.0,95.0,120.0,96.0,92.0,110.0,133.0,143.0,111.0,144.0,121.0,99.0,93.0,100.0,102.0,123.0,127.0,116.0,119.0,105.0,134.0,90.0,93.0,93.0,108.0,115.0,119.0,61.0,109.0,97.0,154.0,120.0,148.0,121.0,95.0,102.0,87.0,114.0,48.0,124.0,101.0,28.0,34.0,61.0,56.0,81.0,68.0,58.0,100.0,50.0,49.0,71.0,29.0,108.0,125.0,72.0,100.0,30.0,30.0,146.0,127.0,46.0,57.0,87.0,90.0,86.0,122.0,97.0,312.0,109.0,122.0,116.0,73.0,96.0,91.0,110.0,115.0,150.0,90.0,89.0,93.0,105.0,105.0,124.0,105.0,44.0,91.0,95.0,78.0,22.0,95.0,82.0,89.0,90.0,94.0,85.0,29.0,96.0,101.0,137.0,27.0,112.0,112.0,107.0,153.0,123.0,90.0,84.0,78.0,79.0,73.0,83.0,83.0,87.0,145.0,135.0,109.0,35.0,86.0,68.0,107.0,110.0,86.0,85.0,75.0,90.0,105.0,124.0,110.0,96.0,110.0,58.0,105.0,59.0,28.0,98.0,111.0,116.0,106.0,63.0,109.0,88.0,155.0,119.0,122.0,87.0,73.0,98.0,130.0,99.0,105.0,110.0,81.0,115.0,113.0,146.0,118.0,122.0,109.0,68.0,117.0,23.0,95.0,124.0,90.0,96.0,96.0,123.0,85.0,93.0,30.0,82.0,95.0,127.0,120.0,114.0,119.0,101.0,96.0,120.0,139.0,95.0,44.0,104.0,110.0,91.0,91.0,114.0,91.0,64.0,89.0,95.0,86.0,94.0,133.0,102.0,122.0,86.0,111.0,132.0,111.0,136.0,121.0,76.0,92.0,119.0,45.0,75.0,71.0,81.0,115.0,128.0,92.0,95.0,114.0,99.0,132.0,106.0,122.0,79.0,78.0,111.0,112.0,107.0,102.0,81.0,129.0,90.0,86.0,116.0,59.0,95.0,122.0,98.0,103.0,117.0,95.0,146.0,136.0,91.0,123.0,144.0,103.0,11.0,22.0,126.0,121.0,91.0,158.0,157.0,124.0,106.0,92.0,80.0,94.0,126.0,129.0,133.0,109.0,143.0,140.0,150.0,128.0,120.0,154.0,45.0,132.0,126.0,95.0,91.0,135.0,139.0,131.0,118.0,129.0,131.0,146.0,123.0,141.0,93.0,91.0,58.0,91.0,112.0,119.0,106.0,131.0,95.0,104.0,126.0,118.0,116.0,122.0,105.0,90.0,87.0,102.0,89.0,94.0,100.0,126.0,89.0,90.0,87.0,97.0,115.0,93.0,138.0,74.0,102.0,103.0,119.0,104.0,161.0,51.0,50.0,86.0,140.0,122.0,23.0,95.0,205.0,123.0,190.0,121.0,131.0,80.0,63.0,150.0,159.0,131.0,130.0,99.0,86.0,106.0,57.0,97.0,118.0,98.0,144.0,110.0,96.0,57.0,98.0,119.0,92.0,94.0,151.0,74.0,89.0,124.0,25.0,84.0,121.0,85.0,25.0,121.0,88.0,111.0,81.0,64.0,55.0,137.0,56.0,58.0,80.0,94.0,94.0,72.0,60.0,140.0,91.0,97.0,146.0,118.0,133.0,106.0,128.0,137.0,145.0,141.0,106.0,61.0,135.0,137.0,129.0,99.0,155.0,142.0,214.0,137.0,128.0,89.0,67.0,151.0,121.0,101.0,145.0,147.0,90.0,129.0,129.0,136.0,117.0,74.0,150.0,134.0,100.0,44.0,44.0,111.0,147.0,115.0,121.0,103.0,73.0,129.0,102.0,122.0,155.0,139.0,131.0,127.0,156.0,91.0,132.0,130.0,137.0,132.0,156.0,132.0,119.0,140.0,101.0,126.0,107.0,112.0,111.0,126.0,130.0,126.0,24.0,127.0,108.0,163.0,117.0,95.0,103.0,110.0,111.0,91.0,101.0,124.0,63.0,102.0,103.0,112.0,103.0,92.0,93.0,112.0,113.0,92.0,153.0,111.0,141.0,128.0,52.0,117.0,100.0,112.0,110.0,98.0,107.0,109.0,100.0,114.0,98.0,100.0,100.0,123.0,86.0,77.0,112.0,106.0,106.0,102.0,86.0,146.0,122.0,126.0,116.0,135.0,125.0,96.0,130.0,135.0,88.0,96.0,100.0,122.0,110.0,104.0,96.0,109.0,95.0,110.0,110.0,79.0,101.0,112.0,94.0,94.0,86.0,84.0,95.0,93.0,113.0,111.0,68.0,135.0,95.0,93.0,101.0,98.0,90.0,112.0,141.0,120.0,140.0,87.0,99.0,86.0,104.0,100.0,50.0,124.0,57.0,31.0,90.0,96.0,196.0,93.0,110.0,162.0,139.0,130.0,145.0,88.0,91.0,91.0,102.0,95.0,33.0,119.0,114.0,100.0,54.0,150.0,108.0,90.0,101.0,104.0,88.0,93.0,79.0,92.0,90.0,86.0,90.0,103.0,86.0,108.0,97.0,92.0,101.0,83.0,85.0,85.0,106.0,86.0,131.0,105.0,134.0,85.0,203.0,120.0,91.0,124.0,95.0,12.0,104.0,92.0,143.0,127.0,100.0,74.0,104.0,148.0,127.0,96.0,82.0,158.0,124.0,163.0,74.0,121.0,154.0,127.0,128.0,98.0,124.0,109.0,168.0,89.0,162.0,159.0,137.0,133.0,125.0,127.0,131.0,90.0,89.0,88.0,125.0,88.0,94.0,83.0,89.0,118.0,109.0,87.0,105.0,79.0,133.0,147.0,92.0,103.0,119.0,80.0,110.0,128.0,88.0,86.0,70.0,66.0,72.0,122.0,117.0,98.0,126.0,115.0,86.0,108.0,94.0,151.0,88.0,97.0,92.0,102.0,93.0,126.0,82.0,86.0,105.0,101.0,100.0,57.0,95.0,101.0,128.0,99.0,113.0,108.0,105.0,109.0,93.0,82.0,95.0,84.0,106.0,122.0,108.0,94.0,103.0,106.0,124.0,92.0,88.0,68.0,72.0,93.0,102.0,69.0,125.0,99.0,89.0,95.0,92.0,95.0,133.0,112.0,85.0,85.0,84.0,118.0,99.0,109.0,103.0,94.0,105.0,101.0,103.0,86.0,91.0,95.0,99.0,90.0,88.0,85.0,98.0,94.0,71.0,95.0,124.0,108.0,87.0,95.0,108.0,110.0,113.0,71.0,75.0,75.0,97.0,83.0,93.0,66.0,83.0,110.0,88.0,112.0,77.0,91.0,58.0,69.0,61.0,100.0,88.0,128.0,122.0,60.0,126.0,166.0,113.0,88.0,151.0,107.0,42.0,94.0,130.0,87.0,116.0,77.0,117.0,84.0,92.0,130.0,103.0,89.0,109.0,104.0,114.0,133.0,101.0,137.0,88.0,88.0,115.0,120.0,104.0,114.0,128.0,125.0,38.0,102.0,96.0,94.0,69.0,92.0,90.0,101.0,77.0,89.0,90.0,98.0,88.0,49.0,152.0,66.0,103.0,95.0,79.0,89.0,75.0,78.0,89.0,74.0,119.0,70.0,104.0,48.0,121.0,106.0,74.0,106.0,113.0,119.0,82.0,76.0,95.0,100.0,110.0,66.0,99.0,131.0,86.0,118.0,126.0,130.0,99.0,89.0,136.0,131.0,165.0,110.0,85.0,92.0,89.0,117.0,114.0,63.0,94.0,74.0,103.0,58.0,94.0,92.0,104.0,117.0,89.0,87.0,129.0,160.0,66.0,150.0,158.0,118.0,100.0,90.0,64.0,92.0,63.0,105.0,76.0,67.0,99.0,69.0,91.0,92.0,87.0,100.0,113.0,40.0,105.0,94.0,109.0,116.0,99.0,89.0,92.0,82.0,70.0,131.0,105.0,130.0,69.0,98.0,90.0,105.0,106.0,126.0,84.0,65.0,121.0,163.0,92.0,124.0,107.0,19.0,25.0,22.0,40.0,22.0,24.0,103.0,45.0,101.0,60.0,90.0,96.0,98.0,94.0,74.0,112.0,115.0,92.0,93.0,95.0,105.0,117.0,66.0,110.0,97.0,78.0,102.0,62.0,90.0,97.0,105.0,79.0,90.0,129.0,92.0,109.0,77.0,107.0,69.0,87.0,91.0,99.0,105.0,99.0,108.0,66.0,94.0,93.0,75.0,96.0,95.0,32.0,70.0,94.0,117.0,78.0,100.0,91.0,115.0,122.0,107.0,109.0,104.0,95.0,110.0,100.0,93.0,104.0,134.0,75.0,100.0,105.0,104.0,101.0,96.0,80.0,75.0,75.0,79.0,78.0,75.0,78.0,166.0,90.0,132.0,91.0,117.0,103.0,100.0,176.0,91.0,49.0,97.0,116.0,90.0,60.0,149.0,86.0,171.0,103.0,116.0,169.0,134.0,159.0,130.0,103.0,173.0,195.0,111.0,99.0,110.0,32.0,94.0,87.0,103.0,78.0,108.0,62.0,97.0,102.0,95.0,106.0,115.0,76.0,80.0,102.0,99.0,82.0,74.0,100.0,150.0,90.0,75.0,103.0,87.0,88.0,63.0,127.0,129.0,120.0,138.0,129.0,137.0,91.0,103.0,145.0,23.0,25.0,92.0,83.0,81.0,115.0,150.0,106.0,115.0,140.0,79.0,104.0,52.0,90.0,83.0,97.0,85.0,69.0,94.0,121.0,40.0,89.0,94.0,90.0,86.0,100.0,84.0,58.0,95.0,92.0,78.0,51.0,69.0,104.0,101.0,59.0,91.0,153.0,61.0,149.0,94.0,79.0,137.0,53.0,166.0,162.0,92.0,93.0,155.0,158.0,138.0,151.0,96.0,106.0,141.0,127.0,130.0,140.0,145.0,132.0,41.0,110.0,170.0,157.0,165.0,114.0,143.0,106.0,73.0,71.0,161.0,187.0,127.0,165.0,117.0,134.0,116.0,94.0,168.0,109.0,148.0,135.0,127.0,115.0,150.0,87.0,127.0,185.0,75.0,177.0,81.0,137.0,118.0,124.0,123.0,90.0,91.0,87.0,89.0,81.0,47.0,46.0,173.0,108.0,125.0,124.0,137.0,171.0,160.0,87.0,110.0,69.0,67.0,92.0,96.0,92.0,85.0,105.0,127.0,109.0,150.0,100.0,73.0,93.0,91.0,87.0,134.0,118.0,85.0,60.0,96.0,133.0,118.0,150.0,132.0,121.0,127.0,152.0,126.0,104.0,162.0,120.0,65.0,133.0,110.0,96.0,95.0,24.0,97.0,94.0,65.0,84.0,91.0,97.0,102.0,93.0,105.0,53.0,116.0,102.0,81.0,93.0,97.0,94.0,90.0,110.0,88.0,80.0,86.0,143.0,84.0,42.0,117.0,96.0,78.0,96.0,69.0,74.0,108.0,91.0,68.0,92.0,102.0,61.0,57.0,85.0,49.0,87.0,85.0,59.0,97.0,104.0,77.0,63.0,69.0,86.0,62.0,108.0,95.0,99.0,62.0,106.0,117.0,60.0,94.0,147.0,94.0,89.0,89.0,89.0,111.0,118.0,153.0,87.0,122.0,97.0,121.0,124.0,68.0,94.0,100.0,71.0,76.0,60.0,89.0,92.0,63.0,135.0,112.0,88.0,97.0,83.0,89.0,86.0,52.0,126.0,133.0,90.0,91.0,104.0,105.0,123.0,89.0,87.0,91.0,102.0,106.0,102.0,91.0,87.0,103.0,193.0,176.0,124.0,135.0,106.0,133.0,107.0,78.0,192.0,55.0,132.0,148.0,46.0,46.0,46.0,74.0,46.0,50.0,114.0,117.0,108.0,97.0,122.0,115.0,104.0,140.0,101.0,99.0,102.0,94.0,92.0,125.0,82.0,151.0,85.0,86.0,93.0,49.0,82.0,100.0,55.0,53.0,87.0,102.0,112.0,105.0,106.0,89.0,91.0,61.0,94.0,93.0,80.0,118.0,141.0,94.0,84.0,103.0,85.0,69.0,100.0,85.0,97.0,129.0,143.0,90.0,92.0,81.0,105.0,91.0,111.0,103.0,118.0,148.0,88.0,75.0,89.0,128.0,86.0,83.0,109.0,111.0,40.0,70.0,108.0,106.0,106.0,81.0,94.0,102.0,102.0,89.0,162.0,147.0,224.0,137.0,109.0,163.0,162.0,104.0,91.0,27.0,67.0,142.0,78.0,26.0,123.0,113.0,92.0,46.0,124.0,81.0,97.0,81.0,119.0,149.0,106.0,140.0,121.0,87.0,99.0,96.0,128.0,76.0,94.0,114.0,101.0,93.0,109.0,51.0,61.0,73.0,113.0,125.0,92.0,94.0,65.0,135.0,86.0,80.0,142.0,131.0,66.0,88.0,99.0,96.0,126.0,65.0,54.0,76.0,100.0,81.0,123.0,144.0,153.0,105.0,103.0,141.0,115.0,120.0,104.0,22.0,97.0,54.0,120.0,132.0,135.0,87.0,82.0,158.0,107.0,122.0,62.0,95.0,98.0,113.0,94.0,120.0,92.0,132.0,84.0,76.0,75.0,93.0,98.0,91.0,48.0,168.0,68.0,97.0,115.0,148.0,149.0,113.0,137.0,140.0,144.0,103.0,90.0,95.0,82.0,94.0,79.0,66.0,135.0,96.0,144.0,108.0,127.0,127.0,90.0,126.0,121.0,119.0,109.0,132.0,118.0,84.0,93.0,96.0,145.0,158.0,132.0,111.0,133.0,143.0,117.0,84.0,107.0,83.0,102.0,52.0,110.0,85.0,113.0,88.0,89.0,59.0,80.0,107.0,106.0,90.0,66.0,92.0,101.0,135.0,107.0,74.0,74.0,74.0,83.0,79.0,72.0,80.0,75.0,75.0,72.0,80.0,93.0,79.0,86.0,107.0,47.0,107.0,119.0,108.0,85.0,90.0,72.0,23.0,68.0,85.0,84.0,118.0,116.0,89.0,81.0,73.0,140.0,130.0,103.0,40.0,103.0,85.0,106.0,104.0,82.0,94.0,81.0,91.0,112.0,102.0,101.0,119.0,62.0,64.0,137.0,108.0,132.0,87.0,92.0,108.0,78.0,40.0,71.0,89.0,99.0,110.0,60.0,90.0,78.0,95.0,58.0,62.0,65.0,61.0,65.0,58.0,60.0,135.0,98.0,96.0,79.0,113.0,90.0,114.0,79.0,98.0,70.0,116.0,139.0,101.0,148.0,54.0,92.0,107.0,90.0,135.0,52.0,151.0,90.0,88.0,99.0,99.0,132.0,95.0,155.0,162.0,163.0,102.0,96.0,85.0,97.0,95.0,83.0,89.0,28.0,103.0,84.0,160.0,113.0,99.0,86.0,83.0,113.0,86.0,78.0,96.0,95.0,57.0,92.0,81.0,98.0,95.0,105.0,116.0,100.0,95.0,70.0,51.0,94.0,83.0,92.0,88.0,104.0,104.0,104.0,124.0,113.0,124.0,96.0,101.0,63.0,56.0,92.0,91.0,94.0,94.0,82.0,100.0,90.0,71.0,97.0,89.0,83.0,98.0,92.0,88.0,62.0,165.0,166.0,166.0,159.0,160.0,159.0,93.0,95.0,22.0,22.0,105.0,101.0,124.0,100.0,54.0,121.0,103.0,129.0,89.0,92.0,111.0,92.0,91.0,172.0,45.0,95.0,80.0,67.0,84.0,97.0,86.0,59.0,58.0,47.0,114.0,103.0,93.0,84.0,67.0,91.0,110.0,110.0,84.0,63.0,94.0,116.0,104.0,143.0,116.0,14.0,89.0,108.0,59.0,99.0,74.0,103.0,105.0,84.0,109.0,96.0,78.0,83.0,89.0,97.0,95.0,106.0,116.0,91.0,90.0,86.0,97.0,170.0,153.0,104.0,162.0,163.0,106.0,108.0,130.0,133.0,148.0,105.0,90.0,79.0,121.0,66.0,102.0,108.0,139.0,91.0,90.0,81.0,96.0,72.0,89.0,92.0,81.0,161.0,92.0,24.0,66.0,100.0,122.0,91.0,81.0,92.0,77.0,104.0,73.0,102.0,82.0,47.0,98.0,102.0,112.0,85.0,108.0,87.0,84.0,107.0,117.0,89.0,119.0,88.0,126.0,130.0,102.0,154.0,44.0,104.0,76.0,96.0,63.0,108.0,105.0,47.0,44.0,109.0,89.0,92.0,122.0,19.0,154.0,152.0,161.0,123.0,44.0,106.0,80.0,71.0,87.0,153.0,98.0,79.0,143.0,123.0,97.0,80.0,73.0,90.0,106.0,101.0,119.0,140.0,59.0,164.0,92.0,151.0,84.0,51.0,142.0,66.0,110.0,99.0,86.0,101.0,88.0,86.0,151.0,116.0,128.0,128.0,86.0,88.0,80.0,61.0,92.0,82.0,81.0,72.0,98.0,64.0,95.0,96.0,111.0,127.0,117.0,123.0,139.0,95.0,148.0,121.0,79.0,127.0,92.0,162.0,163.0,83.0,112.0,117.0,90.0,95.0,99.0,125.0,44.0,93.0,89.0,92.0,120.0,114.0,109.0,83.0,107.0,129.0,135.0,149.0,136.0,138.0,177.0,61.0,126.0,137.0,114.0,104.0,96.0,147.0,107.0,91.0,81.0,53.0,95.0,95.0,149.0,106.0,108.0,66.0,54.0,55.0,55.0,55.0,55.0,113.0,83.0,53.0,102.0,95.0,50.0,97.0,92.0,97.0,105.0,107.0,99.0,101.0,81.0,92.0,131.0,111.0,104.0,99.0,101.0,71.0,96.0,85.0,106.0,119.0,84.0,85.0,110.0,89.0,76.0,74.0,103.0,101.0,98.0,74.0,156.0,88.0,70.0,88.0,93.0,143.0,83.0,90.0,107.0,93.0,99.0,134.0,77.0,78.0,101.0,53.0,81.0,106.0,84.0,51.0,90.0,77.0,95.0,63.0,58.0,59.0,52.0,32.0,18.0,102.0,40.0,40.0,42.0,76.0,61.0,82.0,45.0,92.0,118.0,91.0,63.0,110.0,91.0,93.0,93.0,108.0,72.0,114.0,91.0,97.0,118.0,92.0,91.0,137.0,97.0,101.0,143.0,97.0,107.0,168.0,117.0,103.0,80.0,87.0,160.0,88.0,85.0,104.0,62.0,109.0,103.0,99.0,102.0,97.0,99.0,101.0,102.0,102.0,107.0,99.0,106.0,103.0,123.0,98.0,118.0,100.0,101.0,103.0,101.0,104.0,104.0,100.0,136.0,102.0,105.0,24.0,110.0,105.0,105.0,102.0,98.0,118.0,106.0,106.0,92.0,92.0,91.0,83.0,123.0,90.0,57.0,103.0,92.0,52.0,52.0,87.0,56.0,115.0,53.0,94.0,118.0,92.0,98.0,125.0,113.0,110.0,71.0,108.0,123.0,97.0,99.0,97.0,100.0,98.0,75.0,54.0,54.0,55.0,54.0,55.0,67.0,129.0,105.0,78.0,99.0,96.0,95.0,87.0,134.0,119.0,128.0,128.0,91.0,109.0,79.0,88.0,107.0,92.0,88.0,71.0,64.0,83.0,124.0,123.0,97.0,96.0,150.0,91.0,79.0,93.0,54.0,73.0,88.0,109.0,93.0,78.0,86.0,94.0,116.0,154.0,90.0,179.0,93.0,97.0,80.0,88.0,99.0,104.0,94.0,77.0,111.0,108.0,92.0,78.0,87.0,99.0,91.0,37.0,102.0,67.0,57.0,78.0,130.0,80.0,90.0,93.0,66.0,93.0,119.0,90.0,105.0,83.0,96.0,84.0,98.0,91.0,89.0,90.0,89.0,123.0,117.0,100.0,91.0,87.0,146.0,82.0,104.0,85.0,109.0,74.0,94.0,84.0,98.0,82.0,22.0,141.0,95.0,117.0,100.0,75.0,69.0,80.0,97.0,92.0,92.0,85.0,83.0,118.0,84.0,52.0,84.0,146.0,93.0,97.0,90.0,75.0,93.0,62.0,98.0,92.0,22.0,115.0,88.0,87.0,86.0,94.0,105.0,88.0,88.0,86.0,93.0,98.0,29.0,88.0,93.0,81.0,83.0,31.0,83.0,73.0,38.0,108.0,90.0,97.0,81.0,70.0,62.0,104.0,97.0,99.0,96.0,84.0,112.0,90.0,88.0,56.0,89.0,24.0,100.0,116.0,101.0,92.0,79.0,67.0,72.0,96.0,103.0,92.0,61.0,88.0,88.0,113.0,67.0,65.0,62.0,107.0,85.0,69.0,60.0,77.0,98.0,71.0,101.0,64.0,112.0,125.0,125.0,59.0,91.0,44.0,107.0,101.0,93.0,82.0,86.0,81.0,92.0,89.0,107.0,94.0,110.0,81.0,77.0,64.0,111.0,97.0,77.0,94.0,94.0,91.0,93.0,95.0,80.0,95.0,90.0,101.0,73.0,108.0,25.0,86.0,105.0,100.0,96.0,97.0,73.0,44.0,132.0,96.0,92.0,99.0,92.0,99.0,78.0,87.0,65.0,65.0,69.0,64.0,63.0,63.0,89.0,60.0,84.0,93.0,41.0,91.0,83.0,25.0,94.0,102.0,111.0,88.0,93.0,29.0,88.0,103.0,107.0,52.0,91.0,180.0,75.0,92.0,90.0,114.0,80.0,99.0,79.0,66.0,46.0,90.0,72.0,71.0,77.0,70.0,73.0,107.0,81.0,86.0,63.0,44.0,128.0,51.0,45.0,46.0,112.0,87.0,87.0,106.0,100.0,101.0,117.0,114.0,94.0,100.0,96.0,58.0,87.0,81.0,96.0,52.0,114.0,105.0,157.0,84.0,91.0,80.0,97.0,105.0,96.0,60.0,79.0,93.0,95.0,99.0,109.0,96.0,102.0,107.0,60.0,86.0,29.0,163.0,98.0,101.0,91.0,99.0,74.0,66.0,76.0,95.0,127.0,86.0,116.0,82.0,70.0,102.0,88.0,109.0,75.0,23.0,83.0,97.0,62.0,84.0,90.0,82.0,96.0,65.0,92.0,90.0,93.0,91.0,100.0,101.0,103.0,74.0,44.0,43.0,95.0,94.0,68.0,72.0,47.0,52.0,92.0,107.0,108.0,74.0,110.0,24.0,46.0,24.0,55.0,24.0,23.0,24.0,24.0,101.0,29.0,60.0,60.0,78.0,73.0,72.0,60.0,47.0,70.0,77.0,120.0,74.0,57.0,72.0,78.0,91.0,62.0,85.0,85.0,90.0,105.0,59.0,137.0,86.0,135.0,99.0,64.0,72.0,83.0,82.0,90.0,80.0,130.0,62.0,90.0,92.0,155.0,78.0,92.0,60.0,69.0,103.0,92.0,143.0,83.0,78.0,84.0,78.0,93.0,84.0,77.0,58.0,82.0,83.0,100.0,29.0,72.0,26.0,48.0,73.0,103.0,81.0,75.0,100.0,90.0,68.0,71.0,71.0,100.0,94.0,80.0,78.0,35.0,72.0,93.0,105.0,130.0,100.0,44.0,80.0,72.0,75.0,26.0,84.0,120.0,76.0,95.0,96.0,94.0,94.0,93.0,96.0,94.0,94.0,93.0,95.0,93.0,75.0,103.0,84.0,29.0,104.0,81.0],\"xaxis\":\"x\",\"xbins\":{\"end\":312.0,\"size\":0.7,\"start\":3.0},\"yaxis\":\"y\",\"type\":\"histogram\"},{\"legendgroup\":\"Movie Duration\",\"marker\":{\"color\":\"#6ad49b\"},\"mode\":\"lines\",\"name\":\"Movie Duration\",\"showlegend\":false,\"x\":[3.0,3.618,4.236,4.854,5.4719999999999995,6.09,6.708,7.326,7.944,8.562000000000001,9.18,9.798,10.416,11.034,11.652,12.27,12.888,13.506,14.124,14.742,15.36,15.978,16.596,17.214,17.832,18.45,19.068,19.686,20.304,20.922,21.54,22.158,22.776,23.394,24.012,24.63,25.248,25.866,26.484,27.102,27.72,28.338,28.956,29.574,30.192,30.81,31.428,32.046,32.664,33.282,33.9,34.518,35.136,35.754,36.372,36.99,37.608,38.226,38.844,39.462,40.08,40.698,41.316,41.934,42.552,43.17,43.788,44.406,45.024,45.642,46.26,46.878,47.496,48.114,48.732,49.35,49.968,50.586,51.204,51.822,52.44,53.058,53.676,54.294,54.912,55.53,56.148,56.766,57.384,58.002,58.62,59.238,59.856,60.474,61.092,61.71,62.328,62.946,63.564,64.182,64.8,65.418,66.036,66.654,67.272,67.89,68.508,69.126,69.744,70.362,70.98,71.598,72.216,72.834,73.452,74.07,74.688,75.306,75.924,76.542,77.16,77.778,78.396,79.014,79.632,80.25,80.868,81.486,82.104,82.722,83.34,83.958,84.576,85.194,85.812,86.43,87.048,87.666,88.284,88.902,89.52,90.138,90.756,91.374,91.992,92.61,93.228,93.846,94.464,95.082,95.7,96.318,96.936,97.554,98.172,98.79,99.408,100.026,100.644,101.262,101.88,102.498,103.116,103.734,104.352,104.97,105.588,106.206,106.824,107.442,108.06,108.678,109.296,109.914,110.532,111.15,111.768,112.386,113.004,113.622,114.24,114.858,115.476,116.094,116.712,117.33,117.948,118.566,119.184,119.802,120.42,121.038,121.656,122.274,122.892,123.51,124.128,124.746,125.364,125.982,126.6,127.218,127.836,128.454,129.072,129.69,130.308,130.926,131.544,132.162,132.78,133.398,134.016,134.634,135.252,135.87,136.488,137.106,137.724,138.342,138.96,139.578,140.196,140.814,141.432,142.05,142.668,143.286,143.904,144.522,145.14,145.758,146.376,146.994,147.612,148.23,148.848,149.466,150.084,150.702,151.32,151.938,152.556,153.174,153.792,154.41,155.028,155.646,156.264,156.882,157.5,158.118,158.736,159.354,159.972,160.59,161.208,161.826,162.444,163.062,163.68,164.298,164.916,165.534,166.152,166.77,167.388,168.006,168.624,169.242,169.86,170.478,171.096,171.714,172.332,172.95,173.568,174.186,174.804,175.422,176.04,176.658,177.276,177.894,178.512,179.13,179.748,180.366,180.984,181.602,182.22,182.838,183.456,184.074,184.692,185.31,185.928,186.546,187.164,187.782,188.4,189.018,189.636,190.254,190.872,191.49,192.108,192.726,193.344,193.962,194.58,195.198,195.816,196.434,197.052,197.67,198.288,198.906,199.524,200.142,200.76,201.378,201.996,202.614,203.232,203.85,204.468,205.086,205.704,206.322,206.94,207.558,208.176,208.794,209.412,210.03,210.648,211.266,211.884,212.502,213.12,213.738,214.356,214.974,215.592,216.21,216.828,217.446,218.064,218.682,219.3,219.918,220.536,221.154,221.772,222.39,223.008,223.626,224.244,224.862,225.48,226.098,226.716,227.334,227.952,228.57,229.188,229.806,230.424,231.042,231.66,232.278,232.896,233.514,234.132,234.75,235.368,235.986,236.604,237.222,237.84,238.458,239.076,239.694,240.312,240.93,241.548,242.166,242.784,243.402,244.02,244.638,245.256,245.874,246.492,247.11,247.728,248.346,248.964,249.582,250.2,250.818,251.436,252.054,252.672,253.29,253.908,254.526,255.144,255.762,256.38,256.998,257.616,258.23400000000004,258.852,259.47,260.088,260.706,261.324,261.942,262.56,263.178,263.796,264.414,265.032,265.65,266.268,266.886,267.504,268.122,268.74,269.358,269.976,270.594,271.212,271.83,272.448,273.066,273.684,274.302,274.92,275.538,276.156,276.774,277.392,278.01,278.628,279.246,279.864,280.482,281.1,281.718,282.336,282.954,283.572,284.19,284.808,285.426,286.044,286.662,287.28,287.898,288.516,289.134,289.752,290.37,290.988,291.606,292.224,292.842,293.46,294.078,294.696,295.314,295.932,296.55,297.168,297.786,298.404,299.022,299.64,300.258,300.876,301.494,302.112,302.73,303.348,303.966,304.584,305.202,305.82,306.438,307.056,307.674,308.292,308.91,309.528,310.146,310.764,311.382],\"xaxis\":\"x\",\"y\":[4.0305475711968035e-05,4.349701367271254e-05,4.6917936229516444e-05,5.058274922103075e-05,5.450671754371737e-05,5.8705892914967024e-05,6.319714176665398e-05,6.799817319289222e-05,7.312756686966954e-05,7.860480085781936e-05,8.445027919446469e-05,9.068535917165e-05,9.733237819439561e-05,0.00010441468010388786,0.00011195664084497408,0.00011998369335061853,0.00012852235150949103,0.00013760023307646724,0.00014724608137954543,0.00015748978567054335,0.0001683623999610169,0.00017989616017913398,0.00019212449947780968,0.0002050820615193021,0.00021880471155673878,0.00023332954512869753,0.00024869489417912,0.0002649403304114675,0.00028210666568324265,0.0003002359492448061,0.0003193714616249138,0.0003395577049645576,0.0003608403896006754,0.0003832664167020304,0.0004068838567611909,0.00043174192374906143,0.00045789094474190636,0.0004853823248352445,0.0005142685071645451,0.0005446029278591958,0.0005764399657639247,0.0006098348867706842,0.0006448437826139954,0.0006815235039939457,0.0007199315879034211,0.0007601261790497889,0.0008021659452760753,0.0008461099869027945,0.0008920177399288503,0.0009399488730485255,0.000989963178461226,0.001042120456471617,0.00109648039389979,0.0011531024363442834,0.0012120456543649627,0.0012733686036779776,0.0013371291794812008,0.0014033844650554897,0.0014721905748150195,0.0015436024920083323,0.0016176739013009434,0.0016944570164999125,0.0017740024037107907,0.0018563588002476405,0.0019415729296472669,0.0020296893131691697,0.00212075007819313,0.0022147947639563205,0.0023118601251014654,0.0024119799335366975,0.002515184779135968,0.0026215018698364217,0.002730954831715419,0.002843563509655113,0.0029593437692262046,0.0030783073004447005,0.003200461424076002,0.003325808901179186,0.003454347746600932,0.0035860710471427777,0.003720966785137424,0.003859017668179201,0.00400020096576059,0.004144488353570697,0.004291845766212699,0.004442233259095258,0.0045956048802479315,0.004751908552802278,0.004911085968868768,0.00507307249552469,0.005237797093609947,0.005405182250005771,0.0055751439240462105,0.00574759150868352,0.005922427806996484,0.006099549024595085,0.006278844778436122,0.006460198122522178,0.0066434855909109575,0.0068285772584135785,0.007015336819309086,0.0072036216843481314,0.007393283096262021,0.007584166263934129,0.007776110515328864,0.007968949469210139,0.008162511225615711,0.008356618574986863,0.00855108922578471,0.00874573605035526,0.00894036734873524,0.009134787130020423,0.009328795410847815,0.00952218853047249,0.00971475948185034,0.009906298258069034,0.010096592213401612,0.01028542643819106,0.010472584146709811,0.010657847077075708,0.010840995902246532,0.01102181065105798,0.011200071138216345,0.011375557402106742,0.01154805014923089,0.011717331204045906,0.011883183962937022,0.012045393851023026,0.012203748780464053,0.012358039608916824,0.012508060596763156,0.012653609861723335,0.012794489829457405,0.012930507678753918,0.013061475779908184,0.013187212124899884,0.013307540747993424,0.013422292135403743,0.013531303622694935,0.013634419778609548,0.013731492774062265,0.013822382735072799,0.013906958078459366,0.013985095829165621,0.014056681918150161,0.014121611459828877,0.014179789008125727,0.014231128790257072,0.014275554917448105,0.014313001571856774,0.014343413169060813,0.014366744495546284,0.014382960820721675,0.014392037983069109,0.014393962450133488,0.0143887313521411,0.014376352489130823,0.014356844311573053,0.01433023587454382,0.014296566765613384,0.014255887006699839,0.014208256930228326,0.014153747030025022,0.01409243778746169,0.014024419473451004,0.013949791926974453,0.01386866431090341,0.013781154845949167,0.013687390523649482,0.013587506799366725,0.013481647266336223,0.01336996331186224,0.013252613756813136,0.013129764479616522,0.013001588025999187,0.01286826320575536,0.01272997467786027,0.012586912525273615,0.012439271820800013,0.012287252185389869,0.012131057340275185,0.011970894654340123,0.011806974688125818,0.011639510735863098,0.011468718366915664,0.01129481496799959,0.011118019287523321,0.010938550983365719,0.0107566301753781,0.010572477003860095,0.01038631119521876,0.010198351635975688,0.010008815956238502,0.009817920123701052,0.00962587804918134,0.009432901204648014,0.009239198254625231,0.009044974701802504,0.008850432547610868,0.00865576996845968,0.008461181008260038,0.008266855287791553,0.00807297773139904,0.007879728311435283,0.007687281810795674,0.00749580760382015,0.00730546945576828,0.007116425341004604,0.006928827279963545,0.0067428211948971665,0.006558546784344177,0.006376137416196342,0.00619572003917752,0.006017415112492663,0.0058413365533483246,0.005667591701993431,0.005496281303878824,0.005327499508487349,0.005161333884342097,0.004997865449659831,0.0048371687180794164,0.004679311758860753,0.0045243562709196454,0.00437235767003646,0.004223365188553143,0.004077421986852752,0.003934565275899072,0.0037948264501003076,0.003658231229751053,0.003524799812299701,0.0033945470316850456,0.0032674825249851603,0.0031436109056242134,0.0030229319423880265,0.0029054407435073824,0.0027911279450785736,0.002679979903103786,0.002571978888449323,0.0024671032840370244,0.0023653277836039473,0.002266623591386404,0.0021709586221076035,0.0020782977006724205,0.001988602760998679,0.0019018330434410512,0.0018179452902917577,0.001736893938870741,0.001658631311747416,0.0015831078036659541,0.0015102720647761883,0.0014400711798026504,0.0013724508428147185,0.001307355527291168,0.0012447286512026244,0.0011845127368652608,0.0011266495653483983,0.0010710803252476473,0.0010177457556632733,0.0009665862832510172,0.0009175421532391826,0.0008705535543315519,0.0008255607374403932,0.000782504128217635,0.0007413244333748443,0.0007019627408042159,0.0006643606135331332,0.0006284601775640407,0.0005942042036693084,0.000561536183227572,0.000530400398203477,0.0005007419853870806,0.00047250699502220984,0.0004456424439648826,0.0004200963635235904,0.0003958178421426321,0.00037275706309803096,0.00035086533738271834,0.0003300951319637599,0.0003104000935994059,0.00029173506840777386,0.00027405611738198825,0.0002573205280487065,0.0002414868224681766,0.00022651476177435527,0.00021236534745319247,0.00019900081955606227,0.00018638465204346894,0.00017448154545168733,0.00016325741707194579,0.0001526793888281458,0.00014271577303504973,0.0001333360562143266,0.00012451088114093548,0.00011621202728707411,0.00010841238982535233,0.00010108595734703365,9.420778844517026e-05,8.775398730624193e-05,8.17016784475747e-05,7.602898073138302e-05,7.071498077977128e-05,6.573970590849914e-05,6.108409669078437e-05,5.67299792559037e-05,5.2660037420900174e-05,4.885778474732827e-05,4.530753660868666e-05,4.199438234803436e-05,3.890415759925826e-05,3.602341683959537e-05,3.333940623531092e-05,3.0840036836910776e-05,2.8513858174937427e-05,2.6350032302266846e-05,2.433830832389759e-05,2.246899745051153e-05,2.073294860758975e-05,1.912152462759056e-05,1.7626579048640424e-05,1.624043353935766e-05,1.495585596581392e-05,1.3766039113247382e-05,1.266458007196543e-05,1.1645460293912899e-05,1.070302632362843e-05,9.831971204765615e-06,9.02731656100497e-06,8.284395348028988e-06,7.598835271264412e-06,6.966542862307004e-06,6.383688205331333e-06,5.846690303337911e-06,5.352203072800928e-06,4.897101954140102e-06,4.478471124444581e-06,4.09359129801538e-06,3.7399280995608734e-06,3.4151209942660135e-06,3.116972758455669e-06,2.8434394741766847e-06,2.5926210307254585e-06,2.3627521159391403e-06,2.1521936799454065e-06,1.9594248540167924e-06,1.7830353071989197e-06,1.6217180234673868e-06,1.4742624823123562e-06,1.3395482258458951e-06,1.216538795769113e-06,1.1042760238203052e-06,1.0018746596448822e-06,9.085173203798386e-07,8.234497466240567e-07,7.459763498679977e-07,6.754560368774627e-07,6.112982969630111e-07,5.529595385160665e-07,4.999396616511773e-07,4.517788542590278e-07,4.0805459924374576e-07,3.683788811883388e-07,3.323955811620355e-07,2.997780488503634e-07,2.7022684165178405e-07,2.434676208416739e-07,2.1924919535425348e-07,1.9734170417439551e-07,1.7753492876313689e-07,1.5963672736218793e-07,1.4347158343306153e-07,1.288792608850876e-07,1.1571355913277745e-07,1.0384116139668312e-07,9.314057002246125e-08,8.350112294028942e-08,7.482208572084067e-08,6.701181400474451e-08,5.998698138976973e-08,5.367186815403388e-08,4.799770647442619e-08,4.290207806733879e-08,3.832836043398713e-08,3.4225218135254744e-08,3.054613575147307e-08,2.7248989401138645e-08,2.4295653899601473e-08,2.1651642834619957e-08,1.9285779020707395e-08,1.7169892968807304e-08,1.527854717238866e-08,1.3588784165972492e-08,1.2079896457763708e-08,1.0733216574869527e-08,9.531925587949507e-09,8.460878602421296e-09,7.50644581596257e-09,6.65636784735562e-09,5.899624140100807e-09,5.226313336039157e-09,4.6275445998195e-09,4.095338954771858e-09,3.6225397649273937e-09,3.2027315668835217e-09,2.8301665192496162e-09,2.4996977968267462e-09,2.206719311749093e-09,1.947111194820442e-09,1.7171905174722735e-09,1.5136667783962696e-09,1.333601719196978e-09,1.174373070593077e-09,1.033641864976551e-09,9.093229827190292e-10,7.995586286800718e-10,7.026944621019594e-10,6.172581276355617e-10,5.419399577907751e-10,4.755756377886396e-10,4.1713064275129194e-10,3.656862745285579e-10,3.2042714134839004e-10,2.806299380063258e-10,2.456533975820399e-10,2.149292977881206e-10,1.8795441610940745e-10,1.6428333796584905e-10,1.4352203130783056e-10,1.2532210940358094e-10,1.0937571117246351e-10,9.541093531852076e-11,8.31877707846702e-11,7.249447173309501e-11,6.31443304119348e-11,5.4972805938285666e-11,4.783497125523375e-11,4.160324434522806e-11,3.616537323950321e-11,3.142264748640802e-11,2.728831156071922e-11,2.368615823902126e-11,2.05492822584607e-11,1.7818976640896446e-11,1.5443755922894938e-11,1.3378492203643716e-11,1.1583651425345164e-11,1.0024618650212511e-11,8.671102309515741e-12,7.496608486636557e-12,6.477977269969424e-12,5.5949740838220346e-12,4.829929686288141e-12,4.167423221494154e-12,3.5940033379417283e-12,3.0979429423521043e-12,2.6690236562497017e-12,2.298346486622402e-12,1.978165617896729e-12,1.7017425851651584e-12,1.46321840260194e-12,1.257501500365909e-12,1.0801695716680834e-12,9.273836523692623e-13,7.958129514270144e-13,6.8256912438848e-13,5.851488363138157e-13,5.013835971526114e-13,4.293959736027973e-13,3.675613885762179e-13,3.144748141151415e-13,2.689217473257554e-13,2.29852932847016e-13,1.9636236065453404e-13,1.676681255889014e-13,1.4309578576998515e-13,1.2206390179162917e-13,1.0407147797826368e-13,8.868706164291079e-14,7.55392867635656e-14,6.430867527914957e-14,5.472053273000836e-14,4.653879561504354e-14,3.9560705948533916e-14,3.3612204376011354e-14,2.854394711731257e-14,2.422786418230676e-14,2.0554186959739305e-14,1.7428882596669344e-14,1.477144072803155e-14,1.2512965226756286e-14,1.0594529851331199e-14,8.965762081434901e-15,7.583624151627966e-15,6.4113644046049354e-15,5.417615665285396e-15,4.5756204519084524e-15,3.862565549023605e-15,3.259010821354924e-15,2.748399192151215e-15,2.3166364844181638e-15,1.9517313630383645e-15],\"yaxis\":\"y\",\"type\":\"scatter\"},{\"legendgroup\":\"Movie Duration\",\"marker\":{\"color\":\"#6ad49b\",\"symbol\":\"line-ns-open\"},\"mode\":\"markers\",\"name\":\"Movie Duration\",\"showlegend\":false,\"x\":[67.0,135.0,106.0,107.0,81.0,107.0,118.0,110.0,104.0,93.0,94.0,124.0,137.0,134.0,69.0,106.0,209.0,86.0,24.0,46.0,117.0,87.0,92.0,114.0,121.0,94.0,109.0,110.0,96.0,97.0,121.0,56.0,119.0,138.0,93.0,111.0,88.0,81.0,73.0,86.0,116.0,85.0,134.0,109.0,102.0,101.0,88.0,101.0,28.0,103.0,131.0,166.0,105.0,82.0,107.0,84.0,103.0,112.0,89.0,121.0,87.0,136.0,118.0,129.0,94.0,88.0,158.0,78.0,100.0,93.0,84.0,107.0,101.0,107.0,74.0,60.0,143.0,105.0,110.0,98.0,100.0,74.0,100.0,46.0,88.0,54.0,59.0,100.0,95.0,88.0,100.0,93.0,94.0,121.0,78.0,116.0,87.0,61.0,98.0,123.0,85.0,92.0,87.0,92.0,112.0,97.0,78.0,103.0,107.0,44.0,68.0,68.0,99.0,69.0,81.0,69.0,68.0,68.0,91.0,86.0,40.0,102.0,119.0,94.0,119.0,90.0,105.0,89.0,108.0,108.0,87.0,112.0,101.0,89.0,91.0,200.0,119.0,90.0,103.0,110.0,133.0,124.0,118.0,40.0,98.0,85.0,115.0,137.0,98.0,110.0,55.0,86.0,92.0,116.0,94.0,134.0,102.0,98.0,100.0,105.0,116.0,118.0,153.0,109.0,99.0,96.0,91.0,185.0,92.0,82.0,127.0,98.0,111.0,120.0,137.0,121.0,89.0,91.0,135.0,98.0,139.0,95.0,98.0,91.0,122.0,100.0,103.0,129.0,133.0,36.0,141.0,105.0,107.0,136.0,138.0,129.0,97.0,141.0,99.0,89.0,24.0,90.0,98.0,89.0,88.0,65.0,126.0,63.0,14.0,28.0,20.0,88.0,98.0,94.0,106.0,118.0,127.0,61.0,86.0,94.0,82.0,92.0,95.0,52.0,108.0,91.0,96.0,67.0,83.0,94.0,97.0,91.0,66.0,98.0,92.0,118.0,87.0,121.0,98.0,99.0,95.0,107.0,100.0,101.0,86.0,96.0,99.0,112.0,127.0,140.0,22.0,78.0,63.0,97.0,86.0,93.0,73.0,62.0,96.0,104.0,123.0,100.0,99.0,151.0,102.0,154.0,106.0,87.0,70.0,46.0,111.0,101.0,109.0,100.0,110.0,102.0,102.0,24.0,96.0,98.0,76.0,93.0,77.0,103.0,45.0,119.0,147.0,123.0,99.0,98.0,106.0,112.0,85.0,91.0,88.0,101.0,90.0,96.0,99.0,101.0,111.0,96.0,86.0,97.0,121.0,59.0,58.0,90.0,88.0,64.0,104.0,122.0,125.0,92.0,129.0,79.0,121.0,106.0,124.0,87.0,125.0,154.0,86.0,111.0,97.0,66.0,121.0,91.0,91.0,82.0,117.0,81.0,84.0,81.0,107.0,94.0,163.0,90.0,96.0,91.0,93.0,64.0,45.0,89.0,90.0,102.0,116.0,42.0,133.0,108.0,38.0,97.0,89.0,146.0,146.0,130.0,106.0,58.0,152.0,87.0,121.0,182.0,106.0,102.0,98.0,83.0,82.0,111.0,24.0,171.0,84.0,112.0,80.0,88.0,124.0,104.0,76.0,91.0,64.0,94.0,86.0,157.0,83.0,95.0,106.0,87.0,90.0,65.0,105.0,107.0,103.0,88.0,96.0,67.0,140.0,96.0,93.0,90.0,125.0,142.0,133.0,100.0,10.0,128.0,88.0,108.0,93.0,96.0,102.0,108.0,81.0,102.0,93.0,87.0,94.0,100.0,88.0,109.0,138.0,149.0,82.0,86.0,112.0,98.0,113.0,47.0,106.0,113.0,119.0,109.0,98.0,88.0,116.0,106.0,95.0,95.0,113.0,84.0,91.0,102.0,100.0,81.0,98.0,110.0,106.0,85.0,66.0,92.0,92.0,91.0,133.0,135.0,120.0,118.0,123.0,110.0,98.0,98.0,98.0,104.0,167.0,63.0,52.0,95.0,72.0,117.0,100.0,24.0,86.0,112.0,69.0,119.0,123.0,93.0,109.0,97.0,66.0,107.0,46.0,96.0,91.0,80.0,103.0,117.0,76.0,67.0,114.0,67.0,77.0,84.0,105.0,63.0,94.0,99.0,59.0,102.0,81.0,145.0,84.0,102.0,101.0,116.0,164.0,87.0,90.0,106.0,116.0,134.0,133.0,118.0,120.0,154.0,128.0,115.0,177.0,105.0,112.0,120.0,119.0,100.0,92.0,104.0,97.0,88.0,128.0,130.0,108.0,98.0,89.0,90.0,130.0,83.0,99.0,59.0,107.0,99.0,94.0,111.0,100.0,77.0,57.0,107.0,93.0,114.0,103.0,153.0,94.0,149.0,111.0,58.0,56.0,110.0,98.0,106.0,102.0,93.0,81.0,77.0,98.0,97.0,136.0,161.0,32.0,86.0,107.0,98.0,83.0,77.0,133.0,105.0,79.0,106.0,90.0,87.0,95.0,91.0,67.0,106.0,65.0,131.0,105.0,119.0,105.0,40.0,107.0,112.0,97.0,106.0,66.0,106.0,110.0,102.0,105.0,112.0,96.0,97.0,53.0,113.0,53.0,54.0,53.0,54.0,113.0,53.0,53.0,53.0,54.0,54.0,52.0,54.0,54.0,53.0,53.0,53.0,113.0,53.0,91.0,126.0,99.0,134.0,26.0,117.0,89.0,94.0,101.0,94.0,99.0,114.0,48.0,78.0,118.0,119.0,104.0,98.0,93.0,61.0,90.0,122.0,113.0,141.0,81.0,176.0,119.0,73.0,87.0,88.0,15.0,55.0,141.0,122.0,117.0,95.0,109.0,63.0,73.0,107.0,87.0,99.0,96.0,113.0,69.0,99.0,87.0,85.0,112.0,116.0,99.0,101.0,110.0,116.0,96.0,83.0,110.0,86.0,110.0,122.0,99.0,59.0,65.0,126.0,97.0,68.0,65.0,63.0,89.0,88.0,91.0,53.0,40.0,113.0,117.0,90.0,95.0,98.0,97.0,102.0,61.0,93.0,117.0,108.0,126.0,93.0,60.0,142.0,113.0,90.0,120.0,107.0,74.0,119.0,114.0,125.0,71.0,110.0,127.0,118.0,90.0,94.0,90.0,98.0,98.0,99.0,133.0,94.0,116.0,93.0,103.0,84.0,90.0,107.0,89.0,90.0,96.0,130.0,90.0,86.0,79.0,93.0,12.0,62.0,3.0,94.0,93.0,114.0,110.0,125.0,119.0,109.0,100.0,98.0,98.0,128.0,83.0,105.0,109.0,83.0,101.0,78.0,110.0,116.0,141.0,120.0,97.0,109.0,105.0,102.0,127.0,101.0,135.0,124.0,103.0,105.0,98.0,93.0,113.0,106.0,99.0,123.0,91.0,84.0,99.0,93.0,122.0,38.0,101.0,99.0,91.0,30.0,30.0,137.0,111.0,66.0,159.0,125.0,95.0,95.0,70.0,87.0,88.0,96.0,90.0,84.0,53.0,87.0,90.0,96.0,150.0,105.0,112.0,119.0,142.0,94.0,97.0,137.0,100.0,125.0,128.0,108.0,136.0,165.0,124.0,133.0,116.0,102.0,87.0,61.0,94.0,70.0,92.0,88.0,100.0,111.0,128.0,63.0,63.0,62.0,62.0,98.0,104.0,110.0,87.0,126.0,103.0,111.0,100.0,112.0,96.0,71.0,86.0,99.0,125.0,147.0,88.0,40.0,79.0,110.0,101.0,128.0,110.0,79.0,87.0,133.0,116.0,119.0,53.0,82.0,99.0,87.0,90.0,124.0,53.0,88.0,54.0,104.0,92.0,126.0,140.0,87.0,93.0,80.0,92.0,64.0,72.0,148.0,110.0,119.0,163.0,125.0,87.0,96.0,91.0,122.0,125.0,49.0,95.0,99.0,98.0,98.0,90.0,97.0,97.0,86.0,114.0,96.0,99.0,88.0,66.0,70.0,168.0,98.0,89.0,100.0,90.0,77.0,100.0,102.0,98.0,92.0,116.0,111.0,91.0,99.0,99.0,99.0,98.0,73.0,113.0,153.0,81.0,54.0,138.0,93.0,123.0,96.0,101.0,59.0,53.0,102.0,141.0,95.0,111.0,131.0,116.0,119.0,146.0,101.0,82.0,90.0,87.0,95.0,94.0,129.0,94.0,103.0,133.0,135.0,61.0,85.0,91.0,105.0,59.0,91.0,94.0,89.0,131.0,136.0,170.0,91.0,128.0,88.0,97.0,110.0,170.0,92.0,94.0,92.0,113.0,59.0,126.0,86.0,120.0,76.0,60.0,118.0,88.0,55.0,110.0,113.0,110.0,94.0,54.0,53.0,103.0,126.0,89.0,124.0,128.0,88.0,83.0,96.0,118.0,91.0,91.0,53.0,103.0,108.0,88.0,81.0,124.0,102.0,98.0,132.0,87.0,89.0,109.0,75.0,126.0,61.0,126.0,108.0,89.0,100.0,129.0,71.0,108.0,101.0,60.0,105.0,115.0,118.0,130.0,101.0,115.0,99.0,69.0,97.0,61.0,87.0,97.0,101.0,92.0,123.0,108.0,104.0,98.0,65.0,88.0,106.0,69.0,97.0,80.0,85.0,99.0,98.0,115.0,138.0,90.0,86.0,90.0,117.0,132.0,127.0,125.0,128.0,126.0,58.0,87.0,98.0,116.0,90.0,111.0,100.0,123.0,106.0,100.0,104.0,99.0,105.0,128.0,91.0,127.0,100.0,131.0,104.0,94.0,124.0,106.0,108.0,104.0,103.0,100.0,79.0,92.0,116.0,83.0,118.0,162.0,162.0,126.0,109.0,109.0,89.0,111.0,89.0,97.0,108.0,103.0,88.0,120.0,90.0,99.0,83.0,107.0,109.0,105.0,87.0,93.0,90.0,89.0,131.0,114.0,92.0,75.0,107.0,97.0,90.0,98.0,100.0,103.0,66.0,106.0,125.0,77.0,130.0,119.0,110.0,120.0,102.0,125.0,103.0,127.0,121.0,101.0,113.0,118.0,132.0,106.0,116.0,117.0,90.0,61.0,90.0,107.0,80.0,58.0,58.0,56.0,110.0,70.0,117.0,89.0,84.0,131.0,91.0,103.0,100.0,139.0,103.0,42.0,79.0,90.0,88.0,96.0,114.0,99.0,89.0,103.0,127.0,113.0,111.0,112.0,96.0,103.0,104.0,102.0,86.0,97.0,111.0,132.0,89.0,102.0,120.0,137.0,82.0,85.0,115.0,107.0,130.0,57.0,62.0,112.0,26.0,102.0,93.0,111.0,93.0,91.0,118.0,63.0,74.0,136.0,90.0,132.0,101.0,59.0,84.0,91.0,93.0,91.0,84.0,101.0,110.0,82.0,100.0,52.0,51.0,127.0,86.0,107.0,22.0,22.0,22.0,44.0,91.0,99.0,105.0,105.0,88.0,128.0,24.0,113.0,52.0,50.0,49.0,92.0,110.0,106.0,120.0,83.0,123.0,56.0,141.0,97.0,118.0,95.0,127.0,118.0,74.0,91.0,137.0,86.0,106.0,125.0,114.0,143.0,121.0,119.0,108.0,150.0,88.0,105.0,119.0,97.0,96.0,91.0,49.0,95.0,98.0,96.0,83.0,96.0,90.0,97.0,99.0,94.0,90.0,88.0,105.0,118.0,86.0,127.0,88.0,125.0,116.0,102.0,65.0,88.0,106.0,117.0,91.0,93.0,136.0,116.0,121.0,89.0,104.0,65.0,91.0,99.0,91.0,117.0,135.0,135.0,91.0,95.0,75.0,95.0,82.0,124.0,106.0,86.0,115.0,99.0,101.0,142.0,102.0,122.0,95.0,120.0,96.0,92.0,110.0,133.0,143.0,111.0,144.0,121.0,99.0,93.0,100.0,102.0,123.0,127.0,116.0,119.0,105.0,134.0,90.0,93.0,93.0,108.0,115.0,119.0,61.0,109.0,97.0,154.0,120.0,148.0,121.0,95.0,102.0,87.0,114.0,48.0,124.0,101.0,28.0,34.0,61.0,56.0,81.0,68.0,58.0,100.0,50.0,49.0,71.0,29.0,108.0,125.0,72.0,100.0,30.0,30.0,146.0,127.0,46.0,57.0,87.0,90.0,86.0,122.0,97.0,312.0,109.0,122.0,116.0,73.0,96.0,91.0,110.0,115.0,150.0,90.0,89.0,93.0,105.0,105.0,124.0,105.0,44.0,91.0,95.0,78.0,22.0,95.0,82.0,89.0,90.0,94.0,85.0,29.0,96.0,101.0,137.0,27.0,112.0,112.0,107.0,153.0,123.0,90.0,84.0,78.0,79.0,73.0,83.0,83.0,87.0,145.0,135.0,109.0,35.0,86.0,68.0,107.0,110.0,86.0,85.0,75.0,90.0,105.0,124.0,110.0,96.0,110.0,58.0,105.0,59.0,28.0,98.0,111.0,116.0,106.0,63.0,109.0,88.0,155.0,119.0,122.0,87.0,73.0,98.0,130.0,99.0,105.0,110.0,81.0,115.0,113.0,146.0,118.0,122.0,109.0,68.0,117.0,23.0,95.0,124.0,90.0,96.0,96.0,123.0,85.0,93.0,30.0,82.0,95.0,127.0,120.0,114.0,119.0,101.0,96.0,120.0,139.0,95.0,44.0,104.0,110.0,91.0,91.0,114.0,91.0,64.0,89.0,95.0,86.0,94.0,133.0,102.0,122.0,86.0,111.0,132.0,111.0,136.0,121.0,76.0,92.0,119.0,45.0,75.0,71.0,81.0,115.0,128.0,92.0,95.0,114.0,99.0,132.0,106.0,122.0,79.0,78.0,111.0,112.0,107.0,102.0,81.0,129.0,90.0,86.0,116.0,59.0,95.0,122.0,98.0,103.0,117.0,95.0,146.0,136.0,91.0,123.0,144.0,103.0,11.0,22.0,126.0,121.0,91.0,158.0,157.0,124.0,106.0,92.0,80.0,94.0,126.0,129.0,133.0,109.0,143.0,140.0,150.0,128.0,120.0,154.0,45.0,132.0,126.0,95.0,91.0,135.0,139.0,131.0,118.0,129.0,131.0,146.0,123.0,141.0,93.0,91.0,58.0,91.0,112.0,119.0,106.0,131.0,95.0,104.0,126.0,118.0,116.0,122.0,105.0,90.0,87.0,102.0,89.0,94.0,100.0,126.0,89.0,90.0,87.0,97.0,115.0,93.0,138.0,74.0,102.0,103.0,119.0,104.0,161.0,51.0,50.0,86.0,140.0,122.0,23.0,95.0,205.0,123.0,190.0,121.0,131.0,80.0,63.0,150.0,159.0,131.0,130.0,99.0,86.0,106.0,57.0,97.0,118.0,98.0,144.0,110.0,96.0,57.0,98.0,119.0,92.0,94.0,151.0,74.0,89.0,124.0,25.0,84.0,121.0,85.0,25.0,121.0,88.0,111.0,81.0,64.0,55.0,137.0,56.0,58.0,80.0,94.0,94.0,72.0,60.0,140.0,91.0,97.0,146.0,118.0,133.0,106.0,128.0,137.0,145.0,141.0,106.0,61.0,135.0,137.0,129.0,99.0,155.0,142.0,214.0,137.0,128.0,89.0,67.0,151.0,121.0,101.0,145.0,147.0,90.0,129.0,129.0,136.0,117.0,74.0,150.0,134.0,100.0,44.0,44.0,111.0,147.0,115.0,121.0,103.0,73.0,129.0,102.0,122.0,155.0,139.0,131.0,127.0,156.0,91.0,132.0,130.0,137.0,132.0,156.0,132.0,119.0,140.0,101.0,126.0,107.0,112.0,111.0,126.0,130.0,126.0,24.0,127.0,108.0,163.0,117.0,95.0,103.0,110.0,111.0,91.0,101.0,124.0,63.0,102.0,103.0,112.0,103.0,92.0,93.0,112.0,113.0,92.0,153.0,111.0,141.0,128.0,52.0,117.0,100.0,112.0,110.0,98.0,107.0,109.0,100.0,114.0,98.0,100.0,100.0,123.0,86.0,77.0,112.0,106.0,106.0,102.0,86.0,146.0,122.0,126.0,116.0,135.0,125.0,96.0,130.0,135.0,88.0,96.0,100.0,122.0,110.0,104.0,96.0,109.0,95.0,110.0,110.0,79.0,101.0,112.0,94.0,94.0,86.0,84.0,95.0,93.0,113.0,111.0,68.0,135.0,95.0,93.0,101.0,98.0,90.0,112.0,141.0,120.0,140.0,87.0,99.0,86.0,104.0,100.0,50.0,124.0,57.0,31.0,90.0,96.0,196.0,93.0,110.0,162.0,139.0,130.0,145.0,88.0,91.0,91.0,102.0,95.0,33.0,119.0,114.0,100.0,54.0,150.0,108.0,90.0,101.0,104.0,88.0,93.0,79.0,92.0,90.0,86.0,90.0,103.0,86.0,108.0,97.0,92.0,101.0,83.0,85.0,85.0,106.0,86.0,131.0,105.0,134.0,85.0,203.0,120.0,91.0,124.0,95.0,12.0,104.0,92.0,143.0,127.0,100.0,74.0,104.0,148.0,127.0,96.0,82.0,158.0,124.0,163.0,74.0,121.0,154.0,127.0,128.0,98.0,124.0,109.0,168.0,89.0,162.0,159.0,137.0,133.0,125.0,127.0,131.0,90.0,89.0,88.0,125.0,88.0,94.0,83.0,89.0,118.0,109.0,87.0,105.0,79.0,133.0,147.0,92.0,103.0,119.0,80.0,110.0,128.0,88.0,86.0,70.0,66.0,72.0,122.0,117.0,98.0,126.0,115.0,86.0,108.0,94.0,151.0,88.0,97.0,92.0,102.0,93.0,126.0,82.0,86.0,105.0,101.0,100.0,57.0,95.0,101.0,128.0,99.0,113.0,108.0,105.0,109.0,93.0,82.0,95.0,84.0,106.0,122.0,108.0,94.0,103.0,106.0,124.0,92.0,88.0,68.0,72.0,93.0,102.0,69.0,125.0,99.0,89.0,95.0,92.0,95.0,133.0,112.0,85.0,85.0,84.0,118.0,99.0,109.0,103.0,94.0,105.0,101.0,103.0,86.0,91.0,95.0,99.0,90.0,88.0,85.0,98.0,94.0,71.0,95.0,124.0,108.0,87.0,95.0,108.0,110.0,113.0,71.0,75.0,75.0,97.0,83.0,93.0,66.0,83.0,110.0,88.0,112.0,77.0,91.0,58.0,69.0,61.0,100.0,88.0,128.0,122.0,60.0,126.0,166.0,113.0,88.0,151.0,107.0,42.0,94.0,130.0,87.0,116.0,77.0,117.0,84.0,92.0,130.0,103.0,89.0,109.0,104.0,114.0,133.0,101.0,137.0,88.0,88.0,115.0,120.0,104.0,114.0,128.0,125.0,38.0,102.0,96.0,94.0,69.0,92.0,90.0,101.0,77.0,89.0,90.0,98.0,88.0,49.0,152.0,66.0,103.0,95.0,79.0,89.0,75.0,78.0,89.0,74.0,119.0,70.0,104.0,48.0,121.0,106.0,74.0,106.0,113.0,119.0,82.0,76.0,95.0,100.0,110.0,66.0,99.0,131.0,86.0,118.0,126.0,130.0,99.0,89.0,136.0,131.0,165.0,110.0,85.0,92.0,89.0,117.0,114.0,63.0,94.0,74.0,103.0,58.0,94.0,92.0,104.0,117.0,89.0,87.0,129.0,160.0,66.0,150.0,158.0,118.0,100.0,90.0,64.0,92.0,63.0,105.0,76.0,67.0,99.0,69.0,91.0,92.0,87.0,100.0,113.0,40.0,105.0,94.0,109.0,116.0,99.0,89.0,92.0,82.0,70.0,131.0,105.0,130.0,69.0,98.0,90.0,105.0,106.0,126.0,84.0,65.0,121.0,163.0,92.0,124.0,107.0,19.0,25.0,22.0,40.0,22.0,24.0,103.0,45.0,101.0,60.0,90.0,96.0,98.0,94.0,74.0,112.0,115.0,92.0,93.0,95.0,105.0,117.0,66.0,110.0,97.0,78.0,102.0,62.0,90.0,97.0,105.0,79.0,90.0,129.0,92.0,109.0,77.0,107.0,69.0,87.0,91.0,99.0,105.0,99.0,108.0,66.0,94.0,93.0,75.0,96.0,95.0,32.0,70.0,94.0,117.0,78.0,100.0,91.0,115.0,122.0,107.0,109.0,104.0,95.0,110.0,100.0,93.0,104.0,134.0,75.0,100.0,105.0,104.0,101.0,96.0,80.0,75.0,75.0,79.0,78.0,75.0,78.0,166.0,90.0,132.0,91.0,117.0,103.0,100.0,176.0,91.0,49.0,97.0,116.0,90.0,60.0,149.0,86.0,171.0,103.0,116.0,169.0,134.0,159.0,130.0,103.0,173.0,195.0,111.0,99.0,110.0,32.0,94.0,87.0,103.0,78.0,108.0,62.0,97.0,102.0,95.0,106.0,115.0,76.0,80.0,102.0,99.0,82.0,74.0,100.0,150.0,90.0,75.0,103.0,87.0,88.0,63.0,127.0,129.0,120.0,138.0,129.0,137.0,91.0,103.0,145.0,23.0,25.0,92.0,83.0,81.0,115.0,150.0,106.0,115.0,140.0,79.0,104.0,52.0,90.0,83.0,97.0,85.0,69.0,94.0,121.0,40.0,89.0,94.0,90.0,86.0,100.0,84.0,58.0,95.0,92.0,78.0,51.0,69.0,104.0,101.0,59.0,91.0,153.0,61.0,149.0,94.0,79.0,137.0,53.0,166.0,162.0,92.0,93.0,155.0,158.0,138.0,151.0,96.0,106.0,141.0,127.0,130.0,140.0,145.0,132.0,41.0,110.0,170.0,157.0,165.0,114.0,143.0,106.0,73.0,71.0,161.0,187.0,127.0,165.0,117.0,134.0,116.0,94.0,168.0,109.0,148.0,135.0,127.0,115.0,150.0,87.0,127.0,185.0,75.0,177.0,81.0,137.0,118.0,124.0,123.0,90.0,91.0,87.0,89.0,81.0,47.0,46.0,173.0,108.0,125.0,124.0,137.0,171.0,160.0,87.0,110.0,69.0,67.0,92.0,96.0,92.0,85.0,105.0,127.0,109.0,150.0,100.0,73.0,93.0,91.0,87.0,134.0,118.0,85.0,60.0,96.0,133.0,118.0,150.0,132.0,121.0,127.0,152.0,126.0,104.0,162.0,120.0,65.0,133.0,110.0,96.0,95.0,24.0,97.0,94.0,65.0,84.0,91.0,97.0,102.0,93.0,105.0,53.0,116.0,102.0,81.0,93.0,97.0,94.0,90.0,110.0,88.0,80.0,86.0,143.0,84.0,42.0,117.0,96.0,78.0,96.0,69.0,74.0,108.0,91.0,68.0,92.0,102.0,61.0,57.0,85.0,49.0,87.0,85.0,59.0,97.0,104.0,77.0,63.0,69.0,86.0,62.0,108.0,95.0,99.0,62.0,106.0,117.0,60.0,94.0,147.0,94.0,89.0,89.0,89.0,111.0,118.0,153.0,87.0,122.0,97.0,121.0,124.0,68.0,94.0,100.0,71.0,76.0,60.0,89.0,92.0,63.0,135.0,112.0,88.0,97.0,83.0,89.0,86.0,52.0,126.0,133.0,90.0,91.0,104.0,105.0,123.0,89.0,87.0,91.0,102.0,106.0,102.0,91.0,87.0,103.0,193.0,176.0,124.0,135.0,106.0,133.0,107.0,78.0,192.0,55.0,132.0,148.0,46.0,46.0,46.0,74.0,46.0,50.0,114.0,117.0,108.0,97.0,122.0,115.0,104.0,140.0,101.0,99.0,102.0,94.0,92.0,125.0,82.0,151.0,85.0,86.0,93.0,49.0,82.0,100.0,55.0,53.0,87.0,102.0,112.0,105.0,106.0,89.0,91.0,61.0,94.0,93.0,80.0,118.0,141.0,94.0,84.0,103.0,85.0,69.0,100.0,85.0,97.0,129.0,143.0,90.0,92.0,81.0,105.0,91.0,111.0,103.0,118.0,148.0,88.0,75.0,89.0,128.0,86.0,83.0,109.0,111.0,40.0,70.0,108.0,106.0,106.0,81.0,94.0,102.0,102.0,89.0,162.0,147.0,224.0,137.0,109.0,163.0,162.0,104.0,91.0,27.0,67.0,142.0,78.0,26.0,123.0,113.0,92.0,46.0,124.0,81.0,97.0,81.0,119.0,149.0,106.0,140.0,121.0,87.0,99.0,96.0,128.0,76.0,94.0,114.0,101.0,93.0,109.0,51.0,61.0,73.0,113.0,125.0,92.0,94.0,65.0,135.0,86.0,80.0,142.0,131.0,66.0,88.0,99.0,96.0,126.0,65.0,54.0,76.0,100.0,81.0,123.0,144.0,153.0,105.0,103.0,141.0,115.0,120.0,104.0,22.0,97.0,54.0,120.0,132.0,135.0,87.0,82.0,158.0,107.0,122.0,62.0,95.0,98.0,113.0,94.0,120.0,92.0,132.0,84.0,76.0,75.0,93.0,98.0,91.0,48.0,168.0,68.0,97.0,115.0,148.0,149.0,113.0,137.0,140.0,144.0,103.0,90.0,95.0,82.0,94.0,79.0,66.0,135.0,96.0,144.0,108.0,127.0,127.0,90.0,126.0,121.0,119.0,109.0,132.0,118.0,84.0,93.0,96.0,145.0,158.0,132.0,111.0,133.0,143.0,117.0,84.0,107.0,83.0,102.0,52.0,110.0,85.0,113.0,88.0,89.0,59.0,80.0,107.0,106.0,90.0,66.0,92.0,101.0,135.0,107.0,74.0,74.0,74.0,83.0,79.0,72.0,80.0,75.0,75.0,72.0,80.0,93.0,79.0,86.0,107.0,47.0,107.0,119.0,108.0,85.0,90.0,72.0,23.0,68.0,85.0,84.0,118.0,116.0,89.0,81.0,73.0,140.0,130.0,103.0,40.0,103.0,85.0,106.0,104.0,82.0,94.0,81.0,91.0,112.0,102.0,101.0,119.0,62.0,64.0,137.0,108.0,132.0,87.0,92.0,108.0,78.0,40.0,71.0,89.0,99.0,110.0,60.0,90.0,78.0,95.0,58.0,62.0,65.0,61.0,65.0,58.0,60.0,135.0,98.0,96.0,79.0,113.0,90.0,114.0,79.0,98.0,70.0,116.0,139.0,101.0,148.0,54.0,92.0,107.0,90.0,135.0,52.0,151.0,90.0,88.0,99.0,99.0,132.0,95.0,155.0,162.0,163.0,102.0,96.0,85.0,97.0,95.0,83.0,89.0,28.0,103.0,84.0,160.0,113.0,99.0,86.0,83.0,113.0,86.0,78.0,96.0,95.0,57.0,92.0,81.0,98.0,95.0,105.0,116.0,100.0,95.0,70.0,51.0,94.0,83.0,92.0,88.0,104.0,104.0,104.0,124.0,113.0,124.0,96.0,101.0,63.0,56.0,92.0,91.0,94.0,94.0,82.0,100.0,90.0,71.0,97.0,89.0,83.0,98.0,92.0,88.0,62.0,165.0,166.0,166.0,159.0,160.0,159.0,93.0,95.0,22.0,22.0,105.0,101.0,124.0,100.0,54.0,121.0,103.0,129.0,89.0,92.0,111.0,92.0,91.0,172.0,45.0,95.0,80.0,67.0,84.0,97.0,86.0,59.0,58.0,47.0,114.0,103.0,93.0,84.0,67.0,91.0,110.0,110.0,84.0,63.0,94.0,116.0,104.0,143.0,116.0,14.0,89.0,108.0,59.0,99.0,74.0,103.0,105.0,84.0,109.0,96.0,78.0,83.0,89.0,97.0,95.0,106.0,116.0,91.0,90.0,86.0,97.0,170.0,153.0,104.0,162.0,163.0,106.0,108.0,130.0,133.0,148.0,105.0,90.0,79.0,121.0,66.0,102.0,108.0,139.0,91.0,90.0,81.0,96.0,72.0,89.0,92.0,81.0,161.0,92.0,24.0,66.0,100.0,122.0,91.0,81.0,92.0,77.0,104.0,73.0,102.0,82.0,47.0,98.0,102.0,112.0,85.0,108.0,87.0,84.0,107.0,117.0,89.0,119.0,88.0,126.0,130.0,102.0,154.0,44.0,104.0,76.0,96.0,63.0,108.0,105.0,47.0,44.0,109.0,89.0,92.0,122.0,19.0,154.0,152.0,161.0,123.0,44.0,106.0,80.0,71.0,87.0,153.0,98.0,79.0,143.0,123.0,97.0,80.0,73.0,90.0,106.0,101.0,119.0,140.0,59.0,164.0,92.0,151.0,84.0,51.0,142.0,66.0,110.0,99.0,86.0,101.0,88.0,86.0,151.0,116.0,128.0,128.0,86.0,88.0,80.0,61.0,92.0,82.0,81.0,72.0,98.0,64.0,95.0,96.0,111.0,127.0,117.0,123.0,139.0,95.0,148.0,121.0,79.0,127.0,92.0,162.0,163.0,83.0,112.0,117.0,90.0,95.0,99.0,125.0,44.0,93.0,89.0,92.0,120.0,114.0,109.0,83.0,107.0,129.0,135.0,149.0,136.0,138.0,177.0,61.0,126.0,137.0,114.0,104.0,96.0,147.0,107.0,91.0,81.0,53.0,95.0,95.0,149.0,106.0,108.0,66.0,54.0,55.0,55.0,55.0,55.0,113.0,83.0,53.0,102.0,95.0,50.0,97.0,92.0,97.0,105.0,107.0,99.0,101.0,81.0,92.0,131.0,111.0,104.0,99.0,101.0,71.0,96.0,85.0,106.0,119.0,84.0,85.0,110.0,89.0,76.0,74.0,103.0,101.0,98.0,74.0,156.0,88.0,70.0,88.0,93.0,143.0,83.0,90.0,107.0,93.0,99.0,134.0,77.0,78.0,101.0,53.0,81.0,106.0,84.0,51.0,90.0,77.0,95.0,63.0,58.0,59.0,52.0,32.0,18.0,102.0,40.0,40.0,42.0,76.0,61.0,82.0,45.0,92.0,118.0,91.0,63.0,110.0,91.0,93.0,93.0,108.0,72.0,114.0,91.0,97.0,118.0,92.0,91.0,137.0,97.0,101.0,143.0,97.0,107.0,168.0,117.0,103.0,80.0,87.0,160.0,88.0,85.0,104.0,62.0,109.0,103.0,99.0,102.0,97.0,99.0,101.0,102.0,102.0,107.0,99.0,106.0,103.0,123.0,98.0,118.0,100.0,101.0,103.0,101.0,104.0,104.0,100.0,136.0,102.0,105.0,24.0,110.0,105.0,105.0,102.0,98.0,118.0,106.0,106.0,92.0,92.0,91.0,83.0,123.0,90.0,57.0,103.0,92.0,52.0,52.0,87.0,56.0,115.0,53.0,94.0,118.0,92.0,98.0,125.0,113.0,110.0,71.0,108.0,123.0,97.0,99.0,97.0,100.0,98.0,75.0,54.0,54.0,55.0,54.0,55.0,67.0,129.0,105.0,78.0,99.0,96.0,95.0,87.0,134.0,119.0,128.0,128.0,91.0,109.0,79.0,88.0,107.0,92.0,88.0,71.0,64.0,83.0,124.0,123.0,97.0,96.0,150.0,91.0,79.0,93.0,54.0,73.0,88.0,109.0,93.0,78.0,86.0,94.0,116.0,154.0,90.0,179.0,93.0,97.0,80.0,88.0,99.0,104.0,94.0,77.0,111.0,108.0,92.0,78.0,87.0,99.0,91.0,37.0,102.0,67.0,57.0,78.0,130.0,80.0,90.0,93.0,66.0,93.0,119.0,90.0,105.0,83.0,96.0,84.0,98.0,91.0,89.0,90.0,89.0,123.0,117.0,100.0,91.0,87.0,146.0,82.0,104.0,85.0,109.0,74.0,94.0,84.0,98.0,82.0,22.0,141.0,95.0,117.0,100.0,75.0,69.0,80.0,97.0,92.0,92.0,85.0,83.0,118.0,84.0,52.0,84.0,146.0,93.0,97.0,90.0,75.0,93.0,62.0,98.0,92.0,22.0,115.0,88.0,87.0,86.0,94.0,105.0,88.0,88.0,86.0,93.0,98.0,29.0,88.0,93.0,81.0,83.0,31.0,83.0,73.0,38.0,108.0,90.0,97.0,81.0,70.0,62.0,104.0,97.0,99.0,96.0,84.0,112.0,90.0,88.0,56.0,89.0,24.0,100.0,116.0,101.0,92.0,79.0,67.0,72.0,96.0,103.0,92.0,61.0,88.0,88.0,113.0,67.0,65.0,62.0,107.0,85.0,69.0,60.0,77.0,98.0,71.0,101.0,64.0,112.0,125.0,125.0,59.0,91.0,44.0,107.0,101.0,93.0,82.0,86.0,81.0,92.0,89.0,107.0,94.0,110.0,81.0,77.0,64.0,111.0,97.0,77.0,94.0,94.0,91.0,93.0,95.0,80.0,95.0,90.0,101.0,73.0,108.0,25.0,86.0,105.0,100.0,96.0,97.0,73.0,44.0,132.0,96.0,92.0,99.0,92.0,99.0,78.0,87.0,65.0,65.0,69.0,64.0,63.0,63.0,89.0,60.0,84.0,93.0,41.0,91.0,83.0,25.0,94.0,102.0,111.0,88.0,93.0,29.0,88.0,103.0,107.0,52.0,91.0,180.0,75.0,92.0,90.0,114.0,80.0,99.0,79.0,66.0,46.0,90.0,72.0,71.0,77.0,70.0,73.0,107.0,81.0,86.0,63.0,44.0,128.0,51.0,45.0,46.0,112.0,87.0,87.0,106.0,100.0,101.0,117.0,114.0,94.0,100.0,96.0,58.0,87.0,81.0,96.0,52.0,114.0,105.0,157.0,84.0,91.0,80.0,97.0,105.0,96.0,60.0,79.0,93.0,95.0,99.0,109.0,96.0,102.0,107.0,60.0,86.0,29.0,163.0,98.0,101.0,91.0,99.0,74.0,66.0,76.0,95.0,127.0,86.0,116.0,82.0,70.0,102.0,88.0,109.0,75.0,23.0,83.0,97.0,62.0,84.0,90.0,82.0,96.0,65.0,92.0,90.0,93.0,91.0,100.0,101.0,103.0,74.0,44.0,43.0,95.0,94.0,68.0,72.0,47.0,52.0,92.0,107.0,108.0,74.0,110.0,24.0,46.0,24.0,55.0,24.0,23.0,24.0,24.0,101.0,29.0,60.0,60.0,78.0,73.0,72.0,60.0,47.0,70.0,77.0,120.0,74.0,57.0,72.0,78.0,91.0,62.0,85.0,85.0,90.0,105.0,59.0,137.0,86.0,135.0,99.0,64.0,72.0,83.0,82.0,90.0,80.0,130.0,62.0,90.0,92.0,155.0,78.0,92.0,60.0,69.0,103.0,92.0,143.0,83.0,78.0,84.0,78.0,93.0,84.0,77.0,58.0,82.0,83.0,100.0,29.0,72.0,26.0,48.0,73.0,103.0,81.0,75.0,100.0,90.0,68.0,71.0,71.0,100.0,94.0,80.0,78.0,35.0,72.0,93.0,105.0,130.0,100.0,44.0,80.0,72.0,75.0,26.0,84.0,120.0,76.0,95.0,96.0,94.0,94.0,93.0,96.0,94.0,94.0,93.0,95.0,93.0,75.0,103.0,84.0,29.0,104.0,81.0],\"xaxis\":\"x\",\"y\":[\"Movie Duration\",\"Movie Duration\",\"Movie Duration\",\"Movie Duration\",\"Movie Duration\",\"Movie Duration\",\"Movie Duration\",\"Movie Duration\",\"Movie Duration\",\"Movie Duration\",\"Movie Duration\",\"Movie Duration\",\"Movie Duration\",\"Movie Duration\",\"Movie Duration\",\"Movie Duration\",\"Movie Duration\",\"Movie Duration\",\"Movie Duration\",\"Movie Duration\",\"Movie Duration\",\"Movie Duration\",\"Movie Duration\",\"Movie Duration\",\"Movie Duration\",\"Movie Duration\",\"Movie Duration\",\"Movie Duration\",\"Movie Duration\",\"Movie Duration\",\"Movie Duration\",\"Movie Duration\",\"Movie Duration\",\"Movie Duration\",\"Movie Duration\",\"Movie Duration\",\"Movie Duration\",\"Movie Duration\",\"Movie Duration\",\"Movie Duration\",\"Movie Duration\",\"Movie Duration\",\"Movie Duration\",\"Movie Duration\",\"Movie Duration\",\"Movie Duration\",\"Movie Duration\",\"Movie Duration\",\"Movie Duration\",\"Movie Duration\",\"Movie Duration\",\"Movie Duration\",\"Movie Duration\",\"Movie Duration\",\"Movie Duration\",\"Movie Duration\",\"Movie Duration\",\"Movie Duration\",\"Movie Duration\",\"Movie Duration\",\"Movie Duration\",\"Movie Duration\",\"Movie Duration\",\"Movie Duration\",\"Movie Duration\",\"Movie Duration\",\"Movie Duration\",\"Movie Duration\",\"Movie Duration\",\"Movie Duration\",\"Movie Duration\",\"Movie Duration\",\"Movie Duration\",\"Movie Duration\",\"Movie Duration\",\"Movie Duration\",\"Movie Duration\",\"Movie Duration\",\"Movie Duration\",\"Movie Duration\",\"Movie Duration\",\"Movie Duration\",\"Movie Duration\",\"Movie Duration\",\"Movie Duration\",\"Movie Duration\",\"Movie Duration\",\"Movie Duration\",\"Movie Duration\",\"Movie Duration\",\"Movie Duration\",\"Movie Duration\",\"Movie Duration\",\"Movie Duration\",\"Movie Duration\",\"Movie Duration\",\"Movie Duration\",\"Movie Duration\",\"Movie Duration\",\"Movie Duration\",\"Movie Duration\",\"Movie Duration\",\"Movie Duration\",\"Movie Duration\",\"Movie Duration\",\"Movie Duration\",\"Movie Duration\",\"Movie Duration\",\"Movie Duration\",\"Movie Duration\",\"Movie Duration\",\"Movie Duration\",\"Movie Duration\",\"Movie Duration\",\"Movie Duration\",\"Movie Duration\",\"Movie Duration\",\"Movie Duration\",\"Movie Duration\",\"Movie Duration\",\"Movie Duration\",\"Movie Duration\",\"Movie Duration\",\"Movie Duration\",\"Movie Duration\",\"Movie Duration\",\"Movie Duration\",\"Movie Duration\",\"Movie Duration\",\"Movie Duration\",\"Movie Duration\",\"Movie Duration\",\"Movie Duration\",\"Movie Duration\",\"Movie Duration\",\"Movie Duration\",\"Movie Duration\",\"Movie Duration\",\"Movie Duration\",\"Movie Duration\",\"Movie Duration\",\"Movie Duration\",\"Movie Duration\",\"Movie Duration\",\"Movie Duration\",\"Movie Duration\",\"Movie Duration\",\"Movie Duration\",\"Movie Duration\",\"Movie Duration\",\"Movie Duration\",\"Movie Duration\",\"Movie Duration\",\"Movie Duration\",\"Movie Duration\",\"Movie Duration\",\"Movie Duration\",\"Movie Duration\",\"Movie Duration\",\"Movie Duration\",\"Movie Duration\",\"Movie Duration\",\"Movie Duration\",\"Movie Duration\",\"Movie Duration\",\"Movie Duration\",\"Movie Duration\",\"Movie Duration\",\"Movie Duration\",\"Movie Duration\",\"Movie Duration\",\"Movie Duration\",\"Movie Duration\",\"Movie Duration\",\"Movie Duration\",\"Movie Duration\",\"Movie Duration\",\"Movie Duration\",\"Movie Duration\",\"Movie Duration\",\"Movie Duration\",\"Movie Duration\",\"Movie Duration\",\"Movie Duration\",\"Movie Duration\",\"Movie Duration\",\"Movie Duration\",\"Movie Duration\",\"Movie Duration\",\"Movie Duration\",\"Movie Duration\",\"Movie Duration\",\"Movie Duration\",\"Movie Duration\",\"Movie Duration\",\"Movie Duration\",\"Movie Duration\",\"Movie Duration\",\"Movie Duration\",\"Movie Duration\",\"Movie Duration\",\"Movie Duration\",\"Movie Duration\",\"Movie Duration\",\"Movie Duration\",\"Movie Duration\",\"Movie Duration\",\"Movie Duration\",\"Movie Duration\",\"Movie Duration\",\"Movie Duration\",\"Movie Duration\",\"Movie Duration\",\"Movie Duration\",\"Movie Duration\",\"Movie Duration\",\"Movie Duration\",\"Movie Duration\",\"Movie Duration\",\"Movie Duration\",\"Movie Duration\",\"Movie Duration\",\"Movie Duration\",\"Movie Duration\",\"Movie Duration\",\"Movie Duration\",\"Movie Duration\",\"Movie Duration\",\"Movie Duration\",\"Movie Duration\",\"Movie Duration\",\"Movie Duration\",\"Movie Duration\",\"Movie Duration\",\"Movie Duration\",\"Movie Duration\",\"Movie Duration\",\"Movie Duration\",\"Movie Duration\",\"Movie Duration\",\"Movie Duration\",\"Movie Duration\",\"Movie Duration\",\"Movie Duration\",\"Movie Duration\",\"Movie Duration\",\"Movie Duration\",\"Movie Duration\",\"Movie Duration\",\"Movie Duration\",\"Movie Duration\",\"Movie Duration\",\"Movie Duration\",\"Movie Duration\",\"Movie Duration\",\"Movie Duration\",\"Movie Duration\",\"Movie Duration\",\"Movie Duration\",\"Movie Duration\",\"Movie Duration\",\"Movie Duration\",\"Movie Duration\",\"Movie Duration\",\"Movie Duration\",\"Movie Duration\",\"Movie Duration\",\"Movie Duration\",\"Movie Duration\",\"Movie Duration\",\"Movie Duration\",\"Movie Duration\",\"Movie Duration\",\"Movie Duration\",\"Movie Duration\",\"Movie Duration\",\"Movie Duration\",\"Movie Duration\",\"Movie Duration\",\"Movie Duration\",\"Movie Duration\",\"Movie Duration\",\"Movie Duration\",\"Movie Duration\",\"Movie Duration\",\"Movie Duration\",\"Movie Duration\",\"Movie Duration\",\"Movie Duration\",\"Movie Duration\",\"Movie Duration\",\"Movie Duration\",\"Movie Duration\",\"Movie Duration\",\"Movie Duration\",\"Movie Duration\",\"Movie Duration\",\"Movie Duration\",\"Movie Duration\",\"Movie Duration\",\"Movie Duration\",\"Movie Duration\",\"Movie Duration\",\"Movie Duration\",\"Movie Duration\",\"Movie Duration\",\"Movie Duration\",\"Movie Duration\",\"Movie Duration\",\"Movie Duration\",\"Movie Duration\",\"Movie Duration\",\"Movie Duration\",\"Movie Duration\",\"Movie Duration\",\"Movie Duration\",\"Movie Duration\",\"Movie Duration\",\"Movie Duration\",\"Movie Duration\",\"Movie Duration\",\"Movie Duration\",\"Movie Duration\",\"Movie Duration\",\"Movie Duration\",\"Movie Duration\",\"Movie Duration\",\"Movie Duration\",\"Movie Duration\",\"Movie Duration\",\"Movie Duration\",\"Movie Duration\",\"Movie Duration\",\"Movie Duration\",\"Movie Duration\",\"Movie Duration\",\"Movie Duration\",\"Movie Duration\",\"Movie Duration\",\"Movie Duration\",\"Movie Duration\",\"Movie Duration\",\"Movie Duration\",\"Movie Duration\",\"Movie Duration\",\"Movie Duration\",\"Movie Duration\",\"Movie Duration\",\"Movie Duration\",\"Movie Duration\",\"Movie Duration\",\"Movie Duration\",\"Movie Duration\",\"Movie Duration\",\"Movie Duration\",\"Movie Duration\",\"Movie Duration\",\"Movie Duration\",\"Movie Duration\",\"Movie Duration\",\"Movie Duration\",\"Movie Duration\",\"Movie Duration\",\"Movie Duration\",\"Movie Duration\",\"Movie Duration\",\"Movie Duration\",\"Movie Duration\",\"Movie Duration\",\"Movie Duration\",\"Movie Duration\",\"Movie Duration\",\"Movie Duration\",\"Movie Duration\",\"Movie Duration\",\"Movie Duration\",\"Movie Duration\",\"Movie Duration\",\"Movie Duration\",\"Movie Duration\",\"Movie Duration\",\"Movie Duration\",\"Movie Duration\",\"Movie Duration\",\"Movie Duration\",\"Movie Duration\",\"Movie Duration\",\"Movie Duration\",\"Movie Duration\",\"Movie Duration\",\"Movie Duration\",\"Movie Duration\",\"Movie Duration\",\"Movie Duration\",\"Movie Duration\",\"Movie Duration\",\"Movie Duration\",\"Movie Duration\",\"Movie Duration\",\"Movie Duration\",\"Movie Duration\",\"Movie Duration\",\"Movie Duration\",\"Movie Duration\",\"Movie Duration\",\"Movie Duration\",\"Movie Duration\",\"Movie Duration\",\"Movie Duration\",\"Movie Duration\",\"Movie Duration\",\"Movie Duration\",\"Movie Duration\",\"Movie Duration\",\"Movie Duration\",\"Movie Duration\",\"Movie Duration\",\"Movie Duration\",\"Movie Duration\",\"Movie Duration\",\"Movie Duration\",\"Movie Duration\",\"Movie Duration\",\"Movie Duration\",\"Movie Duration\",\"Movie Duration\",\"Movie Duration\",\"Movie Duration\",\"Movie Duration\",\"Movie Duration\",\"Movie Duration\",\"Movie Duration\",\"Movie Duration\",\"Movie Duration\",\"Movie Duration\",\"Movie Duration\",\"Movie Duration\",\"Movie Duration\",\"Movie Duration\",\"Movie Duration\",\"Movie Duration\",\"Movie Duration\",\"Movie Duration\",\"Movie Duration\",\"Movie Duration\",\"Movie Duration\",\"Movie Duration\",\"Movie Duration\",\"Movie Duration\",\"Movie Duration\",\"Movie Duration\",\"Movie Duration\",\"Movie Duration\",\"Movie Duration\",\"Movie Duration\",\"Movie Duration\",\"Movie Duration\",\"Movie Duration\",\"Movie Duration\",\"Movie Duration\",\"Movie Duration\",\"Movie Duration\",\"Movie Duration\",\"Movie Duration\",\"Movie Duration\",\"Movie Duration\",\"Movie Duration\",\"Movie Duration\",\"Movie Duration\",\"Movie Duration\",\"Movie Duration\",\"Movie Duration\",\"Movie Duration\",\"Movie Duration\",\"Movie Duration\",\"Movie Duration\",\"Movie Duration\",\"Movie Duration\",\"Movie Duration\",\"Movie Duration\",\"Movie Duration\",\"Movie Duration\",\"Movie Duration\",\"Movie Duration\",\"Movie Duration\",\"Movie Duration\",\"Movie Duration\",\"Movie Duration\",\"Movie Duration\",\"Movie Duration\",\"Movie Duration\",\"Movie Duration\",\"Movie Duration\",\"Movie Duration\",\"Movie Duration\",\"Movie Duration\",\"Movie Duration\",\"Movie Duration\",\"Movie Duration\",\"Movie Duration\",\"Movie Duration\",\"Movie Duration\",\"Movie Duration\",\"Movie Duration\",\"Movie Duration\",\"Movie Duration\",\"Movie Duration\",\"Movie Duration\",\"Movie Duration\",\"Movie Duration\",\"Movie Duration\",\"Movie Duration\",\"Movie Duration\",\"Movie Duration\",\"Movie Duration\",\"Movie Duration\",\"Movie Duration\",\"Movie Duration\",\"Movie Duration\",\"Movie Duration\",\"Movie Duration\",\"Movie Duration\",\"Movie Duration\",\"Movie Duration\",\"Movie Duration\",\"Movie Duration\",\"Movie Duration\",\"Movie Duration\",\"Movie Duration\",\"Movie Duration\",\"Movie Duration\",\"Movie Duration\",\"Movie Duration\",\"Movie Duration\",\"Movie Duration\",\"Movie Duration\",\"Movie Duration\",\"Movie Duration\",\"Movie Duration\",\"Movie Duration\",\"Movie Duration\",\"Movie Duration\",\"Movie Duration\",\"Movie Duration\",\"Movie Duration\",\"Movie Duration\",\"Movie Duration\",\"Movie Duration\",\"Movie Duration\",\"Movie Duration\",\"Movie Duration\",\"Movie Duration\",\"Movie Duration\",\"Movie Duration\",\"Movie Duration\",\"Movie Duration\",\"Movie Duration\",\"Movie Duration\",\"Movie Duration\",\"Movie Duration\",\"Movie Duration\",\"Movie Duration\",\"Movie Duration\",\"Movie Duration\",\"Movie Duration\",\"Movie Duration\",\"Movie Duration\",\"Movie Duration\",\"Movie Duration\",\"Movie Duration\",\"Movie Duration\",\"Movie Duration\",\"Movie Duration\",\"Movie Duration\",\"Movie Duration\",\"Movie Duration\",\"Movie Duration\",\"Movie Duration\",\"Movie Duration\",\"Movie Duration\",\"Movie Duration\",\"Movie Duration\",\"Movie Duration\",\"Movie Duration\",\"Movie Duration\",\"Movie Duration\",\"Movie Duration\",\"Movie Duration\",\"Movie Duration\",\"Movie Duration\",\"Movie Duration\",\"Movie Duration\",\"Movie Duration\",\"Movie Duration\",\"Movie Duration\",\"Movie Duration\",\"Movie Duration\",\"Movie Duration\",\"Movie Duration\",\"Movie Duration\",\"Movie Duration\",\"Movie Duration\",\"Movie Duration\",\"Movie Duration\",\"Movie Duration\",\"Movie Duration\",\"Movie Duration\",\"Movie Duration\",\"Movie Duration\",\"Movie Duration\",\"Movie Duration\",\"Movie Duration\",\"Movie Duration\",\"Movie Duration\",\"Movie Duration\",\"Movie Duration\",\"Movie Duration\",\"Movie Duration\",\"Movie Duration\",\"Movie Duration\",\"Movie Duration\",\"Movie Duration\",\"Movie Duration\",\"Movie Duration\",\"Movie Duration\",\"Movie Duration\",\"Movie Duration\",\"Movie Duration\",\"Movie Duration\",\"Movie Duration\",\"Movie Duration\",\"Movie Duration\",\"Movie Duration\",\"Movie Duration\",\"Movie Duration\",\"Movie Duration\",\"Movie Duration\",\"Movie Duration\",\"Movie Duration\",\"Movie Duration\",\"Movie Duration\",\"Movie Duration\",\"Movie Duration\",\"Movie Duration\",\"Movie Duration\",\"Movie Duration\",\"Movie Duration\",\"Movie Duration\",\"Movie Duration\",\"Movie Duration\",\"Movie Duration\",\"Movie Duration\",\"Movie Duration\",\"Movie Duration\",\"Movie Duration\",\"Movie Duration\",\"Movie Duration\",\"Movie Duration\",\"Movie Duration\",\"Movie Duration\",\"Movie Duration\",\"Movie Duration\",\"Movie Duration\",\"Movie Duration\",\"Movie Duration\",\"Movie Duration\",\"Movie Duration\",\"Movie Duration\",\"Movie Duration\",\"Movie Duration\",\"Movie Duration\",\"Movie Duration\",\"Movie Duration\",\"Movie Duration\",\"Movie Duration\",\"Movie Duration\",\"Movie Duration\",\"Movie Duration\",\"Movie Duration\",\"Movie Duration\",\"Movie Duration\",\"Movie Duration\",\"Movie Duration\",\"Movie Duration\",\"Movie Duration\",\"Movie Duration\",\"Movie Duration\",\"Movie Duration\",\"Movie Duration\",\"Movie Duration\",\"Movie Duration\",\"Movie Duration\",\"Movie Duration\",\"Movie Duration\",\"Movie Duration\",\"Movie Duration\",\"Movie Duration\",\"Movie Duration\",\"Movie Duration\",\"Movie Duration\",\"Movie Duration\",\"Movie Duration\",\"Movie Duration\",\"Movie Duration\",\"Movie Duration\",\"Movie Duration\",\"Movie Duration\",\"Movie Duration\",\"Movie Duration\",\"Movie Duration\",\"Movie Duration\",\"Movie Duration\",\"Movie Duration\",\"Movie Duration\",\"Movie Duration\",\"Movie Duration\",\"Movie Duration\",\"Movie Duration\",\"Movie Duration\",\"Movie Duration\",\"Movie Duration\",\"Movie Duration\",\"Movie Duration\",\"Movie Duration\",\"Movie Duration\",\"Movie Duration\",\"Movie Duration\",\"Movie Duration\",\"Movie Duration\",\"Movie Duration\",\"Movie Duration\",\"Movie Duration\",\"Movie Duration\",\"Movie Duration\",\"Movie Duration\",\"Movie Duration\",\"Movie Duration\",\"Movie Duration\",\"Movie Duration\",\"Movie Duration\",\"Movie Duration\",\"Movie Duration\",\"Movie Duration\",\"Movie Duration\",\"Movie Duration\",\"Movie Duration\",\"Movie Duration\",\"Movie Duration\",\"Movie Duration\",\"Movie Duration\",\"Movie Duration\",\"Movie Duration\",\"Movie Duration\",\"Movie Duration\",\"Movie Duration\",\"Movie Duration\",\"Movie Duration\",\"Movie Duration\",\"Movie Duration\",\"Movie Duration\",\"Movie Duration\",\"Movie Duration\",\"Movie Duration\",\"Movie Duration\",\"Movie Duration\",\"Movie Duration\",\"Movie Duration\",\"Movie Duration\",\"Movie Duration\",\"Movie Duration\",\"Movie Duration\",\"Movie Duration\",\"Movie Duration\",\"Movie Duration\",\"Movie Duration\",\"Movie Duration\",\"Movie Duration\",\"Movie Duration\",\"Movie Duration\",\"Movie Duration\",\"Movie Duration\",\"Movie Duration\",\"Movie Duration\",\"Movie Duration\",\"Movie Duration\",\"Movie Duration\",\"Movie Duration\",\"Movie Duration\",\"Movie Duration\",\"Movie Duration\",\"Movie Duration\",\"Movie Duration\",\"Movie Duration\",\"Movie Duration\",\"Movie Duration\",\"Movie Duration\",\"Movie Duration\",\"Movie Duration\",\"Movie Duration\",\"Movie Duration\",\"Movie Duration\",\"Movie Duration\",\"Movie Duration\",\"Movie Duration\",\"Movie Duration\",\"Movie Duration\",\"Movie Duration\",\"Movie Duration\",\"Movie Duration\",\"Movie Duration\",\"Movie Duration\",\"Movie Duration\",\"Movie Duration\",\"Movie Duration\",\"Movie Duration\",\"Movie Duration\",\"Movie Duration\",\"Movie Duration\",\"Movie Duration\",\"Movie Duration\",\"Movie Duration\",\"Movie Duration\",\"Movie Duration\",\"Movie Duration\",\"Movie Duration\",\"Movie Duration\",\"Movie Duration\",\"Movie Duration\",\"Movie Duration\",\"Movie Duration\",\"Movie Duration\",\"Movie Duration\",\"Movie Duration\",\"Movie Duration\",\"Movie Duration\",\"Movie Duration\",\"Movie Duration\",\"Movie Duration\",\"Movie Duration\",\"Movie Duration\",\"Movie Duration\",\"Movie Duration\",\"Movie Duration\",\"Movie Duration\",\"Movie Duration\",\"Movie Duration\",\"Movie Duration\",\"Movie Duration\",\"Movie Duration\",\"Movie Duration\",\"Movie Duration\",\"Movie Duration\",\"Movie Duration\",\"Movie Duration\",\"Movie Duration\",\"Movie Duration\",\"Movie Duration\",\"Movie Duration\",\"Movie Duration\",\"Movie Duration\",\"Movie Duration\",\"Movie Duration\",\"Movie Duration\",\"Movie Duration\",\"Movie Duration\",\"Movie Duration\",\"Movie Duration\",\"Movie Duration\",\"Movie Duration\",\"Movie Duration\",\"Movie Duration\",\"Movie Duration\",\"Movie Duration\",\"Movie Duration\",\"Movie Duration\",\"Movie Duration\",\"Movie Duration\",\"Movie Duration\",\"Movie Duration\",\"Movie Duration\",\"Movie Duration\",\"Movie Duration\",\"Movie Duration\",\"Movie Duration\",\"Movie Duration\",\"Movie Duration\",\"Movie Duration\",\"Movie Duration\",\"Movie Duration\",\"Movie Duration\",\"Movie Duration\",\"Movie Duration\",\"Movie Duration\",\"Movie Duration\",\"Movie Duration\",\"Movie Duration\",\"Movie Duration\",\"Movie Duration\",\"Movie Duration\",\"Movie Duration\",\"Movie Duration\",\"Movie Duration\",\"Movie Duration\",\"Movie Duration\",\"Movie Duration\",\"Movie Duration\",\"Movie Duration\",\"Movie Duration\",\"Movie Duration\",\"Movie Duration\",\"Movie Duration\",\"Movie Duration\",\"Movie Duration\",\"Movie Duration\",\"Movie Duration\",\"Movie Duration\",\"Movie Duration\",\"Movie Duration\",\"Movie Duration\",\"Movie Duration\",\"Movie Duration\",\"Movie Duration\",\"Movie Duration\",\"Movie Duration\",\"Movie Duration\",\"Movie Duration\",\"Movie Duration\",\"Movie Duration\",\"Movie Duration\",\"Movie Duration\",\"Movie Duration\",\"Movie Duration\",\"Movie Duration\",\"Movie Duration\",\"Movie Duration\",\"Movie Duration\",\"Movie Duration\",\"Movie Duration\",\"Movie Duration\",\"Movie Duration\",\"Movie Duration\",\"Movie Duration\",\"Movie Duration\",\"Movie Duration\",\"Movie Duration\",\"Movie Duration\",\"Movie Duration\",\"Movie Duration\",\"Movie Duration\",\"Movie Duration\",\"Movie Duration\",\"Movie Duration\",\"Movie Duration\",\"Movie Duration\",\"Movie Duration\",\"Movie Duration\",\"Movie Duration\",\"Movie Duration\",\"Movie Duration\",\"Movie Duration\",\"Movie Duration\",\"Movie Duration\",\"Movie Duration\",\"Movie Duration\",\"Movie Duration\",\"Movie Duration\",\"Movie Duration\",\"Movie Duration\",\"Movie Duration\",\"Movie Duration\",\"Movie Duration\",\"Movie Duration\",\"Movie Duration\",\"Movie Duration\",\"Movie Duration\",\"Movie Duration\",\"Movie Duration\",\"Movie Duration\",\"Movie Duration\",\"Movie Duration\",\"Movie Duration\",\"Movie Duration\",\"Movie Duration\",\"Movie Duration\",\"Movie Duration\",\"Movie Duration\",\"Movie Duration\",\"Movie Duration\",\"Movie Duration\",\"Movie Duration\",\"Movie Duration\",\"Movie Duration\",\"Movie Duration\",\"Movie Duration\",\"Movie Duration\",\"Movie Duration\",\"Movie Duration\",\"Movie Duration\",\"Movie Duration\",\"Movie Duration\",\"Movie Duration\",\"Movie Duration\",\"Movie Duration\",\"Movie Duration\",\"Movie Duration\",\"Movie Duration\",\"Movie Duration\",\"Movie Duration\",\"Movie Duration\",\"Movie Duration\",\"Movie Duration\",\"Movie Duration\",\"Movie Duration\",\"Movie Duration\",\"Movie Duration\",\"Movie Duration\",\"Movie Duration\",\"Movie Duration\",\"Movie Duration\",\"Movie Duration\",\"Movie Duration\",\"Movie Duration\",\"Movie Duration\",\"Movie Duration\",\"Movie Duration\",\"Movie Duration\",\"Movie Duration\",\"Movie Duration\",\"Movie Duration\",\"Movie Duration\",\"Movie Duration\",\"Movie Duration\",\"Movie Duration\",\"Movie Duration\",\"Movie Duration\",\"Movie Duration\",\"Movie Duration\",\"Movie Duration\",\"Movie Duration\",\"Movie Duration\",\"Movie Duration\",\"Movie Duration\",\"Movie Duration\",\"Movie Duration\",\"Movie Duration\",\"Movie Duration\",\"Movie Duration\",\"Movie Duration\",\"Movie Duration\",\"Movie Duration\",\"Movie Duration\",\"Movie Duration\",\"Movie Duration\",\"Movie Duration\",\"Movie Duration\",\"Movie Duration\",\"Movie Duration\",\"Movie Duration\",\"Movie Duration\",\"Movie Duration\",\"Movie Duration\",\"Movie Duration\",\"Movie Duration\",\"Movie Duration\",\"Movie Duration\",\"Movie Duration\",\"Movie Duration\",\"Movie Duration\",\"Movie Duration\",\"Movie Duration\",\"Movie Duration\",\"Movie Duration\",\"Movie Duration\",\"Movie Duration\",\"Movie Duration\",\"Movie Duration\",\"Movie Duration\",\"Movie Duration\",\"Movie Duration\",\"Movie Duration\",\"Movie Duration\",\"Movie Duration\",\"Movie Duration\",\"Movie Duration\",\"Movie Duration\",\"Movie Duration\",\"Movie Duration\",\"Movie Duration\",\"Movie Duration\",\"Movie Duration\",\"Movie Duration\",\"Movie Duration\",\"Movie Duration\",\"Movie Duration\",\"Movie Duration\",\"Movie Duration\",\"Movie Duration\",\"Movie Duration\",\"Movie Duration\",\"Movie Duration\",\"Movie Duration\",\"Movie Duration\",\"Movie Duration\",\"Movie Duration\",\"Movie Duration\",\"Movie Duration\",\"Movie Duration\",\"Movie Duration\",\"Movie Duration\",\"Movie Duration\",\"Movie Duration\",\"Movie Duration\",\"Movie Duration\",\"Movie Duration\",\"Movie Duration\",\"Movie Duration\",\"Movie Duration\",\"Movie Duration\",\"Movie Duration\",\"Movie Duration\",\"Movie Duration\",\"Movie Duration\",\"Movie Duration\",\"Movie Duration\",\"Movie Duration\",\"Movie Duration\",\"Movie Duration\",\"Movie Duration\",\"Movie Duration\",\"Movie Duration\",\"Movie Duration\",\"Movie Duration\",\"Movie Duration\",\"Movie Duration\",\"Movie Duration\",\"Movie Duration\",\"Movie Duration\",\"Movie Duration\",\"Movie Duration\",\"Movie Duration\",\"Movie Duration\",\"Movie Duration\",\"Movie Duration\",\"Movie Duration\",\"Movie Duration\",\"Movie Duration\",\"Movie Duration\",\"Movie Duration\",\"Movie Duration\",\"Movie Duration\",\"Movie Duration\",\"Movie Duration\",\"Movie Duration\",\"Movie Duration\",\"Movie Duration\",\"Movie Duration\",\"Movie Duration\",\"Movie Duration\",\"Movie Duration\",\"Movie Duration\",\"Movie Duration\",\"Movie Duration\",\"Movie Duration\",\"Movie Duration\",\"Movie Duration\",\"Movie Duration\",\"Movie Duration\",\"Movie Duration\",\"Movie Duration\",\"Movie Duration\",\"Movie Duration\",\"Movie Duration\",\"Movie Duration\",\"Movie Duration\",\"Movie Duration\",\"Movie Duration\",\"Movie Duration\",\"Movie Duration\",\"Movie Duration\",\"Movie Duration\",\"Movie Duration\",\"Movie Duration\",\"Movie Duration\",\"Movie Duration\",\"Movie Duration\",\"Movie Duration\",\"Movie Duration\",\"Movie Duration\",\"Movie Duration\",\"Movie Duration\",\"Movie Duration\",\"Movie Duration\",\"Movie Duration\",\"Movie Duration\",\"Movie Duration\",\"Movie Duration\",\"Movie Duration\",\"Movie Duration\",\"Movie Duration\",\"Movie Duration\",\"Movie Duration\",\"Movie Duration\",\"Movie Duration\",\"Movie Duration\",\"Movie Duration\",\"Movie Duration\",\"Movie Duration\",\"Movie Duration\",\"Movie Duration\",\"Movie Duration\",\"Movie Duration\",\"Movie Duration\",\"Movie Duration\",\"Movie Duration\",\"Movie Duration\",\"Movie Duration\",\"Movie Duration\",\"Movie Duration\",\"Movie Duration\",\"Movie Duration\",\"Movie Duration\",\"Movie Duration\",\"Movie Duration\",\"Movie Duration\",\"Movie Duration\",\"Movie Duration\",\"Movie Duration\",\"Movie Duration\",\"Movie Duration\",\"Movie Duration\",\"Movie Duration\",\"Movie Duration\",\"Movie Duration\",\"Movie Duration\",\"Movie Duration\",\"Movie Duration\",\"Movie Duration\",\"Movie Duration\",\"Movie Duration\",\"Movie Duration\",\"Movie Duration\",\"Movie Duration\",\"Movie Duration\",\"Movie Duration\",\"Movie Duration\",\"Movie Duration\",\"Movie Duration\",\"Movie Duration\",\"Movie Duration\",\"Movie Duration\",\"Movie Duration\",\"Movie Duration\",\"Movie Duration\",\"Movie Duration\",\"Movie Duration\",\"Movie Duration\",\"Movie Duration\",\"Movie Duration\",\"Movie Duration\",\"Movie Duration\",\"Movie Duration\",\"Movie Duration\",\"Movie Duration\",\"Movie Duration\",\"Movie Duration\",\"Movie Duration\",\"Movie Duration\",\"Movie Duration\",\"Movie Duration\",\"Movie Duration\",\"Movie Duration\",\"Movie Duration\",\"Movie Duration\",\"Movie Duration\",\"Movie Duration\",\"Movie Duration\",\"Movie Duration\",\"Movie Duration\",\"Movie Duration\",\"Movie Duration\",\"Movie Duration\",\"Movie Duration\",\"Movie Duration\",\"Movie Duration\",\"Movie Duration\",\"Movie Duration\",\"Movie Duration\",\"Movie Duration\",\"Movie Duration\",\"Movie Duration\",\"Movie Duration\",\"Movie Duration\",\"Movie Duration\",\"Movie Duration\",\"Movie Duration\",\"Movie Duration\",\"Movie Duration\",\"Movie Duration\",\"Movie Duration\",\"Movie Duration\",\"Movie Duration\",\"Movie Duration\",\"Movie Duration\",\"Movie Duration\",\"Movie Duration\",\"Movie Duration\",\"Movie Duration\",\"Movie Duration\",\"Movie Duration\",\"Movie Duration\",\"Movie Duration\",\"Movie Duration\",\"Movie Duration\",\"Movie Duration\",\"Movie Duration\",\"Movie Duration\",\"Movie Duration\",\"Movie Duration\",\"Movie Duration\",\"Movie Duration\",\"Movie Duration\",\"Movie Duration\",\"Movie Duration\",\"Movie Duration\",\"Movie Duration\",\"Movie Duration\",\"Movie Duration\",\"Movie Duration\",\"Movie Duration\",\"Movie Duration\",\"Movie Duration\",\"Movie Duration\",\"Movie Duration\",\"Movie Duration\",\"Movie Duration\",\"Movie Duration\",\"Movie Duration\",\"Movie Duration\",\"Movie Duration\",\"Movie Duration\",\"Movie Duration\",\"Movie Duration\",\"Movie Duration\",\"Movie Duration\",\"Movie Duration\",\"Movie Duration\",\"Movie Duration\",\"Movie Duration\",\"Movie Duration\",\"Movie Duration\",\"Movie Duration\",\"Movie Duration\",\"Movie Duration\",\"Movie Duration\",\"Movie Duration\",\"Movie Duration\",\"Movie Duration\",\"Movie Duration\",\"Movie Duration\",\"Movie Duration\",\"Movie Duration\",\"Movie Duration\",\"Movie Duration\",\"Movie Duration\",\"Movie Duration\",\"Movie Duration\",\"Movie Duration\",\"Movie Duration\",\"Movie Duration\",\"Movie Duration\",\"Movie Duration\",\"Movie Duration\",\"Movie Duration\",\"Movie Duration\",\"Movie Duration\",\"Movie Duration\",\"Movie Duration\",\"Movie Duration\",\"Movie Duration\",\"Movie Duration\",\"Movie Duration\",\"Movie Duration\",\"Movie Duration\",\"Movie Duration\",\"Movie Duration\",\"Movie Duration\",\"Movie Duration\",\"Movie Duration\",\"Movie Duration\",\"Movie Duration\",\"Movie Duration\",\"Movie Duration\",\"Movie Duration\",\"Movie Duration\",\"Movie Duration\",\"Movie Duration\",\"Movie Duration\",\"Movie Duration\",\"Movie Duration\",\"Movie Duration\",\"Movie Duration\",\"Movie Duration\",\"Movie Duration\",\"Movie Duration\",\"Movie Duration\",\"Movie Duration\",\"Movie Duration\",\"Movie Duration\",\"Movie Duration\",\"Movie Duration\",\"Movie Duration\",\"Movie Duration\",\"Movie Duration\",\"Movie Duration\",\"Movie Duration\",\"Movie Duration\",\"Movie Duration\",\"Movie Duration\",\"Movie Duration\",\"Movie Duration\",\"Movie Duration\",\"Movie Duration\",\"Movie Duration\",\"Movie Duration\",\"Movie Duration\",\"Movie Duration\",\"Movie Duration\",\"Movie Duration\",\"Movie Duration\",\"Movie Duration\",\"Movie Duration\",\"Movie Duration\",\"Movie Duration\",\"Movie Duration\",\"Movie Duration\",\"Movie Duration\",\"Movie Duration\",\"Movie Duration\",\"Movie Duration\",\"Movie Duration\",\"Movie Duration\",\"Movie Duration\",\"Movie Duration\",\"Movie Duration\",\"Movie Duration\",\"Movie Duration\",\"Movie Duration\",\"Movie Duration\",\"Movie Duration\",\"Movie Duration\",\"Movie Duration\",\"Movie Duration\",\"Movie Duration\",\"Movie Duration\",\"Movie Duration\",\"Movie Duration\",\"Movie Duration\",\"Movie Duration\",\"Movie Duration\",\"Movie Duration\",\"Movie Duration\",\"Movie Duration\",\"Movie Duration\",\"Movie Duration\",\"Movie Duration\",\"Movie Duration\",\"Movie Duration\",\"Movie Duration\",\"Movie Duration\",\"Movie Duration\",\"Movie Duration\",\"Movie Duration\",\"Movie Duration\",\"Movie Duration\",\"Movie Duration\",\"Movie Duration\",\"Movie Duration\",\"Movie Duration\",\"Movie Duration\",\"Movie Duration\",\"Movie Duration\",\"Movie Duration\",\"Movie Duration\",\"Movie Duration\",\"Movie Duration\",\"Movie Duration\",\"Movie Duration\",\"Movie Duration\",\"Movie Duration\",\"Movie Duration\",\"Movie Duration\",\"Movie Duration\",\"Movie Duration\",\"Movie Duration\",\"Movie Duration\",\"Movie Duration\",\"Movie Duration\",\"Movie Duration\",\"Movie Duration\",\"Movie Duration\",\"Movie Duration\",\"Movie Duration\",\"Movie Duration\",\"Movie Duration\",\"Movie Duration\",\"Movie Duration\",\"Movie Duration\",\"Movie Duration\",\"Movie Duration\",\"Movie Duration\",\"Movie Duration\",\"Movie Duration\",\"Movie Duration\",\"Movie Duration\",\"Movie Duration\",\"Movie Duration\",\"Movie Duration\",\"Movie Duration\",\"Movie Duration\",\"Movie Duration\",\"Movie Duration\",\"Movie Duration\",\"Movie Duration\",\"Movie Duration\",\"Movie Duration\",\"Movie Duration\",\"Movie Duration\",\"Movie Duration\",\"Movie Duration\",\"Movie Duration\",\"Movie Duration\",\"Movie Duration\",\"Movie Duration\",\"Movie Duration\",\"Movie Duration\",\"Movie Duration\",\"Movie Duration\",\"Movie Duration\",\"Movie Duration\",\"Movie Duration\",\"Movie Duration\",\"Movie Duration\",\"Movie Duration\",\"Movie Duration\",\"Movie Duration\",\"Movie Duration\",\"Movie Duration\",\"Movie Duration\",\"Movie Duration\",\"Movie Duration\",\"Movie Duration\",\"Movie Duration\",\"Movie Duration\",\"Movie Duration\",\"Movie Duration\",\"Movie Duration\",\"Movie Duration\",\"Movie Duration\",\"Movie Duration\",\"Movie Duration\",\"Movie Duration\",\"Movie Duration\",\"Movie Duration\",\"Movie Duration\",\"Movie Duration\",\"Movie Duration\",\"Movie Duration\",\"Movie Duration\",\"Movie Duration\",\"Movie Duration\",\"Movie Duration\",\"Movie Duration\",\"Movie Duration\",\"Movie Duration\",\"Movie Duration\",\"Movie Duration\",\"Movie Duration\",\"Movie Duration\",\"Movie Duration\",\"Movie Duration\",\"Movie Duration\",\"Movie Duration\",\"Movie Duration\",\"Movie Duration\",\"Movie Duration\",\"Movie Duration\",\"Movie Duration\",\"Movie Duration\",\"Movie Duration\",\"Movie Duration\",\"Movie Duration\",\"Movie Duration\",\"Movie Duration\",\"Movie Duration\",\"Movie Duration\",\"Movie Duration\",\"Movie Duration\",\"Movie Duration\",\"Movie Duration\",\"Movie Duration\",\"Movie Duration\",\"Movie Duration\",\"Movie Duration\",\"Movie Duration\",\"Movie Duration\",\"Movie Duration\",\"Movie Duration\",\"Movie Duration\",\"Movie Duration\",\"Movie Duration\",\"Movie Duration\",\"Movie Duration\",\"Movie Duration\",\"Movie Duration\",\"Movie Duration\",\"Movie Duration\",\"Movie Duration\",\"Movie Duration\",\"Movie Duration\",\"Movie Duration\",\"Movie Duration\",\"Movie Duration\",\"Movie Duration\",\"Movie Duration\",\"Movie Duration\",\"Movie Duration\",\"Movie Duration\",\"Movie Duration\",\"Movie Duration\",\"Movie Duration\",\"Movie Duration\",\"Movie Duration\",\"Movie Duration\",\"Movie Duration\",\"Movie Duration\",\"Movie Duration\",\"Movie Duration\",\"Movie Duration\",\"Movie Duration\",\"Movie Duration\",\"Movie Duration\",\"Movie Duration\",\"Movie Duration\",\"Movie Duration\",\"Movie Duration\",\"Movie Duration\",\"Movie Duration\",\"Movie Duration\",\"Movie Duration\",\"Movie Duration\",\"Movie Duration\",\"Movie Duration\",\"Movie Duration\",\"Movie Duration\",\"Movie Duration\",\"Movie Duration\",\"Movie Duration\",\"Movie Duration\",\"Movie Duration\",\"Movie Duration\",\"Movie Duration\",\"Movie Duration\",\"Movie Duration\",\"Movie Duration\",\"Movie Duration\",\"Movie Duration\",\"Movie Duration\",\"Movie Duration\",\"Movie Duration\",\"Movie Duration\",\"Movie Duration\",\"Movie Duration\",\"Movie Duration\",\"Movie Duration\",\"Movie Duration\",\"Movie Duration\",\"Movie Duration\",\"Movie Duration\",\"Movie Duration\",\"Movie Duration\",\"Movie Duration\",\"Movie Duration\",\"Movie Duration\",\"Movie Duration\",\"Movie Duration\",\"Movie Duration\",\"Movie Duration\",\"Movie Duration\",\"Movie Duration\",\"Movie Duration\",\"Movie Duration\",\"Movie Duration\",\"Movie Duration\",\"Movie Duration\",\"Movie Duration\",\"Movie Duration\",\"Movie Duration\",\"Movie Duration\",\"Movie Duration\",\"Movie Duration\",\"Movie Duration\",\"Movie Duration\",\"Movie Duration\",\"Movie Duration\",\"Movie Duration\",\"Movie Duration\",\"Movie Duration\",\"Movie Duration\",\"Movie Duration\",\"Movie Duration\",\"Movie Duration\",\"Movie Duration\",\"Movie Duration\",\"Movie Duration\",\"Movie Duration\",\"Movie Duration\",\"Movie Duration\",\"Movie Duration\",\"Movie Duration\",\"Movie Duration\",\"Movie Duration\",\"Movie Duration\",\"Movie Duration\",\"Movie Duration\",\"Movie Duration\",\"Movie Duration\",\"Movie Duration\",\"Movie Duration\",\"Movie Duration\",\"Movie Duration\",\"Movie Duration\",\"Movie Duration\",\"Movie Duration\",\"Movie Duration\",\"Movie Duration\",\"Movie Duration\",\"Movie Duration\",\"Movie Duration\",\"Movie Duration\",\"Movie Duration\",\"Movie Duration\",\"Movie Duration\",\"Movie Duration\",\"Movie Duration\",\"Movie Duration\",\"Movie Duration\",\"Movie Duration\",\"Movie Duration\",\"Movie Duration\",\"Movie Duration\",\"Movie Duration\",\"Movie Duration\",\"Movie Duration\",\"Movie Duration\",\"Movie Duration\",\"Movie Duration\",\"Movie Duration\",\"Movie Duration\",\"Movie Duration\",\"Movie Duration\",\"Movie Duration\",\"Movie Duration\",\"Movie Duration\",\"Movie Duration\",\"Movie Duration\",\"Movie Duration\",\"Movie Duration\",\"Movie Duration\",\"Movie Duration\",\"Movie Duration\",\"Movie Duration\",\"Movie Duration\",\"Movie Duration\",\"Movie Duration\",\"Movie Duration\",\"Movie Duration\",\"Movie Duration\",\"Movie Duration\",\"Movie Duration\",\"Movie Duration\",\"Movie Duration\",\"Movie Duration\",\"Movie Duration\",\"Movie Duration\",\"Movie Duration\",\"Movie Duration\",\"Movie Duration\",\"Movie Duration\",\"Movie Duration\",\"Movie Duration\",\"Movie Duration\",\"Movie Duration\",\"Movie Duration\",\"Movie Duration\",\"Movie Duration\",\"Movie Duration\",\"Movie Duration\",\"Movie Duration\",\"Movie Duration\",\"Movie Duration\",\"Movie Duration\",\"Movie Duration\",\"Movie Duration\",\"Movie Duration\",\"Movie Duration\",\"Movie Duration\",\"Movie Duration\",\"Movie Duration\",\"Movie Duration\",\"Movie Duration\",\"Movie Duration\",\"Movie Duration\",\"Movie Duration\",\"Movie Duration\",\"Movie Duration\",\"Movie Duration\",\"Movie Duration\",\"Movie Duration\",\"Movie Duration\",\"Movie Duration\",\"Movie Duration\",\"Movie Duration\",\"Movie Duration\",\"Movie Duration\",\"Movie Duration\",\"Movie Duration\",\"Movie Duration\",\"Movie Duration\",\"Movie Duration\",\"Movie Duration\",\"Movie Duration\",\"Movie Duration\",\"Movie Duration\",\"Movie Duration\",\"Movie Duration\",\"Movie Duration\",\"Movie Duration\",\"Movie Duration\",\"Movie Duration\",\"Movie Duration\",\"Movie Duration\",\"Movie Duration\",\"Movie Duration\",\"Movie Duration\",\"Movie Duration\",\"Movie Duration\",\"Movie Duration\",\"Movie Duration\",\"Movie Duration\",\"Movie Duration\",\"Movie Duration\",\"Movie Duration\",\"Movie Duration\",\"Movie Duration\",\"Movie Duration\",\"Movie Duration\",\"Movie Duration\",\"Movie Duration\",\"Movie Duration\",\"Movie Duration\",\"Movie Duration\",\"Movie Duration\",\"Movie Duration\",\"Movie Duration\",\"Movie Duration\",\"Movie Duration\",\"Movie Duration\",\"Movie Duration\",\"Movie Duration\",\"Movie Duration\",\"Movie Duration\",\"Movie Duration\",\"Movie Duration\",\"Movie Duration\",\"Movie Duration\",\"Movie Duration\",\"Movie Duration\",\"Movie Duration\",\"Movie Duration\",\"Movie Duration\",\"Movie Duration\",\"Movie Duration\",\"Movie Duration\",\"Movie Duration\",\"Movie Duration\",\"Movie Duration\",\"Movie Duration\",\"Movie Duration\",\"Movie Duration\",\"Movie Duration\",\"Movie Duration\",\"Movie Duration\",\"Movie Duration\",\"Movie Duration\",\"Movie Duration\",\"Movie Duration\",\"Movie Duration\",\"Movie Duration\",\"Movie Duration\",\"Movie Duration\",\"Movie Duration\",\"Movie Duration\",\"Movie Duration\",\"Movie Duration\",\"Movie Duration\",\"Movie Duration\",\"Movie Duration\",\"Movie Duration\",\"Movie Duration\",\"Movie Duration\",\"Movie Duration\",\"Movie Duration\",\"Movie Duration\",\"Movie Duration\",\"Movie Duration\",\"Movie Duration\",\"Movie Duration\",\"Movie Duration\",\"Movie Duration\",\"Movie Duration\",\"Movie Duration\",\"Movie Duration\",\"Movie Duration\",\"Movie Duration\",\"Movie Duration\",\"Movie Duration\",\"Movie Duration\",\"Movie Duration\",\"Movie Duration\",\"Movie Duration\",\"Movie Duration\",\"Movie Duration\",\"Movie Duration\",\"Movie Duration\",\"Movie Duration\",\"Movie Duration\",\"Movie Duration\",\"Movie Duration\",\"Movie Duration\",\"Movie Duration\",\"Movie Duration\",\"Movie Duration\",\"Movie Duration\",\"Movie Duration\",\"Movie Duration\",\"Movie Duration\",\"Movie Duration\",\"Movie Duration\",\"Movie Duration\",\"Movie Duration\",\"Movie Duration\",\"Movie Duration\",\"Movie Duration\",\"Movie Duration\",\"Movie Duration\",\"Movie Duration\",\"Movie Duration\",\"Movie Duration\",\"Movie Duration\",\"Movie Duration\",\"Movie Duration\",\"Movie Duration\",\"Movie Duration\",\"Movie Duration\",\"Movie Duration\",\"Movie Duration\",\"Movie Duration\",\"Movie Duration\",\"Movie Duration\",\"Movie Duration\",\"Movie Duration\",\"Movie Duration\",\"Movie Duration\",\"Movie Duration\",\"Movie Duration\",\"Movie Duration\",\"Movie Duration\",\"Movie Duration\",\"Movie Duration\",\"Movie Duration\",\"Movie Duration\",\"Movie Duration\",\"Movie Duration\",\"Movie Duration\",\"Movie Duration\",\"Movie Duration\",\"Movie Duration\",\"Movie Duration\",\"Movie Duration\",\"Movie Duration\",\"Movie Duration\",\"Movie Duration\",\"Movie Duration\",\"Movie Duration\",\"Movie Duration\",\"Movie Duration\",\"Movie Duration\",\"Movie Duration\",\"Movie Duration\",\"Movie Duration\",\"Movie Duration\",\"Movie Duration\",\"Movie Duration\",\"Movie Duration\",\"Movie Duration\",\"Movie Duration\",\"Movie Duration\",\"Movie Duration\",\"Movie Duration\",\"Movie Duration\",\"Movie Duration\",\"Movie Duration\",\"Movie Duration\",\"Movie Duration\",\"Movie Duration\",\"Movie Duration\",\"Movie Duration\",\"Movie Duration\",\"Movie Duration\",\"Movie Duration\",\"Movie Duration\",\"Movie Duration\",\"Movie Duration\",\"Movie Duration\",\"Movie Duration\",\"Movie Duration\",\"Movie Duration\",\"Movie Duration\",\"Movie Duration\",\"Movie Duration\",\"Movie Duration\",\"Movie Duration\",\"Movie Duration\",\"Movie Duration\",\"Movie Duration\",\"Movie Duration\",\"Movie Duration\",\"Movie Duration\",\"Movie Duration\",\"Movie Duration\",\"Movie Duration\",\"Movie Duration\",\"Movie Duration\",\"Movie Duration\",\"Movie Duration\",\"Movie Duration\",\"Movie Duration\",\"Movie Duration\",\"Movie Duration\",\"Movie Duration\",\"Movie Duration\",\"Movie Duration\",\"Movie Duration\",\"Movie Duration\",\"Movie Duration\",\"Movie Duration\",\"Movie Duration\",\"Movie Duration\",\"Movie Duration\",\"Movie Duration\",\"Movie Duration\",\"Movie Duration\",\"Movie Duration\",\"Movie Duration\",\"Movie Duration\",\"Movie Duration\",\"Movie Duration\",\"Movie Duration\",\"Movie Duration\",\"Movie Duration\",\"Movie Duration\",\"Movie Duration\",\"Movie Duration\",\"Movie Duration\",\"Movie Duration\",\"Movie Duration\",\"Movie Duration\",\"Movie Duration\",\"Movie Duration\",\"Movie Duration\",\"Movie Duration\",\"Movie Duration\",\"Movie Duration\",\"Movie Duration\",\"Movie Duration\",\"Movie Duration\",\"Movie Duration\",\"Movie Duration\",\"Movie Duration\",\"Movie Duration\",\"Movie Duration\",\"Movie Duration\",\"Movie Duration\",\"Movie Duration\",\"Movie Duration\",\"Movie Duration\",\"Movie Duration\",\"Movie Duration\",\"Movie Duration\",\"Movie Duration\",\"Movie Duration\",\"Movie Duration\",\"Movie Duration\",\"Movie Duration\",\"Movie Duration\",\"Movie Duration\",\"Movie Duration\",\"Movie Duration\",\"Movie Duration\",\"Movie Duration\",\"Movie Duration\",\"Movie Duration\",\"Movie Duration\",\"Movie Duration\",\"Movie Duration\",\"Movie Duration\",\"Movie Duration\",\"Movie Duration\",\"Movie Duration\",\"Movie Duration\",\"Movie Duration\",\"Movie Duration\",\"Movie Duration\",\"Movie Duration\",\"Movie Duration\",\"Movie Duration\",\"Movie Duration\",\"Movie Duration\",\"Movie Duration\",\"Movie Duration\",\"Movie Duration\",\"Movie Duration\",\"Movie Duration\",\"Movie Duration\",\"Movie Duration\",\"Movie Duration\",\"Movie Duration\",\"Movie Duration\",\"Movie Duration\",\"Movie Duration\",\"Movie Duration\",\"Movie Duration\",\"Movie Duration\",\"Movie Duration\",\"Movie Duration\",\"Movie Duration\",\"Movie Duration\",\"Movie Duration\",\"Movie Duration\",\"Movie Duration\",\"Movie Duration\",\"Movie Duration\",\"Movie Duration\",\"Movie Duration\",\"Movie Duration\",\"Movie Duration\",\"Movie Duration\",\"Movie Duration\",\"Movie Duration\",\"Movie Duration\",\"Movie Duration\",\"Movie Duration\",\"Movie Duration\",\"Movie Duration\",\"Movie Duration\",\"Movie Duration\",\"Movie Duration\",\"Movie Duration\",\"Movie Duration\",\"Movie Duration\",\"Movie Duration\",\"Movie Duration\",\"Movie Duration\",\"Movie Duration\",\"Movie Duration\",\"Movie Duration\",\"Movie Duration\",\"Movie Duration\",\"Movie Duration\",\"Movie Duration\",\"Movie Duration\",\"Movie Duration\",\"Movie Duration\",\"Movie Duration\",\"Movie Duration\",\"Movie Duration\",\"Movie Duration\",\"Movie Duration\",\"Movie Duration\",\"Movie Duration\",\"Movie Duration\",\"Movie Duration\",\"Movie Duration\",\"Movie Duration\",\"Movie Duration\",\"Movie Duration\",\"Movie Duration\",\"Movie Duration\",\"Movie Duration\",\"Movie Duration\",\"Movie Duration\",\"Movie Duration\",\"Movie Duration\",\"Movie Duration\",\"Movie Duration\",\"Movie Duration\",\"Movie Duration\",\"Movie Duration\",\"Movie Duration\",\"Movie Duration\",\"Movie Duration\",\"Movie Duration\",\"Movie Duration\",\"Movie Duration\",\"Movie Duration\",\"Movie Duration\",\"Movie Duration\",\"Movie Duration\",\"Movie Duration\",\"Movie Duration\",\"Movie Duration\",\"Movie Duration\",\"Movie Duration\",\"Movie Duration\",\"Movie Duration\",\"Movie Duration\",\"Movie Duration\",\"Movie Duration\",\"Movie Duration\",\"Movie Duration\",\"Movie Duration\",\"Movie Duration\",\"Movie Duration\",\"Movie Duration\",\"Movie Duration\",\"Movie Duration\",\"Movie Duration\",\"Movie Duration\",\"Movie Duration\",\"Movie Duration\",\"Movie Duration\",\"Movie Duration\",\"Movie Duration\",\"Movie Duration\",\"Movie Duration\",\"Movie Duration\",\"Movie Duration\",\"Movie Duration\",\"Movie Duration\",\"Movie Duration\",\"Movie Duration\",\"Movie Duration\",\"Movie Duration\",\"Movie Duration\",\"Movie Duration\",\"Movie Duration\",\"Movie Duration\",\"Movie Duration\",\"Movie Duration\",\"Movie Duration\",\"Movie Duration\",\"Movie Duration\",\"Movie Duration\",\"Movie Duration\",\"Movie Duration\",\"Movie Duration\",\"Movie Duration\",\"Movie Duration\",\"Movie Duration\",\"Movie Duration\",\"Movie Duration\",\"Movie Duration\",\"Movie Duration\",\"Movie Duration\",\"Movie Duration\",\"Movie Duration\",\"Movie Duration\",\"Movie Duration\",\"Movie Duration\",\"Movie Duration\",\"Movie Duration\",\"Movie Duration\",\"Movie Duration\",\"Movie Duration\",\"Movie Duration\",\"Movie Duration\",\"Movie Duration\",\"Movie Duration\",\"Movie Duration\",\"Movie Duration\",\"Movie Duration\",\"Movie Duration\",\"Movie Duration\",\"Movie Duration\",\"Movie Duration\",\"Movie Duration\",\"Movie Duration\",\"Movie Duration\",\"Movie Duration\",\"Movie Duration\",\"Movie Duration\",\"Movie Duration\",\"Movie Duration\",\"Movie Duration\",\"Movie Duration\",\"Movie Duration\",\"Movie Duration\",\"Movie Duration\",\"Movie Duration\",\"Movie Duration\",\"Movie Duration\",\"Movie Duration\",\"Movie Duration\",\"Movie Duration\",\"Movie Duration\",\"Movie Duration\",\"Movie Duration\",\"Movie Duration\",\"Movie Duration\",\"Movie Duration\",\"Movie Duration\",\"Movie Duration\",\"Movie Duration\",\"Movie Duration\",\"Movie Duration\",\"Movie Duration\",\"Movie Duration\",\"Movie Duration\",\"Movie Duration\",\"Movie Duration\",\"Movie Duration\",\"Movie Duration\",\"Movie Duration\",\"Movie Duration\",\"Movie Duration\",\"Movie Duration\",\"Movie Duration\",\"Movie Duration\",\"Movie Duration\",\"Movie Duration\",\"Movie Duration\",\"Movie Duration\",\"Movie Duration\",\"Movie Duration\",\"Movie Duration\",\"Movie Duration\",\"Movie Duration\",\"Movie Duration\",\"Movie Duration\",\"Movie Duration\",\"Movie Duration\",\"Movie Duration\",\"Movie Duration\",\"Movie Duration\",\"Movie Duration\",\"Movie Duration\",\"Movie Duration\",\"Movie Duration\",\"Movie Duration\",\"Movie Duration\",\"Movie Duration\",\"Movie Duration\",\"Movie Duration\",\"Movie Duration\",\"Movie Duration\",\"Movie Duration\",\"Movie Duration\",\"Movie Duration\",\"Movie Duration\",\"Movie Duration\",\"Movie Duration\",\"Movie Duration\",\"Movie Duration\",\"Movie Duration\",\"Movie Duration\",\"Movie Duration\",\"Movie Duration\",\"Movie Duration\",\"Movie Duration\",\"Movie Duration\",\"Movie Duration\",\"Movie Duration\",\"Movie Duration\",\"Movie Duration\",\"Movie Duration\",\"Movie Duration\",\"Movie Duration\",\"Movie Duration\",\"Movie Duration\",\"Movie Duration\",\"Movie Duration\",\"Movie Duration\",\"Movie Duration\",\"Movie Duration\",\"Movie Duration\",\"Movie Duration\",\"Movie Duration\",\"Movie Duration\",\"Movie Duration\",\"Movie Duration\",\"Movie Duration\",\"Movie Duration\",\"Movie Duration\",\"Movie Duration\",\"Movie Duration\",\"Movie Duration\",\"Movie Duration\",\"Movie Duration\",\"Movie Duration\",\"Movie Duration\",\"Movie Duration\",\"Movie Duration\",\"Movie Duration\",\"Movie Duration\",\"Movie Duration\",\"Movie Duration\",\"Movie Duration\",\"Movie Duration\",\"Movie Duration\",\"Movie Duration\",\"Movie Duration\",\"Movie Duration\",\"Movie Duration\",\"Movie Duration\",\"Movie Duration\",\"Movie Duration\",\"Movie Duration\",\"Movie Duration\",\"Movie Duration\",\"Movie Duration\",\"Movie Duration\",\"Movie Duration\",\"Movie Duration\",\"Movie Duration\",\"Movie Duration\",\"Movie Duration\",\"Movie Duration\",\"Movie Duration\",\"Movie Duration\",\"Movie Duration\",\"Movie Duration\",\"Movie Duration\",\"Movie Duration\",\"Movie Duration\",\"Movie Duration\",\"Movie Duration\",\"Movie Duration\",\"Movie Duration\",\"Movie Duration\",\"Movie Duration\",\"Movie Duration\",\"Movie Duration\",\"Movie Duration\",\"Movie Duration\",\"Movie Duration\",\"Movie Duration\",\"Movie Duration\",\"Movie Duration\",\"Movie Duration\",\"Movie Duration\",\"Movie Duration\",\"Movie Duration\",\"Movie Duration\",\"Movie Duration\",\"Movie Duration\",\"Movie Duration\",\"Movie Duration\",\"Movie Duration\",\"Movie Duration\",\"Movie Duration\",\"Movie Duration\",\"Movie Duration\",\"Movie Duration\",\"Movie Duration\",\"Movie Duration\",\"Movie Duration\",\"Movie Duration\",\"Movie Duration\",\"Movie Duration\",\"Movie Duration\",\"Movie Duration\",\"Movie Duration\",\"Movie Duration\",\"Movie Duration\",\"Movie Duration\",\"Movie Duration\",\"Movie Duration\",\"Movie Duration\",\"Movie Duration\",\"Movie Duration\",\"Movie Duration\",\"Movie Duration\",\"Movie Duration\",\"Movie Duration\",\"Movie Duration\",\"Movie Duration\",\"Movie Duration\",\"Movie Duration\",\"Movie Duration\",\"Movie Duration\",\"Movie Duration\",\"Movie Duration\",\"Movie Duration\",\"Movie Duration\",\"Movie Duration\",\"Movie Duration\",\"Movie Duration\",\"Movie Duration\",\"Movie Duration\",\"Movie Duration\",\"Movie Duration\",\"Movie Duration\",\"Movie Duration\",\"Movie Duration\",\"Movie Duration\",\"Movie Duration\",\"Movie Duration\",\"Movie Duration\",\"Movie Duration\",\"Movie Duration\",\"Movie Duration\",\"Movie Duration\",\"Movie Duration\",\"Movie Duration\",\"Movie Duration\",\"Movie Duration\",\"Movie Duration\",\"Movie Duration\",\"Movie Duration\",\"Movie Duration\",\"Movie Duration\",\"Movie Duration\",\"Movie Duration\",\"Movie Duration\",\"Movie Duration\",\"Movie Duration\",\"Movie Duration\",\"Movie Duration\",\"Movie Duration\",\"Movie Duration\",\"Movie Duration\",\"Movie Duration\",\"Movie Duration\",\"Movie Duration\",\"Movie Duration\",\"Movie Duration\",\"Movie Duration\",\"Movie Duration\",\"Movie Duration\",\"Movie Duration\",\"Movie Duration\",\"Movie Duration\",\"Movie Duration\",\"Movie Duration\",\"Movie Duration\",\"Movie Duration\",\"Movie Duration\",\"Movie Duration\",\"Movie Duration\",\"Movie Duration\",\"Movie Duration\",\"Movie Duration\",\"Movie Duration\",\"Movie Duration\",\"Movie Duration\",\"Movie Duration\",\"Movie Duration\",\"Movie Duration\",\"Movie Duration\",\"Movie Duration\",\"Movie Duration\",\"Movie Duration\",\"Movie Duration\",\"Movie Duration\",\"Movie Duration\",\"Movie Duration\",\"Movie Duration\",\"Movie Duration\",\"Movie Duration\",\"Movie Duration\",\"Movie Duration\",\"Movie Duration\",\"Movie Duration\",\"Movie Duration\",\"Movie Duration\",\"Movie Duration\",\"Movie Duration\",\"Movie Duration\",\"Movie Duration\",\"Movie Duration\",\"Movie Duration\",\"Movie Duration\",\"Movie Duration\",\"Movie Duration\",\"Movie Duration\",\"Movie Duration\",\"Movie Duration\",\"Movie Duration\",\"Movie Duration\",\"Movie Duration\",\"Movie Duration\",\"Movie Duration\",\"Movie Duration\",\"Movie Duration\",\"Movie Duration\",\"Movie Duration\",\"Movie Duration\",\"Movie Duration\",\"Movie Duration\",\"Movie Duration\",\"Movie Duration\",\"Movie Duration\",\"Movie Duration\",\"Movie Duration\",\"Movie Duration\",\"Movie Duration\",\"Movie Duration\",\"Movie Duration\",\"Movie Duration\",\"Movie Duration\",\"Movie Duration\",\"Movie Duration\",\"Movie Duration\",\"Movie Duration\",\"Movie Duration\",\"Movie Duration\",\"Movie Duration\",\"Movie Duration\",\"Movie Duration\",\"Movie Duration\",\"Movie Duration\",\"Movie Duration\",\"Movie Duration\",\"Movie Duration\",\"Movie Duration\",\"Movie Duration\",\"Movie Duration\",\"Movie Duration\",\"Movie Duration\",\"Movie Duration\",\"Movie Duration\",\"Movie Duration\",\"Movie Duration\",\"Movie Duration\",\"Movie Duration\",\"Movie Duration\",\"Movie Duration\",\"Movie Duration\",\"Movie Duration\",\"Movie Duration\",\"Movie Duration\",\"Movie Duration\",\"Movie Duration\",\"Movie Duration\",\"Movie Duration\",\"Movie Duration\",\"Movie Duration\",\"Movie Duration\",\"Movie Duration\",\"Movie Duration\",\"Movie Duration\",\"Movie Duration\",\"Movie Duration\",\"Movie Duration\",\"Movie Duration\",\"Movie Duration\",\"Movie Duration\",\"Movie Duration\",\"Movie Duration\",\"Movie Duration\",\"Movie Duration\",\"Movie Duration\",\"Movie Duration\",\"Movie Duration\",\"Movie Duration\",\"Movie Duration\",\"Movie Duration\",\"Movie Duration\",\"Movie Duration\",\"Movie Duration\",\"Movie Duration\",\"Movie Duration\",\"Movie Duration\",\"Movie Duration\",\"Movie Duration\",\"Movie Duration\",\"Movie Duration\",\"Movie Duration\",\"Movie Duration\",\"Movie Duration\",\"Movie Duration\",\"Movie Duration\",\"Movie Duration\",\"Movie Duration\",\"Movie Duration\",\"Movie Duration\",\"Movie Duration\",\"Movie Duration\",\"Movie Duration\",\"Movie Duration\",\"Movie Duration\",\"Movie Duration\",\"Movie Duration\",\"Movie Duration\",\"Movie Duration\",\"Movie Duration\",\"Movie Duration\",\"Movie Duration\",\"Movie Duration\",\"Movie Duration\",\"Movie Duration\",\"Movie Duration\",\"Movie Duration\",\"Movie Duration\",\"Movie Duration\",\"Movie Duration\",\"Movie Duration\",\"Movie Duration\",\"Movie Duration\",\"Movie Duration\",\"Movie Duration\",\"Movie Duration\",\"Movie Duration\",\"Movie Duration\",\"Movie Duration\",\"Movie Duration\",\"Movie Duration\",\"Movie Duration\",\"Movie Duration\",\"Movie Duration\",\"Movie Duration\",\"Movie Duration\",\"Movie Duration\",\"Movie Duration\",\"Movie Duration\",\"Movie Duration\",\"Movie Duration\",\"Movie Duration\",\"Movie Duration\",\"Movie Duration\",\"Movie Duration\",\"Movie Duration\",\"Movie Duration\",\"Movie Duration\",\"Movie Duration\",\"Movie Duration\",\"Movie Duration\",\"Movie Duration\",\"Movie Duration\",\"Movie Duration\",\"Movie Duration\",\"Movie Duration\",\"Movie Duration\",\"Movie Duration\",\"Movie Duration\",\"Movie Duration\",\"Movie Duration\",\"Movie Duration\",\"Movie Duration\",\"Movie Duration\",\"Movie Duration\",\"Movie Duration\",\"Movie Duration\",\"Movie Duration\",\"Movie Duration\",\"Movie Duration\",\"Movie Duration\",\"Movie Duration\",\"Movie Duration\",\"Movie Duration\",\"Movie Duration\",\"Movie Duration\",\"Movie Duration\",\"Movie Duration\",\"Movie Duration\",\"Movie Duration\",\"Movie Duration\",\"Movie Duration\",\"Movie Duration\",\"Movie Duration\",\"Movie Duration\",\"Movie Duration\",\"Movie Duration\",\"Movie Duration\",\"Movie Duration\",\"Movie Duration\",\"Movie Duration\",\"Movie Duration\",\"Movie Duration\",\"Movie Duration\",\"Movie Duration\",\"Movie Duration\",\"Movie Duration\",\"Movie Duration\",\"Movie Duration\",\"Movie Duration\",\"Movie Duration\",\"Movie Duration\",\"Movie Duration\",\"Movie Duration\",\"Movie Duration\",\"Movie Duration\",\"Movie Duration\",\"Movie Duration\",\"Movie Duration\",\"Movie Duration\",\"Movie Duration\",\"Movie Duration\",\"Movie Duration\",\"Movie Duration\",\"Movie Duration\",\"Movie Duration\",\"Movie Duration\",\"Movie Duration\",\"Movie Duration\",\"Movie Duration\",\"Movie Duration\",\"Movie Duration\",\"Movie Duration\",\"Movie Duration\",\"Movie Duration\",\"Movie Duration\",\"Movie Duration\",\"Movie Duration\",\"Movie Duration\",\"Movie Duration\",\"Movie Duration\",\"Movie Duration\",\"Movie Duration\",\"Movie Duration\",\"Movie Duration\",\"Movie Duration\",\"Movie Duration\",\"Movie Duration\",\"Movie Duration\",\"Movie Duration\",\"Movie Duration\",\"Movie Duration\",\"Movie Duration\",\"Movie Duration\",\"Movie Duration\",\"Movie Duration\",\"Movie Duration\",\"Movie Duration\",\"Movie Duration\",\"Movie Duration\",\"Movie Duration\",\"Movie Duration\",\"Movie Duration\",\"Movie Duration\",\"Movie Duration\",\"Movie Duration\",\"Movie Duration\",\"Movie Duration\",\"Movie Duration\",\"Movie Duration\",\"Movie Duration\",\"Movie Duration\",\"Movie Duration\",\"Movie Duration\",\"Movie Duration\",\"Movie Duration\",\"Movie Duration\",\"Movie Duration\",\"Movie Duration\",\"Movie Duration\",\"Movie Duration\",\"Movie Duration\",\"Movie Duration\",\"Movie Duration\",\"Movie Duration\",\"Movie Duration\",\"Movie Duration\",\"Movie Duration\",\"Movie Duration\",\"Movie Duration\",\"Movie Duration\",\"Movie Duration\",\"Movie Duration\",\"Movie Duration\",\"Movie Duration\",\"Movie Duration\",\"Movie Duration\",\"Movie Duration\",\"Movie Duration\",\"Movie Duration\",\"Movie Duration\",\"Movie Duration\",\"Movie Duration\",\"Movie Duration\",\"Movie Duration\",\"Movie Duration\",\"Movie Duration\",\"Movie Duration\",\"Movie Duration\",\"Movie Duration\",\"Movie Duration\",\"Movie Duration\",\"Movie Duration\",\"Movie Duration\",\"Movie Duration\",\"Movie Duration\",\"Movie Duration\",\"Movie Duration\",\"Movie Duration\",\"Movie Duration\",\"Movie Duration\",\"Movie Duration\",\"Movie Duration\",\"Movie Duration\",\"Movie Duration\",\"Movie Duration\",\"Movie Duration\",\"Movie Duration\",\"Movie Duration\",\"Movie Duration\",\"Movie Duration\",\"Movie Duration\",\"Movie Duration\",\"Movie Duration\",\"Movie Duration\",\"Movie Duration\",\"Movie Duration\",\"Movie Duration\",\"Movie Duration\",\"Movie Duration\",\"Movie Duration\",\"Movie Duration\",\"Movie Duration\",\"Movie Duration\",\"Movie Duration\",\"Movie Duration\",\"Movie Duration\",\"Movie Duration\",\"Movie Duration\",\"Movie Duration\",\"Movie Duration\",\"Movie Duration\",\"Movie Duration\",\"Movie Duration\",\"Movie Duration\",\"Movie Duration\",\"Movie Duration\",\"Movie Duration\",\"Movie Duration\",\"Movie Duration\",\"Movie Duration\",\"Movie Duration\",\"Movie Duration\",\"Movie Duration\",\"Movie Duration\",\"Movie Duration\",\"Movie Duration\",\"Movie Duration\",\"Movie Duration\",\"Movie Duration\",\"Movie Duration\",\"Movie Duration\",\"Movie Duration\",\"Movie Duration\",\"Movie Duration\",\"Movie Duration\",\"Movie Duration\",\"Movie Duration\",\"Movie Duration\",\"Movie Duration\",\"Movie Duration\",\"Movie Duration\",\"Movie Duration\",\"Movie Duration\",\"Movie Duration\",\"Movie Duration\",\"Movie Duration\",\"Movie Duration\",\"Movie Duration\",\"Movie Duration\",\"Movie Duration\",\"Movie Duration\",\"Movie Duration\",\"Movie Duration\",\"Movie Duration\",\"Movie Duration\",\"Movie Duration\",\"Movie Duration\",\"Movie Duration\",\"Movie Duration\",\"Movie Duration\",\"Movie Duration\",\"Movie Duration\",\"Movie Duration\",\"Movie Duration\",\"Movie Duration\",\"Movie Duration\",\"Movie Duration\",\"Movie Duration\",\"Movie Duration\",\"Movie Duration\",\"Movie Duration\",\"Movie Duration\",\"Movie Duration\",\"Movie Duration\",\"Movie Duration\",\"Movie Duration\",\"Movie Duration\",\"Movie Duration\",\"Movie Duration\",\"Movie Duration\",\"Movie Duration\",\"Movie Duration\",\"Movie Duration\",\"Movie Duration\",\"Movie Duration\",\"Movie Duration\",\"Movie Duration\",\"Movie Duration\",\"Movie Duration\",\"Movie Duration\",\"Movie Duration\",\"Movie Duration\",\"Movie Duration\",\"Movie Duration\",\"Movie Duration\",\"Movie Duration\",\"Movie Duration\",\"Movie Duration\",\"Movie Duration\",\"Movie Duration\",\"Movie Duration\",\"Movie Duration\",\"Movie Duration\",\"Movie Duration\",\"Movie Duration\",\"Movie Duration\",\"Movie Duration\",\"Movie Duration\",\"Movie Duration\",\"Movie Duration\",\"Movie Duration\",\"Movie Duration\",\"Movie Duration\",\"Movie Duration\",\"Movie Duration\",\"Movie Duration\",\"Movie Duration\",\"Movie Duration\",\"Movie Duration\",\"Movie Duration\",\"Movie Duration\",\"Movie Duration\",\"Movie Duration\",\"Movie Duration\",\"Movie Duration\",\"Movie Duration\",\"Movie Duration\",\"Movie Duration\",\"Movie Duration\",\"Movie Duration\",\"Movie Duration\",\"Movie Duration\",\"Movie Duration\",\"Movie Duration\",\"Movie Duration\",\"Movie Duration\",\"Movie Duration\",\"Movie Duration\",\"Movie Duration\",\"Movie Duration\",\"Movie Duration\",\"Movie Duration\",\"Movie Duration\",\"Movie Duration\",\"Movie Duration\",\"Movie Duration\",\"Movie Duration\",\"Movie Duration\",\"Movie Duration\",\"Movie Duration\",\"Movie Duration\",\"Movie Duration\",\"Movie Duration\",\"Movie Duration\",\"Movie Duration\",\"Movie Duration\",\"Movie Duration\",\"Movie Duration\",\"Movie Duration\",\"Movie Duration\",\"Movie Duration\",\"Movie Duration\",\"Movie Duration\",\"Movie Duration\",\"Movie Duration\",\"Movie Duration\",\"Movie Duration\",\"Movie Duration\",\"Movie Duration\",\"Movie Duration\",\"Movie Duration\",\"Movie Duration\",\"Movie Duration\",\"Movie Duration\",\"Movie Duration\",\"Movie Duration\",\"Movie Duration\",\"Movie Duration\",\"Movie Duration\",\"Movie Duration\",\"Movie Duration\",\"Movie Duration\",\"Movie Duration\",\"Movie Duration\",\"Movie Duration\",\"Movie Duration\",\"Movie Duration\",\"Movie Duration\",\"Movie Duration\",\"Movie Duration\",\"Movie Duration\",\"Movie Duration\",\"Movie Duration\",\"Movie Duration\",\"Movie Duration\",\"Movie Duration\",\"Movie Duration\",\"Movie Duration\",\"Movie Duration\",\"Movie Duration\",\"Movie Duration\",\"Movie Duration\",\"Movie Duration\",\"Movie Duration\",\"Movie Duration\",\"Movie Duration\",\"Movie Duration\",\"Movie Duration\",\"Movie Duration\",\"Movie Duration\",\"Movie Duration\",\"Movie Duration\",\"Movie Duration\",\"Movie Duration\",\"Movie Duration\",\"Movie Duration\",\"Movie Duration\",\"Movie Duration\",\"Movie Duration\",\"Movie Duration\",\"Movie Duration\",\"Movie Duration\",\"Movie Duration\",\"Movie Duration\",\"Movie Duration\",\"Movie Duration\",\"Movie Duration\",\"Movie Duration\",\"Movie Duration\",\"Movie Duration\",\"Movie Duration\",\"Movie Duration\",\"Movie Duration\",\"Movie Duration\",\"Movie Duration\",\"Movie Duration\",\"Movie Duration\",\"Movie Duration\",\"Movie Duration\",\"Movie Duration\",\"Movie Duration\",\"Movie Duration\",\"Movie Duration\",\"Movie Duration\",\"Movie Duration\",\"Movie Duration\",\"Movie Duration\",\"Movie Duration\",\"Movie Duration\",\"Movie Duration\",\"Movie Duration\",\"Movie Duration\",\"Movie Duration\",\"Movie Duration\",\"Movie Duration\",\"Movie Duration\",\"Movie Duration\",\"Movie Duration\",\"Movie Duration\",\"Movie Duration\",\"Movie Duration\",\"Movie Duration\",\"Movie Duration\",\"Movie Duration\",\"Movie Duration\",\"Movie Duration\",\"Movie Duration\",\"Movie Duration\",\"Movie Duration\",\"Movie Duration\",\"Movie Duration\",\"Movie Duration\",\"Movie Duration\",\"Movie Duration\",\"Movie Duration\",\"Movie Duration\",\"Movie Duration\",\"Movie Duration\",\"Movie Duration\",\"Movie Duration\",\"Movie Duration\",\"Movie Duration\",\"Movie Duration\",\"Movie Duration\",\"Movie Duration\",\"Movie Duration\",\"Movie Duration\",\"Movie Duration\",\"Movie Duration\",\"Movie Duration\",\"Movie Duration\",\"Movie Duration\",\"Movie Duration\",\"Movie Duration\",\"Movie Duration\",\"Movie Duration\",\"Movie Duration\",\"Movie Duration\",\"Movie Duration\",\"Movie Duration\",\"Movie Duration\",\"Movie Duration\",\"Movie Duration\",\"Movie Duration\",\"Movie Duration\",\"Movie Duration\",\"Movie Duration\",\"Movie Duration\",\"Movie Duration\",\"Movie Duration\",\"Movie Duration\",\"Movie Duration\",\"Movie Duration\",\"Movie Duration\",\"Movie Duration\",\"Movie Duration\",\"Movie Duration\",\"Movie Duration\",\"Movie Duration\",\"Movie Duration\",\"Movie Duration\",\"Movie Duration\",\"Movie Duration\",\"Movie Duration\",\"Movie Duration\",\"Movie Duration\",\"Movie Duration\",\"Movie Duration\",\"Movie Duration\",\"Movie Duration\",\"Movie Duration\",\"Movie Duration\",\"Movie Duration\",\"Movie Duration\",\"Movie Duration\",\"Movie Duration\",\"Movie Duration\",\"Movie Duration\",\"Movie Duration\",\"Movie Duration\",\"Movie Duration\",\"Movie Duration\",\"Movie Duration\",\"Movie Duration\",\"Movie Duration\",\"Movie Duration\",\"Movie Duration\",\"Movie Duration\",\"Movie Duration\",\"Movie Duration\",\"Movie Duration\",\"Movie Duration\",\"Movie Duration\",\"Movie Duration\",\"Movie Duration\",\"Movie Duration\",\"Movie Duration\",\"Movie Duration\",\"Movie Duration\",\"Movie Duration\",\"Movie Duration\",\"Movie Duration\",\"Movie Duration\",\"Movie Duration\",\"Movie Duration\",\"Movie Duration\",\"Movie Duration\",\"Movie Duration\",\"Movie Duration\",\"Movie Duration\",\"Movie Duration\",\"Movie Duration\",\"Movie Duration\",\"Movie Duration\",\"Movie Duration\",\"Movie Duration\",\"Movie Duration\",\"Movie Duration\",\"Movie Duration\",\"Movie Duration\",\"Movie Duration\",\"Movie Duration\",\"Movie Duration\",\"Movie Duration\",\"Movie Duration\",\"Movie Duration\",\"Movie Duration\",\"Movie Duration\",\"Movie Duration\",\"Movie Duration\",\"Movie Duration\",\"Movie Duration\",\"Movie Duration\",\"Movie Duration\",\"Movie Duration\",\"Movie Duration\",\"Movie Duration\",\"Movie Duration\",\"Movie Duration\",\"Movie Duration\",\"Movie Duration\",\"Movie Duration\",\"Movie Duration\",\"Movie Duration\",\"Movie Duration\",\"Movie Duration\",\"Movie Duration\",\"Movie Duration\",\"Movie Duration\",\"Movie Duration\",\"Movie Duration\",\"Movie Duration\",\"Movie Duration\",\"Movie Duration\",\"Movie Duration\",\"Movie Duration\",\"Movie Duration\",\"Movie Duration\",\"Movie Duration\",\"Movie Duration\",\"Movie Duration\",\"Movie Duration\",\"Movie Duration\",\"Movie Duration\",\"Movie Duration\",\"Movie Duration\",\"Movie Duration\",\"Movie Duration\",\"Movie Duration\",\"Movie Duration\",\"Movie Duration\",\"Movie Duration\",\"Movie Duration\",\"Movie Duration\",\"Movie Duration\",\"Movie Duration\",\"Movie Duration\",\"Movie Duration\",\"Movie Duration\",\"Movie Duration\",\"Movie Duration\",\"Movie Duration\",\"Movie Duration\",\"Movie Duration\",\"Movie Duration\",\"Movie Duration\",\"Movie Duration\",\"Movie Duration\",\"Movie Duration\",\"Movie Duration\",\"Movie Duration\",\"Movie Duration\",\"Movie Duration\",\"Movie Duration\",\"Movie Duration\",\"Movie Duration\",\"Movie Duration\",\"Movie Duration\",\"Movie Duration\",\"Movie Duration\",\"Movie Duration\",\"Movie Duration\",\"Movie Duration\",\"Movie Duration\",\"Movie Duration\",\"Movie Duration\",\"Movie Duration\",\"Movie Duration\",\"Movie Duration\",\"Movie Duration\",\"Movie Duration\",\"Movie Duration\",\"Movie Duration\",\"Movie Duration\",\"Movie Duration\",\"Movie Duration\",\"Movie Duration\",\"Movie Duration\",\"Movie Duration\",\"Movie Duration\",\"Movie Duration\",\"Movie Duration\",\"Movie Duration\",\"Movie Duration\",\"Movie Duration\",\"Movie Duration\",\"Movie Duration\",\"Movie Duration\",\"Movie Duration\",\"Movie Duration\",\"Movie Duration\",\"Movie Duration\",\"Movie Duration\",\"Movie Duration\",\"Movie Duration\",\"Movie Duration\",\"Movie Duration\",\"Movie Duration\",\"Movie Duration\",\"Movie Duration\",\"Movie Duration\",\"Movie Duration\",\"Movie Duration\",\"Movie Duration\",\"Movie Duration\",\"Movie Duration\",\"Movie Duration\",\"Movie Duration\",\"Movie Duration\",\"Movie Duration\",\"Movie Duration\",\"Movie Duration\",\"Movie Duration\",\"Movie Duration\",\"Movie Duration\",\"Movie Duration\",\"Movie Duration\",\"Movie Duration\",\"Movie Duration\",\"Movie Duration\",\"Movie Duration\",\"Movie Duration\",\"Movie Duration\",\"Movie Duration\",\"Movie Duration\",\"Movie Duration\",\"Movie Duration\",\"Movie Duration\",\"Movie Duration\",\"Movie Duration\",\"Movie Duration\",\"Movie Duration\",\"Movie Duration\",\"Movie Duration\",\"Movie Duration\",\"Movie Duration\",\"Movie Duration\",\"Movie Duration\",\"Movie Duration\",\"Movie Duration\",\"Movie Duration\",\"Movie Duration\",\"Movie Duration\",\"Movie Duration\",\"Movie Duration\",\"Movie Duration\",\"Movie Duration\",\"Movie Duration\",\"Movie Duration\",\"Movie Duration\",\"Movie Duration\",\"Movie Duration\",\"Movie Duration\",\"Movie Duration\",\"Movie Duration\",\"Movie Duration\",\"Movie Duration\",\"Movie Duration\",\"Movie Duration\",\"Movie Duration\",\"Movie Duration\",\"Movie Duration\",\"Movie Duration\",\"Movie Duration\",\"Movie Duration\",\"Movie Duration\",\"Movie Duration\",\"Movie Duration\",\"Movie Duration\",\"Movie Duration\",\"Movie Duration\",\"Movie Duration\",\"Movie Duration\",\"Movie Duration\",\"Movie Duration\",\"Movie Duration\",\"Movie Duration\",\"Movie Duration\",\"Movie Duration\",\"Movie Duration\",\"Movie Duration\",\"Movie Duration\",\"Movie Duration\",\"Movie Duration\",\"Movie Duration\",\"Movie Duration\",\"Movie Duration\",\"Movie Duration\",\"Movie Duration\",\"Movie Duration\",\"Movie Duration\",\"Movie Duration\",\"Movie Duration\",\"Movie Duration\",\"Movie Duration\",\"Movie Duration\",\"Movie Duration\",\"Movie Duration\",\"Movie Duration\",\"Movie Duration\",\"Movie Duration\",\"Movie Duration\",\"Movie Duration\",\"Movie Duration\",\"Movie Duration\",\"Movie Duration\",\"Movie Duration\",\"Movie Duration\",\"Movie Duration\",\"Movie Duration\",\"Movie Duration\",\"Movie Duration\",\"Movie Duration\",\"Movie Duration\",\"Movie Duration\",\"Movie Duration\",\"Movie Duration\",\"Movie Duration\",\"Movie Duration\",\"Movie Duration\",\"Movie Duration\",\"Movie Duration\",\"Movie Duration\",\"Movie Duration\",\"Movie Duration\",\"Movie Duration\",\"Movie Duration\",\"Movie Duration\",\"Movie Duration\",\"Movie Duration\",\"Movie Duration\",\"Movie Duration\",\"Movie Duration\",\"Movie Duration\",\"Movie Duration\",\"Movie Duration\",\"Movie Duration\",\"Movie Duration\",\"Movie Duration\",\"Movie Duration\",\"Movie Duration\",\"Movie Duration\",\"Movie Duration\",\"Movie Duration\",\"Movie Duration\",\"Movie Duration\",\"Movie Duration\",\"Movie Duration\",\"Movie Duration\",\"Movie Duration\",\"Movie Duration\",\"Movie Duration\",\"Movie Duration\",\"Movie Duration\",\"Movie Duration\",\"Movie Duration\",\"Movie Duration\",\"Movie Duration\",\"Movie Duration\",\"Movie Duration\",\"Movie Duration\",\"Movie Duration\",\"Movie Duration\",\"Movie Duration\",\"Movie Duration\",\"Movie Duration\",\"Movie Duration\",\"Movie Duration\",\"Movie Duration\",\"Movie Duration\",\"Movie Duration\",\"Movie Duration\",\"Movie Duration\",\"Movie Duration\",\"Movie Duration\",\"Movie Duration\",\"Movie Duration\",\"Movie Duration\",\"Movie Duration\",\"Movie Duration\",\"Movie Duration\",\"Movie Duration\",\"Movie Duration\",\"Movie Duration\",\"Movie Duration\",\"Movie Duration\",\"Movie Duration\",\"Movie Duration\",\"Movie Duration\",\"Movie Duration\",\"Movie Duration\",\"Movie Duration\",\"Movie Duration\",\"Movie Duration\",\"Movie Duration\",\"Movie Duration\",\"Movie Duration\",\"Movie Duration\",\"Movie Duration\",\"Movie Duration\",\"Movie Duration\",\"Movie Duration\",\"Movie Duration\",\"Movie Duration\",\"Movie Duration\",\"Movie Duration\",\"Movie Duration\",\"Movie Duration\",\"Movie Duration\",\"Movie Duration\",\"Movie Duration\",\"Movie Duration\",\"Movie Duration\",\"Movie Duration\",\"Movie Duration\",\"Movie Duration\",\"Movie Duration\",\"Movie Duration\",\"Movie Duration\",\"Movie Duration\",\"Movie Duration\",\"Movie Duration\",\"Movie Duration\",\"Movie Duration\",\"Movie Duration\",\"Movie Duration\",\"Movie Duration\",\"Movie Duration\",\"Movie Duration\",\"Movie Duration\",\"Movie Duration\",\"Movie Duration\",\"Movie Duration\",\"Movie Duration\",\"Movie Duration\",\"Movie Duration\",\"Movie Duration\",\"Movie Duration\",\"Movie Duration\",\"Movie Duration\",\"Movie Duration\",\"Movie Duration\",\"Movie Duration\",\"Movie Duration\",\"Movie Duration\",\"Movie Duration\",\"Movie Duration\",\"Movie Duration\",\"Movie Duration\",\"Movie Duration\",\"Movie Duration\",\"Movie Duration\",\"Movie Duration\",\"Movie Duration\",\"Movie Duration\",\"Movie Duration\",\"Movie Duration\",\"Movie Duration\",\"Movie Duration\",\"Movie Duration\",\"Movie Duration\",\"Movie Duration\",\"Movie Duration\",\"Movie Duration\",\"Movie Duration\",\"Movie Duration\",\"Movie Duration\",\"Movie Duration\",\"Movie Duration\",\"Movie Duration\",\"Movie Duration\",\"Movie Duration\",\"Movie Duration\",\"Movie Duration\",\"Movie Duration\",\"Movie Duration\",\"Movie Duration\",\"Movie Duration\",\"Movie Duration\",\"Movie Duration\",\"Movie Duration\",\"Movie Duration\",\"Movie Duration\",\"Movie Duration\",\"Movie Duration\",\"Movie Duration\",\"Movie Duration\",\"Movie Duration\",\"Movie Duration\",\"Movie Duration\",\"Movie Duration\",\"Movie Duration\",\"Movie Duration\",\"Movie Duration\",\"Movie Duration\",\"Movie Duration\",\"Movie Duration\",\"Movie Duration\",\"Movie Duration\",\"Movie Duration\",\"Movie Duration\",\"Movie Duration\",\"Movie Duration\",\"Movie Duration\",\"Movie Duration\",\"Movie Duration\",\"Movie Duration\",\"Movie Duration\",\"Movie Duration\",\"Movie Duration\",\"Movie Duration\",\"Movie Duration\",\"Movie Duration\",\"Movie Duration\",\"Movie Duration\",\"Movie Duration\",\"Movie Duration\",\"Movie Duration\",\"Movie Duration\",\"Movie Duration\",\"Movie Duration\",\"Movie Duration\",\"Movie Duration\",\"Movie Duration\",\"Movie Duration\",\"Movie Duration\",\"Movie Duration\",\"Movie Duration\",\"Movie Duration\",\"Movie Duration\",\"Movie Duration\",\"Movie Duration\",\"Movie Duration\",\"Movie Duration\",\"Movie Duration\",\"Movie Duration\",\"Movie Duration\",\"Movie Duration\",\"Movie Duration\",\"Movie Duration\",\"Movie Duration\",\"Movie Duration\",\"Movie Duration\",\"Movie Duration\",\"Movie Duration\",\"Movie Duration\",\"Movie Duration\",\"Movie Duration\",\"Movie Duration\",\"Movie Duration\",\"Movie Duration\",\"Movie Duration\",\"Movie Duration\",\"Movie Duration\",\"Movie Duration\",\"Movie Duration\",\"Movie Duration\",\"Movie Duration\",\"Movie Duration\",\"Movie Duration\",\"Movie Duration\",\"Movie Duration\",\"Movie Duration\",\"Movie Duration\",\"Movie Duration\",\"Movie Duration\",\"Movie Duration\",\"Movie Duration\",\"Movie Duration\",\"Movie Duration\",\"Movie Duration\",\"Movie Duration\",\"Movie Duration\",\"Movie Duration\",\"Movie Duration\",\"Movie Duration\",\"Movie Duration\",\"Movie Duration\",\"Movie Duration\",\"Movie Duration\",\"Movie Duration\",\"Movie Duration\",\"Movie Duration\",\"Movie Duration\",\"Movie Duration\",\"Movie Duration\",\"Movie Duration\",\"Movie Duration\",\"Movie Duration\",\"Movie Duration\",\"Movie Duration\",\"Movie Duration\",\"Movie Duration\",\"Movie Duration\",\"Movie Duration\",\"Movie Duration\",\"Movie Duration\",\"Movie Duration\",\"Movie Duration\",\"Movie Duration\",\"Movie Duration\",\"Movie Duration\",\"Movie Duration\",\"Movie Duration\",\"Movie Duration\",\"Movie Duration\",\"Movie Duration\",\"Movie Duration\",\"Movie Duration\",\"Movie Duration\",\"Movie Duration\",\"Movie Duration\",\"Movie Duration\",\"Movie Duration\",\"Movie Duration\",\"Movie Duration\",\"Movie Duration\",\"Movie Duration\",\"Movie Duration\",\"Movie Duration\",\"Movie Duration\",\"Movie Duration\",\"Movie Duration\",\"Movie Duration\",\"Movie Duration\",\"Movie Duration\",\"Movie Duration\",\"Movie Duration\",\"Movie Duration\",\"Movie Duration\",\"Movie Duration\",\"Movie Duration\",\"Movie Duration\",\"Movie Duration\",\"Movie Duration\",\"Movie Duration\",\"Movie Duration\",\"Movie Duration\",\"Movie Duration\",\"Movie Duration\",\"Movie Duration\",\"Movie Duration\",\"Movie Duration\",\"Movie Duration\",\"Movie Duration\",\"Movie Duration\",\"Movie Duration\",\"Movie Duration\",\"Movie Duration\",\"Movie Duration\",\"Movie Duration\",\"Movie Duration\",\"Movie Duration\",\"Movie Duration\",\"Movie Duration\",\"Movie Duration\",\"Movie Duration\",\"Movie Duration\",\"Movie Duration\",\"Movie Duration\",\"Movie Duration\",\"Movie Duration\",\"Movie Duration\",\"Movie Duration\",\"Movie Duration\",\"Movie Duration\",\"Movie Duration\",\"Movie Duration\",\"Movie Duration\",\"Movie Duration\",\"Movie Duration\",\"Movie Duration\",\"Movie Duration\",\"Movie Duration\",\"Movie Duration\",\"Movie Duration\",\"Movie Duration\",\"Movie Duration\",\"Movie Duration\",\"Movie Duration\",\"Movie Duration\",\"Movie Duration\",\"Movie Duration\",\"Movie Duration\",\"Movie Duration\",\"Movie Duration\",\"Movie Duration\",\"Movie Duration\",\"Movie Duration\",\"Movie Duration\",\"Movie Duration\",\"Movie Duration\",\"Movie Duration\",\"Movie Duration\",\"Movie Duration\",\"Movie Duration\",\"Movie Duration\",\"Movie Duration\",\"Movie Duration\",\"Movie Duration\",\"Movie Duration\",\"Movie Duration\",\"Movie Duration\",\"Movie Duration\",\"Movie Duration\",\"Movie Duration\",\"Movie Duration\",\"Movie Duration\",\"Movie Duration\",\"Movie Duration\",\"Movie Duration\",\"Movie Duration\"],\"yaxis\":\"y2\",\"type\":\"scatter\"}],                        {\"barmode\":\"overlay\",\"hovermode\":\"closest\",\"legend\":{\"traceorder\":\"reversed\"},\"xaxis\":{\"anchor\":\"y2\",\"domain\":[0.0,1.0],\"zeroline\":false},\"yaxis\":{\"anchor\":\"free\",\"domain\":[0.35,1],\"position\":0.0},\"yaxis2\":{\"anchor\":\"x\",\"domain\":[0,0.25],\"dtick\":1,\"showticklabels\":false},\"template\":{\"data\":{\"histogram2dcontour\":[{\"type\":\"histogram2dcontour\",\"colorbar\":{\"outlinewidth\":0,\"ticks\":\"\"},\"colorscale\":[[0.0,\"#0d0887\"],[0.1111111111111111,\"#46039f\"],[0.2222222222222222,\"#7201a8\"],[0.3333333333333333,\"#9c179e\"],[0.4444444444444444,\"#bd3786\"],[0.5555555555555556,\"#d8576b\"],[0.6666666666666666,\"#ed7953\"],[0.7777777777777778,\"#fb9f3a\"],[0.8888888888888888,\"#fdca26\"],[1.0,\"#f0f921\"]]}],\"choropleth\":[{\"type\":\"choropleth\",\"colorbar\":{\"outlinewidth\":0,\"ticks\":\"\"}}],\"histogram2d\":[{\"type\":\"histogram2d\",\"colorbar\":{\"outlinewidth\":0,\"ticks\":\"\"},\"colorscale\":[[0.0,\"#0d0887\"],[0.1111111111111111,\"#46039f\"],[0.2222222222222222,\"#7201a8\"],[0.3333333333333333,\"#9c179e\"],[0.4444444444444444,\"#bd3786\"],[0.5555555555555556,\"#d8576b\"],[0.6666666666666666,\"#ed7953\"],[0.7777777777777778,\"#fb9f3a\"],[0.8888888888888888,\"#fdca26\"],[1.0,\"#f0f921\"]]}],\"heatmap\":[{\"type\":\"heatmap\",\"colorbar\":{\"outlinewidth\":0,\"ticks\":\"\"},\"colorscale\":[[0.0,\"#0d0887\"],[0.1111111111111111,\"#46039f\"],[0.2222222222222222,\"#7201a8\"],[0.3333333333333333,\"#9c179e\"],[0.4444444444444444,\"#bd3786\"],[0.5555555555555556,\"#d8576b\"],[0.6666666666666666,\"#ed7953\"],[0.7777777777777778,\"#fb9f3a\"],[0.8888888888888888,\"#fdca26\"],[1.0,\"#f0f921\"]]}],\"heatmapgl\":[{\"type\":\"heatmapgl\",\"colorbar\":{\"outlinewidth\":0,\"ticks\":\"\"},\"colorscale\":[[0.0,\"#0d0887\"],[0.1111111111111111,\"#46039f\"],[0.2222222222222222,\"#7201a8\"],[0.3333333333333333,\"#9c179e\"],[0.4444444444444444,\"#bd3786\"],[0.5555555555555556,\"#d8576b\"],[0.6666666666666666,\"#ed7953\"],[0.7777777777777778,\"#fb9f3a\"],[0.8888888888888888,\"#fdca26\"],[1.0,\"#f0f921\"]]}],\"contourcarpet\":[{\"type\":\"contourcarpet\",\"colorbar\":{\"outlinewidth\":0,\"ticks\":\"\"}}],\"contour\":[{\"type\":\"contour\",\"colorbar\":{\"outlinewidth\":0,\"ticks\":\"\"},\"colorscale\":[[0.0,\"#0d0887\"],[0.1111111111111111,\"#46039f\"],[0.2222222222222222,\"#7201a8\"],[0.3333333333333333,\"#9c179e\"],[0.4444444444444444,\"#bd3786\"],[0.5555555555555556,\"#d8576b\"],[0.6666666666666666,\"#ed7953\"],[0.7777777777777778,\"#fb9f3a\"],[0.8888888888888888,\"#fdca26\"],[1.0,\"#f0f921\"]]}],\"surface\":[{\"type\":\"surface\",\"colorbar\":{\"outlinewidth\":0,\"ticks\":\"\"},\"colorscale\":[[0.0,\"#0d0887\"],[0.1111111111111111,\"#46039f\"],[0.2222222222222222,\"#7201a8\"],[0.3333333333333333,\"#9c179e\"],[0.4444444444444444,\"#bd3786\"],[0.5555555555555556,\"#d8576b\"],[0.6666666666666666,\"#ed7953\"],[0.7777777777777778,\"#fb9f3a\"],[0.8888888888888888,\"#fdca26\"],[1.0,\"#f0f921\"]]}],\"mesh3d\":[{\"type\":\"mesh3d\",\"colorbar\":{\"outlinewidth\":0,\"ticks\":\"\"}}],\"scatter\":[{\"fillpattern\":{\"fillmode\":\"overlay\",\"size\":10,\"solidity\":0.2},\"type\":\"scatter\"}],\"parcoords\":[{\"type\":\"parcoords\",\"line\":{\"colorbar\":{\"outlinewidth\":0,\"ticks\":\"\"}}}],\"scatterpolargl\":[{\"type\":\"scatterpolargl\",\"marker\":{\"colorbar\":{\"outlinewidth\":0,\"ticks\":\"\"}}}],\"bar\":[{\"error_x\":{\"color\":\"#2a3f5f\"},\"error_y\":{\"color\":\"#2a3f5f\"},\"marker\":{\"line\":{\"color\":\"#E5ECF6\",\"width\":0.5},\"pattern\":{\"fillmode\":\"overlay\",\"size\":10,\"solidity\":0.2}},\"type\":\"bar\"}],\"scattergeo\":[{\"type\":\"scattergeo\",\"marker\":{\"colorbar\":{\"outlinewidth\":0,\"ticks\":\"\"}}}],\"scatterpolar\":[{\"type\":\"scatterpolar\",\"marker\":{\"colorbar\":{\"outlinewidth\":0,\"ticks\":\"\"}}}],\"histogram\":[{\"marker\":{\"pattern\":{\"fillmode\":\"overlay\",\"size\":10,\"solidity\":0.2}},\"type\":\"histogram\"}],\"scattergl\":[{\"type\":\"scattergl\",\"marker\":{\"colorbar\":{\"outlinewidth\":0,\"ticks\":\"\"}}}],\"scatter3d\":[{\"type\":\"scatter3d\",\"line\":{\"colorbar\":{\"outlinewidth\":0,\"ticks\":\"\"}},\"marker\":{\"colorbar\":{\"outlinewidth\":0,\"ticks\":\"\"}}}],\"scattermapbox\":[{\"type\":\"scattermapbox\",\"marker\":{\"colorbar\":{\"outlinewidth\":0,\"ticks\":\"\"}}}],\"scatterternary\":[{\"type\":\"scatterternary\",\"marker\":{\"colorbar\":{\"outlinewidth\":0,\"ticks\":\"\"}}}],\"scattercarpet\":[{\"type\":\"scattercarpet\",\"marker\":{\"colorbar\":{\"outlinewidth\":0,\"ticks\":\"\"}}}],\"carpet\":[{\"aaxis\":{\"endlinecolor\":\"#2a3f5f\",\"gridcolor\":\"white\",\"linecolor\":\"white\",\"minorgridcolor\":\"white\",\"startlinecolor\":\"#2a3f5f\"},\"baxis\":{\"endlinecolor\":\"#2a3f5f\",\"gridcolor\":\"white\",\"linecolor\":\"white\",\"minorgridcolor\":\"white\",\"startlinecolor\":\"#2a3f5f\"},\"type\":\"carpet\"}],\"table\":[{\"cells\":{\"fill\":{\"color\":\"#EBF0F8\"},\"line\":{\"color\":\"white\"}},\"header\":{\"fill\":{\"color\":\"#C8D4E3\"},\"line\":{\"color\":\"white\"}},\"type\":\"table\"}],\"barpolar\":[{\"marker\":{\"line\":{\"color\":\"#E5ECF6\",\"width\":0.5},\"pattern\":{\"fillmode\":\"overlay\",\"size\":10,\"solidity\":0.2}},\"type\":\"barpolar\"}],\"pie\":[{\"automargin\":true,\"type\":\"pie\"}]},\"layout\":{\"autotypenumbers\":\"strict\",\"colorway\":[\"#636efa\",\"#EF553B\",\"#00cc96\",\"#ab63fa\",\"#FFA15A\",\"#19d3f3\",\"#FF6692\",\"#B6E880\",\"#FF97FF\",\"#FECB52\"],\"font\":{\"color\":\"#2a3f5f\"},\"hovermode\":\"closest\",\"hoverlabel\":{\"align\":\"left\"},\"paper_bgcolor\":\"white\",\"plot_bgcolor\":\"#E5ECF6\",\"polar\":{\"bgcolor\":\"#E5ECF6\",\"angularaxis\":{\"gridcolor\":\"white\",\"linecolor\":\"white\",\"ticks\":\"\"},\"radialaxis\":{\"gridcolor\":\"white\",\"linecolor\":\"white\",\"ticks\":\"\"}},\"ternary\":{\"bgcolor\":\"#E5ECF6\",\"aaxis\":{\"gridcolor\":\"white\",\"linecolor\":\"white\",\"ticks\":\"\"},\"baxis\":{\"gridcolor\":\"white\",\"linecolor\":\"white\",\"ticks\":\"\"},\"caxis\":{\"gridcolor\":\"white\",\"linecolor\":\"white\",\"ticks\":\"\"}},\"coloraxis\":{\"colorbar\":{\"outlinewidth\":0,\"ticks\":\"\"}},\"colorscale\":{\"sequential\":[[0.0,\"#0d0887\"],[0.1111111111111111,\"#46039f\"],[0.2222222222222222,\"#7201a8\"],[0.3333333333333333,\"#9c179e\"],[0.4444444444444444,\"#bd3786\"],[0.5555555555555556,\"#d8576b\"],[0.6666666666666666,\"#ed7953\"],[0.7777777777777778,\"#fb9f3a\"],[0.8888888888888888,\"#fdca26\"],[1.0,\"#f0f921\"]],\"sequentialminus\":[[0.0,\"#0d0887\"],[0.1111111111111111,\"#46039f\"],[0.2222222222222222,\"#7201a8\"],[0.3333333333333333,\"#9c179e\"],[0.4444444444444444,\"#bd3786\"],[0.5555555555555556,\"#d8576b\"],[0.6666666666666666,\"#ed7953\"],[0.7777777777777778,\"#fb9f3a\"],[0.8888888888888888,\"#fdca26\"],[1.0,\"#f0f921\"]],\"diverging\":[[0,\"#8e0152\"],[0.1,\"#c51b7d\"],[0.2,\"#de77ae\"],[0.3,\"#f1b6da\"],[0.4,\"#fde0ef\"],[0.5,\"#f7f7f7\"],[0.6,\"#e6f5d0\"],[0.7,\"#b8e186\"],[0.8,\"#7fbc41\"],[0.9,\"#4d9221\"],[1,\"#276419\"]]},\"xaxis\":{\"gridcolor\":\"white\",\"linecolor\":\"white\",\"ticks\":\"\",\"title\":{\"standoff\":15},\"zerolinecolor\":\"white\",\"automargin\":true,\"zerolinewidth\":2},\"yaxis\":{\"gridcolor\":\"white\",\"linecolor\":\"white\",\"ticks\":\"\",\"title\":{\"standoff\":15},\"zerolinecolor\":\"white\",\"automargin\":true,\"zerolinewidth\":2},\"scene\":{\"xaxis\":{\"backgroundcolor\":\"#E5ECF6\",\"gridcolor\":\"white\",\"linecolor\":\"white\",\"showbackground\":true,\"ticks\":\"\",\"zerolinecolor\":\"white\",\"gridwidth\":2},\"yaxis\":{\"backgroundcolor\":\"#E5ECF6\",\"gridcolor\":\"white\",\"linecolor\":\"white\",\"showbackground\":true,\"ticks\":\"\",\"zerolinecolor\":\"white\",\"gridwidth\":2},\"zaxis\":{\"backgroundcolor\":\"#E5ECF6\",\"gridcolor\":\"white\",\"linecolor\":\"white\",\"showbackground\":true,\"ticks\":\"\",\"zerolinecolor\":\"white\",\"gridwidth\":2}},\"shapedefaults\":{\"line\":{\"color\":\"#2a3f5f\"}},\"annotationdefaults\":{\"arrowcolor\":\"#2a3f5f\",\"arrowhead\":0,\"arrowwidth\":1},\"geo\":{\"bgcolor\":\"white\",\"landcolor\":\"#E5ECF6\",\"subunitcolor\":\"white\",\"showland\":true,\"showlakes\":true,\"lakecolor\":\"white\"},\"title\":{\"x\":0.05},\"mapbox\":{\"style\":\"light\"}}},\"title\":{\"text\":\"Distribution of Movie Durations (minutes)\"}},                        {\"responsive\": true}                    ).then(function(){\n",
       "                            \n",
       "var gd = document.getElementById('26cf4151-f61c-436d-8cc9-7e2f51f25b27');\n",
       "var x = new MutationObserver(function (mutations, observer) {{\n",
       "        var display = window.getComputedStyle(gd).display;\n",
       "        if (!display || display === 'none') {{\n",
       "            console.log([gd, 'removed!']);\n",
       "            Plotly.purge(gd);\n",
       "            observer.disconnect();\n",
       "        }}\n",
       "}});\n",
       "\n",
       "// Listen for the removal of the full notebook cells\n",
       "var notebookContainer = gd.closest('#notebook-container');\n",
       "if (notebookContainer) {{\n",
       "    x.observe(notebookContainer, {childList: true});\n",
       "}}\n",
       "\n",
       "// Listen for the clearing of the current output cell\n",
       "var outputEl = gd.closest('.output');\n",
       "if (outputEl) {{\n",
       "    x.observe(outputEl, {childList: true});\n",
       "}}\n",
       "\n",
       "                        })                };                });            </script>        </div>"
      ]
     },
     "metadata": {},
     "output_type": "display_data"
    },
    {
     "data": {
      "application/vnd.plotly.v1+json": {
       "config": {
        "plotlyServerURL": "https://plot.ly"
       },
       "data": [
        {
         "marker": {
          "color": "#a678de"
         },
         "name": "TV Shows",
         "type": "bar",
         "x": [
          "1",
          "10",
          "11",
          "12",
          "13",
          "14",
          "15",
          "2",
          "3",
          "4",
          "5",
          "6",
          "7",
          "8",
          "9"
         ],
         "y": [
          1259,
          3,
          3,
          2,
          2,
          1,
          2,
          298,
          157,
          60,
          46,
          21,
          21,
          16,
          7
         ]
        }
       ],
       "layout": {
        "legend": {
         "orientation": "h",
         "x": 0.1,
         "y": 1.1
        },
        "template": {
         "data": {
          "bar": [
           {
            "error_x": {
             "color": "#2a3f5f"
            },
            "error_y": {
             "color": "#2a3f5f"
            },
            "marker": {
             "line": {
              "color": "#E5ECF6",
              "width": 0.5
             },
             "pattern": {
              "fillmode": "overlay",
              "size": 10,
              "solidity": 0.2
             }
            },
            "type": "bar"
           }
          ],
          "barpolar": [
           {
            "marker": {
             "line": {
              "color": "#E5ECF6",
              "width": 0.5
             },
             "pattern": {
              "fillmode": "overlay",
              "size": 10,
              "solidity": 0.2
             }
            },
            "type": "barpolar"
           }
          ],
          "carpet": [
           {
            "aaxis": {
             "endlinecolor": "#2a3f5f",
             "gridcolor": "white",
             "linecolor": "white",
             "minorgridcolor": "white",
             "startlinecolor": "#2a3f5f"
            },
            "baxis": {
             "endlinecolor": "#2a3f5f",
             "gridcolor": "white",
             "linecolor": "white",
             "minorgridcolor": "white",
             "startlinecolor": "#2a3f5f"
            },
            "type": "carpet"
           }
          ],
          "choropleth": [
           {
            "colorbar": {
             "outlinewidth": 0,
             "ticks": ""
            },
            "type": "choropleth"
           }
          ],
          "contour": [
           {
            "colorbar": {
             "outlinewidth": 0,
             "ticks": ""
            },
            "colorscale": [
             [
              0,
              "#0d0887"
             ],
             [
              0.1111111111111111,
              "#46039f"
             ],
             [
              0.2222222222222222,
              "#7201a8"
             ],
             [
              0.3333333333333333,
              "#9c179e"
             ],
             [
              0.4444444444444444,
              "#bd3786"
             ],
             [
              0.5555555555555556,
              "#d8576b"
             ],
             [
              0.6666666666666666,
              "#ed7953"
             ],
             [
              0.7777777777777778,
              "#fb9f3a"
             ],
             [
              0.8888888888888888,
              "#fdca26"
             ],
             [
              1,
              "#f0f921"
             ]
            ],
            "type": "contour"
           }
          ],
          "contourcarpet": [
           {
            "colorbar": {
             "outlinewidth": 0,
             "ticks": ""
            },
            "type": "contourcarpet"
           }
          ],
          "heatmap": [
           {
            "colorbar": {
             "outlinewidth": 0,
             "ticks": ""
            },
            "colorscale": [
             [
              0,
              "#0d0887"
             ],
             [
              0.1111111111111111,
              "#46039f"
             ],
             [
              0.2222222222222222,
              "#7201a8"
             ],
             [
              0.3333333333333333,
              "#9c179e"
             ],
             [
              0.4444444444444444,
              "#bd3786"
             ],
             [
              0.5555555555555556,
              "#d8576b"
             ],
             [
              0.6666666666666666,
              "#ed7953"
             ],
             [
              0.7777777777777778,
              "#fb9f3a"
             ],
             [
              0.8888888888888888,
              "#fdca26"
             ],
             [
              1,
              "#f0f921"
             ]
            ],
            "type": "heatmap"
           }
          ],
          "heatmapgl": [
           {
            "colorbar": {
             "outlinewidth": 0,
             "ticks": ""
            },
            "colorscale": [
             [
              0,
              "#0d0887"
             ],
             [
              0.1111111111111111,
              "#46039f"
             ],
             [
              0.2222222222222222,
              "#7201a8"
             ],
             [
              0.3333333333333333,
              "#9c179e"
             ],
             [
              0.4444444444444444,
              "#bd3786"
             ],
             [
              0.5555555555555556,
              "#d8576b"
             ],
             [
              0.6666666666666666,
              "#ed7953"
             ],
             [
              0.7777777777777778,
              "#fb9f3a"
             ],
             [
              0.8888888888888888,
              "#fdca26"
             ],
             [
              1,
              "#f0f921"
             ]
            ],
            "type": "heatmapgl"
           }
          ],
          "histogram": [
           {
            "marker": {
             "pattern": {
              "fillmode": "overlay",
              "size": 10,
              "solidity": 0.2
             }
            },
            "type": "histogram"
           }
          ],
          "histogram2d": [
           {
            "colorbar": {
             "outlinewidth": 0,
             "ticks": ""
            },
            "colorscale": [
             [
              0,
              "#0d0887"
             ],
             [
              0.1111111111111111,
              "#46039f"
             ],
             [
              0.2222222222222222,
              "#7201a8"
             ],
             [
              0.3333333333333333,
              "#9c179e"
             ],
             [
              0.4444444444444444,
              "#bd3786"
             ],
             [
              0.5555555555555556,
              "#d8576b"
             ],
             [
              0.6666666666666666,
              "#ed7953"
             ],
             [
              0.7777777777777778,
              "#fb9f3a"
             ],
             [
              0.8888888888888888,
              "#fdca26"
             ],
             [
              1,
              "#f0f921"
             ]
            ],
            "type": "histogram2d"
           }
          ],
          "histogram2dcontour": [
           {
            "colorbar": {
             "outlinewidth": 0,
             "ticks": ""
            },
            "colorscale": [
             [
              0,
              "#0d0887"
             ],
             [
              0.1111111111111111,
              "#46039f"
             ],
             [
              0.2222222222222222,
              "#7201a8"
             ],
             [
              0.3333333333333333,
              "#9c179e"
             ],
             [
              0.4444444444444444,
              "#bd3786"
             ],
             [
              0.5555555555555556,
              "#d8576b"
             ],
             [
              0.6666666666666666,
              "#ed7953"
             ],
             [
              0.7777777777777778,
              "#fb9f3a"
             ],
             [
              0.8888888888888888,
              "#fdca26"
             ],
             [
              1,
              "#f0f921"
             ]
            ],
            "type": "histogram2dcontour"
           }
          ],
          "mesh3d": [
           {
            "colorbar": {
             "outlinewidth": 0,
             "ticks": ""
            },
            "type": "mesh3d"
           }
          ],
          "parcoords": [
           {
            "line": {
             "colorbar": {
              "outlinewidth": 0,
              "ticks": ""
             }
            },
            "type": "parcoords"
           }
          ],
          "pie": [
           {
            "automargin": true,
            "type": "pie"
           }
          ],
          "scatter": [
           {
            "fillpattern": {
             "fillmode": "overlay",
             "size": 10,
             "solidity": 0.2
            },
            "type": "scatter"
           }
          ],
          "scatter3d": [
           {
            "line": {
             "colorbar": {
              "outlinewidth": 0,
              "ticks": ""
             }
            },
            "marker": {
             "colorbar": {
              "outlinewidth": 0,
              "ticks": ""
             }
            },
            "type": "scatter3d"
           }
          ],
          "scattercarpet": [
           {
            "marker": {
             "colorbar": {
              "outlinewidth": 0,
              "ticks": ""
             }
            },
            "type": "scattercarpet"
           }
          ],
          "scattergeo": [
           {
            "marker": {
             "colorbar": {
              "outlinewidth": 0,
              "ticks": ""
             }
            },
            "type": "scattergeo"
           }
          ],
          "scattergl": [
           {
            "marker": {
             "colorbar": {
              "outlinewidth": 0,
              "ticks": ""
             }
            },
            "type": "scattergl"
           }
          ],
          "scattermapbox": [
           {
            "marker": {
             "colorbar": {
              "outlinewidth": 0,
              "ticks": ""
             }
            },
            "type": "scattermapbox"
           }
          ],
          "scatterpolar": [
           {
            "marker": {
             "colorbar": {
              "outlinewidth": 0,
              "ticks": ""
             }
            },
            "type": "scatterpolar"
           }
          ],
          "scatterpolargl": [
           {
            "marker": {
             "colorbar": {
              "outlinewidth": 0,
              "ticks": ""
             }
            },
            "type": "scatterpolargl"
           }
          ],
          "scatterternary": [
           {
            "marker": {
             "colorbar": {
              "outlinewidth": 0,
              "ticks": ""
             }
            },
            "type": "scatterternary"
           }
          ],
          "surface": [
           {
            "colorbar": {
             "outlinewidth": 0,
             "ticks": ""
            },
            "colorscale": [
             [
              0,
              "#0d0887"
             ],
             [
              0.1111111111111111,
              "#46039f"
             ],
             [
              0.2222222222222222,
              "#7201a8"
             ],
             [
              0.3333333333333333,
              "#9c179e"
             ],
             [
              0.4444444444444444,
              "#bd3786"
             ],
             [
              0.5555555555555556,
              "#d8576b"
             ],
             [
              0.6666666666666666,
              "#ed7953"
             ],
             [
              0.7777777777777778,
              "#fb9f3a"
             ],
             [
              0.8888888888888888,
              "#fdca26"
             ],
             [
              1,
              "#f0f921"
             ]
            ],
            "type": "surface"
           }
          ],
          "table": [
           {
            "cells": {
             "fill": {
              "color": "#EBF0F8"
             },
             "line": {
              "color": "white"
             }
            },
            "header": {
             "fill": {
              "color": "#C8D4E3"
             },
             "line": {
              "color": "white"
             }
            },
            "type": "table"
           }
          ]
         },
         "layout": {
          "annotationdefaults": {
           "arrowcolor": "#2a3f5f",
           "arrowhead": 0,
           "arrowwidth": 1
          },
          "autotypenumbers": "strict",
          "coloraxis": {
           "colorbar": {
            "outlinewidth": 0,
            "ticks": ""
           }
          },
          "colorscale": {
           "diverging": [
            [
             0,
             "#8e0152"
            ],
            [
             0.1,
             "#c51b7d"
            ],
            [
             0.2,
             "#de77ae"
            ],
            [
             0.3,
             "#f1b6da"
            ],
            [
             0.4,
             "#fde0ef"
            ],
            [
             0.5,
             "#f7f7f7"
            ],
            [
             0.6,
             "#e6f5d0"
            ],
            [
             0.7,
             "#b8e186"
            ],
            [
             0.8,
             "#7fbc41"
            ],
            [
             0.9,
             "#4d9221"
            ],
            [
             1,
             "#276419"
            ]
           ],
           "sequential": [
            [
             0,
             "#0d0887"
            ],
            [
             0.1111111111111111,
             "#46039f"
            ],
            [
             0.2222222222222222,
             "#7201a8"
            ],
            [
             0.3333333333333333,
             "#9c179e"
            ],
            [
             0.4444444444444444,
             "#bd3786"
            ],
            [
             0.5555555555555556,
             "#d8576b"
            ],
            [
             0.6666666666666666,
             "#ed7953"
            ],
            [
             0.7777777777777778,
             "#fb9f3a"
            ],
            [
             0.8888888888888888,
             "#fdca26"
            ],
            [
             1,
             "#f0f921"
            ]
           ],
           "sequentialminus": [
            [
             0,
             "#0d0887"
            ],
            [
             0.1111111111111111,
             "#46039f"
            ],
            [
             0.2222222222222222,
             "#7201a8"
            ],
            [
             0.3333333333333333,
             "#9c179e"
            ],
            [
             0.4444444444444444,
             "#bd3786"
            ],
            [
             0.5555555555555556,
             "#d8576b"
            ],
            [
             0.6666666666666666,
             "#ed7953"
            ],
            [
             0.7777777777777778,
             "#fb9f3a"
            ],
            [
             0.8888888888888888,
             "#fdca26"
            ],
            [
             1,
             "#f0f921"
            ]
           ]
          },
          "colorway": [
           "#636efa",
           "#EF553B",
           "#00cc96",
           "#ab63fa",
           "#FFA15A",
           "#19d3f3",
           "#FF6692",
           "#B6E880",
           "#FF97FF",
           "#FECB52"
          ],
          "font": {
           "color": "#2a3f5f"
          },
          "geo": {
           "bgcolor": "white",
           "lakecolor": "white",
           "landcolor": "#E5ECF6",
           "showlakes": true,
           "showland": true,
           "subunitcolor": "white"
          },
          "hoverlabel": {
           "align": "left"
          },
          "hovermode": "closest",
          "mapbox": {
           "style": "light"
          },
          "paper_bgcolor": "white",
          "plot_bgcolor": "#E5ECF6",
          "polar": {
           "angularaxis": {
            "gridcolor": "white",
            "linecolor": "white",
            "ticks": ""
           },
           "bgcolor": "#E5ECF6",
           "radialaxis": {
            "gridcolor": "white",
            "linecolor": "white",
            "ticks": ""
           }
          },
          "scene": {
           "xaxis": {
            "backgroundcolor": "#E5ECF6",
            "gridcolor": "white",
            "gridwidth": 2,
            "linecolor": "white",
            "showbackground": true,
            "ticks": "",
            "zerolinecolor": "white"
           },
           "yaxis": {
            "backgroundcolor": "#E5ECF6",
            "gridcolor": "white",
            "gridwidth": 2,
            "linecolor": "white",
            "showbackground": true,
            "ticks": "",
            "zerolinecolor": "white"
           },
           "zaxis": {
            "backgroundcolor": "#E5ECF6",
            "gridcolor": "white",
            "gridwidth": 2,
            "linecolor": "white",
            "showbackground": true,
            "ticks": "",
            "zerolinecolor": "white"
           }
          },
          "shapedefaults": {
           "line": {
            "color": "#2a3f5f"
           }
          },
          "ternary": {
           "aaxis": {
            "gridcolor": "white",
            "linecolor": "white",
            "ticks": ""
           },
           "baxis": {
            "gridcolor": "white",
            "linecolor": "white",
            "ticks": ""
           },
           "bgcolor": "#E5ECF6",
           "caxis": {
            "gridcolor": "white",
            "linecolor": "white",
            "ticks": ""
           }
          },
          "title": {
           "x": 0.05
          },
          "xaxis": {
           "automargin": true,
           "gridcolor": "white",
           "linecolor": "white",
           "ticks": "",
           "title": {
            "standoff": 15
           },
           "zerolinecolor": "white",
           "zerolinewidth": 2
          },
          "yaxis": {
           "automargin": true,
           "gridcolor": "white",
           "linecolor": "white",
           "ticks": "",
           "title": {
            "standoff": 15
           },
           "zerolinecolor": "white",
           "zerolinewidth": 2
          }
         }
        },
        "title": {
         "text": "Distribution of TV Show Seasons"
        },
        "xaxis": {
         "title": {
          "text": "Number of Seasons"
         }
        },
        "yaxis": {
         "title": {
          "text": "Number of Shows"
         }
        }
       }
      },
      "text/html": [
       "<div>                            <div id=\"489af529-3336-45d6-93aa-ea9a3a2c8455\" class=\"plotly-graph-div\" style=\"height:525px; width:100%;\"></div>            <script type=\"text/javascript\">                require([\"plotly\"], function(Plotly) {                    window.PLOTLYENV=window.PLOTLYENV || {};                                    if (document.getElementById(\"489af529-3336-45d6-93aa-ea9a3a2c8455\")) {                    Plotly.newPlot(                        \"489af529-3336-45d6-93aa-ea9a3a2c8455\",                        [{\"marker\":{\"color\":\"#a678de\"},\"name\":\"TV Shows\",\"x\":[\"1\",\"10\",\"11\",\"12\",\"13\",\"14\",\"15\",\"2\",\"3\",\"4\",\"5\",\"6\",\"7\",\"8\",\"9\"],\"y\":[1259,3,3,2,2,1,2,298,157,60,46,21,21,16,7],\"type\":\"bar\"}],                        {\"legend\":{\"orientation\":\"h\",\"x\":0.1,\"y\":1.1},\"title\":{\"text\":\"Distribution of TV Show Seasons\"},\"xaxis\":{\"title\":{\"text\":\"Number of Seasons\"}},\"yaxis\":{\"title\":{\"text\":\"Number of Shows\"}},\"template\":{\"data\":{\"histogram2dcontour\":[{\"type\":\"histogram2dcontour\",\"colorbar\":{\"outlinewidth\":0,\"ticks\":\"\"},\"colorscale\":[[0.0,\"#0d0887\"],[0.1111111111111111,\"#46039f\"],[0.2222222222222222,\"#7201a8\"],[0.3333333333333333,\"#9c179e\"],[0.4444444444444444,\"#bd3786\"],[0.5555555555555556,\"#d8576b\"],[0.6666666666666666,\"#ed7953\"],[0.7777777777777778,\"#fb9f3a\"],[0.8888888888888888,\"#fdca26\"],[1.0,\"#f0f921\"]]}],\"choropleth\":[{\"type\":\"choropleth\",\"colorbar\":{\"outlinewidth\":0,\"ticks\":\"\"}}],\"histogram2d\":[{\"type\":\"histogram2d\",\"colorbar\":{\"outlinewidth\":0,\"ticks\":\"\"},\"colorscale\":[[0.0,\"#0d0887\"],[0.1111111111111111,\"#46039f\"],[0.2222222222222222,\"#7201a8\"],[0.3333333333333333,\"#9c179e\"],[0.4444444444444444,\"#bd3786\"],[0.5555555555555556,\"#d8576b\"],[0.6666666666666666,\"#ed7953\"],[0.7777777777777778,\"#fb9f3a\"],[0.8888888888888888,\"#fdca26\"],[1.0,\"#f0f921\"]]}],\"heatmap\":[{\"type\":\"heatmap\",\"colorbar\":{\"outlinewidth\":0,\"ticks\":\"\"},\"colorscale\":[[0.0,\"#0d0887\"],[0.1111111111111111,\"#46039f\"],[0.2222222222222222,\"#7201a8\"],[0.3333333333333333,\"#9c179e\"],[0.4444444444444444,\"#bd3786\"],[0.5555555555555556,\"#d8576b\"],[0.6666666666666666,\"#ed7953\"],[0.7777777777777778,\"#fb9f3a\"],[0.8888888888888888,\"#fdca26\"],[1.0,\"#f0f921\"]]}],\"heatmapgl\":[{\"type\":\"heatmapgl\",\"colorbar\":{\"outlinewidth\":0,\"ticks\":\"\"},\"colorscale\":[[0.0,\"#0d0887\"],[0.1111111111111111,\"#46039f\"],[0.2222222222222222,\"#7201a8\"],[0.3333333333333333,\"#9c179e\"],[0.4444444444444444,\"#bd3786\"],[0.5555555555555556,\"#d8576b\"],[0.6666666666666666,\"#ed7953\"],[0.7777777777777778,\"#fb9f3a\"],[0.8888888888888888,\"#fdca26\"],[1.0,\"#f0f921\"]]}],\"contourcarpet\":[{\"type\":\"contourcarpet\",\"colorbar\":{\"outlinewidth\":0,\"ticks\":\"\"}}],\"contour\":[{\"type\":\"contour\",\"colorbar\":{\"outlinewidth\":0,\"ticks\":\"\"},\"colorscale\":[[0.0,\"#0d0887\"],[0.1111111111111111,\"#46039f\"],[0.2222222222222222,\"#7201a8\"],[0.3333333333333333,\"#9c179e\"],[0.4444444444444444,\"#bd3786\"],[0.5555555555555556,\"#d8576b\"],[0.6666666666666666,\"#ed7953\"],[0.7777777777777778,\"#fb9f3a\"],[0.8888888888888888,\"#fdca26\"],[1.0,\"#f0f921\"]]}],\"surface\":[{\"type\":\"surface\",\"colorbar\":{\"outlinewidth\":0,\"ticks\":\"\"},\"colorscale\":[[0.0,\"#0d0887\"],[0.1111111111111111,\"#46039f\"],[0.2222222222222222,\"#7201a8\"],[0.3333333333333333,\"#9c179e\"],[0.4444444444444444,\"#bd3786\"],[0.5555555555555556,\"#d8576b\"],[0.6666666666666666,\"#ed7953\"],[0.7777777777777778,\"#fb9f3a\"],[0.8888888888888888,\"#fdca26\"],[1.0,\"#f0f921\"]]}],\"mesh3d\":[{\"type\":\"mesh3d\",\"colorbar\":{\"outlinewidth\":0,\"ticks\":\"\"}}],\"scatter\":[{\"fillpattern\":{\"fillmode\":\"overlay\",\"size\":10,\"solidity\":0.2},\"type\":\"scatter\"}],\"parcoords\":[{\"type\":\"parcoords\",\"line\":{\"colorbar\":{\"outlinewidth\":0,\"ticks\":\"\"}}}],\"scatterpolargl\":[{\"type\":\"scatterpolargl\",\"marker\":{\"colorbar\":{\"outlinewidth\":0,\"ticks\":\"\"}}}],\"bar\":[{\"error_x\":{\"color\":\"#2a3f5f\"},\"error_y\":{\"color\":\"#2a3f5f\"},\"marker\":{\"line\":{\"color\":\"#E5ECF6\",\"width\":0.5},\"pattern\":{\"fillmode\":\"overlay\",\"size\":10,\"solidity\":0.2}},\"type\":\"bar\"}],\"scattergeo\":[{\"type\":\"scattergeo\",\"marker\":{\"colorbar\":{\"outlinewidth\":0,\"ticks\":\"\"}}}],\"scatterpolar\":[{\"type\":\"scatterpolar\",\"marker\":{\"colorbar\":{\"outlinewidth\":0,\"ticks\":\"\"}}}],\"histogram\":[{\"marker\":{\"pattern\":{\"fillmode\":\"overlay\",\"size\":10,\"solidity\":0.2}},\"type\":\"histogram\"}],\"scattergl\":[{\"type\":\"scattergl\",\"marker\":{\"colorbar\":{\"outlinewidth\":0,\"ticks\":\"\"}}}],\"scatter3d\":[{\"type\":\"scatter3d\",\"line\":{\"colorbar\":{\"outlinewidth\":0,\"ticks\":\"\"}},\"marker\":{\"colorbar\":{\"outlinewidth\":0,\"ticks\":\"\"}}}],\"scattermapbox\":[{\"type\":\"scattermapbox\",\"marker\":{\"colorbar\":{\"outlinewidth\":0,\"ticks\":\"\"}}}],\"scatterternary\":[{\"type\":\"scatterternary\",\"marker\":{\"colorbar\":{\"outlinewidth\":0,\"ticks\":\"\"}}}],\"scattercarpet\":[{\"type\":\"scattercarpet\",\"marker\":{\"colorbar\":{\"outlinewidth\":0,\"ticks\":\"\"}}}],\"carpet\":[{\"aaxis\":{\"endlinecolor\":\"#2a3f5f\",\"gridcolor\":\"white\",\"linecolor\":\"white\",\"minorgridcolor\":\"white\",\"startlinecolor\":\"#2a3f5f\"},\"baxis\":{\"endlinecolor\":\"#2a3f5f\",\"gridcolor\":\"white\",\"linecolor\":\"white\",\"minorgridcolor\":\"white\",\"startlinecolor\":\"#2a3f5f\"},\"type\":\"carpet\"}],\"table\":[{\"cells\":{\"fill\":{\"color\":\"#EBF0F8\"},\"line\":{\"color\":\"white\"}},\"header\":{\"fill\":{\"color\":\"#C8D4E3\"},\"line\":{\"color\":\"white\"}},\"type\":\"table\"}],\"barpolar\":[{\"marker\":{\"line\":{\"color\":\"#E5ECF6\",\"width\":0.5},\"pattern\":{\"fillmode\":\"overlay\",\"size\":10,\"solidity\":0.2}},\"type\":\"barpolar\"}],\"pie\":[{\"automargin\":true,\"type\":\"pie\"}]},\"layout\":{\"autotypenumbers\":\"strict\",\"colorway\":[\"#636efa\",\"#EF553B\",\"#00cc96\",\"#ab63fa\",\"#FFA15A\",\"#19d3f3\",\"#FF6692\",\"#B6E880\",\"#FF97FF\",\"#FECB52\"],\"font\":{\"color\":\"#2a3f5f\"},\"hovermode\":\"closest\",\"hoverlabel\":{\"align\":\"left\"},\"paper_bgcolor\":\"white\",\"plot_bgcolor\":\"#E5ECF6\",\"polar\":{\"bgcolor\":\"#E5ECF6\",\"angularaxis\":{\"gridcolor\":\"white\",\"linecolor\":\"white\",\"ticks\":\"\"},\"radialaxis\":{\"gridcolor\":\"white\",\"linecolor\":\"white\",\"ticks\":\"\"}},\"ternary\":{\"bgcolor\":\"#E5ECF6\",\"aaxis\":{\"gridcolor\":\"white\",\"linecolor\":\"white\",\"ticks\":\"\"},\"baxis\":{\"gridcolor\":\"white\",\"linecolor\":\"white\",\"ticks\":\"\"},\"caxis\":{\"gridcolor\":\"white\",\"linecolor\":\"white\",\"ticks\":\"\"}},\"coloraxis\":{\"colorbar\":{\"outlinewidth\":0,\"ticks\":\"\"}},\"colorscale\":{\"sequential\":[[0.0,\"#0d0887\"],[0.1111111111111111,\"#46039f\"],[0.2222222222222222,\"#7201a8\"],[0.3333333333333333,\"#9c179e\"],[0.4444444444444444,\"#bd3786\"],[0.5555555555555556,\"#d8576b\"],[0.6666666666666666,\"#ed7953\"],[0.7777777777777778,\"#fb9f3a\"],[0.8888888888888888,\"#fdca26\"],[1.0,\"#f0f921\"]],\"sequentialminus\":[[0.0,\"#0d0887\"],[0.1111111111111111,\"#46039f\"],[0.2222222222222222,\"#7201a8\"],[0.3333333333333333,\"#9c179e\"],[0.4444444444444444,\"#bd3786\"],[0.5555555555555556,\"#d8576b\"],[0.6666666666666666,\"#ed7953\"],[0.7777777777777778,\"#fb9f3a\"],[0.8888888888888888,\"#fdca26\"],[1.0,\"#f0f921\"]],\"diverging\":[[0,\"#8e0152\"],[0.1,\"#c51b7d\"],[0.2,\"#de77ae\"],[0.3,\"#f1b6da\"],[0.4,\"#fde0ef\"],[0.5,\"#f7f7f7\"],[0.6,\"#e6f5d0\"],[0.7,\"#b8e186\"],[0.8,\"#7fbc41\"],[0.9,\"#4d9221\"],[1,\"#276419\"]]},\"xaxis\":{\"gridcolor\":\"white\",\"linecolor\":\"white\",\"ticks\":\"\",\"title\":{\"standoff\":15},\"zerolinecolor\":\"white\",\"automargin\":true,\"zerolinewidth\":2},\"yaxis\":{\"gridcolor\":\"white\",\"linecolor\":\"white\",\"ticks\":\"\",\"title\":{\"standoff\":15},\"zerolinecolor\":\"white\",\"automargin\":true,\"zerolinewidth\":2},\"scene\":{\"xaxis\":{\"backgroundcolor\":\"#E5ECF6\",\"gridcolor\":\"white\",\"linecolor\":\"white\",\"showbackground\":true,\"ticks\":\"\",\"zerolinecolor\":\"white\",\"gridwidth\":2},\"yaxis\":{\"backgroundcolor\":\"#E5ECF6\",\"gridcolor\":\"white\",\"linecolor\":\"white\",\"showbackground\":true,\"ticks\":\"\",\"zerolinecolor\":\"white\",\"gridwidth\":2},\"zaxis\":{\"backgroundcolor\":\"#E5ECF6\",\"gridcolor\":\"white\",\"linecolor\":\"white\",\"showbackground\":true,\"ticks\":\"\",\"zerolinecolor\":\"white\",\"gridwidth\":2}},\"shapedefaults\":{\"line\":{\"color\":\"#2a3f5f\"}},\"annotationdefaults\":{\"arrowcolor\":\"#2a3f5f\",\"arrowhead\":0,\"arrowwidth\":1},\"geo\":{\"bgcolor\":\"white\",\"landcolor\":\"#E5ECF6\",\"subunitcolor\":\"white\",\"showland\":true,\"showlakes\":true,\"lakecolor\":\"white\"},\"title\":{\"x\":0.05},\"mapbox\":{\"style\":\"light\"}}}},                        {\"responsive\": true}                    ).then(function(){\n",
       "                            \n",
       "var gd = document.getElementById('489af529-3336-45d6-93aa-ea9a3a2c8455');\n",
       "var x = new MutationObserver(function (mutations, observer) {{\n",
       "        var display = window.getComputedStyle(gd).display;\n",
       "        if (!display || display === 'none') {{\n",
       "            console.log([gd, 'removed!']);\n",
       "            Plotly.purge(gd);\n",
       "            observer.disconnect();\n",
       "        }}\n",
       "}});\n",
       "\n",
       "// Listen for the removal of the full notebook cells\n",
       "var notebookContainer = gd.closest('#notebook-container');\n",
       "if (notebookContainer) {{\n",
       "    x.observe(notebookContainer, {childList: true});\n",
       "}}\n",
       "\n",
       "// Listen for the clearing of the current output cell\n",
       "var outputEl = gd.closest('.output');\n",
       "if (outputEl) {{\n",
       "    x.observe(outputEl, {childList: true});\n",
       "}}\n",
       "\n",
       "                        })                };                });            </script>        </div>"
      ]
     },
     "metadata": {},
     "output_type": "display_data"
    },
    {
     "data": {
      "application/vnd.plotly.v1+json": {
       "config": {
        "plotlyServerURL": "https://plot.ly"
       },
       "data": [
        {
         "marker": {
          "color": "#a678de"
         },
         "name": "TV Shows",
         "type": "bar",
         "x": [
          "G",
          "NR",
          "R",
          "TV-14",
          "TV-G",
          "TV-MA",
          "TV-PG",
          "TV-Y",
          "TV-Y7",
          "TV-Y7-FV"
         ],
         "y": [
          1,
          16,
          2,
          638,
          68,
          649,
          265,
          98,
          94,
          65
         ]
        },
        {
         "marker": {
          "color": "#6ad49b"
         },
         "name": "Movies",
         "type": "bar",
         "x": [
          "G",
          "NC-17",
          "NR",
          "PG",
          "PG-13",
          "R",
          "TV-14",
          "TV-G",
          "TV-MA",
          "TV-PG",
          "TV-Y",
          "TV-Y7",
          "TV-Y7-FV",
          "UR"
         ],
         "y": [
          31,
          2,
          202,
          160,
          227,
          437,
          955,
          79,
          1288,
          413,
          41,
          62,
          27,
          7
         ]
        }
       ],
       "layout": {
        "legend": {
         "orientation": "h",
         "x": 0.1,
         "y": 1.1
        },
        "template": {
         "data": {
          "bar": [
           {
            "error_x": {
             "color": "#2a3f5f"
            },
            "error_y": {
             "color": "#2a3f5f"
            },
            "marker": {
             "line": {
              "color": "#E5ECF6",
              "width": 0.5
             },
             "pattern": {
              "fillmode": "overlay",
              "size": 10,
              "solidity": 0.2
             }
            },
            "type": "bar"
           }
          ],
          "barpolar": [
           {
            "marker": {
             "line": {
              "color": "#E5ECF6",
              "width": 0.5
             },
             "pattern": {
              "fillmode": "overlay",
              "size": 10,
              "solidity": 0.2
             }
            },
            "type": "barpolar"
           }
          ],
          "carpet": [
           {
            "aaxis": {
             "endlinecolor": "#2a3f5f",
             "gridcolor": "white",
             "linecolor": "white",
             "minorgridcolor": "white",
             "startlinecolor": "#2a3f5f"
            },
            "baxis": {
             "endlinecolor": "#2a3f5f",
             "gridcolor": "white",
             "linecolor": "white",
             "minorgridcolor": "white",
             "startlinecolor": "#2a3f5f"
            },
            "type": "carpet"
           }
          ],
          "choropleth": [
           {
            "colorbar": {
             "outlinewidth": 0,
             "ticks": ""
            },
            "type": "choropleth"
           }
          ],
          "contour": [
           {
            "colorbar": {
             "outlinewidth": 0,
             "ticks": ""
            },
            "colorscale": [
             [
              0,
              "#0d0887"
             ],
             [
              0.1111111111111111,
              "#46039f"
             ],
             [
              0.2222222222222222,
              "#7201a8"
             ],
             [
              0.3333333333333333,
              "#9c179e"
             ],
             [
              0.4444444444444444,
              "#bd3786"
             ],
             [
              0.5555555555555556,
              "#d8576b"
             ],
             [
              0.6666666666666666,
              "#ed7953"
             ],
             [
              0.7777777777777778,
              "#fb9f3a"
             ],
             [
              0.8888888888888888,
              "#fdca26"
             ],
             [
              1,
              "#f0f921"
             ]
            ],
            "type": "contour"
           }
          ],
          "contourcarpet": [
           {
            "colorbar": {
             "outlinewidth": 0,
             "ticks": ""
            },
            "type": "contourcarpet"
           }
          ],
          "heatmap": [
           {
            "colorbar": {
             "outlinewidth": 0,
             "ticks": ""
            },
            "colorscale": [
             [
              0,
              "#0d0887"
             ],
             [
              0.1111111111111111,
              "#46039f"
             ],
             [
              0.2222222222222222,
              "#7201a8"
             ],
             [
              0.3333333333333333,
              "#9c179e"
             ],
             [
              0.4444444444444444,
              "#bd3786"
             ],
             [
              0.5555555555555556,
              "#d8576b"
             ],
             [
              0.6666666666666666,
              "#ed7953"
             ],
             [
              0.7777777777777778,
              "#fb9f3a"
             ],
             [
              0.8888888888888888,
              "#fdca26"
             ],
             [
              1,
              "#f0f921"
             ]
            ],
            "type": "heatmap"
           }
          ],
          "heatmapgl": [
           {
            "colorbar": {
             "outlinewidth": 0,
             "ticks": ""
            },
            "colorscale": [
             [
              0,
              "#0d0887"
             ],
             [
              0.1111111111111111,
              "#46039f"
             ],
             [
              0.2222222222222222,
              "#7201a8"
             ],
             [
              0.3333333333333333,
              "#9c179e"
             ],
             [
              0.4444444444444444,
              "#bd3786"
             ],
             [
              0.5555555555555556,
              "#d8576b"
             ],
             [
              0.6666666666666666,
              "#ed7953"
             ],
             [
              0.7777777777777778,
              "#fb9f3a"
             ],
             [
              0.8888888888888888,
              "#fdca26"
             ],
             [
              1,
              "#f0f921"
             ]
            ],
            "type": "heatmapgl"
           }
          ],
          "histogram": [
           {
            "marker": {
             "pattern": {
              "fillmode": "overlay",
              "size": 10,
              "solidity": 0.2
             }
            },
            "type": "histogram"
           }
          ],
          "histogram2d": [
           {
            "colorbar": {
             "outlinewidth": 0,
             "ticks": ""
            },
            "colorscale": [
             [
              0,
              "#0d0887"
             ],
             [
              0.1111111111111111,
              "#46039f"
             ],
             [
              0.2222222222222222,
              "#7201a8"
             ],
             [
              0.3333333333333333,
              "#9c179e"
             ],
             [
              0.4444444444444444,
              "#bd3786"
             ],
             [
              0.5555555555555556,
              "#d8576b"
             ],
             [
              0.6666666666666666,
              "#ed7953"
             ],
             [
              0.7777777777777778,
              "#fb9f3a"
             ],
             [
              0.8888888888888888,
              "#fdca26"
             ],
             [
              1,
              "#f0f921"
             ]
            ],
            "type": "histogram2d"
           }
          ],
          "histogram2dcontour": [
           {
            "colorbar": {
             "outlinewidth": 0,
             "ticks": ""
            },
            "colorscale": [
             [
              0,
              "#0d0887"
             ],
             [
              0.1111111111111111,
              "#46039f"
             ],
             [
              0.2222222222222222,
              "#7201a8"
             ],
             [
              0.3333333333333333,
              "#9c179e"
             ],
             [
              0.4444444444444444,
              "#bd3786"
             ],
             [
              0.5555555555555556,
              "#d8576b"
             ],
             [
              0.6666666666666666,
              "#ed7953"
             ],
             [
              0.7777777777777778,
              "#fb9f3a"
             ],
             [
              0.8888888888888888,
              "#fdca26"
             ],
             [
              1,
              "#f0f921"
             ]
            ],
            "type": "histogram2dcontour"
           }
          ],
          "mesh3d": [
           {
            "colorbar": {
             "outlinewidth": 0,
             "ticks": ""
            },
            "type": "mesh3d"
           }
          ],
          "parcoords": [
           {
            "line": {
             "colorbar": {
              "outlinewidth": 0,
              "ticks": ""
             }
            },
            "type": "parcoords"
           }
          ],
          "pie": [
           {
            "automargin": true,
            "type": "pie"
           }
          ],
          "scatter": [
           {
            "fillpattern": {
             "fillmode": "overlay",
             "size": 10,
             "solidity": 0.2
            },
            "type": "scatter"
           }
          ],
          "scatter3d": [
           {
            "line": {
             "colorbar": {
              "outlinewidth": 0,
              "ticks": ""
             }
            },
            "marker": {
             "colorbar": {
              "outlinewidth": 0,
              "ticks": ""
             }
            },
            "type": "scatter3d"
           }
          ],
          "scattercarpet": [
           {
            "marker": {
             "colorbar": {
              "outlinewidth": 0,
              "ticks": ""
             }
            },
            "type": "scattercarpet"
           }
          ],
          "scattergeo": [
           {
            "marker": {
             "colorbar": {
              "outlinewidth": 0,
              "ticks": ""
             }
            },
            "type": "scattergeo"
           }
          ],
          "scattergl": [
           {
            "marker": {
             "colorbar": {
              "outlinewidth": 0,
              "ticks": ""
             }
            },
            "type": "scattergl"
           }
          ],
          "scattermapbox": [
           {
            "marker": {
             "colorbar": {
              "outlinewidth": 0,
              "ticks": ""
             }
            },
            "type": "scattermapbox"
           }
          ],
          "scatterpolar": [
           {
            "marker": {
             "colorbar": {
              "outlinewidth": 0,
              "ticks": ""
             }
            },
            "type": "scatterpolar"
           }
          ],
          "scatterpolargl": [
           {
            "marker": {
             "colorbar": {
              "outlinewidth": 0,
              "ticks": ""
             }
            },
            "type": "scatterpolargl"
           }
          ],
          "scatterternary": [
           {
            "marker": {
             "colorbar": {
              "outlinewidth": 0,
              "ticks": ""
             }
            },
            "type": "scatterternary"
           }
          ],
          "surface": [
           {
            "colorbar": {
             "outlinewidth": 0,
             "ticks": ""
            },
            "colorscale": [
             [
              0,
              "#0d0887"
             ],
             [
              0.1111111111111111,
              "#46039f"
             ],
             [
              0.2222222222222222,
              "#7201a8"
             ],
             [
              0.3333333333333333,
              "#9c179e"
             ],
             [
              0.4444444444444444,
              "#bd3786"
             ],
             [
              0.5555555555555556,
              "#d8576b"
             ],
             [
              0.6666666666666666,
              "#ed7953"
             ],
             [
              0.7777777777777778,
              "#fb9f3a"
             ],
             [
              0.8888888888888888,
              "#fdca26"
             ],
             [
              1,
              "#f0f921"
             ]
            ],
            "type": "surface"
           }
          ],
          "table": [
           {
            "cells": {
             "fill": {
              "color": "#EBF0F8"
             },
             "line": {
              "color": "white"
             }
            },
            "header": {
             "fill": {
              "color": "#C8D4E3"
             },
             "line": {
              "color": "white"
             }
            },
            "type": "table"
           }
          ]
         },
         "layout": {
          "annotationdefaults": {
           "arrowcolor": "#2a3f5f",
           "arrowhead": 0,
           "arrowwidth": 1
          },
          "autotypenumbers": "strict",
          "coloraxis": {
           "colorbar": {
            "outlinewidth": 0,
            "ticks": ""
           }
          },
          "colorscale": {
           "diverging": [
            [
             0,
             "#8e0152"
            ],
            [
             0.1,
             "#c51b7d"
            ],
            [
             0.2,
             "#de77ae"
            ],
            [
             0.3,
             "#f1b6da"
            ],
            [
             0.4,
             "#fde0ef"
            ],
            [
             0.5,
             "#f7f7f7"
            ],
            [
             0.6,
             "#e6f5d0"
            ],
            [
             0.7,
             "#b8e186"
            ],
            [
             0.8,
             "#7fbc41"
            ],
            [
             0.9,
             "#4d9221"
            ],
            [
             1,
             "#276419"
            ]
           ],
           "sequential": [
            [
             0,
             "#0d0887"
            ],
            [
             0.1111111111111111,
             "#46039f"
            ],
            [
             0.2222222222222222,
             "#7201a8"
            ],
            [
             0.3333333333333333,
             "#9c179e"
            ],
            [
             0.4444444444444444,
             "#bd3786"
            ],
            [
             0.5555555555555556,
             "#d8576b"
            ],
            [
             0.6666666666666666,
             "#ed7953"
            ],
            [
             0.7777777777777778,
             "#fb9f3a"
            ],
            [
             0.8888888888888888,
             "#fdca26"
            ],
            [
             1,
             "#f0f921"
            ]
           ],
           "sequentialminus": [
            [
             0,
             "#0d0887"
            ],
            [
             0.1111111111111111,
             "#46039f"
            ],
            [
             0.2222222222222222,
             "#7201a8"
            ],
            [
             0.3333333333333333,
             "#9c179e"
            ],
            [
             0.4444444444444444,
             "#bd3786"
            ],
            [
             0.5555555555555556,
             "#d8576b"
            ],
            [
             0.6666666666666666,
             "#ed7953"
            ],
            [
             0.7777777777777778,
             "#fb9f3a"
            ],
            [
             0.8888888888888888,
             "#fdca26"
            ],
            [
             1,
             "#f0f921"
            ]
           ]
          },
          "colorway": [
           "#636efa",
           "#EF553B",
           "#00cc96",
           "#ab63fa",
           "#FFA15A",
           "#19d3f3",
           "#FF6692",
           "#B6E880",
           "#FF97FF",
           "#FECB52"
          ],
          "font": {
           "color": "#2a3f5f"
          },
          "geo": {
           "bgcolor": "white",
           "lakecolor": "white",
           "landcolor": "#E5ECF6",
           "showlakes": true,
           "showland": true,
           "subunitcolor": "white"
          },
          "hoverlabel": {
           "align": "left"
          },
          "hovermode": "closest",
          "mapbox": {
           "style": "light"
          },
          "paper_bgcolor": "white",
          "plot_bgcolor": "#E5ECF6",
          "polar": {
           "angularaxis": {
            "gridcolor": "white",
            "linecolor": "white",
            "ticks": ""
           },
           "bgcolor": "#E5ECF6",
           "radialaxis": {
            "gridcolor": "white",
            "linecolor": "white",
            "ticks": ""
           }
          },
          "scene": {
           "xaxis": {
            "backgroundcolor": "#E5ECF6",
            "gridcolor": "white",
            "gridwidth": 2,
            "linecolor": "white",
            "showbackground": true,
            "ticks": "",
            "zerolinecolor": "white"
           },
           "yaxis": {
            "backgroundcolor": "#E5ECF6",
            "gridcolor": "white",
            "gridwidth": 2,
            "linecolor": "white",
            "showbackground": true,
            "ticks": "",
            "zerolinecolor": "white"
           },
           "zaxis": {
            "backgroundcolor": "#E5ECF6",
            "gridcolor": "white",
            "gridwidth": 2,
            "linecolor": "white",
            "showbackground": true,
            "ticks": "",
            "zerolinecolor": "white"
           }
          },
          "shapedefaults": {
           "line": {
            "color": "#2a3f5f"
           }
          },
          "ternary": {
           "aaxis": {
            "gridcolor": "white",
            "linecolor": "white",
            "ticks": ""
           },
           "baxis": {
            "gridcolor": "white",
            "linecolor": "white",
            "ticks": ""
           },
           "bgcolor": "#E5ECF6",
           "caxis": {
            "gridcolor": "white",
            "linecolor": "white",
            "ticks": ""
           }
          },
          "title": {
           "x": 0.05
          },
          "xaxis": {
           "automargin": true,
           "gridcolor": "white",
           "linecolor": "white",
           "ticks": "",
           "title": {
            "standoff": 15
           },
           "zerolinecolor": "white",
           "zerolinewidth": 2
          },
          "yaxis": {
           "automargin": true,
           "gridcolor": "white",
           "linecolor": "white",
           "ticks": "",
           "title": {
            "standoff": 15
           },
           "zerolinecolor": "white",
           "zerolinewidth": 2
          }
         }
        },
        "title": {
         "text": "Content Ratings Distribution"
        },
        "xaxis": {
         "title": {
          "text": "Rating"
         }
        },
        "yaxis": {
         "title": {
          "text": "Count"
         }
        }
       }
      },
      "text/html": [
       "<div>                            <div id=\"f755a81e-7d7f-4f2a-9866-087c58ad26ec\" class=\"plotly-graph-div\" style=\"height:525px; width:100%;\"></div>            <script type=\"text/javascript\">                require([\"plotly\"], function(Plotly) {                    window.PLOTLYENV=window.PLOTLYENV || {};                                    if (document.getElementById(\"f755a81e-7d7f-4f2a-9866-087c58ad26ec\")) {                    Plotly.newPlot(                        \"f755a81e-7d7f-4f2a-9866-087c58ad26ec\",                        [{\"marker\":{\"color\":\"#a678de\"},\"name\":\"TV Shows\",\"x\":[\"G\",\"NR\",\"R\",\"TV-14\",\"TV-G\",\"TV-MA\",\"TV-PG\",\"TV-Y\",\"TV-Y7\",\"TV-Y7-FV\"],\"y\":[1,16,2,638,68,649,265,98,94,65],\"type\":\"bar\"},{\"marker\":{\"color\":\"#6ad49b\"},\"name\":\"Movies\",\"x\":[\"G\",\"NC-17\",\"NR\",\"PG\",\"PG-13\",\"R\",\"TV-14\",\"TV-G\",\"TV-MA\",\"TV-PG\",\"TV-Y\",\"TV-Y7\",\"TV-Y7-FV\",\"UR\"],\"y\":[31,2,202,160,227,437,955,79,1288,413,41,62,27,7],\"type\":\"bar\"}],                        {\"legend\":{\"orientation\":\"h\",\"x\":0.1,\"y\":1.1},\"title\":{\"text\":\"Content Ratings Distribution\"},\"xaxis\":{\"title\":{\"text\":\"Rating\"}},\"yaxis\":{\"title\":{\"text\":\"Count\"}},\"template\":{\"data\":{\"histogram2dcontour\":[{\"type\":\"histogram2dcontour\",\"colorbar\":{\"outlinewidth\":0,\"ticks\":\"\"},\"colorscale\":[[0.0,\"#0d0887\"],[0.1111111111111111,\"#46039f\"],[0.2222222222222222,\"#7201a8\"],[0.3333333333333333,\"#9c179e\"],[0.4444444444444444,\"#bd3786\"],[0.5555555555555556,\"#d8576b\"],[0.6666666666666666,\"#ed7953\"],[0.7777777777777778,\"#fb9f3a\"],[0.8888888888888888,\"#fdca26\"],[1.0,\"#f0f921\"]]}],\"choropleth\":[{\"type\":\"choropleth\",\"colorbar\":{\"outlinewidth\":0,\"ticks\":\"\"}}],\"histogram2d\":[{\"type\":\"histogram2d\",\"colorbar\":{\"outlinewidth\":0,\"ticks\":\"\"},\"colorscale\":[[0.0,\"#0d0887\"],[0.1111111111111111,\"#46039f\"],[0.2222222222222222,\"#7201a8\"],[0.3333333333333333,\"#9c179e\"],[0.4444444444444444,\"#bd3786\"],[0.5555555555555556,\"#d8576b\"],[0.6666666666666666,\"#ed7953\"],[0.7777777777777778,\"#fb9f3a\"],[0.8888888888888888,\"#fdca26\"],[1.0,\"#f0f921\"]]}],\"heatmap\":[{\"type\":\"heatmap\",\"colorbar\":{\"outlinewidth\":0,\"ticks\":\"\"},\"colorscale\":[[0.0,\"#0d0887\"],[0.1111111111111111,\"#46039f\"],[0.2222222222222222,\"#7201a8\"],[0.3333333333333333,\"#9c179e\"],[0.4444444444444444,\"#bd3786\"],[0.5555555555555556,\"#d8576b\"],[0.6666666666666666,\"#ed7953\"],[0.7777777777777778,\"#fb9f3a\"],[0.8888888888888888,\"#fdca26\"],[1.0,\"#f0f921\"]]}],\"heatmapgl\":[{\"type\":\"heatmapgl\",\"colorbar\":{\"outlinewidth\":0,\"ticks\":\"\"},\"colorscale\":[[0.0,\"#0d0887\"],[0.1111111111111111,\"#46039f\"],[0.2222222222222222,\"#7201a8\"],[0.3333333333333333,\"#9c179e\"],[0.4444444444444444,\"#bd3786\"],[0.5555555555555556,\"#d8576b\"],[0.6666666666666666,\"#ed7953\"],[0.7777777777777778,\"#fb9f3a\"],[0.8888888888888888,\"#fdca26\"],[1.0,\"#f0f921\"]]}],\"contourcarpet\":[{\"type\":\"contourcarpet\",\"colorbar\":{\"outlinewidth\":0,\"ticks\":\"\"}}],\"contour\":[{\"type\":\"contour\",\"colorbar\":{\"outlinewidth\":0,\"ticks\":\"\"},\"colorscale\":[[0.0,\"#0d0887\"],[0.1111111111111111,\"#46039f\"],[0.2222222222222222,\"#7201a8\"],[0.3333333333333333,\"#9c179e\"],[0.4444444444444444,\"#bd3786\"],[0.5555555555555556,\"#d8576b\"],[0.6666666666666666,\"#ed7953\"],[0.7777777777777778,\"#fb9f3a\"],[0.8888888888888888,\"#fdca26\"],[1.0,\"#f0f921\"]]}],\"surface\":[{\"type\":\"surface\",\"colorbar\":{\"outlinewidth\":0,\"ticks\":\"\"},\"colorscale\":[[0.0,\"#0d0887\"],[0.1111111111111111,\"#46039f\"],[0.2222222222222222,\"#7201a8\"],[0.3333333333333333,\"#9c179e\"],[0.4444444444444444,\"#bd3786\"],[0.5555555555555556,\"#d8576b\"],[0.6666666666666666,\"#ed7953\"],[0.7777777777777778,\"#fb9f3a\"],[0.8888888888888888,\"#fdca26\"],[1.0,\"#f0f921\"]]}],\"mesh3d\":[{\"type\":\"mesh3d\",\"colorbar\":{\"outlinewidth\":0,\"ticks\":\"\"}}],\"scatter\":[{\"fillpattern\":{\"fillmode\":\"overlay\",\"size\":10,\"solidity\":0.2},\"type\":\"scatter\"}],\"parcoords\":[{\"type\":\"parcoords\",\"line\":{\"colorbar\":{\"outlinewidth\":0,\"ticks\":\"\"}}}],\"scatterpolargl\":[{\"type\":\"scatterpolargl\",\"marker\":{\"colorbar\":{\"outlinewidth\":0,\"ticks\":\"\"}}}],\"bar\":[{\"error_x\":{\"color\":\"#2a3f5f\"},\"error_y\":{\"color\":\"#2a3f5f\"},\"marker\":{\"line\":{\"color\":\"#E5ECF6\",\"width\":0.5},\"pattern\":{\"fillmode\":\"overlay\",\"size\":10,\"solidity\":0.2}},\"type\":\"bar\"}],\"scattergeo\":[{\"type\":\"scattergeo\",\"marker\":{\"colorbar\":{\"outlinewidth\":0,\"ticks\":\"\"}}}],\"scatterpolar\":[{\"type\":\"scatterpolar\",\"marker\":{\"colorbar\":{\"outlinewidth\":0,\"ticks\":\"\"}}}],\"histogram\":[{\"marker\":{\"pattern\":{\"fillmode\":\"overlay\",\"size\":10,\"solidity\":0.2}},\"type\":\"histogram\"}],\"scattergl\":[{\"type\":\"scattergl\",\"marker\":{\"colorbar\":{\"outlinewidth\":0,\"ticks\":\"\"}}}],\"scatter3d\":[{\"type\":\"scatter3d\",\"line\":{\"colorbar\":{\"outlinewidth\":0,\"ticks\":\"\"}},\"marker\":{\"colorbar\":{\"outlinewidth\":0,\"ticks\":\"\"}}}],\"scattermapbox\":[{\"type\":\"scattermapbox\",\"marker\":{\"colorbar\":{\"outlinewidth\":0,\"ticks\":\"\"}}}],\"scatterternary\":[{\"type\":\"scatterternary\",\"marker\":{\"colorbar\":{\"outlinewidth\":0,\"ticks\":\"\"}}}],\"scattercarpet\":[{\"type\":\"scattercarpet\",\"marker\":{\"colorbar\":{\"outlinewidth\":0,\"ticks\":\"\"}}}],\"carpet\":[{\"aaxis\":{\"endlinecolor\":\"#2a3f5f\",\"gridcolor\":\"white\",\"linecolor\":\"white\",\"minorgridcolor\":\"white\",\"startlinecolor\":\"#2a3f5f\"},\"baxis\":{\"endlinecolor\":\"#2a3f5f\",\"gridcolor\":\"white\",\"linecolor\":\"white\",\"minorgridcolor\":\"white\",\"startlinecolor\":\"#2a3f5f\"},\"type\":\"carpet\"}],\"table\":[{\"cells\":{\"fill\":{\"color\":\"#EBF0F8\"},\"line\":{\"color\":\"white\"}},\"header\":{\"fill\":{\"color\":\"#C8D4E3\"},\"line\":{\"color\":\"white\"}},\"type\":\"table\"}],\"barpolar\":[{\"marker\":{\"line\":{\"color\":\"#E5ECF6\",\"width\":0.5},\"pattern\":{\"fillmode\":\"overlay\",\"size\":10,\"solidity\":0.2}},\"type\":\"barpolar\"}],\"pie\":[{\"automargin\":true,\"type\":\"pie\"}]},\"layout\":{\"autotypenumbers\":\"strict\",\"colorway\":[\"#636efa\",\"#EF553B\",\"#00cc96\",\"#ab63fa\",\"#FFA15A\",\"#19d3f3\",\"#FF6692\",\"#B6E880\",\"#FF97FF\",\"#FECB52\"],\"font\":{\"color\":\"#2a3f5f\"},\"hovermode\":\"closest\",\"hoverlabel\":{\"align\":\"left\"},\"paper_bgcolor\":\"white\",\"plot_bgcolor\":\"#E5ECF6\",\"polar\":{\"bgcolor\":\"#E5ECF6\",\"angularaxis\":{\"gridcolor\":\"white\",\"linecolor\":\"white\",\"ticks\":\"\"},\"radialaxis\":{\"gridcolor\":\"white\",\"linecolor\":\"white\",\"ticks\":\"\"}},\"ternary\":{\"bgcolor\":\"#E5ECF6\",\"aaxis\":{\"gridcolor\":\"white\",\"linecolor\":\"white\",\"ticks\":\"\"},\"baxis\":{\"gridcolor\":\"white\",\"linecolor\":\"white\",\"ticks\":\"\"},\"caxis\":{\"gridcolor\":\"white\",\"linecolor\":\"white\",\"ticks\":\"\"}},\"coloraxis\":{\"colorbar\":{\"outlinewidth\":0,\"ticks\":\"\"}},\"colorscale\":{\"sequential\":[[0.0,\"#0d0887\"],[0.1111111111111111,\"#46039f\"],[0.2222222222222222,\"#7201a8\"],[0.3333333333333333,\"#9c179e\"],[0.4444444444444444,\"#bd3786\"],[0.5555555555555556,\"#d8576b\"],[0.6666666666666666,\"#ed7953\"],[0.7777777777777778,\"#fb9f3a\"],[0.8888888888888888,\"#fdca26\"],[1.0,\"#f0f921\"]],\"sequentialminus\":[[0.0,\"#0d0887\"],[0.1111111111111111,\"#46039f\"],[0.2222222222222222,\"#7201a8\"],[0.3333333333333333,\"#9c179e\"],[0.4444444444444444,\"#bd3786\"],[0.5555555555555556,\"#d8576b\"],[0.6666666666666666,\"#ed7953\"],[0.7777777777777778,\"#fb9f3a\"],[0.8888888888888888,\"#fdca26\"],[1.0,\"#f0f921\"]],\"diverging\":[[0,\"#8e0152\"],[0.1,\"#c51b7d\"],[0.2,\"#de77ae\"],[0.3,\"#f1b6da\"],[0.4,\"#fde0ef\"],[0.5,\"#f7f7f7\"],[0.6,\"#e6f5d0\"],[0.7,\"#b8e186\"],[0.8,\"#7fbc41\"],[0.9,\"#4d9221\"],[1,\"#276419\"]]},\"xaxis\":{\"gridcolor\":\"white\",\"linecolor\":\"white\",\"ticks\":\"\",\"title\":{\"standoff\":15},\"zerolinecolor\":\"white\",\"automargin\":true,\"zerolinewidth\":2},\"yaxis\":{\"gridcolor\":\"white\",\"linecolor\":\"white\",\"ticks\":\"\",\"title\":{\"standoff\":15},\"zerolinecolor\":\"white\",\"automargin\":true,\"zerolinewidth\":2},\"scene\":{\"xaxis\":{\"backgroundcolor\":\"#E5ECF6\",\"gridcolor\":\"white\",\"linecolor\":\"white\",\"showbackground\":true,\"ticks\":\"\",\"zerolinecolor\":\"white\",\"gridwidth\":2},\"yaxis\":{\"backgroundcolor\":\"#E5ECF6\",\"gridcolor\":\"white\",\"linecolor\":\"white\",\"showbackground\":true,\"ticks\":\"\",\"zerolinecolor\":\"white\",\"gridwidth\":2},\"zaxis\":{\"backgroundcolor\":\"#E5ECF6\",\"gridcolor\":\"white\",\"linecolor\":\"white\",\"showbackground\":true,\"ticks\":\"\",\"zerolinecolor\":\"white\",\"gridwidth\":2}},\"shapedefaults\":{\"line\":{\"color\":\"#2a3f5f\"}},\"annotationdefaults\":{\"arrowcolor\":\"#2a3f5f\",\"arrowhead\":0,\"arrowwidth\":1},\"geo\":{\"bgcolor\":\"white\",\"landcolor\":\"#E5ECF6\",\"subunitcolor\":\"white\",\"showland\":true,\"showlakes\":true,\"lakecolor\":\"white\"},\"title\":{\"x\":0.05},\"mapbox\":{\"style\":\"light\"}}}},                        {\"responsive\": true}                    ).then(function(){\n",
       "                            \n",
       "var gd = document.getElementById('f755a81e-7d7f-4f2a-9866-087c58ad26ec');\n",
       "var x = new MutationObserver(function (mutations, observer) {{\n",
       "        var display = window.getComputedStyle(gd).display;\n",
       "        if (!display || display === 'none') {{\n",
       "            console.log([gd, 'removed!']);\n",
       "            Plotly.purge(gd);\n",
       "            observer.disconnect();\n",
       "        }}\n",
       "}});\n",
       "\n",
       "// Listen for the removal of the full notebook cells\n",
       "var notebookContainer = gd.closest('#notebook-container');\n",
       "if (notebookContainer) {{\n",
       "    x.observe(notebookContainer, {childList: true});\n",
       "}}\n",
       "\n",
       "// Listen for the clearing of the current output cell\n",
       "var outputEl = gd.closest('.output');\n",
       "if (outputEl) {{\n",
       "    x.observe(outputEl, {childList: true});\n",
       "}}\n",
       "\n",
       "                        })                };                });            </script>        </div>"
      ]
     },
     "metadata": {},
     "output_type": "display_data"
    },
    {
     "data": {
      "application/vnd.plotly.v1+json": {
       "config": {
        "plotlyServerURL": "https://plot.ly"
       },
       "data": [
        {
         "marker": {
          "color": "#a678de"
         },
         "orientation": "h",
         "type": "bar",
         "x": [
          41,
          42,
          46,
          55,
          59,
          65,
          149,
          165,
          229,
          229,
          273,
          338,
          340,
          353,
          516,
          532,
          658,
          992,
          1488,
          1797
         ],
         "y": [
          "Anime Features",
          "Cult Movies",
          "Faith & Spirituality",
          "Movies",
          "LGBTQ Movies",
          "Classic Movies",
          "Sports Movies",
          "Sci-Fi & Fantasy",
          "Music & Musicals",
          "Horror Movies",
          "Stand-Up Comedy",
          "Romantic Movies",
          "Children & Family Movies",
          "Thrillers",
          "Independent Movies",
          "Action & Adventure",
          "Documentaries",
          "Comedies",
          "Dramas",
          "International Movies"
         ]
        }
       ],
       "layout": {
        "template": {
         "data": {
          "bar": [
           {
            "error_x": {
             "color": "#2a3f5f"
            },
            "error_y": {
             "color": "#2a3f5f"
            },
            "marker": {
             "line": {
              "color": "#E5ECF6",
              "width": 0.5
             },
             "pattern": {
              "fillmode": "overlay",
              "size": 10,
              "solidity": 0.2
             }
            },
            "type": "bar"
           }
          ],
          "barpolar": [
           {
            "marker": {
             "line": {
              "color": "#E5ECF6",
              "width": 0.5
             },
             "pattern": {
              "fillmode": "overlay",
              "size": 10,
              "solidity": 0.2
             }
            },
            "type": "barpolar"
           }
          ],
          "carpet": [
           {
            "aaxis": {
             "endlinecolor": "#2a3f5f",
             "gridcolor": "white",
             "linecolor": "white",
             "minorgridcolor": "white",
             "startlinecolor": "#2a3f5f"
            },
            "baxis": {
             "endlinecolor": "#2a3f5f",
             "gridcolor": "white",
             "linecolor": "white",
             "minorgridcolor": "white",
             "startlinecolor": "#2a3f5f"
            },
            "type": "carpet"
           }
          ],
          "choropleth": [
           {
            "colorbar": {
             "outlinewidth": 0,
             "ticks": ""
            },
            "type": "choropleth"
           }
          ],
          "contour": [
           {
            "colorbar": {
             "outlinewidth": 0,
             "ticks": ""
            },
            "colorscale": [
             [
              0,
              "#0d0887"
             ],
             [
              0.1111111111111111,
              "#46039f"
             ],
             [
              0.2222222222222222,
              "#7201a8"
             ],
             [
              0.3333333333333333,
              "#9c179e"
             ],
             [
              0.4444444444444444,
              "#bd3786"
             ],
             [
              0.5555555555555556,
              "#d8576b"
             ],
             [
              0.6666666666666666,
              "#ed7953"
             ],
             [
              0.7777777777777778,
              "#fb9f3a"
             ],
             [
              0.8888888888888888,
              "#fdca26"
             ],
             [
              1,
              "#f0f921"
             ]
            ],
            "type": "contour"
           }
          ],
          "contourcarpet": [
           {
            "colorbar": {
             "outlinewidth": 0,
             "ticks": ""
            },
            "type": "contourcarpet"
           }
          ],
          "heatmap": [
           {
            "colorbar": {
             "outlinewidth": 0,
             "ticks": ""
            },
            "colorscale": [
             [
              0,
              "#0d0887"
             ],
             [
              0.1111111111111111,
              "#46039f"
             ],
             [
              0.2222222222222222,
              "#7201a8"
             ],
             [
              0.3333333333333333,
              "#9c179e"
             ],
             [
              0.4444444444444444,
              "#bd3786"
             ],
             [
              0.5555555555555556,
              "#d8576b"
             ],
             [
              0.6666666666666666,
              "#ed7953"
             ],
             [
              0.7777777777777778,
              "#fb9f3a"
             ],
             [
              0.8888888888888888,
              "#fdca26"
             ],
             [
              1,
              "#f0f921"
             ]
            ],
            "type": "heatmap"
           }
          ],
          "heatmapgl": [
           {
            "colorbar": {
             "outlinewidth": 0,
             "ticks": ""
            },
            "colorscale": [
             [
              0,
              "#0d0887"
             ],
             [
              0.1111111111111111,
              "#46039f"
             ],
             [
              0.2222222222222222,
              "#7201a8"
             ],
             [
              0.3333333333333333,
              "#9c179e"
             ],
             [
              0.4444444444444444,
              "#bd3786"
             ],
             [
              0.5555555555555556,
              "#d8576b"
             ],
             [
              0.6666666666666666,
              "#ed7953"
             ],
             [
              0.7777777777777778,
              "#fb9f3a"
             ],
             [
              0.8888888888888888,
              "#fdca26"
             ],
             [
              1,
              "#f0f921"
             ]
            ],
            "type": "heatmapgl"
           }
          ],
          "histogram": [
           {
            "marker": {
             "pattern": {
              "fillmode": "overlay",
              "size": 10,
              "solidity": 0.2
             }
            },
            "type": "histogram"
           }
          ],
          "histogram2d": [
           {
            "colorbar": {
             "outlinewidth": 0,
             "ticks": ""
            },
            "colorscale": [
             [
              0,
              "#0d0887"
             ],
             [
              0.1111111111111111,
              "#46039f"
             ],
             [
              0.2222222222222222,
              "#7201a8"
             ],
             [
              0.3333333333333333,
              "#9c179e"
             ],
             [
              0.4444444444444444,
              "#bd3786"
             ],
             [
              0.5555555555555556,
              "#d8576b"
             ],
             [
              0.6666666666666666,
              "#ed7953"
             ],
             [
              0.7777777777777778,
              "#fb9f3a"
             ],
             [
              0.8888888888888888,
              "#fdca26"
             ],
             [
              1,
              "#f0f921"
             ]
            ],
            "type": "histogram2d"
           }
          ],
          "histogram2dcontour": [
           {
            "colorbar": {
             "outlinewidth": 0,
             "ticks": ""
            },
            "colorscale": [
             [
              0,
              "#0d0887"
             ],
             [
              0.1111111111111111,
              "#46039f"
             ],
             [
              0.2222222222222222,
              "#7201a8"
             ],
             [
              0.3333333333333333,
              "#9c179e"
             ],
             [
              0.4444444444444444,
              "#bd3786"
             ],
             [
              0.5555555555555556,
              "#d8576b"
             ],
             [
              0.6666666666666666,
              "#ed7953"
             ],
             [
              0.7777777777777778,
              "#fb9f3a"
             ],
             [
              0.8888888888888888,
              "#fdca26"
             ],
             [
              1,
              "#f0f921"
             ]
            ],
            "type": "histogram2dcontour"
           }
          ],
          "mesh3d": [
           {
            "colorbar": {
             "outlinewidth": 0,
             "ticks": ""
            },
            "type": "mesh3d"
           }
          ],
          "parcoords": [
           {
            "line": {
             "colorbar": {
              "outlinewidth": 0,
              "ticks": ""
             }
            },
            "type": "parcoords"
           }
          ],
          "pie": [
           {
            "automargin": true,
            "type": "pie"
           }
          ],
          "scatter": [
           {
            "fillpattern": {
             "fillmode": "overlay",
             "size": 10,
             "solidity": 0.2
            },
            "type": "scatter"
           }
          ],
          "scatter3d": [
           {
            "line": {
             "colorbar": {
              "outlinewidth": 0,
              "ticks": ""
             }
            },
            "marker": {
             "colorbar": {
              "outlinewidth": 0,
              "ticks": ""
             }
            },
            "type": "scatter3d"
           }
          ],
          "scattercarpet": [
           {
            "marker": {
             "colorbar": {
              "outlinewidth": 0,
              "ticks": ""
             }
            },
            "type": "scattercarpet"
           }
          ],
          "scattergeo": [
           {
            "marker": {
             "colorbar": {
              "outlinewidth": 0,
              "ticks": ""
             }
            },
            "type": "scattergeo"
           }
          ],
          "scattergl": [
           {
            "marker": {
             "colorbar": {
              "outlinewidth": 0,
              "ticks": ""
             }
            },
            "type": "scattergl"
           }
          ],
          "scattermapbox": [
           {
            "marker": {
             "colorbar": {
              "outlinewidth": 0,
              "ticks": ""
             }
            },
            "type": "scattermapbox"
           }
          ],
          "scatterpolar": [
           {
            "marker": {
             "colorbar": {
              "outlinewidth": 0,
              "ticks": ""
             }
            },
            "type": "scatterpolar"
           }
          ],
          "scatterpolargl": [
           {
            "marker": {
             "colorbar": {
              "outlinewidth": 0,
              "ticks": ""
             }
            },
            "type": "scatterpolargl"
           }
          ],
          "scatterternary": [
           {
            "marker": {
             "colorbar": {
              "outlinewidth": 0,
              "ticks": ""
             }
            },
            "type": "scatterternary"
           }
          ],
          "surface": [
           {
            "colorbar": {
             "outlinewidth": 0,
             "ticks": ""
            },
            "colorscale": [
             [
              0,
              "#0d0887"
             ],
             [
              0.1111111111111111,
              "#46039f"
             ],
             [
              0.2222222222222222,
              "#7201a8"
             ],
             [
              0.3333333333333333,
              "#9c179e"
             ],
             [
              0.4444444444444444,
              "#bd3786"
             ],
             [
              0.5555555555555556,
              "#d8576b"
             ],
             [
              0.6666666666666666,
              "#ed7953"
             ],
             [
              0.7777777777777778,
              "#fb9f3a"
             ],
             [
              0.8888888888888888,
              "#fdca26"
             ],
             [
              1,
              "#f0f921"
             ]
            ],
            "type": "surface"
           }
          ],
          "table": [
           {
            "cells": {
             "fill": {
              "color": "#EBF0F8"
             },
             "line": {
              "color": "white"
             }
            },
            "header": {
             "fill": {
              "color": "#C8D4E3"
             },
             "line": {
              "color": "white"
             }
            },
            "type": "table"
           }
          ]
         },
         "layout": {
          "annotationdefaults": {
           "arrowcolor": "#2a3f5f",
           "arrowhead": 0,
           "arrowwidth": 1
          },
          "autotypenumbers": "strict",
          "coloraxis": {
           "colorbar": {
            "outlinewidth": 0,
            "ticks": ""
           }
          },
          "colorscale": {
           "diverging": [
            [
             0,
             "#8e0152"
            ],
            [
             0.1,
             "#c51b7d"
            ],
            [
             0.2,
             "#de77ae"
            ],
            [
             0.3,
             "#f1b6da"
            ],
            [
             0.4,
             "#fde0ef"
            ],
            [
             0.5,
             "#f7f7f7"
            ],
            [
             0.6,
             "#e6f5d0"
            ],
            [
             0.7,
             "#b8e186"
            ],
            [
             0.8,
             "#7fbc41"
            ],
            [
             0.9,
             "#4d9221"
            ],
            [
             1,
             "#276419"
            ]
           ],
           "sequential": [
            [
             0,
             "#0d0887"
            ],
            [
             0.1111111111111111,
             "#46039f"
            ],
            [
             0.2222222222222222,
             "#7201a8"
            ],
            [
             0.3333333333333333,
             "#9c179e"
            ],
            [
             0.4444444444444444,
             "#bd3786"
            ],
            [
             0.5555555555555556,
             "#d8576b"
            ],
            [
             0.6666666666666666,
             "#ed7953"
            ],
            [
             0.7777777777777778,
             "#fb9f3a"
            ],
            [
             0.8888888888888888,
             "#fdca26"
            ],
            [
             1,
             "#f0f921"
            ]
           ],
           "sequentialminus": [
            [
             0,
             "#0d0887"
            ],
            [
             0.1111111111111111,
             "#46039f"
            ],
            [
             0.2222222222222222,
             "#7201a8"
            ],
            [
             0.3333333333333333,
             "#9c179e"
            ],
            [
             0.4444444444444444,
             "#bd3786"
            ],
            [
             0.5555555555555556,
             "#d8576b"
            ],
            [
             0.6666666666666666,
             "#ed7953"
            ],
            [
             0.7777777777777778,
             "#fb9f3a"
            ],
            [
             0.8888888888888888,
             "#fdca26"
            ],
            [
             1,
             "#f0f921"
            ]
           ]
          },
          "colorway": [
           "#636efa",
           "#EF553B",
           "#00cc96",
           "#ab63fa",
           "#FFA15A",
           "#19d3f3",
           "#FF6692",
           "#B6E880",
           "#FF97FF",
           "#FECB52"
          ],
          "font": {
           "color": "#2a3f5f"
          },
          "geo": {
           "bgcolor": "white",
           "lakecolor": "white",
           "landcolor": "#E5ECF6",
           "showlakes": true,
           "showland": true,
           "subunitcolor": "white"
          },
          "hoverlabel": {
           "align": "left"
          },
          "hovermode": "closest",
          "mapbox": {
           "style": "light"
          },
          "paper_bgcolor": "white",
          "plot_bgcolor": "#E5ECF6",
          "polar": {
           "angularaxis": {
            "gridcolor": "white",
            "linecolor": "white",
            "ticks": ""
           },
           "bgcolor": "#E5ECF6",
           "radialaxis": {
            "gridcolor": "white",
            "linecolor": "white",
            "ticks": ""
           }
          },
          "scene": {
           "xaxis": {
            "backgroundcolor": "#E5ECF6",
            "gridcolor": "white",
            "gridwidth": 2,
            "linecolor": "white",
            "showbackground": true,
            "ticks": "",
            "zerolinecolor": "white"
           },
           "yaxis": {
            "backgroundcolor": "#E5ECF6",
            "gridcolor": "white",
            "gridwidth": 2,
            "linecolor": "white",
            "showbackground": true,
            "ticks": "",
            "zerolinecolor": "white"
           },
           "zaxis": {
            "backgroundcolor": "#E5ECF6",
            "gridcolor": "white",
            "gridwidth": 2,
            "linecolor": "white",
            "showbackground": true,
            "ticks": "",
            "zerolinecolor": "white"
           }
          },
          "shapedefaults": {
           "line": {
            "color": "#2a3f5f"
           }
          },
          "ternary": {
           "aaxis": {
            "gridcolor": "white",
            "linecolor": "white",
            "ticks": ""
           },
           "baxis": {
            "gridcolor": "white",
            "linecolor": "white",
            "ticks": ""
           },
           "bgcolor": "#E5ECF6",
           "caxis": {
            "gridcolor": "white",
            "linecolor": "white",
            "ticks": ""
           }
          },
          "title": {
           "x": 0.05
          },
          "xaxis": {
           "automargin": true,
           "gridcolor": "white",
           "linecolor": "white",
           "ticks": "",
           "title": {
            "standoff": 15
           },
           "zerolinecolor": "white",
           "zerolinewidth": 2
          },
          "yaxis": {
           "automargin": true,
           "gridcolor": "white",
           "linecolor": "white",
           "ticks": "",
           "title": {
            "standoff": 15
           },
           "zerolinecolor": "white",
           "zerolinewidth": 2
          }
         }
        },
        "title": {
         "text": "Top 50 Movie Genres"
        },
        "xaxis": {
         "title": {
          "text": "Number of Movies"
         }
        },
        "yaxis": {
         "title": {
          "text": "Genre"
         }
        }
       }
      },
      "text/html": [
       "<div>                            <div id=\"c05c5cf3-3ea9-4df7-89f1-7734e724d9c1\" class=\"plotly-graph-div\" style=\"height:525px; width:100%;\"></div>            <script type=\"text/javascript\">                require([\"plotly\"], function(Plotly) {                    window.PLOTLYENV=window.PLOTLYENV || {};                                    if (document.getElementById(\"c05c5cf3-3ea9-4df7-89f1-7734e724d9c1\")) {                    Plotly.newPlot(                        \"c05c5cf3-3ea9-4df7-89f1-7734e724d9c1\",                        [{\"marker\":{\"color\":\"#a678de\"},\"orientation\":\"h\",\"x\":[41,42,46,55,59,65,149,165,229,229,273,338,340,353,516,532,658,992,1488,1797],\"y\":[\"Anime Features\",\"Cult Movies\",\"Faith & Spirituality\",\"Movies\",\"LGBTQ Movies\",\"Classic Movies\",\"Sports Movies\",\"Sci-Fi & Fantasy\",\"Music & Musicals\",\"Horror Movies\",\"Stand-Up Comedy\",\"Romantic Movies\",\"Children & Family Movies\",\"Thrillers\",\"Independent Movies\",\"Action & Adventure\",\"Documentaries\",\"Comedies\",\"Dramas\",\"International Movies\"],\"type\":\"bar\"}],                        {\"title\":{\"text\":\"Top 50 Movie Genres\"},\"xaxis\":{\"title\":{\"text\":\"Number of Movies\"}},\"yaxis\":{\"title\":{\"text\":\"Genre\"}},\"template\":{\"data\":{\"histogram2dcontour\":[{\"type\":\"histogram2dcontour\",\"colorbar\":{\"outlinewidth\":0,\"ticks\":\"\"},\"colorscale\":[[0.0,\"#0d0887\"],[0.1111111111111111,\"#46039f\"],[0.2222222222222222,\"#7201a8\"],[0.3333333333333333,\"#9c179e\"],[0.4444444444444444,\"#bd3786\"],[0.5555555555555556,\"#d8576b\"],[0.6666666666666666,\"#ed7953\"],[0.7777777777777778,\"#fb9f3a\"],[0.8888888888888888,\"#fdca26\"],[1.0,\"#f0f921\"]]}],\"choropleth\":[{\"type\":\"choropleth\",\"colorbar\":{\"outlinewidth\":0,\"ticks\":\"\"}}],\"histogram2d\":[{\"type\":\"histogram2d\",\"colorbar\":{\"outlinewidth\":0,\"ticks\":\"\"},\"colorscale\":[[0.0,\"#0d0887\"],[0.1111111111111111,\"#46039f\"],[0.2222222222222222,\"#7201a8\"],[0.3333333333333333,\"#9c179e\"],[0.4444444444444444,\"#bd3786\"],[0.5555555555555556,\"#d8576b\"],[0.6666666666666666,\"#ed7953\"],[0.7777777777777778,\"#fb9f3a\"],[0.8888888888888888,\"#fdca26\"],[1.0,\"#f0f921\"]]}],\"heatmap\":[{\"type\":\"heatmap\",\"colorbar\":{\"outlinewidth\":0,\"ticks\":\"\"},\"colorscale\":[[0.0,\"#0d0887\"],[0.1111111111111111,\"#46039f\"],[0.2222222222222222,\"#7201a8\"],[0.3333333333333333,\"#9c179e\"],[0.4444444444444444,\"#bd3786\"],[0.5555555555555556,\"#d8576b\"],[0.6666666666666666,\"#ed7953\"],[0.7777777777777778,\"#fb9f3a\"],[0.8888888888888888,\"#fdca26\"],[1.0,\"#f0f921\"]]}],\"heatmapgl\":[{\"type\":\"heatmapgl\",\"colorbar\":{\"outlinewidth\":0,\"ticks\":\"\"},\"colorscale\":[[0.0,\"#0d0887\"],[0.1111111111111111,\"#46039f\"],[0.2222222222222222,\"#7201a8\"],[0.3333333333333333,\"#9c179e\"],[0.4444444444444444,\"#bd3786\"],[0.5555555555555556,\"#d8576b\"],[0.6666666666666666,\"#ed7953\"],[0.7777777777777778,\"#fb9f3a\"],[0.8888888888888888,\"#fdca26\"],[1.0,\"#f0f921\"]]}],\"contourcarpet\":[{\"type\":\"contourcarpet\",\"colorbar\":{\"outlinewidth\":0,\"ticks\":\"\"}}],\"contour\":[{\"type\":\"contour\",\"colorbar\":{\"outlinewidth\":0,\"ticks\":\"\"},\"colorscale\":[[0.0,\"#0d0887\"],[0.1111111111111111,\"#46039f\"],[0.2222222222222222,\"#7201a8\"],[0.3333333333333333,\"#9c179e\"],[0.4444444444444444,\"#bd3786\"],[0.5555555555555556,\"#d8576b\"],[0.6666666666666666,\"#ed7953\"],[0.7777777777777778,\"#fb9f3a\"],[0.8888888888888888,\"#fdca26\"],[1.0,\"#f0f921\"]]}],\"surface\":[{\"type\":\"surface\",\"colorbar\":{\"outlinewidth\":0,\"ticks\":\"\"},\"colorscale\":[[0.0,\"#0d0887\"],[0.1111111111111111,\"#46039f\"],[0.2222222222222222,\"#7201a8\"],[0.3333333333333333,\"#9c179e\"],[0.4444444444444444,\"#bd3786\"],[0.5555555555555556,\"#d8576b\"],[0.6666666666666666,\"#ed7953\"],[0.7777777777777778,\"#fb9f3a\"],[0.8888888888888888,\"#fdca26\"],[1.0,\"#f0f921\"]]}],\"mesh3d\":[{\"type\":\"mesh3d\",\"colorbar\":{\"outlinewidth\":0,\"ticks\":\"\"}}],\"scatter\":[{\"fillpattern\":{\"fillmode\":\"overlay\",\"size\":10,\"solidity\":0.2},\"type\":\"scatter\"}],\"parcoords\":[{\"type\":\"parcoords\",\"line\":{\"colorbar\":{\"outlinewidth\":0,\"ticks\":\"\"}}}],\"scatterpolargl\":[{\"type\":\"scatterpolargl\",\"marker\":{\"colorbar\":{\"outlinewidth\":0,\"ticks\":\"\"}}}],\"bar\":[{\"error_x\":{\"color\":\"#2a3f5f\"},\"error_y\":{\"color\":\"#2a3f5f\"},\"marker\":{\"line\":{\"color\":\"#E5ECF6\",\"width\":0.5},\"pattern\":{\"fillmode\":\"overlay\",\"size\":10,\"solidity\":0.2}},\"type\":\"bar\"}],\"scattergeo\":[{\"type\":\"scattergeo\",\"marker\":{\"colorbar\":{\"outlinewidth\":0,\"ticks\":\"\"}}}],\"scatterpolar\":[{\"type\":\"scatterpolar\",\"marker\":{\"colorbar\":{\"outlinewidth\":0,\"ticks\":\"\"}}}],\"histogram\":[{\"marker\":{\"pattern\":{\"fillmode\":\"overlay\",\"size\":10,\"solidity\":0.2}},\"type\":\"histogram\"}],\"scattergl\":[{\"type\":\"scattergl\",\"marker\":{\"colorbar\":{\"outlinewidth\":0,\"ticks\":\"\"}}}],\"scatter3d\":[{\"type\":\"scatter3d\",\"line\":{\"colorbar\":{\"outlinewidth\":0,\"ticks\":\"\"}},\"marker\":{\"colorbar\":{\"outlinewidth\":0,\"ticks\":\"\"}}}],\"scattermapbox\":[{\"type\":\"scattermapbox\",\"marker\":{\"colorbar\":{\"outlinewidth\":0,\"ticks\":\"\"}}}],\"scatterternary\":[{\"type\":\"scatterternary\",\"marker\":{\"colorbar\":{\"outlinewidth\":0,\"ticks\":\"\"}}}],\"scattercarpet\":[{\"type\":\"scattercarpet\",\"marker\":{\"colorbar\":{\"outlinewidth\":0,\"ticks\":\"\"}}}],\"carpet\":[{\"aaxis\":{\"endlinecolor\":\"#2a3f5f\",\"gridcolor\":\"white\",\"linecolor\":\"white\",\"minorgridcolor\":\"white\",\"startlinecolor\":\"#2a3f5f\"},\"baxis\":{\"endlinecolor\":\"#2a3f5f\",\"gridcolor\":\"white\",\"linecolor\":\"white\",\"minorgridcolor\":\"white\",\"startlinecolor\":\"#2a3f5f\"},\"type\":\"carpet\"}],\"table\":[{\"cells\":{\"fill\":{\"color\":\"#EBF0F8\"},\"line\":{\"color\":\"white\"}},\"header\":{\"fill\":{\"color\":\"#C8D4E3\"},\"line\":{\"color\":\"white\"}},\"type\":\"table\"}],\"barpolar\":[{\"marker\":{\"line\":{\"color\":\"#E5ECF6\",\"width\":0.5},\"pattern\":{\"fillmode\":\"overlay\",\"size\":10,\"solidity\":0.2}},\"type\":\"barpolar\"}],\"pie\":[{\"automargin\":true,\"type\":\"pie\"}]},\"layout\":{\"autotypenumbers\":\"strict\",\"colorway\":[\"#636efa\",\"#EF553B\",\"#00cc96\",\"#ab63fa\",\"#FFA15A\",\"#19d3f3\",\"#FF6692\",\"#B6E880\",\"#FF97FF\",\"#FECB52\"],\"font\":{\"color\":\"#2a3f5f\"},\"hovermode\":\"closest\",\"hoverlabel\":{\"align\":\"left\"},\"paper_bgcolor\":\"white\",\"plot_bgcolor\":\"#E5ECF6\",\"polar\":{\"bgcolor\":\"#E5ECF6\",\"angularaxis\":{\"gridcolor\":\"white\",\"linecolor\":\"white\",\"ticks\":\"\"},\"radialaxis\":{\"gridcolor\":\"white\",\"linecolor\":\"white\",\"ticks\":\"\"}},\"ternary\":{\"bgcolor\":\"#E5ECF6\",\"aaxis\":{\"gridcolor\":\"white\",\"linecolor\":\"white\",\"ticks\":\"\"},\"baxis\":{\"gridcolor\":\"white\",\"linecolor\":\"white\",\"ticks\":\"\"},\"caxis\":{\"gridcolor\":\"white\",\"linecolor\":\"white\",\"ticks\":\"\"}},\"coloraxis\":{\"colorbar\":{\"outlinewidth\":0,\"ticks\":\"\"}},\"colorscale\":{\"sequential\":[[0.0,\"#0d0887\"],[0.1111111111111111,\"#46039f\"],[0.2222222222222222,\"#7201a8\"],[0.3333333333333333,\"#9c179e\"],[0.4444444444444444,\"#bd3786\"],[0.5555555555555556,\"#d8576b\"],[0.6666666666666666,\"#ed7953\"],[0.7777777777777778,\"#fb9f3a\"],[0.8888888888888888,\"#fdca26\"],[1.0,\"#f0f921\"]],\"sequentialminus\":[[0.0,\"#0d0887\"],[0.1111111111111111,\"#46039f\"],[0.2222222222222222,\"#7201a8\"],[0.3333333333333333,\"#9c179e\"],[0.4444444444444444,\"#bd3786\"],[0.5555555555555556,\"#d8576b\"],[0.6666666666666666,\"#ed7953\"],[0.7777777777777778,\"#fb9f3a\"],[0.8888888888888888,\"#fdca26\"],[1.0,\"#f0f921\"]],\"diverging\":[[0,\"#8e0152\"],[0.1,\"#c51b7d\"],[0.2,\"#de77ae\"],[0.3,\"#f1b6da\"],[0.4,\"#fde0ef\"],[0.5,\"#f7f7f7\"],[0.6,\"#e6f5d0\"],[0.7,\"#b8e186\"],[0.8,\"#7fbc41\"],[0.9,\"#4d9221\"],[1,\"#276419\"]]},\"xaxis\":{\"gridcolor\":\"white\",\"linecolor\":\"white\",\"ticks\":\"\",\"title\":{\"standoff\":15},\"zerolinecolor\":\"white\",\"automargin\":true,\"zerolinewidth\":2},\"yaxis\":{\"gridcolor\":\"white\",\"linecolor\":\"white\",\"ticks\":\"\",\"title\":{\"standoff\":15},\"zerolinecolor\":\"white\",\"automargin\":true,\"zerolinewidth\":2},\"scene\":{\"xaxis\":{\"backgroundcolor\":\"#E5ECF6\",\"gridcolor\":\"white\",\"linecolor\":\"white\",\"showbackground\":true,\"ticks\":\"\",\"zerolinecolor\":\"white\",\"gridwidth\":2},\"yaxis\":{\"backgroundcolor\":\"#E5ECF6\",\"gridcolor\":\"white\",\"linecolor\":\"white\",\"showbackground\":true,\"ticks\":\"\",\"zerolinecolor\":\"white\",\"gridwidth\":2},\"zaxis\":{\"backgroundcolor\":\"#E5ECF6\",\"gridcolor\":\"white\",\"linecolor\":\"white\",\"showbackground\":true,\"ticks\":\"\",\"zerolinecolor\":\"white\",\"gridwidth\":2}},\"shapedefaults\":{\"line\":{\"color\":\"#2a3f5f\"}},\"annotationdefaults\":{\"arrowcolor\":\"#2a3f5f\",\"arrowhead\":0,\"arrowwidth\":1},\"geo\":{\"bgcolor\":\"white\",\"landcolor\":\"#E5ECF6\",\"subunitcolor\":\"white\",\"showland\":true,\"showlakes\":true,\"lakecolor\":\"white\"},\"title\":{\"x\":0.05},\"mapbox\":{\"style\":\"light\"}}}},                        {\"responsive\": true}                    ).then(function(){\n",
       "                            \n",
       "var gd = document.getElementById('c05c5cf3-3ea9-4df7-89f1-7734e724d9c1');\n",
       "var x = new MutationObserver(function (mutations, observer) {{\n",
       "        var display = window.getComputedStyle(gd).display;\n",
       "        if (!display || display === 'none') {{\n",
       "            console.log([gd, 'removed!']);\n",
       "            Plotly.purge(gd);\n",
       "            observer.disconnect();\n",
       "        }}\n",
       "}});\n",
       "\n",
       "// Listen for the removal of the full notebook cells\n",
       "var notebookContainer = gd.closest('#notebook-container');\n",
       "if (notebookContainer) {{\n",
       "    x.observe(notebookContainer, {childList: true});\n",
       "}}\n",
       "\n",
       "// Listen for the clearing of the current output cell\n",
       "var outputEl = gd.closest('.output');\n",
       "if (outputEl) {{\n",
       "    x.observe(outputEl, {childList: true});\n",
       "}}\n",
       "\n",
       "                        })                };                });            </script>        </div>"
      ]
     },
     "metadata": {},
     "output_type": "display_data"
    },
    {
     "data": {
      "application/vnd.plotly.v1+json": {
       "config": {
        "plotlyServerURL": "https://plot.ly"
       },
       "data": [
        {
         "marker": {
          "color": "#a678de"
         },
         "orientation": "h",
         "type": "bar",
         "x": [
          9,
          9,
          9,
          9,
          9,
          9,
          9,
          9,
          9,
          10,
          10,
          10,
          10,
          10,
          11,
          11,
          12,
          12,
          12,
          12,
          12,
          13,
          13,
          13
         ],
         "xaxis": "x",
         "y": [
          "Tabitha St. Germain  ",
          "Jim Gaffigan  ",
          "Alfred Molina  ",
          "John C. Reilly  ",
          "Rob Riggle  ",
          "Kathryn Hahn  ",
          "Bruce Willis  ",
          "Don Cheadle  ",
          "Harvey Keitel  ",
          "Danny Trejo  ",
          "Tara Strong  ",
          "Morgan Freeman  ",
          "Halle Berry  ",
          "Ron Perlman  ",
          "Keanu Reeves  ",
          "Samuel L. Jackson  ",
          "Erin Fitzgerald  ",
          "Fred Tatasciore  ",
          "Kate Higgins  ",
          "Adam Sandler  ",
          "Molly Shannon  ",
          "Laura Bailey  ",
          "James Franco  ",
          "Nicolas Cage  "
         ],
         "yaxis": "y"
        },
        {
         "marker": {
          "color": "#a678de"
         },
         "orientation": "h",
         "type": "bar",
         "x": [
          11,
          11,
          11,
          12,
          12,
          12,
          12,
          12,
          12,
          12,
          12,
          12,
          13,
          14,
          14,
          15,
          17,
          17,
          18,
          19,
          20,
          22,
          27,
          28
         ],
         "xaxis": "x3",
         "y": [
          "Rajpal Yadav  ",
          "Aamir Khan  ",
          "Nassar  ",
          "Johnny Lever  ",
          "Sachin Khedekar  ",
          "Ajay Devgn  ",
          "Nawazuddin Siddiqui  ",
          "Jackie Shroff  ",
          "Manoj Bajpayee  ",
          "Saif Ali Khan  ",
          "Raghuvir Yadav  ",
          "Adil Hussain  ",
          "Anil Kapoor  ",
          "Kay Kay Menon  ",
          "Amitabh Bachchan  ",
          "Gulshan Grover  ",
          "Kareena Kapoor  ",
          "Naseeruddin Shah  ",
          "Boman Irani  ",
          "Paresh Rawal  ",
          "Om Puri  ",
          "Akshay Kumar  ",
          "Shah Rukh Khan  ",
          "Anupam Kher  "
         ],
         "yaxis": "y3"
        },
        {
         "marker": {
          "color": "#a678de"
         },
         "orientation": "h",
         "type": "bar",
         "x": [
          4,
          4,
          4,
          4,
          4,
          4,
          4,
          4,
          4,
          4,
          4,
          4,
          4,
          4,
          5,
          5,
          5,
          6,
          7,
          7,
          7,
          7,
          7,
          8
         ],
         "xaxis": "x5",
         "y": [
          "David Morrissey  ",
          "Carol Cleveland  ",
          "Colin Farrell  ",
          "Jim Broadbent  ",
          "Julie Walters  ",
          "Ben Mendelsohn  ",
          "Eric Bana  ",
          "Ewan McGregor  ",
          "Emily Watson  ",
          "Kristin Scott Thomas  ",
          "Michael Gambon  ",
          "Ben Whishaw  ",
          "Jamie Bell  ",
          "Sam Spruell  ",
          "Eddie Marsan  ",
          "Jason Flemyng  ",
          "James Cosmo  ",
          "Graham Chapman  ",
          "Michael Palin  ",
          "Terry Jones  ",
          "Terry Gilliam  ",
          "Eric Idle  ",
          "Samuel West  ",
          "John Cleese  "
         ],
         "yaxis": "y5"
        },
        {
         "marker": {
          "color": "#a678de"
         },
         "orientation": "h",
         "type": "bar",
         "x": [
          3,
          3,
          3,
          3,
          3,
          3,
          3,
          3,
          4,
          4,
          4,
          4,
          4,
          4,
          4,
          4,
          4,
          4,
          4,
          5,
          7,
          8,
          10,
          10
         ],
         "xaxis": "x6",
         "y": [
          "Rebecca Shoichet  ",
          "Kenneth Welsh  ",
          "Jay Baruchel  ",
          "Robert Forster  ",
          "Sarah Fisher  ",
          "Diana Kaarina  ",
          "Ryan Reynolds  ",
          "Michael Kopsa  ",
          "Cathy Weseluck  ",
          "Pat Roach  ",
          "Barrie Dunn  ",
          "Lucy Decoutere  ",
          "Alison Pill  ",
          "Tabitha St. Germain  ",
          "Ashleigh Ball  ",
          "Tara Strong  ",
          "Colm Feore  ",
          "Andrea Libman  ",
          "Vincent Tong  ",
          "Patrick Roach  ",
          "Mike Smith  ",
          "John Dunsworth  ",
          "John Paul Tremblay  ",
          "Robb Wells  "
         ],
         "yaxis": "y6"
        },
        {
         "marker": {
          "color": "#a678de"
         },
         "orientation": "h",
         "type": "bar",
         "x": [
          3,
          3,
          4,
          4,
          4,
          4,
          4,
          4,
          4,
          4,
          4,
          4,
          5,
          5,
          5,
          5,
          5,
          5,
          6,
          6,
          6,
          7,
          7,
          8
         ],
         "xaxis": "x8",
         "y": [
          "Kandido Uranga  ",
          "Mariana Cordero  ",
          "Carlos Areces  ",
          "Luis Callejo  ",
          "José Coronado  ",
          "Pedro Casablanc  ",
          "Joaquín Climent  ",
          "Macarena García  ",
          "Blanca Suárez  ",
          "Clara Lago  ",
          "Elvira Mínguez  ",
          "Bárbara Lennie  ",
          "Macarena Gómez  ",
          "Javier Gutiérrez  ",
          "Dani Rovira  ",
          "Belén Cuesta  ",
          "Alexandra Jiménez  ",
          "Secun de la Rosa  ",
          "Emilio Gutiérrez Caba  ",
          "Karra Elejalde  ",
          "Alain Hernández  ",
          "Luis Tosar  ",
          "Mario Casas  ",
          "Carmen Machi  "
         ],
         "yaxis": "y8"
        },
        {
         "marker": {
          "color": "#a678de"
         },
         "orientation": "h",
         "type": "bar",
         "x": [
          3,
          3,
          4,
          4,
          4,
          4,
          4,
          4,
          4,
          4,
          4,
          4,
          4,
          4,
          5,
          5,
          5,
          5,
          5,
          6,
          6,
          7,
          7,
          8
         ],
         "xaxis": "x10",
         "y": [
          "Akira Ishida  ",
          "Megumi Han  ",
          "Showtaro Morikubo  ",
          "Fumiko Orikasa  ",
          "Kumiko Watanabe  ",
          "Houko Kuwashima  ",
          "Koji Tsujitani  ",
          "Kappei Yamaguchi  ",
          "Akio Otsuka  ",
          "Kenta Miyake  ",
          "Daisuke Ono  ",
          "Maaya Sakamoto  ",
          "Saori Hayami  ",
          "Kana Hanazawa  ",
          "Rikiya Koyama  ",
          "Satsuki Yukino  ",
          "Kazuya Nakai  ",
          "Minako Kotobuki  ",
          "Aki Toyosaki  ",
          "Kazuhiko Inoue  ",
          "Takahiro Sakurai  ",
          "Chie Nakamura  ",
          "Junko Takeuchi  ",
          "Yuki Kaji  "
         ],
         "yaxis": "y10"
        }
       ],
       "layout": {
        "annotations": [
         {
          "font": {
           "size": 16
          },
          "showarrow": false,
          "text": "United States",
          "x": 0.08399999999999999,
          "xanchor": "center",
          "xref": "paper",
          "y": 1,
          "yanchor": "bottom",
          "yref": "paper"
         },
         {
          "font": {
           "size": 16
          },
          "showarrow": false,
          "text": "India",
          "x": 0.5,
          "xanchor": "center",
          "xref": "paper",
          "y": 1,
          "yanchor": "bottom",
          "yref": "paper"
         },
         {
          "font": {
           "size": 16
          },
          "showarrow": false,
          "text": "United Kingdom",
          "x": 0.9159999999999999,
          "xanchor": "center",
          "xref": "paper",
          "y": 1,
          "yanchor": "bottom",
          "yref": "paper"
         },
         {
          "font": {
           "size": 16
          },
          "showarrow": false,
          "text": "Canada",
          "x": 0.08399999999999999,
          "xanchor": "center",
          "xref": "paper",
          "y": 0.375,
          "yanchor": "bottom",
          "yref": "paper"
         },
         {
          "font": {
           "size": 16
          },
          "showarrow": false,
          "text": "Spain",
          "x": 0.5,
          "xanchor": "center",
          "xref": "paper",
          "y": 0.375,
          "yanchor": "bottom",
          "yref": "paper"
         },
         {
          "font": {
           "size": 16
          },
          "showarrow": false,
          "text": "Japan",
          "x": 0.9159999999999999,
          "xanchor": "center",
          "xref": "paper",
          "y": 0.375,
          "yanchor": "bottom",
          "yref": "paper"
         }
        ],
        "height": 1200,
        "showlegend": false,
        "template": {
         "data": {
          "bar": [
           {
            "error_x": {
             "color": "#2a3f5f"
            },
            "error_y": {
             "color": "#2a3f5f"
            },
            "marker": {
             "line": {
              "color": "#E5ECF6",
              "width": 0.5
             },
             "pattern": {
              "fillmode": "overlay",
              "size": 10,
              "solidity": 0.2
             }
            },
            "type": "bar"
           }
          ],
          "barpolar": [
           {
            "marker": {
             "line": {
              "color": "#E5ECF6",
              "width": 0.5
             },
             "pattern": {
              "fillmode": "overlay",
              "size": 10,
              "solidity": 0.2
             }
            },
            "type": "barpolar"
           }
          ],
          "carpet": [
           {
            "aaxis": {
             "endlinecolor": "#2a3f5f",
             "gridcolor": "white",
             "linecolor": "white",
             "minorgridcolor": "white",
             "startlinecolor": "#2a3f5f"
            },
            "baxis": {
             "endlinecolor": "#2a3f5f",
             "gridcolor": "white",
             "linecolor": "white",
             "minorgridcolor": "white",
             "startlinecolor": "#2a3f5f"
            },
            "type": "carpet"
           }
          ],
          "choropleth": [
           {
            "colorbar": {
             "outlinewidth": 0,
             "ticks": ""
            },
            "type": "choropleth"
           }
          ],
          "contour": [
           {
            "colorbar": {
             "outlinewidth": 0,
             "ticks": ""
            },
            "colorscale": [
             [
              0,
              "#0d0887"
             ],
             [
              0.1111111111111111,
              "#46039f"
             ],
             [
              0.2222222222222222,
              "#7201a8"
             ],
             [
              0.3333333333333333,
              "#9c179e"
             ],
             [
              0.4444444444444444,
              "#bd3786"
             ],
             [
              0.5555555555555556,
              "#d8576b"
             ],
             [
              0.6666666666666666,
              "#ed7953"
             ],
             [
              0.7777777777777778,
              "#fb9f3a"
             ],
             [
              0.8888888888888888,
              "#fdca26"
             ],
             [
              1,
              "#f0f921"
             ]
            ],
            "type": "contour"
           }
          ],
          "contourcarpet": [
           {
            "colorbar": {
             "outlinewidth": 0,
             "ticks": ""
            },
            "type": "contourcarpet"
           }
          ],
          "heatmap": [
           {
            "colorbar": {
             "outlinewidth": 0,
             "ticks": ""
            },
            "colorscale": [
             [
              0,
              "#0d0887"
             ],
             [
              0.1111111111111111,
              "#46039f"
             ],
             [
              0.2222222222222222,
              "#7201a8"
             ],
             [
              0.3333333333333333,
              "#9c179e"
             ],
             [
              0.4444444444444444,
              "#bd3786"
             ],
             [
              0.5555555555555556,
              "#d8576b"
             ],
             [
              0.6666666666666666,
              "#ed7953"
             ],
             [
              0.7777777777777778,
              "#fb9f3a"
             ],
             [
              0.8888888888888888,
              "#fdca26"
             ],
             [
              1,
              "#f0f921"
             ]
            ],
            "type": "heatmap"
           }
          ],
          "heatmapgl": [
           {
            "colorbar": {
             "outlinewidth": 0,
             "ticks": ""
            },
            "colorscale": [
             [
              0,
              "#0d0887"
             ],
             [
              0.1111111111111111,
              "#46039f"
             ],
             [
              0.2222222222222222,
              "#7201a8"
             ],
             [
              0.3333333333333333,
              "#9c179e"
             ],
             [
              0.4444444444444444,
              "#bd3786"
             ],
             [
              0.5555555555555556,
              "#d8576b"
             ],
             [
              0.6666666666666666,
              "#ed7953"
             ],
             [
              0.7777777777777778,
              "#fb9f3a"
             ],
             [
              0.8888888888888888,
              "#fdca26"
             ],
             [
              1,
              "#f0f921"
             ]
            ],
            "type": "heatmapgl"
           }
          ],
          "histogram": [
           {
            "marker": {
             "pattern": {
              "fillmode": "overlay",
              "size": 10,
              "solidity": 0.2
             }
            },
            "type": "histogram"
           }
          ],
          "histogram2d": [
           {
            "colorbar": {
             "outlinewidth": 0,
             "ticks": ""
            },
            "colorscale": [
             [
              0,
              "#0d0887"
             ],
             [
              0.1111111111111111,
              "#46039f"
             ],
             [
              0.2222222222222222,
              "#7201a8"
             ],
             [
              0.3333333333333333,
              "#9c179e"
             ],
             [
              0.4444444444444444,
              "#bd3786"
             ],
             [
              0.5555555555555556,
              "#d8576b"
             ],
             [
              0.6666666666666666,
              "#ed7953"
             ],
             [
              0.7777777777777778,
              "#fb9f3a"
             ],
             [
              0.8888888888888888,
              "#fdca26"
             ],
             [
              1,
              "#f0f921"
             ]
            ],
            "type": "histogram2d"
           }
          ],
          "histogram2dcontour": [
           {
            "colorbar": {
             "outlinewidth": 0,
             "ticks": ""
            },
            "colorscale": [
             [
              0,
              "#0d0887"
             ],
             [
              0.1111111111111111,
              "#46039f"
             ],
             [
              0.2222222222222222,
              "#7201a8"
             ],
             [
              0.3333333333333333,
              "#9c179e"
             ],
             [
              0.4444444444444444,
              "#bd3786"
             ],
             [
              0.5555555555555556,
              "#d8576b"
             ],
             [
              0.6666666666666666,
              "#ed7953"
             ],
             [
              0.7777777777777778,
              "#fb9f3a"
             ],
             [
              0.8888888888888888,
              "#fdca26"
             ],
             [
              1,
              "#f0f921"
             ]
            ],
            "type": "histogram2dcontour"
           }
          ],
          "mesh3d": [
           {
            "colorbar": {
             "outlinewidth": 0,
             "ticks": ""
            },
            "type": "mesh3d"
           }
          ],
          "parcoords": [
           {
            "line": {
             "colorbar": {
              "outlinewidth": 0,
              "ticks": ""
             }
            },
            "type": "parcoords"
           }
          ],
          "pie": [
           {
            "automargin": true,
            "type": "pie"
           }
          ],
          "scatter": [
           {
            "fillpattern": {
             "fillmode": "overlay",
             "size": 10,
             "solidity": 0.2
            },
            "type": "scatter"
           }
          ],
          "scatter3d": [
           {
            "line": {
             "colorbar": {
              "outlinewidth": 0,
              "ticks": ""
             }
            },
            "marker": {
             "colorbar": {
              "outlinewidth": 0,
              "ticks": ""
             }
            },
            "type": "scatter3d"
           }
          ],
          "scattercarpet": [
           {
            "marker": {
             "colorbar": {
              "outlinewidth": 0,
              "ticks": ""
             }
            },
            "type": "scattercarpet"
           }
          ],
          "scattergeo": [
           {
            "marker": {
             "colorbar": {
              "outlinewidth": 0,
              "ticks": ""
             }
            },
            "type": "scattergeo"
           }
          ],
          "scattergl": [
           {
            "marker": {
             "colorbar": {
              "outlinewidth": 0,
              "ticks": ""
             }
            },
            "type": "scattergl"
           }
          ],
          "scattermapbox": [
           {
            "marker": {
             "colorbar": {
              "outlinewidth": 0,
              "ticks": ""
             }
            },
            "type": "scattermapbox"
           }
          ],
          "scatterpolar": [
           {
            "marker": {
             "colorbar": {
              "outlinewidth": 0,
              "ticks": ""
             }
            },
            "type": "scatterpolar"
           }
          ],
          "scatterpolargl": [
           {
            "marker": {
             "colorbar": {
              "outlinewidth": 0,
              "ticks": ""
             }
            },
            "type": "scatterpolargl"
           }
          ],
          "scatterternary": [
           {
            "marker": {
             "colorbar": {
              "outlinewidth": 0,
              "ticks": ""
             }
            },
            "type": "scatterternary"
           }
          ],
          "surface": [
           {
            "colorbar": {
             "outlinewidth": 0,
             "ticks": ""
            },
            "colorscale": [
             [
              0,
              "#0d0887"
             ],
             [
              0.1111111111111111,
              "#46039f"
             ],
             [
              0.2222222222222222,
              "#7201a8"
             ],
             [
              0.3333333333333333,
              "#9c179e"
             ],
             [
              0.4444444444444444,
              "#bd3786"
             ],
             [
              0.5555555555555556,
              "#d8576b"
             ],
             [
              0.6666666666666666,
              "#ed7953"
             ],
             [
              0.7777777777777778,
              "#fb9f3a"
             ],
             [
              0.8888888888888888,
              "#fdca26"
             ],
             [
              1,
              "#f0f921"
             ]
            ],
            "type": "surface"
           }
          ],
          "table": [
           {
            "cells": {
             "fill": {
              "color": "#EBF0F8"
             },
             "line": {
              "color": "white"
             }
            },
            "header": {
             "fill": {
              "color": "#C8D4E3"
             },
             "line": {
              "color": "white"
             }
            },
            "type": "table"
           }
          ]
         },
         "layout": {
          "annotationdefaults": {
           "arrowcolor": "#2a3f5f",
           "arrowhead": 0,
           "arrowwidth": 1
          },
          "autotypenumbers": "strict",
          "coloraxis": {
           "colorbar": {
            "outlinewidth": 0,
            "ticks": ""
           }
          },
          "colorscale": {
           "diverging": [
            [
             0,
             "#8e0152"
            ],
            [
             0.1,
             "#c51b7d"
            ],
            [
             0.2,
             "#de77ae"
            ],
            [
             0.3,
             "#f1b6da"
            ],
            [
             0.4,
             "#fde0ef"
            ],
            [
             0.5,
             "#f7f7f7"
            ],
            [
             0.6,
             "#e6f5d0"
            ],
            [
             0.7,
             "#b8e186"
            ],
            [
             0.8,
             "#7fbc41"
            ],
            [
             0.9,
             "#4d9221"
            ],
            [
             1,
             "#276419"
            ]
           ],
           "sequential": [
            [
             0,
             "#0d0887"
            ],
            [
             0.1111111111111111,
             "#46039f"
            ],
            [
             0.2222222222222222,
             "#7201a8"
            ],
            [
             0.3333333333333333,
             "#9c179e"
            ],
            [
             0.4444444444444444,
             "#bd3786"
            ],
            [
             0.5555555555555556,
             "#d8576b"
            ],
            [
             0.6666666666666666,
             "#ed7953"
            ],
            [
             0.7777777777777778,
             "#fb9f3a"
            ],
            [
             0.8888888888888888,
             "#fdca26"
            ],
            [
             1,
             "#f0f921"
            ]
           ],
           "sequentialminus": [
            [
             0,
             "#0d0887"
            ],
            [
             0.1111111111111111,
             "#46039f"
            ],
            [
             0.2222222222222222,
             "#7201a8"
            ],
            [
             0.3333333333333333,
             "#9c179e"
            ],
            [
             0.4444444444444444,
             "#bd3786"
            ],
            [
             0.5555555555555556,
             "#d8576b"
            ],
            [
             0.6666666666666666,
             "#ed7953"
            ],
            [
             0.7777777777777778,
             "#fb9f3a"
            ],
            [
             0.8888888888888888,
             "#fdca26"
            ],
            [
             1,
             "#f0f921"
            ]
           ]
          },
          "colorway": [
           "#636efa",
           "#EF553B",
           "#00cc96",
           "#ab63fa",
           "#FFA15A",
           "#19d3f3",
           "#FF6692",
           "#B6E880",
           "#FF97FF",
           "#FECB52"
          ],
          "font": {
           "color": "#2a3f5f"
          },
          "geo": {
           "bgcolor": "white",
           "lakecolor": "white",
           "landcolor": "#E5ECF6",
           "showlakes": true,
           "showland": true,
           "subunitcolor": "white"
          },
          "hoverlabel": {
           "align": "left"
          },
          "hovermode": "closest",
          "mapbox": {
           "style": "light"
          },
          "paper_bgcolor": "white",
          "plot_bgcolor": "#E5ECF6",
          "polar": {
           "angularaxis": {
            "gridcolor": "white",
            "linecolor": "white",
            "ticks": ""
           },
           "bgcolor": "#E5ECF6",
           "radialaxis": {
            "gridcolor": "white",
            "linecolor": "white",
            "ticks": ""
           }
          },
          "scene": {
           "xaxis": {
            "backgroundcolor": "#E5ECF6",
            "gridcolor": "white",
            "gridwidth": 2,
            "linecolor": "white",
            "showbackground": true,
            "ticks": "",
            "zerolinecolor": "white"
           },
           "yaxis": {
            "backgroundcolor": "#E5ECF6",
            "gridcolor": "white",
            "gridwidth": 2,
            "linecolor": "white",
            "showbackground": true,
            "ticks": "",
            "zerolinecolor": "white"
           },
           "zaxis": {
            "backgroundcolor": "#E5ECF6",
            "gridcolor": "white",
            "gridwidth": 2,
            "linecolor": "white",
            "showbackground": true,
            "ticks": "",
            "zerolinecolor": "white"
           }
          },
          "shapedefaults": {
           "line": {
            "color": "#2a3f5f"
           }
          },
          "ternary": {
           "aaxis": {
            "gridcolor": "white",
            "linecolor": "white",
            "ticks": ""
           },
           "baxis": {
            "gridcolor": "white",
            "linecolor": "white",
            "ticks": ""
           },
           "bgcolor": "#E5ECF6",
           "caxis": {
            "gridcolor": "white",
            "linecolor": "white",
            "ticks": ""
           }
          },
          "title": {
           "x": 0.05
          },
          "xaxis": {
           "automargin": true,
           "gridcolor": "white",
           "linecolor": "white",
           "ticks": "",
           "title": {
            "standoff": 15
           },
           "zerolinecolor": "white",
           "zerolinewidth": 2
          },
          "yaxis": {
           "automargin": true,
           "gridcolor": "white",
           "linecolor": "white",
           "ticks": "",
           "title": {
            "standoff": 15
           },
           "zerolinecolor": "white",
           "zerolinewidth": 2
          }
         }
        },
        "title": {
         "text": "Top Cast Members by Country (Movies)"
        },
        "xaxis": {
         "anchor": "y",
         "domain": [
          0,
          0.16799999999999998
         ]
        },
        "xaxis10": {
         "anchor": "y10",
         "domain": [
          0.832,
          1
         ]
        },
        "xaxis2": {
         "anchor": "y2",
         "domain": [
          0.208,
          0.376
         ]
        },
        "xaxis3": {
         "anchor": "y3",
         "domain": [
          0.416,
          0.584
         ]
        },
        "xaxis4": {
         "anchor": "y4",
         "domain": [
          0.624,
          0.792
         ]
        },
        "xaxis5": {
         "anchor": "y5",
         "domain": [
          0.832,
          1
         ]
        },
        "xaxis6": {
         "anchor": "y6",
         "domain": [
          0,
          0.16799999999999998
         ]
        },
        "xaxis7": {
         "anchor": "y7",
         "domain": [
          0.208,
          0.376
         ]
        },
        "xaxis8": {
         "anchor": "y8",
         "domain": [
          0.416,
          0.584
         ]
        },
        "xaxis9": {
         "anchor": "y9",
         "domain": [
          0.624,
          0.792
         ]
        },
        "yaxis": {
         "anchor": "x",
         "domain": [
          0.625,
          1
         ]
        },
        "yaxis10": {
         "anchor": "x10",
         "domain": [
          0,
          0.375
         ]
        },
        "yaxis2": {
         "anchor": "x2",
         "domain": [
          0.625,
          1
         ]
        },
        "yaxis3": {
         "anchor": "x3",
         "domain": [
          0.625,
          1
         ]
        },
        "yaxis4": {
         "anchor": "x4",
         "domain": [
          0.625,
          1
         ]
        },
        "yaxis5": {
         "anchor": "x5",
         "domain": [
          0.625,
          1
         ]
        },
        "yaxis6": {
         "anchor": "x6",
         "domain": [
          0,
          0.375
         ]
        },
        "yaxis7": {
         "anchor": "x7",
         "domain": [
          0,
          0.375
         ]
        },
        "yaxis8": {
         "anchor": "x8",
         "domain": [
          0,
          0.375
         ]
        },
        "yaxis9": {
         "anchor": "x9",
         "domain": [
          0,
          0.375
         ]
        }
       }
      },
      "text/html": [
       "<div>                            <div id=\"e9fb8b72-1d01-4ce8-a148-cc2149cd1c16\" class=\"plotly-graph-div\" style=\"height:1200px; width:100%;\"></div>            <script type=\"text/javascript\">                require([\"plotly\"], function(Plotly) {                    window.PLOTLYENV=window.PLOTLYENV || {};                                    if (document.getElementById(\"e9fb8b72-1d01-4ce8-a148-cc2149cd1c16\")) {                    Plotly.newPlot(                        \"e9fb8b72-1d01-4ce8-a148-cc2149cd1c16\",                        [{\"marker\":{\"color\":\"#a678de\"},\"orientation\":\"h\",\"x\":[9,9,9,9,9,9,9,9,9,10,10,10,10,10,11,11,12,12,12,12,12,13,13,13],\"y\":[\"Tabitha St. Germain  \",\"Jim Gaffigan  \",\"Alfred Molina  \",\"John C. Reilly  \",\"Rob Riggle  \",\"Kathryn Hahn  \",\"Bruce Willis  \",\"Don Cheadle  \",\"Harvey Keitel  \",\"Danny Trejo  \",\"Tara Strong  \",\"Morgan Freeman  \",\"Halle Berry  \",\"Ron Perlman  \",\"Keanu Reeves  \",\"Samuel L. Jackson  \",\"Erin Fitzgerald  \",\"Fred Tatasciore  \",\"Kate Higgins  \",\"Adam Sandler  \",\"Molly Shannon  \",\"Laura Bailey  \",\"James Franco  \",\"Nicolas Cage  \"],\"type\":\"bar\",\"xaxis\":\"x\",\"yaxis\":\"y\"},{\"marker\":{\"color\":\"#a678de\"},\"orientation\":\"h\",\"x\":[11,11,11,12,12,12,12,12,12,12,12,12,13,14,14,15,17,17,18,19,20,22,27,28],\"y\":[\"Rajpal Yadav  \",\"Aamir Khan  \",\"Nassar  \",\"Johnny Lever  \",\"Sachin Khedekar  \",\"Ajay Devgn  \",\"Nawazuddin Siddiqui  \",\"Jackie Shroff  \",\"Manoj Bajpayee  \",\"Saif Ali Khan  \",\"Raghuvir Yadav  \",\"Adil Hussain  \",\"Anil Kapoor  \",\"Kay Kay Menon  \",\"Amitabh Bachchan  \",\"Gulshan Grover  \",\"Kareena Kapoor  \",\"Naseeruddin Shah  \",\"Boman Irani  \",\"Paresh Rawal  \",\"Om Puri  \",\"Akshay Kumar  \",\"Shah Rukh Khan  \",\"Anupam Kher  \"],\"type\":\"bar\",\"xaxis\":\"x3\",\"yaxis\":\"y3\"},{\"marker\":{\"color\":\"#a678de\"},\"orientation\":\"h\",\"x\":[4,4,4,4,4,4,4,4,4,4,4,4,4,4,5,5,5,6,7,7,7,7,7,8],\"y\":[\"David Morrissey  \",\"Carol Cleveland  \",\"Colin Farrell  \",\"Jim Broadbent  \",\"Julie Walters  \",\"Ben Mendelsohn  \",\"Eric Bana  \",\"Ewan McGregor  \",\"Emily Watson  \",\"Kristin Scott Thomas  \",\"Michael Gambon  \",\"Ben Whishaw  \",\"Jamie Bell  \",\"Sam Spruell  \",\"Eddie Marsan  \",\"Jason Flemyng  \",\"James Cosmo  \",\"Graham Chapman  \",\"Michael Palin  \",\"Terry Jones  \",\"Terry Gilliam  \",\"Eric Idle  \",\"Samuel West  \",\"John Cleese  \"],\"type\":\"bar\",\"xaxis\":\"x5\",\"yaxis\":\"y5\"},{\"marker\":{\"color\":\"#a678de\"},\"orientation\":\"h\",\"x\":[3,3,3,3,3,3,3,3,4,4,4,4,4,4,4,4,4,4,4,5,7,8,10,10],\"y\":[\"Rebecca Shoichet  \",\"Kenneth Welsh  \",\"Jay Baruchel  \",\"Robert Forster  \",\"Sarah Fisher  \",\"Diana Kaarina  \",\"Ryan Reynolds  \",\"Michael Kopsa  \",\"Cathy Weseluck  \",\"Pat Roach  \",\"Barrie Dunn  \",\"Lucy Decoutere  \",\"Alison Pill  \",\"Tabitha St. Germain  \",\"Ashleigh Ball  \",\"Tara Strong  \",\"Colm Feore  \",\"Andrea Libman  \",\"Vincent Tong  \",\"Patrick Roach  \",\"Mike Smith  \",\"John Dunsworth  \",\"John Paul Tremblay  \",\"Robb Wells  \"],\"type\":\"bar\",\"xaxis\":\"x6\",\"yaxis\":\"y6\"},{\"marker\":{\"color\":\"#a678de\"},\"orientation\":\"h\",\"x\":[3,3,4,4,4,4,4,4,4,4,4,4,5,5,5,5,5,5,6,6,6,7,7,8],\"y\":[\"Kandido Uranga  \",\"Mariana Cordero  \",\"Carlos Areces  \",\"Luis Callejo  \",\"Jos\\u00e9 Coronado  \",\"Pedro Casablanc  \",\"Joaqu\\u00edn Climent  \",\"Macarena Garc\\u00eda  \",\"Blanca Su\\u00e1rez  \",\"Clara Lago  \",\"Elvira M\\u00ednguez  \",\"B\\u00e1rbara Lennie  \",\"Macarena G\\u00f3mez  \",\"Javier Guti\\u00e9rrez  \",\"Dani Rovira  \",\"Bel\\u00e9n Cuesta  \",\"Alexandra Jim\\u00e9nez  \",\"Secun de la Rosa  \",\"Emilio Guti\\u00e9rrez Caba  \",\"Karra Elejalde  \",\"Alain Hern\\u00e1ndez  \",\"Luis Tosar  \",\"Mario Casas  \",\"Carmen Machi  \"],\"type\":\"bar\",\"xaxis\":\"x8\",\"yaxis\":\"y8\"},{\"marker\":{\"color\":\"#a678de\"},\"orientation\":\"h\",\"x\":[3,3,4,4,4,4,4,4,4,4,4,4,4,4,5,5,5,5,5,6,6,7,7,8],\"y\":[\"Akira Ishida  \",\"Megumi Han  \",\"Showtaro Morikubo  \",\"Fumiko Orikasa  \",\"Kumiko Watanabe  \",\"Houko Kuwashima  \",\"Koji Tsujitani  \",\"Kappei Yamaguchi  \",\"Akio Otsuka  \",\"Kenta Miyake  \",\"Daisuke Ono  \",\"Maaya Sakamoto  \",\"Saori Hayami  \",\"Kana Hanazawa  \",\"Rikiya Koyama  \",\"Satsuki Yukino  \",\"Kazuya Nakai  \",\"Minako Kotobuki  \",\"Aki Toyosaki  \",\"Kazuhiko Inoue  \",\"Takahiro Sakurai  \",\"Chie Nakamura  \",\"Junko Takeuchi  \",\"Yuki Kaji  \"],\"type\":\"bar\",\"xaxis\":\"x10\",\"yaxis\":\"y10\"}],                        {\"template\":{\"data\":{\"histogram2dcontour\":[{\"type\":\"histogram2dcontour\",\"colorbar\":{\"outlinewidth\":0,\"ticks\":\"\"},\"colorscale\":[[0.0,\"#0d0887\"],[0.1111111111111111,\"#46039f\"],[0.2222222222222222,\"#7201a8\"],[0.3333333333333333,\"#9c179e\"],[0.4444444444444444,\"#bd3786\"],[0.5555555555555556,\"#d8576b\"],[0.6666666666666666,\"#ed7953\"],[0.7777777777777778,\"#fb9f3a\"],[0.8888888888888888,\"#fdca26\"],[1.0,\"#f0f921\"]]}],\"choropleth\":[{\"type\":\"choropleth\",\"colorbar\":{\"outlinewidth\":0,\"ticks\":\"\"}}],\"histogram2d\":[{\"type\":\"histogram2d\",\"colorbar\":{\"outlinewidth\":0,\"ticks\":\"\"},\"colorscale\":[[0.0,\"#0d0887\"],[0.1111111111111111,\"#46039f\"],[0.2222222222222222,\"#7201a8\"],[0.3333333333333333,\"#9c179e\"],[0.4444444444444444,\"#bd3786\"],[0.5555555555555556,\"#d8576b\"],[0.6666666666666666,\"#ed7953\"],[0.7777777777777778,\"#fb9f3a\"],[0.8888888888888888,\"#fdca26\"],[1.0,\"#f0f921\"]]}],\"heatmap\":[{\"type\":\"heatmap\",\"colorbar\":{\"outlinewidth\":0,\"ticks\":\"\"},\"colorscale\":[[0.0,\"#0d0887\"],[0.1111111111111111,\"#46039f\"],[0.2222222222222222,\"#7201a8\"],[0.3333333333333333,\"#9c179e\"],[0.4444444444444444,\"#bd3786\"],[0.5555555555555556,\"#d8576b\"],[0.6666666666666666,\"#ed7953\"],[0.7777777777777778,\"#fb9f3a\"],[0.8888888888888888,\"#fdca26\"],[1.0,\"#f0f921\"]]}],\"heatmapgl\":[{\"type\":\"heatmapgl\",\"colorbar\":{\"outlinewidth\":0,\"ticks\":\"\"},\"colorscale\":[[0.0,\"#0d0887\"],[0.1111111111111111,\"#46039f\"],[0.2222222222222222,\"#7201a8\"],[0.3333333333333333,\"#9c179e\"],[0.4444444444444444,\"#bd3786\"],[0.5555555555555556,\"#d8576b\"],[0.6666666666666666,\"#ed7953\"],[0.7777777777777778,\"#fb9f3a\"],[0.8888888888888888,\"#fdca26\"],[1.0,\"#f0f921\"]]}],\"contourcarpet\":[{\"type\":\"contourcarpet\",\"colorbar\":{\"outlinewidth\":0,\"ticks\":\"\"}}],\"contour\":[{\"type\":\"contour\",\"colorbar\":{\"outlinewidth\":0,\"ticks\":\"\"},\"colorscale\":[[0.0,\"#0d0887\"],[0.1111111111111111,\"#46039f\"],[0.2222222222222222,\"#7201a8\"],[0.3333333333333333,\"#9c179e\"],[0.4444444444444444,\"#bd3786\"],[0.5555555555555556,\"#d8576b\"],[0.6666666666666666,\"#ed7953\"],[0.7777777777777778,\"#fb9f3a\"],[0.8888888888888888,\"#fdca26\"],[1.0,\"#f0f921\"]]}],\"surface\":[{\"type\":\"surface\",\"colorbar\":{\"outlinewidth\":0,\"ticks\":\"\"},\"colorscale\":[[0.0,\"#0d0887\"],[0.1111111111111111,\"#46039f\"],[0.2222222222222222,\"#7201a8\"],[0.3333333333333333,\"#9c179e\"],[0.4444444444444444,\"#bd3786\"],[0.5555555555555556,\"#d8576b\"],[0.6666666666666666,\"#ed7953\"],[0.7777777777777778,\"#fb9f3a\"],[0.8888888888888888,\"#fdca26\"],[1.0,\"#f0f921\"]]}],\"mesh3d\":[{\"type\":\"mesh3d\",\"colorbar\":{\"outlinewidth\":0,\"ticks\":\"\"}}],\"scatter\":[{\"fillpattern\":{\"fillmode\":\"overlay\",\"size\":10,\"solidity\":0.2},\"type\":\"scatter\"}],\"parcoords\":[{\"type\":\"parcoords\",\"line\":{\"colorbar\":{\"outlinewidth\":0,\"ticks\":\"\"}}}],\"scatterpolargl\":[{\"type\":\"scatterpolargl\",\"marker\":{\"colorbar\":{\"outlinewidth\":0,\"ticks\":\"\"}}}],\"bar\":[{\"error_x\":{\"color\":\"#2a3f5f\"},\"error_y\":{\"color\":\"#2a3f5f\"},\"marker\":{\"line\":{\"color\":\"#E5ECF6\",\"width\":0.5},\"pattern\":{\"fillmode\":\"overlay\",\"size\":10,\"solidity\":0.2}},\"type\":\"bar\"}],\"scattergeo\":[{\"type\":\"scattergeo\",\"marker\":{\"colorbar\":{\"outlinewidth\":0,\"ticks\":\"\"}}}],\"scatterpolar\":[{\"type\":\"scatterpolar\",\"marker\":{\"colorbar\":{\"outlinewidth\":0,\"ticks\":\"\"}}}],\"histogram\":[{\"marker\":{\"pattern\":{\"fillmode\":\"overlay\",\"size\":10,\"solidity\":0.2}},\"type\":\"histogram\"}],\"scattergl\":[{\"type\":\"scattergl\",\"marker\":{\"colorbar\":{\"outlinewidth\":0,\"ticks\":\"\"}}}],\"scatter3d\":[{\"type\":\"scatter3d\",\"line\":{\"colorbar\":{\"outlinewidth\":0,\"ticks\":\"\"}},\"marker\":{\"colorbar\":{\"outlinewidth\":0,\"ticks\":\"\"}}}],\"scattermapbox\":[{\"type\":\"scattermapbox\",\"marker\":{\"colorbar\":{\"outlinewidth\":0,\"ticks\":\"\"}}}],\"scatterternary\":[{\"type\":\"scatterternary\",\"marker\":{\"colorbar\":{\"outlinewidth\":0,\"ticks\":\"\"}}}],\"scattercarpet\":[{\"type\":\"scattercarpet\",\"marker\":{\"colorbar\":{\"outlinewidth\":0,\"ticks\":\"\"}}}],\"carpet\":[{\"aaxis\":{\"endlinecolor\":\"#2a3f5f\",\"gridcolor\":\"white\",\"linecolor\":\"white\",\"minorgridcolor\":\"white\",\"startlinecolor\":\"#2a3f5f\"},\"baxis\":{\"endlinecolor\":\"#2a3f5f\",\"gridcolor\":\"white\",\"linecolor\":\"white\",\"minorgridcolor\":\"white\",\"startlinecolor\":\"#2a3f5f\"},\"type\":\"carpet\"}],\"table\":[{\"cells\":{\"fill\":{\"color\":\"#EBF0F8\"},\"line\":{\"color\":\"white\"}},\"header\":{\"fill\":{\"color\":\"#C8D4E3\"},\"line\":{\"color\":\"white\"}},\"type\":\"table\"}],\"barpolar\":[{\"marker\":{\"line\":{\"color\":\"#E5ECF6\",\"width\":0.5},\"pattern\":{\"fillmode\":\"overlay\",\"size\":10,\"solidity\":0.2}},\"type\":\"barpolar\"}],\"pie\":[{\"automargin\":true,\"type\":\"pie\"}]},\"layout\":{\"autotypenumbers\":\"strict\",\"colorway\":[\"#636efa\",\"#EF553B\",\"#00cc96\",\"#ab63fa\",\"#FFA15A\",\"#19d3f3\",\"#FF6692\",\"#B6E880\",\"#FF97FF\",\"#FECB52\"],\"font\":{\"color\":\"#2a3f5f\"},\"hovermode\":\"closest\",\"hoverlabel\":{\"align\":\"left\"},\"paper_bgcolor\":\"white\",\"plot_bgcolor\":\"#E5ECF6\",\"polar\":{\"bgcolor\":\"#E5ECF6\",\"angularaxis\":{\"gridcolor\":\"white\",\"linecolor\":\"white\",\"ticks\":\"\"},\"radialaxis\":{\"gridcolor\":\"white\",\"linecolor\":\"white\",\"ticks\":\"\"}},\"ternary\":{\"bgcolor\":\"#E5ECF6\",\"aaxis\":{\"gridcolor\":\"white\",\"linecolor\":\"white\",\"ticks\":\"\"},\"baxis\":{\"gridcolor\":\"white\",\"linecolor\":\"white\",\"ticks\":\"\"},\"caxis\":{\"gridcolor\":\"white\",\"linecolor\":\"white\",\"ticks\":\"\"}},\"coloraxis\":{\"colorbar\":{\"outlinewidth\":0,\"ticks\":\"\"}},\"colorscale\":{\"sequential\":[[0.0,\"#0d0887\"],[0.1111111111111111,\"#46039f\"],[0.2222222222222222,\"#7201a8\"],[0.3333333333333333,\"#9c179e\"],[0.4444444444444444,\"#bd3786\"],[0.5555555555555556,\"#d8576b\"],[0.6666666666666666,\"#ed7953\"],[0.7777777777777778,\"#fb9f3a\"],[0.8888888888888888,\"#fdca26\"],[1.0,\"#f0f921\"]],\"sequentialminus\":[[0.0,\"#0d0887\"],[0.1111111111111111,\"#46039f\"],[0.2222222222222222,\"#7201a8\"],[0.3333333333333333,\"#9c179e\"],[0.4444444444444444,\"#bd3786\"],[0.5555555555555556,\"#d8576b\"],[0.6666666666666666,\"#ed7953\"],[0.7777777777777778,\"#fb9f3a\"],[0.8888888888888888,\"#fdca26\"],[1.0,\"#f0f921\"]],\"diverging\":[[0,\"#8e0152\"],[0.1,\"#c51b7d\"],[0.2,\"#de77ae\"],[0.3,\"#f1b6da\"],[0.4,\"#fde0ef\"],[0.5,\"#f7f7f7\"],[0.6,\"#e6f5d0\"],[0.7,\"#b8e186\"],[0.8,\"#7fbc41\"],[0.9,\"#4d9221\"],[1,\"#276419\"]]},\"xaxis\":{\"gridcolor\":\"white\",\"linecolor\":\"white\",\"ticks\":\"\",\"title\":{\"standoff\":15},\"zerolinecolor\":\"white\",\"automargin\":true,\"zerolinewidth\":2},\"yaxis\":{\"gridcolor\":\"white\",\"linecolor\":\"white\",\"ticks\":\"\",\"title\":{\"standoff\":15},\"zerolinecolor\":\"white\",\"automargin\":true,\"zerolinewidth\":2},\"scene\":{\"xaxis\":{\"backgroundcolor\":\"#E5ECF6\",\"gridcolor\":\"white\",\"linecolor\":\"white\",\"showbackground\":true,\"ticks\":\"\",\"zerolinecolor\":\"white\",\"gridwidth\":2},\"yaxis\":{\"backgroundcolor\":\"#E5ECF6\",\"gridcolor\":\"white\",\"linecolor\":\"white\",\"showbackground\":true,\"ticks\":\"\",\"zerolinecolor\":\"white\",\"gridwidth\":2},\"zaxis\":{\"backgroundcolor\":\"#E5ECF6\",\"gridcolor\":\"white\",\"linecolor\":\"white\",\"showbackground\":true,\"ticks\":\"\",\"zerolinecolor\":\"white\",\"gridwidth\":2}},\"shapedefaults\":{\"line\":{\"color\":\"#2a3f5f\"}},\"annotationdefaults\":{\"arrowcolor\":\"#2a3f5f\",\"arrowhead\":0,\"arrowwidth\":1},\"geo\":{\"bgcolor\":\"white\",\"landcolor\":\"#E5ECF6\",\"subunitcolor\":\"white\",\"showland\":true,\"showlakes\":true,\"lakecolor\":\"white\"},\"title\":{\"x\":0.05},\"mapbox\":{\"style\":\"light\"}}},\"xaxis\":{\"anchor\":\"y\",\"domain\":[0.0,0.16799999999999998]},\"yaxis\":{\"anchor\":\"x\",\"domain\":[0.625,1.0]},\"xaxis2\":{\"anchor\":\"y2\",\"domain\":[0.208,0.376]},\"yaxis2\":{\"anchor\":\"x2\",\"domain\":[0.625,1.0]},\"xaxis3\":{\"anchor\":\"y3\",\"domain\":[0.416,0.584]},\"yaxis3\":{\"anchor\":\"x3\",\"domain\":[0.625,1.0]},\"xaxis4\":{\"anchor\":\"y4\",\"domain\":[0.624,0.792]},\"yaxis4\":{\"anchor\":\"x4\",\"domain\":[0.625,1.0]},\"xaxis5\":{\"anchor\":\"y5\",\"domain\":[0.832,1.0]},\"yaxis5\":{\"anchor\":\"x5\",\"domain\":[0.625,1.0]},\"xaxis6\":{\"anchor\":\"y6\",\"domain\":[0.0,0.16799999999999998]},\"yaxis6\":{\"anchor\":\"x6\",\"domain\":[0.0,0.375]},\"xaxis7\":{\"anchor\":\"y7\",\"domain\":[0.208,0.376]},\"yaxis7\":{\"anchor\":\"x7\",\"domain\":[0.0,0.375]},\"xaxis8\":{\"anchor\":\"y8\",\"domain\":[0.416,0.584]},\"yaxis8\":{\"anchor\":\"x8\",\"domain\":[0.0,0.375]},\"xaxis9\":{\"anchor\":\"y9\",\"domain\":[0.624,0.792]},\"yaxis9\":{\"anchor\":\"x9\",\"domain\":[0.0,0.375]},\"xaxis10\":{\"anchor\":\"y10\",\"domain\":[0.832,1.0]},\"yaxis10\":{\"anchor\":\"x10\",\"domain\":[0.0,0.375]},\"annotations\":[{\"font\":{\"size\":16},\"showarrow\":false,\"text\":\"United States\",\"x\":0.08399999999999999,\"xanchor\":\"center\",\"xref\":\"paper\",\"y\":1.0,\"yanchor\":\"bottom\",\"yref\":\"paper\"},{\"font\":{\"size\":16},\"showarrow\":false,\"text\":\"India\",\"x\":0.5,\"xanchor\":\"center\",\"xref\":\"paper\",\"y\":1.0,\"yanchor\":\"bottom\",\"yref\":\"paper\"},{\"font\":{\"size\":16},\"showarrow\":false,\"text\":\"United Kingdom\",\"x\":0.9159999999999999,\"xanchor\":\"center\",\"xref\":\"paper\",\"y\":1.0,\"yanchor\":\"bottom\",\"yref\":\"paper\"},{\"font\":{\"size\":16},\"showarrow\":false,\"text\":\"Canada\",\"x\":0.08399999999999999,\"xanchor\":\"center\",\"xref\":\"paper\",\"y\":0.375,\"yanchor\":\"bottom\",\"yref\":\"paper\"},{\"font\":{\"size\":16},\"showarrow\":false,\"text\":\"Spain\",\"x\":0.5,\"xanchor\":\"center\",\"xref\":\"paper\",\"y\":0.375,\"yanchor\":\"bottom\",\"yref\":\"paper\"},{\"font\":{\"size\":16},\"showarrow\":false,\"text\":\"Japan\",\"x\":0.9159999999999999,\"xanchor\":\"center\",\"xref\":\"paper\",\"y\":0.375,\"yanchor\":\"bottom\",\"yref\":\"paper\"}],\"title\":{\"text\":\"Top Cast Members by Country (Movies)\"},\"height\":1200,\"showlegend\":false},                        {\"responsive\": true}                    ).then(function(){\n",
       "                            \n",
       "var gd = document.getElementById('e9fb8b72-1d01-4ce8-a148-cc2149cd1c16');\n",
       "var x = new MutationObserver(function (mutations, observer) {{\n",
       "        var display = window.getComputedStyle(gd).display;\n",
       "        if (!display || display === 'none') {{\n",
       "            console.log([gd, 'removed!']);\n",
       "            Plotly.purge(gd);\n",
       "            observer.disconnect();\n",
       "        }}\n",
       "}});\n",
       "\n",
       "// Listen for the removal of the full notebook cells\n",
       "var notebookContainer = gd.closest('#notebook-container');\n",
       "if (notebookContainer) {{\n",
       "    x.observe(notebookContainer, {childList: true});\n",
       "}}\n",
       "\n",
       "// Listen for the clearing of the current output cell\n",
       "var outputEl = gd.closest('.output');\n",
       "if (outputEl) {{\n",
       "    x.observe(outputEl, {childList: true});\n",
       "}}\n",
       "\n",
       "                        })                };                });            </script>        </div>"
      ]
     },
     "metadata": {},
     "output_type": "display_data"
    },
    {
     "data": {
      "application/vnd.plotly.v1+json": {
       "config": {
        "plotlyServerURL": "https://plot.ly"
       },
       "data": [
        {
         "marker": {
          "color": "orange"
         },
         "orientation": "h",
         "type": "bar",
         "x": [
          4,
          4,
          5,
          5,
          5,
          5,
          5,
          5,
          5,
          6,
          7
         ],
         "y": [
          "David Dhawan",
          "Rakeysh Omprakash Mehra",
          "Umesh Mehra",
          "Rajiv Mehra",
          "Abbas Alibhai Burmawalla",
          "Mastan Alibhai Burmawalla",
          "Vishal Bhardwaj",
          "Ashutosh Gowariker",
          "Gajendra Ahire",
          "Dibakar Banerjee",
          "S.S. Rajamouli"
         ]
        }
       ],
       "layout": {
        "legend": {
         "orientation": "h",
         "x": 0.1,
         "y": 1.1
        },
        "template": {
         "data": {
          "bar": [
           {
            "error_x": {
             "color": "#2a3f5f"
            },
            "error_y": {
             "color": "#2a3f5f"
            },
            "marker": {
             "line": {
              "color": "#E5ECF6",
              "width": 0.5
             },
             "pattern": {
              "fillmode": "overlay",
              "size": 10,
              "solidity": 0.2
             }
            },
            "type": "bar"
           }
          ],
          "barpolar": [
           {
            "marker": {
             "line": {
              "color": "#E5ECF6",
              "width": 0.5
             },
             "pattern": {
              "fillmode": "overlay",
              "size": 10,
              "solidity": 0.2
             }
            },
            "type": "barpolar"
           }
          ],
          "carpet": [
           {
            "aaxis": {
             "endlinecolor": "#2a3f5f",
             "gridcolor": "white",
             "linecolor": "white",
             "minorgridcolor": "white",
             "startlinecolor": "#2a3f5f"
            },
            "baxis": {
             "endlinecolor": "#2a3f5f",
             "gridcolor": "white",
             "linecolor": "white",
             "minorgridcolor": "white",
             "startlinecolor": "#2a3f5f"
            },
            "type": "carpet"
           }
          ],
          "choropleth": [
           {
            "colorbar": {
             "outlinewidth": 0,
             "ticks": ""
            },
            "type": "choropleth"
           }
          ],
          "contour": [
           {
            "colorbar": {
             "outlinewidth": 0,
             "ticks": ""
            },
            "colorscale": [
             [
              0,
              "#0d0887"
             ],
             [
              0.1111111111111111,
              "#46039f"
             ],
             [
              0.2222222222222222,
              "#7201a8"
             ],
             [
              0.3333333333333333,
              "#9c179e"
             ],
             [
              0.4444444444444444,
              "#bd3786"
             ],
             [
              0.5555555555555556,
              "#d8576b"
             ],
             [
              0.6666666666666666,
              "#ed7953"
             ],
             [
              0.7777777777777778,
              "#fb9f3a"
             ],
             [
              0.8888888888888888,
              "#fdca26"
             ],
             [
              1,
              "#f0f921"
             ]
            ],
            "type": "contour"
           }
          ],
          "contourcarpet": [
           {
            "colorbar": {
             "outlinewidth": 0,
             "ticks": ""
            },
            "type": "contourcarpet"
           }
          ],
          "heatmap": [
           {
            "colorbar": {
             "outlinewidth": 0,
             "ticks": ""
            },
            "colorscale": [
             [
              0,
              "#0d0887"
             ],
             [
              0.1111111111111111,
              "#46039f"
             ],
             [
              0.2222222222222222,
              "#7201a8"
             ],
             [
              0.3333333333333333,
              "#9c179e"
             ],
             [
              0.4444444444444444,
              "#bd3786"
             ],
             [
              0.5555555555555556,
              "#d8576b"
             ],
             [
              0.6666666666666666,
              "#ed7953"
             ],
             [
              0.7777777777777778,
              "#fb9f3a"
             ],
             [
              0.8888888888888888,
              "#fdca26"
             ],
             [
              1,
              "#f0f921"
             ]
            ],
            "type": "heatmap"
           }
          ],
          "heatmapgl": [
           {
            "colorbar": {
             "outlinewidth": 0,
             "ticks": ""
            },
            "colorscale": [
             [
              0,
              "#0d0887"
             ],
             [
              0.1111111111111111,
              "#46039f"
             ],
             [
              0.2222222222222222,
              "#7201a8"
             ],
             [
              0.3333333333333333,
              "#9c179e"
             ],
             [
              0.4444444444444444,
              "#bd3786"
             ],
             [
              0.5555555555555556,
              "#d8576b"
             ],
             [
              0.6666666666666666,
              "#ed7953"
             ],
             [
              0.7777777777777778,
              "#fb9f3a"
             ],
             [
              0.8888888888888888,
              "#fdca26"
             ],
             [
              1,
              "#f0f921"
             ]
            ],
            "type": "heatmapgl"
           }
          ],
          "histogram": [
           {
            "marker": {
             "pattern": {
              "fillmode": "overlay",
              "size": 10,
              "solidity": 0.2
             }
            },
            "type": "histogram"
           }
          ],
          "histogram2d": [
           {
            "colorbar": {
             "outlinewidth": 0,
             "ticks": ""
            },
            "colorscale": [
             [
              0,
              "#0d0887"
             ],
             [
              0.1111111111111111,
              "#46039f"
             ],
             [
              0.2222222222222222,
              "#7201a8"
             ],
             [
              0.3333333333333333,
              "#9c179e"
             ],
             [
              0.4444444444444444,
              "#bd3786"
             ],
             [
              0.5555555555555556,
              "#d8576b"
             ],
             [
              0.6666666666666666,
              "#ed7953"
             ],
             [
              0.7777777777777778,
              "#fb9f3a"
             ],
             [
              0.8888888888888888,
              "#fdca26"
             ],
             [
              1,
              "#f0f921"
             ]
            ],
            "type": "histogram2d"
           }
          ],
          "histogram2dcontour": [
           {
            "colorbar": {
             "outlinewidth": 0,
             "ticks": ""
            },
            "colorscale": [
             [
              0,
              "#0d0887"
             ],
             [
              0.1111111111111111,
              "#46039f"
             ],
             [
              0.2222222222222222,
              "#7201a8"
             ],
             [
              0.3333333333333333,
              "#9c179e"
             ],
             [
              0.4444444444444444,
              "#bd3786"
             ],
             [
              0.5555555555555556,
              "#d8576b"
             ],
             [
              0.6666666666666666,
              "#ed7953"
             ],
             [
              0.7777777777777778,
              "#fb9f3a"
             ],
             [
              0.8888888888888888,
              "#fdca26"
             ],
             [
              1,
              "#f0f921"
             ]
            ],
            "type": "histogram2dcontour"
           }
          ],
          "mesh3d": [
           {
            "colorbar": {
             "outlinewidth": 0,
             "ticks": ""
            },
            "type": "mesh3d"
           }
          ],
          "parcoords": [
           {
            "line": {
             "colorbar": {
              "outlinewidth": 0,
              "ticks": ""
             }
            },
            "type": "parcoords"
           }
          ],
          "pie": [
           {
            "automargin": true,
            "type": "pie"
           }
          ],
          "scatter": [
           {
            "fillpattern": {
             "fillmode": "overlay",
             "size": 10,
             "solidity": 0.2
            },
            "type": "scatter"
           }
          ],
          "scatter3d": [
           {
            "line": {
             "colorbar": {
              "outlinewidth": 0,
              "ticks": ""
             }
            },
            "marker": {
             "colorbar": {
              "outlinewidth": 0,
              "ticks": ""
             }
            },
            "type": "scatter3d"
           }
          ],
          "scattercarpet": [
           {
            "marker": {
             "colorbar": {
              "outlinewidth": 0,
              "ticks": ""
             }
            },
            "type": "scattercarpet"
           }
          ],
          "scattergeo": [
           {
            "marker": {
             "colorbar": {
              "outlinewidth": 0,
              "ticks": ""
             }
            },
            "type": "scattergeo"
           }
          ],
          "scattergl": [
           {
            "marker": {
             "colorbar": {
              "outlinewidth": 0,
              "ticks": ""
             }
            },
            "type": "scattergl"
           }
          ],
          "scattermapbox": [
           {
            "marker": {
             "colorbar": {
              "outlinewidth": 0,
              "ticks": ""
             }
            },
            "type": "scattermapbox"
           }
          ],
          "scatterpolar": [
           {
            "marker": {
             "colorbar": {
              "outlinewidth": 0,
              "ticks": ""
             }
            },
            "type": "scatterpolar"
           }
          ],
          "scatterpolargl": [
           {
            "marker": {
             "colorbar": {
              "outlinewidth": 0,
              "ticks": ""
             }
            },
            "type": "scatterpolargl"
           }
          ],
          "scatterternary": [
           {
            "marker": {
             "colorbar": {
              "outlinewidth": 0,
              "ticks": ""
             }
            },
            "type": "scatterternary"
           }
          ],
          "surface": [
           {
            "colorbar": {
             "outlinewidth": 0,
             "ticks": ""
            },
            "colorscale": [
             [
              0,
              "#0d0887"
             ],
             [
              0.1111111111111111,
              "#46039f"
             ],
             [
              0.2222222222222222,
              "#7201a8"
             ],
             [
              0.3333333333333333,
              "#9c179e"
             ],
             [
              0.4444444444444444,
              "#bd3786"
             ],
             [
              0.5555555555555556,
              "#d8576b"
             ],
             [
              0.6666666666666666,
              "#ed7953"
             ],
             [
              0.7777777777777778,
              "#fb9f3a"
             ],
             [
              0.8888888888888888,
              "#fdca26"
             ],
             [
              1,
              "#f0f921"
             ]
            ],
            "type": "surface"
           }
          ],
          "table": [
           {
            "cells": {
             "fill": {
              "color": "#EBF0F8"
             },
             "line": {
              "color": "white"
             }
            },
            "header": {
             "fill": {
              "color": "#C8D4E3"
             },
             "line": {
              "color": "white"
             }
            },
            "type": "table"
           }
          ]
         },
         "layout": {
          "annotationdefaults": {
           "arrowcolor": "#2a3f5f",
           "arrowhead": 0,
           "arrowwidth": 1
          },
          "autotypenumbers": "strict",
          "coloraxis": {
           "colorbar": {
            "outlinewidth": 0,
            "ticks": ""
           }
          },
          "colorscale": {
           "diverging": [
            [
             0,
             "#8e0152"
            ],
            [
             0.1,
             "#c51b7d"
            ],
            [
             0.2,
             "#de77ae"
            ],
            [
             0.3,
             "#f1b6da"
            ],
            [
             0.4,
             "#fde0ef"
            ],
            [
             0.5,
             "#f7f7f7"
            ],
            [
             0.6,
             "#e6f5d0"
            ],
            [
             0.7,
             "#b8e186"
            ],
            [
             0.8,
             "#7fbc41"
            ],
            [
             0.9,
             "#4d9221"
            ],
            [
             1,
             "#276419"
            ]
           ],
           "sequential": [
            [
             0,
             "#0d0887"
            ],
            [
             0.1111111111111111,
             "#46039f"
            ],
            [
             0.2222222222222222,
             "#7201a8"
            ],
            [
             0.3333333333333333,
             "#9c179e"
            ],
            [
             0.4444444444444444,
             "#bd3786"
            ],
            [
             0.5555555555555556,
             "#d8576b"
            ],
            [
             0.6666666666666666,
             "#ed7953"
            ],
            [
             0.7777777777777778,
             "#fb9f3a"
            ],
            [
             0.8888888888888888,
             "#fdca26"
            ],
            [
             1,
             "#f0f921"
            ]
           ],
           "sequentialminus": [
            [
             0,
             "#0d0887"
            ],
            [
             0.1111111111111111,
             "#46039f"
            ],
            [
             0.2222222222222222,
             "#7201a8"
            ],
            [
             0.3333333333333333,
             "#9c179e"
            ],
            [
             0.4444444444444444,
             "#bd3786"
            ],
            [
             0.5555555555555556,
             "#d8576b"
            ],
            [
             0.6666666666666666,
             "#ed7953"
            ],
            [
             0.7777777777777778,
             "#fb9f3a"
            ],
            [
             0.8888888888888888,
             "#fdca26"
            ],
            [
             1,
             "#f0f921"
            ]
           ]
          },
          "colorway": [
           "#636efa",
           "#EF553B",
           "#00cc96",
           "#ab63fa",
           "#FFA15A",
           "#19d3f3",
           "#FF6692",
           "#B6E880",
           "#FF97FF",
           "#FECB52"
          ],
          "font": {
           "color": "#2a3f5f"
          },
          "geo": {
           "bgcolor": "white",
           "lakecolor": "white",
           "landcolor": "#E5ECF6",
           "showlakes": true,
           "showland": true,
           "subunitcolor": "white"
          },
          "hoverlabel": {
           "align": "left"
          },
          "hovermode": "closest",
          "mapbox": {
           "style": "light"
          },
          "paper_bgcolor": "white",
          "plot_bgcolor": "#E5ECF6",
          "polar": {
           "angularaxis": {
            "gridcolor": "white",
            "linecolor": "white",
            "ticks": ""
           },
           "bgcolor": "#E5ECF6",
           "radialaxis": {
            "gridcolor": "white",
            "linecolor": "white",
            "ticks": ""
           }
          },
          "scene": {
           "xaxis": {
            "backgroundcolor": "#E5ECF6",
            "gridcolor": "white",
            "gridwidth": 2,
            "linecolor": "white",
            "showbackground": true,
            "ticks": "",
            "zerolinecolor": "white"
           },
           "yaxis": {
            "backgroundcolor": "#E5ECF6",
            "gridcolor": "white",
            "gridwidth": 2,
            "linecolor": "white",
            "showbackground": true,
            "ticks": "",
            "zerolinecolor": "white"
           },
           "zaxis": {
            "backgroundcolor": "#E5ECF6",
            "gridcolor": "white",
            "gridwidth": 2,
            "linecolor": "white",
            "showbackground": true,
            "ticks": "",
            "zerolinecolor": "white"
           }
          },
          "shapedefaults": {
           "line": {
            "color": "#2a3f5f"
           }
          },
          "ternary": {
           "aaxis": {
            "gridcolor": "white",
            "linecolor": "white",
            "ticks": ""
           },
           "baxis": {
            "gridcolor": "white",
            "linecolor": "white",
            "ticks": ""
           },
           "bgcolor": "#E5ECF6",
           "caxis": {
            "gridcolor": "white",
            "linecolor": "white",
            "ticks": ""
           }
          },
          "title": {
           "x": 0.05
          },
          "xaxis": {
           "automargin": true,
           "gridcolor": "white",
           "linecolor": "white",
           "ticks": "",
           "title": {
            "standoff": 15
           },
           "zerolinecolor": "white",
           "zerolinewidth": 2
          },
          "yaxis": {
           "automargin": true,
           "gridcolor": "white",
           "linecolor": "white",
           "ticks": "",
           "title": {
            "standoff": 15
           },
           "zerolinecolor": "white",
           "zerolinewidth": 2
          }
         }
        },
        "title": {
         "text": "Top Movie Directors from India"
        },
        "xaxis": {
         "title": {
          "text": "Number of Movies"
         }
        },
        "yaxis": {
         "title": {
          "text": "Director Name"
         }
        }
       }
      },
      "text/html": [
       "<div>                            <div id=\"92446a65-6a3a-4021-8a1b-148c000fef6e\" class=\"plotly-graph-div\" style=\"height:525px; width:100%;\"></div>            <script type=\"text/javascript\">                require([\"plotly\"], function(Plotly) {                    window.PLOTLYENV=window.PLOTLYENV || {};                                    if (document.getElementById(\"92446a65-6a3a-4021-8a1b-148c000fef6e\")) {                    Plotly.newPlot(                        \"92446a65-6a3a-4021-8a1b-148c000fef6e\",                        [{\"marker\":{\"color\":\"orange\"},\"orientation\":\"h\",\"x\":[4,4,5,5,5,5,5,5,5,6,7],\"y\":[\"David Dhawan\",\"Rakeysh Omprakash Mehra\",\"Umesh Mehra\",\"Rajiv Mehra\",\"Abbas Alibhai Burmawalla\",\"Mastan Alibhai Burmawalla\",\"Vishal Bhardwaj\",\"Ashutosh Gowariker\",\"Gajendra Ahire\",\"Dibakar Banerjee\",\"S.S. Rajamouli\"],\"type\":\"bar\"}],                        {\"legend\":{\"orientation\":\"h\",\"x\":0.1,\"y\":1.1},\"title\":{\"text\":\"Top Movie Directors from India\"},\"xaxis\":{\"title\":{\"text\":\"Number of Movies\"}},\"yaxis\":{\"title\":{\"text\":\"Director Name\"}},\"template\":{\"data\":{\"histogram2dcontour\":[{\"type\":\"histogram2dcontour\",\"colorbar\":{\"outlinewidth\":0,\"ticks\":\"\"},\"colorscale\":[[0.0,\"#0d0887\"],[0.1111111111111111,\"#46039f\"],[0.2222222222222222,\"#7201a8\"],[0.3333333333333333,\"#9c179e\"],[0.4444444444444444,\"#bd3786\"],[0.5555555555555556,\"#d8576b\"],[0.6666666666666666,\"#ed7953\"],[0.7777777777777778,\"#fb9f3a\"],[0.8888888888888888,\"#fdca26\"],[1.0,\"#f0f921\"]]}],\"choropleth\":[{\"type\":\"choropleth\",\"colorbar\":{\"outlinewidth\":0,\"ticks\":\"\"}}],\"histogram2d\":[{\"type\":\"histogram2d\",\"colorbar\":{\"outlinewidth\":0,\"ticks\":\"\"},\"colorscale\":[[0.0,\"#0d0887\"],[0.1111111111111111,\"#46039f\"],[0.2222222222222222,\"#7201a8\"],[0.3333333333333333,\"#9c179e\"],[0.4444444444444444,\"#bd3786\"],[0.5555555555555556,\"#d8576b\"],[0.6666666666666666,\"#ed7953\"],[0.7777777777777778,\"#fb9f3a\"],[0.8888888888888888,\"#fdca26\"],[1.0,\"#f0f921\"]]}],\"heatmap\":[{\"type\":\"heatmap\",\"colorbar\":{\"outlinewidth\":0,\"ticks\":\"\"},\"colorscale\":[[0.0,\"#0d0887\"],[0.1111111111111111,\"#46039f\"],[0.2222222222222222,\"#7201a8\"],[0.3333333333333333,\"#9c179e\"],[0.4444444444444444,\"#bd3786\"],[0.5555555555555556,\"#d8576b\"],[0.6666666666666666,\"#ed7953\"],[0.7777777777777778,\"#fb9f3a\"],[0.8888888888888888,\"#fdca26\"],[1.0,\"#f0f921\"]]}],\"heatmapgl\":[{\"type\":\"heatmapgl\",\"colorbar\":{\"outlinewidth\":0,\"ticks\":\"\"},\"colorscale\":[[0.0,\"#0d0887\"],[0.1111111111111111,\"#46039f\"],[0.2222222222222222,\"#7201a8\"],[0.3333333333333333,\"#9c179e\"],[0.4444444444444444,\"#bd3786\"],[0.5555555555555556,\"#d8576b\"],[0.6666666666666666,\"#ed7953\"],[0.7777777777777778,\"#fb9f3a\"],[0.8888888888888888,\"#fdca26\"],[1.0,\"#f0f921\"]]}],\"contourcarpet\":[{\"type\":\"contourcarpet\",\"colorbar\":{\"outlinewidth\":0,\"ticks\":\"\"}}],\"contour\":[{\"type\":\"contour\",\"colorbar\":{\"outlinewidth\":0,\"ticks\":\"\"},\"colorscale\":[[0.0,\"#0d0887\"],[0.1111111111111111,\"#46039f\"],[0.2222222222222222,\"#7201a8\"],[0.3333333333333333,\"#9c179e\"],[0.4444444444444444,\"#bd3786\"],[0.5555555555555556,\"#d8576b\"],[0.6666666666666666,\"#ed7953\"],[0.7777777777777778,\"#fb9f3a\"],[0.8888888888888888,\"#fdca26\"],[1.0,\"#f0f921\"]]}],\"surface\":[{\"type\":\"surface\",\"colorbar\":{\"outlinewidth\":0,\"ticks\":\"\"},\"colorscale\":[[0.0,\"#0d0887\"],[0.1111111111111111,\"#46039f\"],[0.2222222222222222,\"#7201a8\"],[0.3333333333333333,\"#9c179e\"],[0.4444444444444444,\"#bd3786\"],[0.5555555555555556,\"#d8576b\"],[0.6666666666666666,\"#ed7953\"],[0.7777777777777778,\"#fb9f3a\"],[0.8888888888888888,\"#fdca26\"],[1.0,\"#f0f921\"]]}],\"mesh3d\":[{\"type\":\"mesh3d\",\"colorbar\":{\"outlinewidth\":0,\"ticks\":\"\"}}],\"scatter\":[{\"fillpattern\":{\"fillmode\":\"overlay\",\"size\":10,\"solidity\":0.2},\"type\":\"scatter\"}],\"parcoords\":[{\"type\":\"parcoords\",\"line\":{\"colorbar\":{\"outlinewidth\":0,\"ticks\":\"\"}}}],\"scatterpolargl\":[{\"type\":\"scatterpolargl\",\"marker\":{\"colorbar\":{\"outlinewidth\":0,\"ticks\":\"\"}}}],\"bar\":[{\"error_x\":{\"color\":\"#2a3f5f\"},\"error_y\":{\"color\":\"#2a3f5f\"},\"marker\":{\"line\":{\"color\":\"#E5ECF6\",\"width\":0.5},\"pattern\":{\"fillmode\":\"overlay\",\"size\":10,\"solidity\":0.2}},\"type\":\"bar\"}],\"scattergeo\":[{\"type\":\"scattergeo\",\"marker\":{\"colorbar\":{\"outlinewidth\":0,\"ticks\":\"\"}}}],\"scatterpolar\":[{\"type\":\"scatterpolar\",\"marker\":{\"colorbar\":{\"outlinewidth\":0,\"ticks\":\"\"}}}],\"histogram\":[{\"marker\":{\"pattern\":{\"fillmode\":\"overlay\",\"size\":10,\"solidity\":0.2}},\"type\":\"histogram\"}],\"scattergl\":[{\"type\":\"scattergl\",\"marker\":{\"colorbar\":{\"outlinewidth\":0,\"ticks\":\"\"}}}],\"scatter3d\":[{\"type\":\"scatter3d\",\"line\":{\"colorbar\":{\"outlinewidth\":0,\"ticks\":\"\"}},\"marker\":{\"colorbar\":{\"outlinewidth\":0,\"ticks\":\"\"}}}],\"scattermapbox\":[{\"type\":\"scattermapbox\",\"marker\":{\"colorbar\":{\"outlinewidth\":0,\"ticks\":\"\"}}}],\"scatterternary\":[{\"type\":\"scatterternary\",\"marker\":{\"colorbar\":{\"outlinewidth\":0,\"ticks\":\"\"}}}],\"scattercarpet\":[{\"type\":\"scattercarpet\",\"marker\":{\"colorbar\":{\"outlinewidth\":0,\"ticks\":\"\"}}}],\"carpet\":[{\"aaxis\":{\"endlinecolor\":\"#2a3f5f\",\"gridcolor\":\"white\",\"linecolor\":\"white\",\"minorgridcolor\":\"white\",\"startlinecolor\":\"#2a3f5f\"},\"baxis\":{\"endlinecolor\":\"#2a3f5f\",\"gridcolor\":\"white\",\"linecolor\":\"white\",\"minorgridcolor\":\"white\",\"startlinecolor\":\"#2a3f5f\"},\"type\":\"carpet\"}],\"table\":[{\"cells\":{\"fill\":{\"color\":\"#EBF0F8\"},\"line\":{\"color\":\"white\"}},\"header\":{\"fill\":{\"color\":\"#C8D4E3\"},\"line\":{\"color\":\"white\"}},\"type\":\"table\"}],\"barpolar\":[{\"marker\":{\"line\":{\"color\":\"#E5ECF6\",\"width\":0.5},\"pattern\":{\"fillmode\":\"overlay\",\"size\":10,\"solidity\":0.2}},\"type\":\"barpolar\"}],\"pie\":[{\"automargin\":true,\"type\":\"pie\"}]},\"layout\":{\"autotypenumbers\":\"strict\",\"colorway\":[\"#636efa\",\"#EF553B\",\"#00cc96\",\"#ab63fa\",\"#FFA15A\",\"#19d3f3\",\"#FF6692\",\"#B6E880\",\"#FF97FF\",\"#FECB52\"],\"font\":{\"color\":\"#2a3f5f\"},\"hovermode\":\"closest\",\"hoverlabel\":{\"align\":\"left\"},\"paper_bgcolor\":\"white\",\"plot_bgcolor\":\"#E5ECF6\",\"polar\":{\"bgcolor\":\"#E5ECF6\",\"angularaxis\":{\"gridcolor\":\"white\",\"linecolor\":\"white\",\"ticks\":\"\"},\"radialaxis\":{\"gridcolor\":\"white\",\"linecolor\":\"white\",\"ticks\":\"\"}},\"ternary\":{\"bgcolor\":\"#E5ECF6\",\"aaxis\":{\"gridcolor\":\"white\",\"linecolor\":\"white\",\"ticks\":\"\"},\"baxis\":{\"gridcolor\":\"white\",\"linecolor\":\"white\",\"ticks\":\"\"},\"caxis\":{\"gridcolor\":\"white\",\"linecolor\":\"white\",\"ticks\":\"\"}},\"coloraxis\":{\"colorbar\":{\"outlinewidth\":0,\"ticks\":\"\"}},\"colorscale\":{\"sequential\":[[0.0,\"#0d0887\"],[0.1111111111111111,\"#46039f\"],[0.2222222222222222,\"#7201a8\"],[0.3333333333333333,\"#9c179e\"],[0.4444444444444444,\"#bd3786\"],[0.5555555555555556,\"#d8576b\"],[0.6666666666666666,\"#ed7953\"],[0.7777777777777778,\"#fb9f3a\"],[0.8888888888888888,\"#fdca26\"],[1.0,\"#f0f921\"]],\"sequentialminus\":[[0.0,\"#0d0887\"],[0.1111111111111111,\"#46039f\"],[0.2222222222222222,\"#7201a8\"],[0.3333333333333333,\"#9c179e\"],[0.4444444444444444,\"#bd3786\"],[0.5555555555555556,\"#d8576b\"],[0.6666666666666666,\"#ed7953\"],[0.7777777777777778,\"#fb9f3a\"],[0.8888888888888888,\"#fdca26\"],[1.0,\"#f0f921\"]],\"diverging\":[[0,\"#8e0152\"],[0.1,\"#c51b7d\"],[0.2,\"#de77ae\"],[0.3,\"#f1b6da\"],[0.4,\"#fde0ef\"],[0.5,\"#f7f7f7\"],[0.6,\"#e6f5d0\"],[0.7,\"#b8e186\"],[0.8,\"#7fbc41\"],[0.9,\"#4d9221\"],[1,\"#276419\"]]},\"xaxis\":{\"gridcolor\":\"white\",\"linecolor\":\"white\",\"ticks\":\"\",\"title\":{\"standoff\":15},\"zerolinecolor\":\"white\",\"automargin\":true,\"zerolinewidth\":2},\"yaxis\":{\"gridcolor\":\"white\",\"linecolor\":\"white\",\"ticks\":\"\",\"title\":{\"standoff\":15},\"zerolinecolor\":\"white\",\"automargin\":true,\"zerolinewidth\":2},\"scene\":{\"xaxis\":{\"backgroundcolor\":\"#E5ECF6\",\"gridcolor\":\"white\",\"linecolor\":\"white\",\"showbackground\":true,\"ticks\":\"\",\"zerolinecolor\":\"white\",\"gridwidth\":2},\"yaxis\":{\"backgroundcolor\":\"#E5ECF6\",\"gridcolor\":\"white\",\"linecolor\":\"white\",\"showbackground\":true,\"ticks\":\"\",\"zerolinecolor\":\"white\",\"gridwidth\":2},\"zaxis\":{\"backgroundcolor\":\"#E5ECF6\",\"gridcolor\":\"white\",\"linecolor\":\"white\",\"showbackground\":true,\"ticks\":\"\",\"zerolinecolor\":\"white\",\"gridwidth\":2}},\"shapedefaults\":{\"line\":{\"color\":\"#2a3f5f\"}},\"annotationdefaults\":{\"arrowcolor\":\"#2a3f5f\",\"arrowhead\":0,\"arrowwidth\":1},\"geo\":{\"bgcolor\":\"white\",\"landcolor\":\"#E5ECF6\",\"subunitcolor\":\"white\",\"showland\":true,\"showlakes\":true,\"lakecolor\":\"white\"},\"title\":{\"x\":0.05},\"mapbox\":{\"style\":\"light\"}}}},                        {\"responsive\": true}                    ).then(function(){\n",
       "                            \n",
       "var gd = document.getElementById('92446a65-6a3a-4021-8a1b-148c000fef6e');\n",
       "var x = new MutationObserver(function (mutations, observer) {{\n",
       "        var display = window.getComputedStyle(gd).display;\n",
       "        if (!display || display === 'none') {{\n",
       "            console.log([gd, 'removed!']);\n",
       "            Plotly.purge(gd);\n",
       "            observer.disconnect();\n",
       "        }}\n",
       "}});\n",
       "\n",
       "// Listen for the removal of the full notebook cells\n",
       "var notebookContainer = gd.closest('#notebook-container');\n",
       "if (notebookContainer) {{\n",
       "    x.observe(notebookContainer, {childList: true});\n",
       "}}\n",
       "\n",
       "// Listen for the clearing of the current output cell\n",
       "var outputEl = gd.closest('.output');\n",
       "if (outputEl) {{\n",
       "    x.observe(outputEl, {childList: true});\n",
       "}}\n",
       "\n",
       "                        })                };                });            </script>        </div>"
      ]
     },
     "metadata": {},
     "output_type": "display_data"
    },
    {
     "data": {
      "application/vnd.plotly.v1+json": {
       "config": {
        "plotlyServerURL": "https://plot.ly"
       },
       "data": [
        {
         "marker": {
          "color": "orange"
         },
         "orientation": "h",
         "type": "bar",
         "x": [
          5,
          6,
          6,
          6,
          6,
          7,
          7,
          8,
          12,
          12,
          14
         ],
         "y": [
          "Noah Baumbach",
          "William Lau",
          "Lance Bangs",
          "Vlad Yudin",
          "Leslie Small",
          "Ryan Polito",
          "Martin Scorsese",
          "Shannon Hartman",
          "Marcus Raboy",
          "Jay Chapman",
          "Jay Karas"
         ]
        }
       ],
       "layout": {
        "legend": {
         "orientation": "h",
         "x": 0.1,
         "y": 1.1
        },
        "template": {
         "data": {
          "bar": [
           {
            "error_x": {
             "color": "#2a3f5f"
            },
            "error_y": {
             "color": "#2a3f5f"
            },
            "marker": {
             "line": {
              "color": "#E5ECF6",
              "width": 0.5
             },
             "pattern": {
              "fillmode": "overlay",
              "size": 10,
              "solidity": 0.2
             }
            },
            "type": "bar"
           }
          ],
          "barpolar": [
           {
            "marker": {
             "line": {
              "color": "#E5ECF6",
              "width": 0.5
             },
             "pattern": {
              "fillmode": "overlay",
              "size": 10,
              "solidity": 0.2
             }
            },
            "type": "barpolar"
           }
          ],
          "carpet": [
           {
            "aaxis": {
             "endlinecolor": "#2a3f5f",
             "gridcolor": "white",
             "linecolor": "white",
             "minorgridcolor": "white",
             "startlinecolor": "#2a3f5f"
            },
            "baxis": {
             "endlinecolor": "#2a3f5f",
             "gridcolor": "white",
             "linecolor": "white",
             "minorgridcolor": "white",
             "startlinecolor": "#2a3f5f"
            },
            "type": "carpet"
           }
          ],
          "choropleth": [
           {
            "colorbar": {
             "outlinewidth": 0,
             "ticks": ""
            },
            "type": "choropleth"
           }
          ],
          "contour": [
           {
            "colorbar": {
             "outlinewidth": 0,
             "ticks": ""
            },
            "colorscale": [
             [
              0,
              "#0d0887"
             ],
             [
              0.1111111111111111,
              "#46039f"
             ],
             [
              0.2222222222222222,
              "#7201a8"
             ],
             [
              0.3333333333333333,
              "#9c179e"
             ],
             [
              0.4444444444444444,
              "#bd3786"
             ],
             [
              0.5555555555555556,
              "#d8576b"
             ],
             [
              0.6666666666666666,
              "#ed7953"
             ],
             [
              0.7777777777777778,
              "#fb9f3a"
             ],
             [
              0.8888888888888888,
              "#fdca26"
             ],
             [
              1,
              "#f0f921"
             ]
            ],
            "type": "contour"
           }
          ],
          "contourcarpet": [
           {
            "colorbar": {
             "outlinewidth": 0,
             "ticks": ""
            },
            "type": "contourcarpet"
           }
          ],
          "heatmap": [
           {
            "colorbar": {
             "outlinewidth": 0,
             "ticks": ""
            },
            "colorscale": [
             [
              0,
              "#0d0887"
             ],
             [
              0.1111111111111111,
              "#46039f"
             ],
             [
              0.2222222222222222,
              "#7201a8"
             ],
             [
              0.3333333333333333,
              "#9c179e"
             ],
             [
              0.4444444444444444,
              "#bd3786"
             ],
             [
              0.5555555555555556,
              "#d8576b"
             ],
             [
              0.6666666666666666,
              "#ed7953"
             ],
             [
              0.7777777777777778,
              "#fb9f3a"
             ],
             [
              0.8888888888888888,
              "#fdca26"
             ],
             [
              1,
              "#f0f921"
             ]
            ],
            "type": "heatmap"
           }
          ],
          "heatmapgl": [
           {
            "colorbar": {
             "outlinewidth": 0,
             "ticks": ""
            },
            "colorscale": [
             [
              0,
              "#0d0887"
             ],
             [
              0.1111111111111111,
              "#46039f"
             ],
             [
              0.2222222222222222,
              "#7201a8"
             ],
             [
              0.3333333333333333,
              "#9c179e"
             ],
             [
              0.4444444444444444,
              "#bd3786"
             ],
             [
              0.5555555555555556,
              "#d8576b"
             ],
             [
              0.6666666666666666,
              "#ed7953"
             ],
             [
              0.7777777777777778,
              "#fb9f3a"
             ],
             [
              0.8888888888888888,
              "#fdca26"
             ],
             [
              1,
              "#f0f921"
             ]
            ],
            "type": "heatmapgl"
           }
          ],
          "histogram": [
           {
            "marker": {
             "pattern": {
              "fillmode": "overlay",
              "size": 10,
              "solidity": 0.2
             }
            },
            "type": "histogram"
           }
          ],
          "histogram2d": [
           {
            "colorbar": {
             "outlinewidth": 0,
             "ticks": ""
            },
            "colorscale": [
             [
              0,
              "#0d0887"
             ],
             [
              0.1111111111111111,
              "#46039f"
             ],
             [
              0.2222222222222222,
              "#7201a8"
             ],
             [
              0.3333333333333333,
              "#9c179e"
             ],
             [
              0.4444444444444444,
              "#bd3786"
             ],
             [
              0.5555555555555556,
              "#d8576b"
             ],
             [
              0.6666666666666666,
              "#ed7953"
             ],
             [
              0.7777777777777778,
              "#fb9f3a"
             ],
             [
              0.8888888888888888,
              "#fdca26"
             ],
             [
              1,
              "#f0f921"
             ]
            ],
            "type": "histogram2d"
           }
          ],
          "histogram2dcontour": [
           {
            "colorbar": {
             "outlinewidth": 0,
             "ticks": ""
            },
            "colorscale": [
             [
              0,
              "#0d0887"
             ],
             [
              0.1111111111111111,
              "#46039f"
             ],
             [
              0.2222222222222222,
              "#7201a8"
             ],
             [
              0.3333333333333333,
              "#9c179e"
             ],
             [
              0.4444444444444444,
              "#bd3786"
             ],
             [
              0.5555555555555556,
              "#d8576b"
             ],
             [
              0.6666666666666666,
              "#ed7953"
             ],
             [
              0.7777777777777778,
              "#fb9f3a"
             ],
             [
              0.8888888888888888,
              "#fdca26"
             ],
             [
              1,
              "#f0f921"
             ]
            ],
            "type": "histogram2dcontour"
           }
          ],
          "mesh3d": [
           {
            "colorbar": {
             "outlinewidth": 0,
             "ticks": ""
            },
            "type": "mesh3d"
           }
          ],
          "parcoords": [
           {
            "line": {
             "colorbar": {
              "outlinewidth": 0,
              "ticks": ""
             }
            },
            "type": "parcoords"
           }
          ],
          "pie": [
           {
            "automargin": true,
            "type": "pie"
           }
          ],
          "scatter": [
           {
            "fillpattern": {
             "fillmode": "overlay",
             "size": 10,
             "solidity": 0.2
            },
            "type": "scatter"
           }
          ],
          "scatter3d": [
           {
            "line": {
             "colorbar": {
              "outlinewidth": 0,
              "ticks": ""
             }
            },
            "marker": {
             "colorbar": {
              "outlinewidth": 0,
              "ticks": ""
             }
            },
            "type": "scatter3d"
           }
          ],
          "scattercarpet": [
           {
            "marker": {
             "colorbar": {
              "outlinewidth": 0,
              "ticks": ""
             }
            },
            "type": "scattercarpet"
           }
          ],
          "scattergeo": [
           {
            "marker": {
             "colorbar": {
              "outlinewidth": 0,
              "ticks": ""
             }
            },
            "type": "scattergeo"
           }
          ],
          "scattergl": [
           {
            "marker": {
             "colorbar": {
              "outlinewidth": 0,
              "ticks": ""
             }
            },
            "type": "scattergl"
           }
          ],
          "scattermapbox": [
           {
            "marker": {
             "colorbar": {
              "outlinewidth": 0,
              "ticks": ""
             }
            },
            "type": "scattermapbox"
           }
          ],
          "scatterpolar": [
           {
            "marker": {
             "colorbar": {
              "outlinewidth": 0,
              "ticks": ""
             }
            },
            "type": "scatterpolar"
           }
          ],
          "scatterpolargl": [
           {
            "marker": {
             "colorbar": {
              "outlinewidth": 0,
              "ticks": ""
             }
            },
            "type": "scatterpolargl"
           }
          ],
          "scatterternary": [
           {
            "marker": {
             "colorbar": {
              "outlinewidth": 0,
              "ticks": ""
             }
            },
            "type": "scatterternary"
           }
          ],
          "surface": [
           {
            "colorbar": {
             "outlinewidth": 0,
             "ticks": ""
            },
            "colorscale": [
             [
              0,
              "#0d0887"
             ],
             [
              0.1111111111111111,
              "#46039f"
             ],
             [
              0.2222222222222222,
              "#7201a8"
             ],
             [
              0.3333333333333333,
              "#9c179e"
             ],
             [
              0.4444444444444444,
              "#bd3786"
             ],
             [
              0.5555555555555556,
              "#d8576b"
             ],
             [
              0.6666666666666666,
              "#ed7953"
             ],
             [
              0.7777777777777778,
              "#fb9f3a"
             ],
             [
              0.8888888888888888,
              "#fdca26"
             ],
             [
              1,
              "#f0f921"
             ]
            ],
            "type": "surface"
           }
          ],
          "table": [
           {
            "cells": {
             "fill": {
              "color": "#EBF0F8"
             },
             "line": {
              "color": "white"
             }
            },
            "header": {
             "fill": {
              "color": "#C8D4E3"
             },
             "line": {
              "color": "white"
             }
            },
            "type": "table"
           }
          ]
         },
         "layout": {
          "annotationdefaults": {
           "arrowcolor": "#2a3f5f",
           "arrowhead": 0,
           "arrowwidth": 1
          },
          "autotypenumbers": "strict",
          "coloraxis": {
           "colorbar": {
            "outlinewidth": 0,
            "ticks": ""
           }
          },
          "colorscale": {
           "diverging": [
            [
             0,
             "#8e0152"
            ],
            [
             0.1,
             "#c51b7d"
            ],
            [
             0.2,
             "#de77ae"
            ],
            [
             0.3,
             "#f1b6da"
            ],
            [
             0.4,
             "#fde0ef"
            ],
            [
             0.5,
             "#f7f7f7"
            ],
            [
             0.6,
             "#e6f5d0"
            ],
            [
             0.7,
             "#b8e186"
            ],
            [
             0.8,
             "#7fbc41"
            ],
            [
             0.9,
             "#4d9221"
            ],
            [
             1,
             "#276419"
            ]
           ],
           "sequential": [
            [
             0,
             "#0d0887"
            ],
            [
             0.1111111111111111,
             "#46039f"
            ],
            [
             0.2222222222222222,
             "#7201a8"
            ],
            [
             0.3333333333333333,
             "#9c179e"
            ],
            [
             0.4444444444444444,
             "#bd3786"
            ],
            [
             0.5555555555555556,
             "#d8576b"
            ],
            [
             0.6666666666666666,
             "#ed7953"
            ],
            [
             0.7777777777777778,
             "#fb9f3a"
            ],
            [
             0.8888888888888888,
             "#fdca26"
            ],
            [
             1,
             "#f0f921"
            ]
           ],
           "sequentialminus": [
            [
             0,
             "#0d0887"
            ],
            [
             0.1111111111111111,
             "#46039f"
            ],
            [
             0.2222222222222222,
             "#7201a8"
            ],
            [
             0.3333333333333333,
             "#9c179e"
            ],
            [
             0.4444444444444444,
             "#bd3786"
            ],
            [
             0.5555555555555556,
             "#d8576b"
            ],
            [
             0.6666666666666666,
             "#ed7953"
            ],
            [
             0.7777777777777778,
             "#fb9f3a"
            ],
            [
             0.8888888888888888,
             "#fdca26"
            ],
            [
             1,
             "#f0f921"
            ]
           ]
          },
          "colorway": [
           "#636efa",
           "#EF553B",
           "#00cc96",
           "#ab63fa",
           "#FFA15A",
           "#19d3f3",
           "#FF6692",
           "#B6E880",
           "#FF97FF",
           "#FECB52"
          ],
          "font": {
           "color": "#2a3f5f"
          },
          "geo": {
           "bgcolor": "white",
           "lakecolor": "white",
           "landcolor": "#E5ECF6",
           "showlakes": true,
           "showland": true,
           "subunitcolor": "white"
          },
          "hoverlabel": {
           "align": "left"
          },
          "hovermode": "closest",
          "mapbox": {
           "style": "light"
          },
          "paper_bgcolor": "white",
          "plot_bgcolor": "#E5ECF6",
          "polar": {
           "angularaxis": {
            "gridcolor": "white",
            "linecolor": "white",
            "ticks": ""
           },
           "bgcolor": "#E5ECF6",
           "radialaxis": {
            "gridcolor": "white",
            "linecolor": "white",
            "ticks": ""
           }
          },
          "scene": {
           "xaxis": {
            "backgroundcolor": "#E5ECF6",
            "gridcolor": "white",
            "gridwidth": 2,
            "linecolor": "white",
            "showbackground": true,
            "ticks": "",
            "zerolinecolor": "white"
           },
           "yaxis": {
            "backgroundcolor": "#E5ECF6",
            "gridcolor": "white",
            "gridwidth": 2,
            "linecolor": "white",
            "showbackground": true,
            "ticks": "",
            "zerolinecolor": "white"
           },
           "zaxis": {
            "backgroundcolor": "#E5ECF6",
            "gridcolor": "white",
            "gridwidth": 2,
            "linecolor": "white",
            "showbackground": true,
            "ticks": "",
            "zerolinecolor": "white"
           }
          },
          "shapedefaults": {
           "line": {
            "color": "#2a3f5f"
           }
          },
          "ternary": {
           "aaxis": {
            "gridcolor": "white",
            "linecolor": "white",
            "ticks": ""
           },
           "baxis": {
            "gridcolor": "white",
            "linecolor": "white",
            "ticks": ""
           },
           "bgcolor": "#E5ECF6",
           "caxis": {
            "gridcolor": "white",
            "linecolor": "white",
            "ticks": ""
           }
          },
          "title": {
           "x": 0.05
          },
          "xaxis": {
           "automargin": true,
           "gridcolor": "white",
           "linecolor": "white",
           "ticks": "",
           "title": {
            "standoff": 15
           },
           "zerolinecolor": "white",
           "zerolinewidth": 2
          },
          "yaxis": {
           "automargin": true,
           "gridcolor": "white",
           "linecolor": "white",
           "ticks": "",
           "title": {
            "standoff": 15
           },
           "zerolinecolor": "white",
           "zerolinewidth": 2
          }
         }
        },
        "title": {
         "text": "Top Movie Directors from United States"
        },
        "xaxis": {
         "title": {
          "text": "Number of Movies"
         }
        },
        "yaxis": {
         "title": {
          "text": "Director Name"
         }
        }
       }
      },
      "text/html": [
       "<div>                            <div id=\"76178147-a1c4-45b1-b869-514432c27ba7\" class=\"plotly-graph-div\" style=\"height:525px; width:100%;\"></div>            <script type=\"text/javascript\">                require([\"plotly\"], function(Plotly) {                    window.PLOTLYENV=window.PLOTLYENV || {};                                    if (document.getElementById(\"76178147-a1c4-45b1-b869-514432c27ba7\")) {                    Plotly.newPlot(                        \"76178147-a1c4-45b1-b869-514432c27ba7\",                        [{\"marker\":{\"color\":\"orange\"},\"orientation\":\"h\",\"x\":[5,6,6,6,6,7,7,8,12,12,14],\"y\":[\"Noah Baumbach\",\"William Lau\",\"Lance Bangs\",\"Vlad Yudin\",\"Leslie Small\",\"Ryan Polito\",\"Martin Scorsese\",\"Shannon Hartman\",\"Marcus Raboy\",\"Jay Chapman\",\"Jay Karas\"],\"type\":\"bar\"}],                        {\"legend\":{\"orientation\":\"h\",\"x\":0.1,\"y\":1.1},\"title\":{\"text\":\"Top Movie Directors from United States\"},\"xaxis\":{\"title\":{\"text\":\"Number of Movies\"}},\"yaxis\":{\"title\":{\"text\":\"Director Name\"}},\"template\":{\"data\":{\"histogram2dcontour\":[{\"type\":\"histogram2dcontour\",\"colorbar\":{\"outlinewidth\":0,\"ticks\":\"\"},\"colorscale\":[[0.0,\"#0d0887\"],[0.1111111111111111,\"#46039f\"],[0.2222222222222222,\"#7201a8\"],[0.3333333333333333,\"#9c179e\"],[0.4444444444444444,\"#bd3786\"],[0.5555555555555556,\"#d8576b\"],[0.6666666666666666,\"#ed7953\"],[0.7777777777777778,\"#fb9f3a\"],[0.8888888888888888,\"#fdca26\"],[1.0,\"#f0f921\"]]}],\"choropleth\":[{\"type\":\"choropleth\",\"colorbar\":{\"outlinewidth\":0,\"ticks\":\"\"}}],\"histogram2d\":[{\"type\":\"histogram2d\",\"colorbar\":{\"outlinewidth\":0,\"ticks\":\"\"},\"colorscale\":[[0.0,\"#0d0887\"],[0.1111111111111111,\"#46039f\"],[0.2222222222222222,\"#7201a8\"],[0.3333333333333333,\"#9c179e\"],[0.4444444444444444,\"#bd3786\"],[0.5555555555555556,\"#d8576b\"],[0.6666666666666666,\"#ed7953\"],[0.7777777777777778,\"#fb9f3a\"],[0.8888888888888888,\"#fdca26\"],[1.0,\"#f0f921\"]]}],\"heatmap\":[{\"type\":\"heatmap\",\"colorbar\":{\"outlinewidth\":0,\"ticks\":\"\"},\"colorscale\":[[0.0,\"#0d0887\"],[0.1111111111111111,\"#46039f\"],[0.2222222222222222,\"#7201a8\"],[0.3333333333333333,\"#9c179e\"],[0.4444444444444444,\"#bd3786\"],[0.5555555555555556,\"#d8576b\"],[0.6666666666666666,\"#ed7953\"],[0.7777777777777778,\"#fb9f3a\"],[0.8888888888888888,\"#fdca26\"],[1.0,\"#f0f921\"]]}],\"heatmapgl\":[{\"type\":\"heatmapgl\",\"colorbar\":{\"outlinewidth\":0,\"ticks\":\"\"},\"colorscale\":[[0.0,\"#0d0887\"],[0.1111111111111111,\"#46039f\"],[0.2222222222222222,\"#7201a8\"],[0.3333333333333333,\"#9c179e\"],[0.4444444444444444,\"#bd3786\"],[0.5555555555555556,\"#d8576b\"],[0.6666666666666666,\"#ed7953\"],[0.7777777777777778,\"#fb9f3a\"],[0.8888888888888888,\"#fdca26\"],[1.0,\"#f0f921\"]]}],\"contourcarpet\":[{\"type\":\"contourcarpet\",\"colorbar\":{\"outlinewidth\":0,\"ticks\":\"\"}}],\"contour\":[{\"type\":\"contour\",\"colorbar\":{\"outlinewidth\":0,\"ticks\":\"\"},\"colorscale\":[[0.0,\"#0d0887\"],[0.1111111111111111,\"#46039f\"],[0.2222222222222222,\"#7201a8\"],[0.3333333333333333,\"#9c179e\"],[0.4444444444444444,\"#bd3786\"],[0.5555555555555556,\"#d8576b\"],[0.6666666666666666,\"#ed7953\"],[0.7777777777777778,\"#fb9f3a\"],[0.8888888888888888,\"#fdca26\"],[1.0,\"#f0f921\"]]}],\"surface\":[{\"type\":\"surface\",\"colorbar\":{\"outlinewidth\":0,\"ticks\":\"\"},\"colorscale\":[[0.0,\"#0d0887\"],[0.1111111111111111,\"#46039f\"],[0.2222222222222222,\"#7201a8\"],[0.3333333333333333,\"#9c179e\"],[0.4444444444444444,\"#bd3786\"],[0.5555555555555556,\"#d8576b\"],[0.6666666666666666,\"#ed7953\"],[0.7777777777777778,\"#fb9f3a\"],[0.8888888888888888,\"#fdca26\"],[1.0,\"#f0f921\"]]}],\"mesh3d\":[{\"type\":\"mesh3d\",\"colorbar\":{\"outlinewidth\":0,\"ticks\":\"\"}}],\"scatter\":[{\"fillpattern\":{\"fillmode\":\"overlay\",\"size\":10,\"solidity\":0.2},\"type\":\"scatter\"}],\"parcoords\":[{\"type\":\"parcoords\",\"line\":{\"colorbar\":{\"outlinewidth\":0,\"ticks\":\"\"}}}],\"scatterpolargl\":[{\"type\":\"scatterpolargl\",\"marker\":{\"colorbar\":{\"outlinewidth\":0,\"ticks\":\"\"}}}],\"bar\":[{\"error_x\":{\"color\":\"#2a3f5f\"},\"error_y\":{\"color\":\"#2a3f5f\"},\"marker\":{\"line\":{\"color\":\"#E5ECF6\",\"width\":0.5},\"pattern\":{\"fillmode\":\"overlay\",\"size\":10,\"solidity\":0.2}},\"type\":\"bar\"}],\"scattergeo\":[{\"type\":\"scattergeo\",\"marker\":{\"colorbar\":{\"outlinewidth\":0,\"ticks\":\"\"}}}],\"scatterpolar\":[{\"type\":\"scatterpolar\",\"marker\":{\"colorbar\":{\"outlinewidth\":0,\"ticks\":\"\"}}}],\"histogram\":[{\"marker\":{\"pattern\":{\"fillmode\":\"overlay\",\"size\":10,\"solidity\":0.2}},\"type\":\"histogram\"}],\"scattergl\":[{\"type\":\"scattergl\",\"marker\":{\"colorbar\":{\"outlinewidth\":0,\"ticks\":\"\"}}}],\"scatter3d\":[{\"type\":\"scatter3d\",\"line\":{\"colorbar\":{\"outlinewidth\":0,\"ticks\":\"\"}},\"marker\":{\"colorbar\":{\"outlinewidth\":0,\"ticks\":\"\"}}}],\"scattermapbox\":[{\"type\":\"scattermapbox\",\"marker\":{\"colorbar\":{\"outlinewidth\":0,\"ticks\":\"\"}}}],\"scatterternary\":[{\"type\":\"scatterternary\",\"marker\":{\"colorbar\":{\"outlinewidth\":0,\"ticks\":\"\"}}}],\"scattercarpet\":[{\"type\":\"scattercarpet\",\"marker\":{\"colorbar\":{\"outlinewidth\":0,\"ticks\":\"\"}}}],\"carpet\":[{\"aaxis\":{\"endlinecolor\":\"#2a3f5f\",\"gridcolor\":\"white\",\"linecolor\":\"white\",\"minorgridcolor\":\"white\",\"startlinecolor\":\"#2a3f5f\"},\"baxis\":{\"endlinecolor\":\"#2a3f5f\",\"gridcolor\":\"white\",\"linecolor\":\"white\",\"minorgridcolor\":\"white\",\"startlinecolor\":\"#2a3f5f\"},\"type\":\"carpet\"}],\"table\":[{\"cells\":{\"fill\":{\"color\":\"#EBF0F8\"},\"line\":{\"color\":\"white\"}},\"header\":{\"fill\":{\"color\":\"#C8D4E3\"},\"line\":{\"color\":\"white\"}},\"type\":\"table\"}],\"barpolar\":[{\"marker\":{\"line\":{\"color\":\"#E5ECF6\",\"width\":0.5},\"pattern\":{\"fillmode\":\"overlay\",\"size\":10,\"solidity\":0.2}},\"type\":\"barpolar\"}],\"pie\":[{\"automargin\":true,\"type\":\"pie\"}]},\"layout\":{\"autotypenumbers\":\"strict\",\"colorway\":[\"#636efa\",\"#EF553B\",\"#00cc96\",\"#ab63fa\",\"#FFA15A\",\"#19d3f3\",\"#FF6692\",\"#B6E880\",\"#FF97FF\",\"#FECB52\"],\"font\":{\"color\":\"#2a3f5f\"},\"hovermode\":\"closest\",\"hoverlabel\":{\"align\":\"left\"},\"paper_bgcolor\":\"white\",\"plot_bgcolor\":\"#E5ECF6\",\"polar\":{\"bgcolor\":\"#E5ECF6\",\"angularaxis\":{\"gridcolor\":\"white\",\"linecolor\":\"white\",\"ticks\":\"\"},\"radialaxis\":{\"gridcolor\":\"white\",\"linecolor\":\"white\",\"ticks\":\"\"}},\"ternary\":{\"bgcolor\":\"#E5ECF6\",\"aaxis\":{\"gridcolor\":\"white\",\"linecolor\":\"white\",\"ticks\":\"\"},\"baxis\":{\"gridcolor\":\"white\",\"linecolor\":\"white\",\"ticks\":\"\"},\"caxis\":{\"gridcolor\":\"white\",\"linecolor\":\"white\",\"ticks\":\"\"}},\"coloraxis\":{\"colorbar\":{\"outlinewidth\":0,\"ticks\":\"\"}},\"colorscale\":{\"sequential\":[[0.0,\"#0d0887\"],[0.1111111111111111,\"#46039f\"],[0.2222222222222222,\"#7201a8\"],[0.3333333333333333,\"#9c179e\"],[0.4444444444444444,\"#bd3786\"],[0.5555555555555556,\"#d8576b\"],[0.6666666666666666,\"#ed7953\"],[0.7777777777777778,\"#fb9f3a\"],[0.8888888888888888,\"#fdca26\"],[1.0,\"#f0f921\"]],\"sequentialminus\":[[0.0,\"#0d0887\"],[0.1111111111111111,\"#46039f\"],[0.2222222222222222,\"#7201a8\"],[0.3333333333333333,\"#9c179e\"],[0.4444444444444444,\"#bd3786\"],[0.5555555555555556,\"#d8576b\"],[0.6666666666666666,\"#ed7953\"],[0.7777777777777778,\"#fb9f3a\"],[0.8888888888888888,\"#fdca26\"],[1.0,\"#f0f921\"]],\"diverging\":[[0,\"#8e0152\"],[0.1,\"#c51b7d\"],[0.2,\"#de77ae\"],[0.3,\"#f1b6da\"],[0.4,\"#fde0ef\"],[0.5,\"#f7f7f7\"],[0.6,\"#e6f5d0\"],[0.7,\"#b8e186\"],[0.8,\"#7fbc41\"],[0.9,\"#4d9221\"],[1,\"#276419\"]]},\"xaxis\":{\"gridcolor\":\"white\",\"linecolor\":\"white\",\"ticks\":\"\",\"title\":{\"standoff\":15},\"zerolinecolor\":\"white\",\"automargin\":true,\"zerolinewidth\":2},\"yaxis\":{\"gridcolor\":\"white\",\"linecolor\":\"white\",\"ticks\":\"\",\"title\":{\"standoff\":15},\"zerolinecolor\":\"white\",\"automargin\":true,\"zerolinewidth\":2},\"scene\":{\"xaxis\":{\"backgroundcolor\":\"#E5ECF6\",\"gridcolor\":\"white\",\"linecolor\":\"white\",\"showbackground\":true,\"ticks\":\"\",\"zerolinecolor\":\"white\",\"gridwidth\":2},\"yaxis\":{\"backgroundcolor\":\"#E5ECF6\",\"gridcolor\":\"white\",\"linecolor\":\"white\",\"showbackground\":true,\"ticks\":\"\",\"zerolinecolor\":\"white\",\"gridwidth\":2},\"zaxis\":{\"backgroundcolor\":\"#E5ECF6\",\"gridcolor\":\"white\",\"linecolor\":\"white\",\"showbackground\":true,\"ticks\":\"\",\"zerolinecolor\":\"white\",\"gridwidth\":2}},\"shapedefaults\":{\"line\":{\"color\":\"#2a3f5f\"}},\"annotationdefaults\":{\"arrowcolor\":\"#2a3f5f\",\"arrowhead\":0,\"arrowwidth\":1},\"geo\":{\"bgcolor\":\"white\",\"landcolor\":\"#E5ECF6\",\"subunitcolor\":\"white\",\"showland\":true,\"showlakes\":true,\"lakecolor\":\"white\"},\"title\":{\"x\":0.05},\"mapbox\":{\"style\":\"light\"}}}},                        {\"responsive\": true}                    ).then(function(){\n",
       "                            \n",
       "var gd = document.getElementById('76178147-a1c4-45b1-b869-514432c27ba7');\n",
       "var x = new MutationObserver(function (mutations, observer) {{\n",
       "        var display = window.getComputedStyle(gd).display;\n",
       "        if (!display || display === 'none') {{\n",
       "            console.log([gd, 'removed!']);\n",
       "            Plotly.purge(gd);\n",
       "            observer.disconnect();\n",
       "        }}\n",
       "}});\n",
       "\n",
       "// Listen for the removal of the full notebook cells\n",
       "var notebookContainer = gd.closest('#notebook-container');\n",
       "if (notebookContainer) {{\n",
       "    x.observe(notebookContainer, {childList: true});\n",
       "}}\n",
       "\n",
       "// Listen for the clearing of the current output cell\n",
       "var outputEl = gd.closest('.output');\n",
       "if (outputEl) {{\n",
       "    x.observe(outputEl, {childList: true});\n",
       "}}\n",
       "\n",
       "                        })                };                });            </script>        </div>"
      ]
     },
     "metadata": {},
     "output_type": "display_data"
    },
    {
     "name": "stdout",
     "output_type": "stream",
     "text": [
      "\n",
      "Top 10 Stand-up Comedy Shows from United States:\n",
      "                                                 title        country  \\\n",
      "28                         Mike Birbiglia: The New One  United States   \n",
      "50   Mike Birbiglia: What I Should Have Said Was No...  United States   \n",
      "96                          Iliza Shlesinger: Unveiled  United States   \n",
      "103                      Jeff Dunham: All Over the Map  United States   \n",
      "136                    Jeff Garlin: Our Man In Chicago  United States   \n",
      "158                            Seth Meyers: Lobby Baby  United States   \n",
      "304                       Arsenio Hall: Smart & Classy  United States   \n",
      "342                          Jenny Slate: Stage Fright  United States   \n",
      "411                            Deon Cole: Cole Hearted  United States   \n",
      "480                              Nikki Glaser: Bangin’  United States   \n",
      "\n",
      "     release_year  \n",
      "28           2019  \n",
      "50           2008  \n",
      "96           2019  \n",
      "103          2014  \n",
      "136          2019  \n",
      "158          2019  \n",
      "304          2019  \n",
      "342          2019  \n",
      "411          2019  \n",
      "480          2019  \n",
      "\n",
      "Top 10 Stand-up Comedy Shows from India:\n",
      "                                              title country  release_year\n",
      "4533  Aditi Mittal: Things They Wouldn't Let Me Say   India          2017\n",
      "4855                              Gangs of Hassepur   India          2014\n"
     ]
    }
   ],
   "source": [
    "# Execute the analysis\n",
    "if __name__ == \"__main__\":\n",
    "    # Basic content distribution\n",
    "    plot_content_distribution(streaming_data)\n",
    "    \n",
    "    # Content addition trends\n",
    "    plot_content_addition_trend(tv_shows, movies)\n",
    "    \n",
    "    # Geographic distribution\n",
    "    country_distribution = create_geographic_visualization(streaming_data)\n",
    "    \n",
    "    # Duration analysis\n",
    "    analyze_movie_durations(movies)\n",
    "    analyze_tv_seasons(tv_shows)\n",
    "    \n",
    "    # Rating analysis\n",
    "    analyze_content_ratings(tv_shows, movies)\n",
    "    \n",
    "    # Genre analysis\n",
    "    analyze_movie_genres(movies)\n",
    "    \n",
    "    # Cast analysis\n",
    "    plot_movie_cast_analysis()\n",
    "    \n",
    "    # Director analysis\n",
    "    analyze_directors(streaming_data, \"India\")\n",
    "    analyze_directors(streaming_data, \"United States\")\n",
    "    \n",
    "    # Stand-up comedy analysis\n",
    "    us_standup = analyze_standup_comedy(streaming_data, \"United States\")\n",
    "    india_standup = analyze_standup_comedy(streaming_data, \"India\")\n",
    "    \n",
    "    print(\"\\nTop 10 Stand-up Comedy Shows from United States:\")\n",
    "    print(us_standup)\n",
    "    print(\"\\nTop 10 Stand-up Comedy Shows from India:\")\n",
    "    print(india_standup)"
   ]
  }
 ],
 "metadata": {
  "kernelspec": {
   "display_name": "base",
   "language": "python",
   "name": "python3"
  },
  "language_info": {
   "codemirror_mode": {
    "name": "ipython",
    "version": 3
   },
   "file_extension": ".py",
   "mimetype": "text/x-python",
   "name": "python",
   "nbconvert_exporter": "python",
   "pygments_lexer": "ipython3",
   "version": "3.12.7"
  }
 },
 "nbformat": 4,
 "nbformat_minor": 5
}
